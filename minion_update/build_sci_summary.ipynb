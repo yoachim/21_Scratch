{
 "cells": [
  {
   "cell_type": "markdown",
   "metadata": {},
   "source": [
    "Make a big pandas dataframe to hold all the metric values we're interested in, so then we can pass it around and plot it up any way we like\n",
    "\n",
    "I guess depth in each filter for each DDF?\n",
    "\n"
   ]
  },
  {
   "cell_type": "code",
   "execution_count": 1,
   "metadata": {},
   "outputs": [],
   "source": [
    "import glob\n",
    "import pandas as pd\n",
    "import sqlite3\n",
    "import numpy as np\n",
    "import matplotlib.pylab as plt\n",
    "import os\n",
    "%matplotlib inline"
   ]
  },
  {
   "cell_type": "code",
   "execution_count": 2,
   "metadata": {},
   "outputs": [],
   "source": [
    "# I just coppied them over from hyak and sym linked them to this directory for ease of use\n",
    "glance_dirs = glob.glob('./*_glance')\n",
    "sci_dirs = glob.glob('./*_sci')\n",
    "\n",
    "glance_dirs.sort()\n",
    "sci_dirs.sort()\n"
   ]
  },
  {
   "cell_type": "code",
   "execution_count": 3,
   "metadata": {},
   "outputs": [
    {
     "data": {
      "text/plain": [
       "['./baseline_v2.0_10yrs_sci',\n",
       " './minion_1016_update_sci',\n",
       " './retro_baseline_v2.0_10yrs_sci']"
      ]
     },
     "execution_count": 3,
     "metadata": {},
     "output_type": "execute_result"
    }
   ],
   "source": [
    "sci_dirs\n"
   ]
  },
  {
   "cell_type": "code",
   "execution_count": 4,
   "metadata": {},
   "outputs": [
    {
     "data": {
      "text/plain": [
       "['./baseline_v2.0_10yrs_glance',\n",
       " './minion_1016_update_glance',\n",
       " './retro_baseline_v2.0_10yrs_glance']"
      ]
     },
     "execution_count": 4,
     "metadata": {},
     "output_type": "execute_result"
    }
   ],
   "source": [
    "glance_dirs"
   ]
  },
  {
   "cell_type": "code",
   "execution_count": 5,
   "metadata": {},
   "outputs": [],
   "source": [
    "filenames = [name.replace('./', '').replace('_glance', '') for name in glance_dirs]"
   ]
  },
  {
   "cell_type": "code",
   "execution_count": null,
   "metadata": {},
   "outputs": [],
   "source": []
  },
  {
   "cell_type": "code",
   "execution_count": 6,
   "metadata": {},
   "outputs": [],
   "source": [
    "runNames =  [name[2:].replace('_v2.0_10yrs_glance','').replace('v2.0_10yrs_glance','').replace('v2.0_10yrs_glance','').replace('_update_glance', '') for name in glance_dirs] \n",
    "versions = ['2.0']*len(glance_dirs) "
   ]
  },
  {
   "cell_type": "code",
   "execution_count": 7,
   "metadata": {},
   "outputs": [
    {
     "data": {
      "text/plain": [
       "['baseline', 'minion_1016', 'retro_baseline']"
      ]
     },
     "execution_count": 7,
     "metadata": {},
     "output_type": "execute_result"
    }
   ],
   "source": [
    "runNames"
   ]
  },
  {
   "cell_type": "code",
   "execution_count": 9,
   "metadata": {},
   "outputs": [],
   "source": [
    "runNames = ['Baseline 2.0', 'minion_1016', 'Baseline 1.x']"
   ]
  },
  {
   "cell_type": "code",
   "execution_count": 10,
   "metadata": {},
   "outputs": [],
   "source": [
    "# Set up the dataframe\n",
    "df = pd.DataFrame(np.array([runNames, versions]).T, columns=['runName', 'version'])"
   ]
  },
  {
   "cell_type": "code",
   "execution_count": 11,
   "metadata": {},
   "outputs": [],
   "source": [
    "# List of tupes with (metricName, summaryName) that we want to pull from glance dirs\n",
    "mnamesname =[('parallax', 'best18k'),\n",
    "            ('properMotion', 'best18k'),\n",
    "            ('fO', 'fONv MedianNvis'),\n",
    "            ('fO', 'fOArea')]"
   ]
  },
  {
   "cell_type": "code",
   "execution_count": 12,
   "metadata": {},
   "outputs": [],
   "source": [
    "for names in mnamesname:\n",
    "    column_vals = []\n",
    "    sql = 'select summaryValue from summarystats where metricId = (select metricId from metrics where metricName = \"%s\") and summaryName= \"%s\";' % (names[0], names[1])\n",
    "    for directory in glance_dirs:\n",
    "        conn = sqlite3.connect(directory+'/resultsDb_sqlite.db')\n",
    "        result = pd.read_sql(sql, conn).values.ravel()\n",
    "        if np.size(result) > 1:\n",
    "            ValueError\n",
    "        else:\n",
    "            column_vals.append(np.max(result))\n",
    "        conn.close()\n",
    "    df[names[0]+'_'+names[1]] = column_vals"
   ]
  },
  {
   "cell_type": "code",
   "execution_count": 13,
   "metadata": {},
   "outputs": [],
   "source": [
    "# Add the median coadded depths in each filter\n",
    "for filtername in 'ugrizy':\n",
    "    column_vals = []\n",
    "    sql = 'select summaryValue from summarystats where metricId = (select metricId from metrics where metricName = \"CoaddM5\" and metricMetadata=\" %s\") and summaryName= \"Median\";' % (filtername)\n",
    "    for directory in glance_dirs:\n",
    "        conn = sqlite3.connect(directory+'/resultsDb_sqlite.db')\n",
    "        result = pd.read_sql(sql, conn).values.ravel()\n",
    "        if np.size(result) > 1:\n",
    "            ValueError\n",
    "        else:\n",
    "            column_vals.append(np.max(result))\n",
    "        conn.close()\n",
    "    df['median_coadd_%s' % filtername] = column_vals\n"
   ]
  },
  {
   "cell_type": "code",
   "execution_count": 14,
   "metadata": {},
   "outputs": [],
   "source": [
    "# List of tupes with (metricName, summaryName) that we want to pull from science dirs\n",
    "mnamesname =[('SNNSNMetric_nSN', 'Total detected'),\n",
    "            ('1 to 10 day Microlensing', 'Fraction detected of total (mean)'),\n",
    "            ('100 to 1000 day Microlensing', 'Fraction detected of total (mean)'),\n",
    "            ('KNePopMetric__multi_color_detect', 'Fraction detected of total (mean)'),\n",
    "            ('GalaxyCountsMetric_extended', 'N Galaxies (all)'),\n",
    "            ('TDEsPopMetric__some_color', 'Fraction detected of total (mean)'),\n",
    "             ('TDEsPopMetric__some_color_pu', 'Fraction detected of total (mean)'), \n",
    "            ('WeakLensingNvisits', 'Median')]"
   ]
  },
  {
   "cell_type": "code",
   "execution_count": 15,
   "metadata": {},
   "outputs": [],
   "source": [
    "for names in mnamesname:\n",
    "    column_vals = []\n",
    "    sql = 'select summaryValue from summarystats where metricId = (select metricId from metrics where metricName = \"%s\") and summaryName= \"%s\";' % (names[0], names[1])\n",
    "    for directory in sci_dirs:\n",
    "        conn = sqlite3.connect(directory+'/resultsDb_sqlite.db')\n",
    "        result = pd.read_sql(sql, conn).values.ravel()\n",
    "        if np.size(result) > 1:\n",
    "            ValueError\n",
    "        else:\n",
    "            column_vals.append(np.max(result))\n",
    "        conn.close()\n",
    "    df[names[0]+'_'+names[1]] = column_vals"
   ]
  },
  {
   "cell_type": "code",
   "execution_count": null,
   "metadata": {},
   "outputs": [],
   "source": []
  },
  {
   "cell_type": "code",
   "execution_count": 16,
   "metadata": {},
   "outputs": [
    {
     "data": {
      "text/plain": [
       "'select summaryValue from summarystats where metricId = (select metricId from metrics where metricName = \"WeakLensingNvisits\") and summaryName= \"Median\";'"
      ]
     },
     "execution_count": 16,
     "metadata": {},
     "output_type": "execute_result"
    }
   ],
   "source": [
    "sql"
   ]
  },
  {
   "cell_type": "code",
   "execution_count": 17,
   "metadata": {},
   "outputs": [],
   "source": [
    "# things that need some metadata\n",
    "mnamesname =[('Nstars_no_crowding', 'Total N Stars, no crowding')]\n",
    "\n",
    "for names in mnamesname:\n",
    "    column_vals = []\n",
    "    sql = 'select summaryValue from summarystats where metricId = (select metricId from metrics where metricName = \"%s\" and metricMetadata=\" i\") and summaryName= \"%s\";' % (names[0], names[1])\n",
    "    for directory in sci_dirs:\n",
    "        conn = sqlite3.connect(directory+'/resultsDb_sqlite.db')\n",
    "        result = pd.read_sql(sql, conn).values.ravel()\n",
    "        if np.size(result) > 1:\n",
    "            ValueError\n",
    "        else:\n",
    "            column_vals.append(np.max(result))\n",
    "        conn.close()\n",
    "    df[names[0]+'_'+names[1]] = column_vals\n",
    "\n",
    "    \n",
    "mnamesname =[('ExgalM5_with_cuts', '3x2ptFoM')]\n",
    "\n",
    "for names in mnamesname:\n",
    "    column_vals = []\n",
    "    sql = 'select summaryValue from summarystats where metricId = (select metricId from metrics where metricName = \"%s\" and metricMetadata=\"i band non-DD year 10\") and summaryName= \"%s\";' % (names[0], names[1])\n",
    "    for directory in sci_dirs:\n",
    "        conn = sqlite3.connect(directory+'/resultsDb_sqlite.db')\n",
    "        result = pd.read_sql(sql, conn).values.ravel()\n",
    "        if np.size(result) > 1:\n",
    "            ValueError\n",
    "        else:\n",
    "            try:\n",
    "                column_vals.append(np.max(result))\n",
    "            except:\n",
    "                import pdb ;pdb.set_trace()\n",
    "        conn.close()\n",
    "    df[names[0]+'_'+names[1]] = column_vals\n"
   ]
  },
  {
   "cell_type": "code",
   "execution_count": 18,
   "metadata": {},
   "outputs": [
    {
     "data": {
      "text/plain": [
       "34.6258906699115"
      ]
     },
     "execution_count": 18,
     "metadata": {},
     "output_type": "execute_result"
    }
   ],
   "source": [
    "np.max(result)"
   ]
  },
  {
   "cell_type": "code",
   "execution_count": 19,
   "metadata": {},
   "outputs": [],
   "source": [
    "# Pull the DDF depths from everywhere. \n",
    "filters = 'ugrizy'\n",
    "ddf_names = ['DD:ELAISS1', 'DD:XMM-LSS', 'DD:ECDFS', 'DD:COSMOS', 'DD:EDFSa', 'DD:EDFSb']\n",
    "\n",
    "for filtername in filters:\n",
    "    for ddf_name in ddf_names:\n",
    "        column_vals = []\n",
    "        sql = 'select summaryValue from summarystats where summaryName=\"Median depth %s, %s\"' % (ddf_name, filtername)\n",
    "        for directory in sci_dirs:\n",
    "            conn = sqlite3.connect(directory+'/resultsDb_sqlite.db')\n",
    "            result = pd.read_sql(sql, conn).values.ravel()\n",
    "            if np.size(result) > 1:\n",
    "                ValueError\n",
    "            else:\n",
    "                column_vals.append(np.max(result))\n",
    "            conn.close()\n",
    "        df[ddf_name+','+filtername] = column_vals"
   ]
  },
  {
   "cell_type": "code",
   "execution_count": 20,
   "metadata": {},
   "outputs": [
    {
     "data": {
      "text/plain": [
       "'select summaryValue from summarystats where summaryName=\"Median depth DD:EDFSb, y\"'"
      ]
     },
     "execution_count": 20,
     "metadata": {},
     "output_type": "execute_result"
    }
   ],
   "source": [
    "sql"
   ]
  },
  {
   "cell_type": "code",
   "execution_count": 21,
   "metadata": {},
   "outputs": [],
   "source": [
    "# Now to pull things from the solar system results\n",
    "\n",
    "# here's what we used last time:\n",
    "#'3 pairs in 15 nights detection loss NEO H=16.0',\n",
    "#        '3 pairs in 30 nights detection loss NEO H=22.0',\n",
    "#       '3 pairs in 15 nights detection loss TNO H=4.0'\n",
    "\n",
    "faint_neo = []\n",
    "bright_neo = []\n",
    "tno = []\n",
    "\n",
    "for name in filenames:\n",
    "    conn = sqlite3.connect('%s_ss/resultsDb_sqlite.db' % name)\n",
    "    sql = 'select summaryValue from summarystats where summaryName=\"DifferentialCompleteness H = 16.000000\" and '+\\\n",
    "        'metricId = (select metricId from metrics where metricName =\"Discovery_N_Chances\" and metricMetadata=\"NEO 3 pairs in 15 nights detection loss\")'\n",
    "    val = np.max(pd.read_sql(sql, conn).values.ravel())\n",
    "    bright_neo.append(val)\n",
    "    \n",
    "    \n",
    "    sql = 'select summaryValue from summarystats where summaryName=\"DifferentialCompleteness H = 22.000000\" and '+\\\n",
    "        'metricId = (select metricId from metrics where metricName =\"Discovery_N_Chances\" and metricMetadata=\"NEO 3 pairs in 15 nights detection loss\")'\n",
    "\n",
    "    val = np.max(pd.read_sql(sql, conn).values.ravel())\n",
    "    faint_neo.append(val)\n",
    "    \n",
    "    #conn.close()\n",
    "    #conn = sqlite3.connect('%s_l7_5k/resultsDb_sqlite.db' % name)\n",
    "    \n",
    "    sql = 'select summaryValue from summarystats where summaryName=\"DifferentialCompleteness H = 6.000000\" and '+\\\n",
    "          'metricId = (select metricId from metrics where metricName =\"Discovery_N_Chances\" and metricMetadata=\"TNO 3 pairs in 15 nights detection loss\")'\n",
    "\n",
    "    val = np.max(pd.read_sql(sql, conn).values.ravel())\n",
    "    tno.append(val)\n",
    "    conn.close()\n",
    "    \n",
    "df['NEO bright'] = bright_neo\n",
    "df['NEO faint'] = faint_neo \n",
    "df['TNO'] = tno"
   ]
  },
  {
   "cell_type": "code",
   "execution_count": 22,
   "metadata": {},
   "outputs": [
    {
     "data": {
      "text/plain": [
       "'retro_baseline_v2.0_10yrs_ss/resultsDb_sqlite.db'"
      ]
     },
     "execution_count": 22,
     "metadata": {},
     "output_type": "execute_result"
    }
   ],
   "source": [
    "'%s_ss/resultsDb_sqlite.db' % name"
   ]
  },
  {
   "cell_type": "code",
   "execution_count": 23,
   "metadata": {},
   "outputs": [
    {
     "data": {
      "text/plain": [
       "0    0.3652\n",
       "1    0.4026\n",
       "2    0.3690\n",
       "Name: NEO faint, dtype: float64"
      ]
     },
     "execution_count": 23,
     "metadata": {},
     "output_type": "execute_result"
    }
   ],
   "source": [
    "df['NEO faint']"
   ]
  },
  {
   "cell_type": "code",
   "execution_count": 24,
   "metadata": {},
   "outputs": [
    {
     "data": {
      "text/plain": [
       "0    0.9296\n",
       "1    0.9300\n",
       "2    0.9094\n",
       "Name: NEO bright, dtype: float64"
      ]
     },
     "execution_count": 24,
     "metadata": {},
     "output_type": "execute_result"
    }
   ],
   "source": [
    "df['NEO bright']"
   ]
  },
  {
   "cell_type": "code",
   "execution_count": 25,
   "metadata": {},
   "outputs": [
    {
     "data": {
      "text/plain": [
       "0    0.6480\n",
       "1    0.6364\n",
       "2    0.6364\n",
       "Name: TNO, dtype: float64"
      ]
     },
     "execution_count": 25,
     "metadata": {},
     "output_type": "execute_result"
    }
   ],
   "source": [
    "df['TNO']"
   ]
  },
  {
   "cell_type": "code",
   "execution_count": 26,
   "metadata": {},
   "outputs": [
    {
     "data": {
      "text/plain": [
       "'Baseline 2.0'"
      ]
     },
     "execution_count": 26,
     "metadata": {},
     "output_type": "execute_result"
    }
   ],
   "source": [
    "runNames[0]"
   ]
  },
  {
   "cell_type": "code",
   "execution_count": null,
   "metadata": {},
   "outputs": [],
   "source": []
  },
  {
   "cell_type": "code",
   "execution_count": null,
   "metadata": {},
   "outputs": [],
   "source": []
  },
  {
   "cell_type": "code",
   "execution_count": null,
   "metadata": {},
   "outputs": [],
   "source": []
  },
  {
   "cell_type": "code",
   "execution_count": null,
   "metadata": {},
   "outputs": [],
   "source": [
    "plt.plot(df['median_coadd_g'])"
   ]
  },
  {
   "cell_type": "code",
   "execution_count": null,
   "metadata": {},
   "outputs": [],
   "source": []
  },
  {
   "cell_type": "code",
   "execution_count": null,
   "metadata": {},
   "outputs": [],
   "source": [
    "df.columns"
   ]
  },
  {
   "cell_type": "code",
   "execution_count": 28,
   "metadata": {},
   "outputs": [],
   "source": [
    "# pickle would be much smaller, but I guess can zip after if we want to\n",
    "df.to_hdf('combined_maf_dataframe.hdf', 'maf')\n",
    "# restore with:\n",
    "# df = pd.read_hdf('combined_maf_dataframe.hdf', 'maf')"
   ]
  },
  {
   "cell_type": "code",
   "execution_count": 27,
   "metadata": {},
   "outputs": [
    {
     "data": {
      "text/html": [
       "<div>\n",
       "<style scoped>\n",
       "    .dataframe tbody tr th:only-of-type {\n",
       "        vertical-align: middle;\n",
       "    }\n",
       "\n",
       "    .dataframe tbody tr th {\n",
       "        vertical-align: top;\n",
       "    }\n",
       "\n",
       "    .dataframe thead th {\n",
       "        text-align: right;\n",
       "    }\n",
       "</style>\n",
       "<table border=\"1\" class=\"dataframe\">\n",
       "  <thead>\n",
       "    <tr style=\"text-align: right;\">\n",
       "      <th></th>\n",
       "      <th>runName</th>\n",
       "      <th>version</th>\n",
       "      <th>parallax_best18k</th>\n",
       "      <th>properMotion_best18k</th>\n",
       "      <th>fO_fONv MedianNvis</th>\n",
       "      <th>fO_fOArea</th>\n",
       "      <th>median_coadd_u</th>\n",
       "      <th>median_coadd_g</th>\n",
       "      <th>median_coadd_r</th>\n",
       "      <th>median_coadd_i</th>\n",
       "      <th>...</th>\n",
       "      <th>DD:EDFSb,z</th>\n",
       "      <th>DD:ELAISS1,y</th>\n",
       "      <th>DD:XMM-LSS,y</th>\n",
       "      <th>DD:ECDFS,y</th>\n",
       "      <th>DD:COSMOS,y</th>\n",
       "      <th>DD:EDFSa,y</th>\n",
       "      <th>DD:EDFSb,y</th>\n",
       "      <th>NEO bright</th>\n",
       "      <th>NEO faint</th>\n",
       "      <th>TNO</th>\n",
       "    </tr>\n",
       "  </thead>\n",
       "  <tbody>\n",
       "    <tr>\n",
       "      <th>0</th>\n",
       "      <td>Baseline 2.0</td>\n",
       "      <td>2.0</td>\n",
       "      <td>0.791058</td>\n",
       "      <td>0.184088</td>\n",
       "      <td>839.0</td>\n",
       "      <td>12893.228978</td>\n",
       "      <td>25.818916</td>\n",
       "      <td>26.733479</td>\n",
       "      <td>26.755971</td>\n",
       "      <td>26.218659</td>\n",
       "      <td>...</td>\n",
       "      <td>26.724914</td>\n",
       "      <td>26.727387</td>\n",
       "      <td>26.621554</td>\n",
       "      <td>26.667555</td>\n",
       "      <td>26.604660</td>\n",
       "      <td>26.468794</td>\n",
       "      <td>26.494803</td>\n",
       "      <td>0.9296</td>\n",
       "      <td>0.3652</td>\n",
       "      <td>0.6480</td>\n",
       "    </tr>\n",
       "    <tr>\n",
       "      <th>1</th>\n",
       "      <td>minion_1016</td>\n",
       "      <td>2.0</td>\n",
       "      <td>0.844273</td>\n",
       "      <td>0.224752</td>\n",
       "      <td>770.0</td>\n",
       "      <td>7745.001758</td>\n",
       "      <td>25.575596</td>\n",
       "      <td>26.711079</td>\n",
       "      <td>26.700751</td>\n",
       "      <td>26.226561</td>\n",
       "      <td>...</td>\n",
       "      <td>25.550946</td>\n",
       "      <td>24.593499</td>\n",
       "      <td>26.311665</td>\n",
       "      <td>26.653766</td>\n",
       "      <td>26.395957</td>\n",
       "      <td>24.718278</td>\n",
       "      <td>24.740604</td>\n",
       "      <td>0.9300</td>\n",
       "      <td>0.4026</td>\n",
       "      <td>0.6364</td>\n",
       "    </tr>\n",
       "    <tr>\n",
       "      <th>2</th>\n",
       "      <td>Baseline 1.x</td>\n",
       "      <td>2.0</td>\n",
       "      <td>0.804328</td>\n",
       "      <td>0.176701</td>\n",
       "      <td>848.0</td>\n",
       "      <td>14611.263069</td>\n",
       "      <td>25.707301</td>\n",
       "      <td>26.835006</td>\n",
       "      <td>26.850968</td>\n",
       "      <td>26.308518</td>\n",
       "      <td>...</td>\n",
       "      <td>26.881648</td>\n",
       "      <td>26.716894</td>\n",
       "      <td>26.617415</td>\n",
       "      <td>26.587666</td>\n",
       "      <td>26.583537</td>\n",
       "      <td>26.478199</td>\n",
       "      <td>26.473841</td>\n",
       "      <td>0.9094</td>\n",
       "      <td>0.3690</td>\n",
       "      <td>0.6364</td>\n",
       "    </tr>\n",
       "  </tbody>\n",
       "</table>\n",
       "<p>3 rows × 61 columns</p>\n",
       "</div>"
      ],
      "text/plain": [
       "        runName version  parallax_best18k  properMotion_best18k  \\\n",
       "0  Baseline 2.0     2.0          0.791058              0.184088   \n",
       "1   minion_1016     2.0          0.844273              0.224752   \n",
       "2  Baseline 1.x     2.0          0.804328              0.176701   \n",
       "\n",
       "   fO_fONv MedianNvis     fO_fOArea  median_coadd_u  median_coadd_g  \\\n",
       "0               839.0  12893.228978       25.818916       26.733479   \n",
       "1               770.0   7745.001758       25.575596       26.711079   \n",
       "2               848.0  14611.263069       25.707301       26.835006   \n",
       "\n",
       "   median_coadd_r  median_coadd_i  ...  DD:EDFSb,z  DD:ELAISS1,y  \\\n",
       "0       26.755971       26.218659  ...   26.724914     26.727387   \n",
       "1       26.700751       26.226561  ...   25.550946     24.593499   \n",
       "2       26.850968       26.308518  ...   26.881648     26.716894   \n",
       "\n",
       "   DD:XMM-LSS,y  DD:ECDFS,y  DD:COSMOS,y  DD:EDFSa,y  DD:EDFSb,y  NEO bright  \\\n",
       "0     26.621554   26.667555    26.604660   26.468794   26.494803      0.9296   \n",
       "1     26.311665   26.653766    26.395957   24.718278   24.740604      0.9300   \n",
       "2     26.617415   26.587666    26.583537   26.478199   26.473841      0.9094   \n",
       "\n",
       "   NEO faint     TNO  \n",
       "0     0.3652  0.6480  \n",
       "1     0.4026  0.6364  \n",
       "2     0.3690  0.6364  \n",
       "\n",
       "[3 rows x 61 columns]"
      ]
     },
     "execution_count": 27,
     "metadata": {},
     "output_type": "execute_result"
    }
   ],
   "source": [
    "df"
   ]
  },
  {
   "cell_type": "code",
   "execution_count": null,
   "metadata": {},
   "outputs": [],
   "source": []
  },
  {
   "cell_type": "code",
   "execution_count": null,
   "metadata": {},
   "outputs": [],
   "source": []
  },
  {
   "cell_type": "code",
   "execution_count": null,
   "metadata": {},
   "outputs": [],
   "source": []
  },
  {
   "cell_type": "code",
   "execution_count": null,
   "metadata": {},
   "outputs": [],
   "source": []
  },
  {
   "cell_type": "code",
   "execution_count": null,
   "metadata": {},
   "outputs": [],
   "source": []
  }
 ],
 "metadata": {
  "kernelspec": {
   "display_name": "Python 3",
   "language": "python",
   "name": "python3"
  },
  "language_info": {
   "codemirror_mode": {
    "name": "ipython",
    "version": 3
   },
   "file_extension": ".py",
   "mimetype": "text/x-python",
   "name": "python",
   "nbconvert_exporter": "python",
   "pygments_lexer": "ipython3",
   "version": "3.9.2"
  }
 },
 "nbformat": 4,
 "nbformat_minor": 2
}
