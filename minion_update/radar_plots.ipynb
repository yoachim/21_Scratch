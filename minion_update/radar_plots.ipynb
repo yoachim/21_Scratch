{
 "cells": [
  {
   "cell_type": "code",
   "execution_count": 1,
   "metadata": {},
   "outputs": [],
   "source": [
    "import numpy as np\n",
    "import matplotlib.pylab as plt\n",
    "%matplotlib inline\n",
    "from radar import radar2, norm_df, radar\n",
    "import pandas as pd"
   ]
  },
  {
   "cell_type": "code",
   "execution_count": 15,
   "metadata": {},
   "outputs": [],
   "source": [
    "data = pd.read_hdf('combined_maf_dataframe.hdf')"
   ]
  },
  {
   "cell_type": "code",
   "execution_count": 16,
   "metadata": {},
   "outputs": [
    {
     "data": {
      "text/plain": [
       "Index(['runName', 'version', 'parallax_best18k', 'properMotion_best18k',\n",
       "       'fO_fONv MedianNvis', 'fO_fOArea', 'median_coadd_u', 'median_coadd_g',\n",
       "       'median_coadd_r', 'median_coadd_i', 'median_coadd_z', 'median_coadd_y',\n",
       "       'SNNSNMetric_nSN_Total detected',\n",
       "       '1 to 10 day Microlensing_Fraction detected of total (mean)',\n",
       "       '100 to 1000 day Microlensing_Fraction detected of total (mean)',\n",
       "       'KNePopMetric__multi_color_detect_Fraction detected of total (mean)',\n",
       "       'GalaxyCountsMetric_extended_N Galaxies (all)',\n",
       "       'TDEsPopMetric__some_color_Fraction detected of total (mean)',\n",
       "       'TDEsPopMetric__some_color_pu_Fraction detected of total (mean)',\n",
       "       'WeakLensingNvisits_Median',\n",
       "       'Nstars_no_crowding_Total N Stars, no crowding',\n",
       "       'ExgalM5_with_cuts_3x2ptFoM', 'DD:ELAISS1,u', 'DD:XMM-LSS,u',\n",
       "       'DD:ECDFS,u', 'DD:COSMOS,u', 'DD:EDFSa,u', 'DD:EDFSb,u', 'DD:ELAISS1,g',\n",
       "       'DD:XMM-LSS,g', 'DD:ECDFS,g', 'DD:COSMOS,g', 'DD:EDFSa,g', 'DD:EDFSb,g',\n",
       "       'DD:ELAISS1,r', 'DD:XMM-LSS,r', 'DD:ECDFS,r', 'DD:COSMOS,r',\n",
       "       'DD:EDFSa,r', 'DD:EDFSb,r', 'DD:ELAISS1,i', 'DD:XMM-LSS,i',\n",
       "       'DD:ECDFS,i', 'DD:COSMOS,i', 'DD:EDFSa,i', 'DD:EDFSb,i', 'DD:ELAISS1,z',\n",
       "       'DD:XMM-LSS,z', 'DD:ECDFS,z', 'DD:COSMOS,z', 'DD:EDFSa,z', 'DD:EDFSb,z',\n",
       "       'DD:ELAISS1,y', 'DD:XMM-LSS,y', 'DD:ECDFS,y', 'DD:COSMOS,y',\n",
       "       'DD:EDFSa,y', 'DD:EDFSb,y', 'NEO bright', 'NEO faint', 'TNO'],\n",
       "      dtype='object')"
      ]
     },
     "execution_count": 16,
     "metadata": {},
     "output_type": "execute_result"
    }
   ],
   "source": [
    "data.columns"
   ]
  },
  {
   "cell_type": "code",
   "execution_count": 17,
   "metadata": {},
   "outputs": [],
   "source": [
    "cols = ['runName', 'parallax_best18k', 'properMotion_best18k', 'fO_fONv MedianNvis',\n",
    "        'SNNSNMetric_nSN_Total detected',\n",
    "        'TDEsPopMetric__some_color_pu_Fraction detected of total (mean)',\n",
    "        'WeakLensingNvisits_Median',\n",
    "        'ExgalM5_with_cuts_3x2ptFoM',\n",
    "        '1 to 10 day Microlensing_Fraction detected of total (mean)', 'GalaxyCountsMetric_extended_N Galaxies (all)',\n",
    "        'Nstars_no_crowding_Total N Stars, no crowding',\n",
    "       'NEO bright', 'NEO faint', 'TNO']#,\n",
    "#        '3 pairs in 15 nights detection loss NEO H=16.0',\n",
    "#        '3 pairs in 30 nights detection loss NEO H=22.0',\n",
    "#       '3 pairs in 15 nights detection loss TNO H=4.0']\n",
    "\n",
    "linear_cols = []#['SNIa_PrePeak_Mean',\n",
    "           #'TDEsPopMetric__some_color_pu_Mean',\n",
    "           #'Fast Microlensing_Mean',\n",
    "           #'3 pairs in 15 nights detection loss NEO H=16.0',\n",
    "           #'3 pairs in 30 nights detection loss NEO H=22.0',\n",
    "           #'3 pairs in 15 nights detection loss TNO H=4.0']\n",
    "\n",
    "mag_cols = ['runName', 'median_coadd_u', 'median_coadd_g',\n",
    "           'median_coadd_r', 'median_coadd_i',\n",
    "            'median_coadd_z', 'median_coadd_y']\n",
    "\n",
    "\n",
    "name_mapper = {'runName': 'runName', 'parallax_best18k': 'Parallax', 'properMotion_best18k': 'Proper Motion',\n",
    "       'fO_fONv MedianNvis': 'fO N', 'SNNSNMetric_nSN_Total detected': 'SNeIa',\n",
    "               '1 to 10 day Microlensing_Fraction detected of total (mean)': 'Fast Micro L',\n",
    "       'Slow Microlensing_Mean': 'Slow Micro L',\n",
    "        'TDEsPopMetric__some_color_Fraction detected of total (mean)': 'TDE',\n",
    "               'TDEsPopMetric__some_color_pu_Fraction detected of total (mean)':'TDE',\n",
    "               'WeakLensingNvisits_Median': 'WL',\n",
    "               'ExgalM5_with_cuts_3x2ptFoM': '3x2FoM',\n",
    "       'GalaxyCountsMetric_extended_N Galaxies (all)': 'N Gals',\n",
    "       'Nstars_no_crowding_Total N Stars, no crowding': 'N Stars',\n",
    "       '3 pairs in 15 nights detection loss NEO H=16.0': 'NEO, bright',\n",
    "               '3 pairs in 30 nights detection loss NEO H=22.0':'NEO, faint',\n",
    "        '3 pairs in 15 nights detection loss TNO H=6.0':' TNO',\n",
    "              'NEO bright': 'NEO, bright', 'NEO faint': 'NEO, faint',\n",
    "              'TNO': 'TNO'}\n",
    "\n",
    "mag_name_mapper = {'runName': 'runName', 'median_coadd_u': 'u', 'median_coadd_g': 'g',\n",
    "       'median_coadd_r': 'r', 'median_coadd_i': 'i', 'median_coadd_z': 'z', 'median_coadd_y': 'y'}"
   ]
  },
  {
   "cell_type": "code",
   "execution_count": 18,
   "metadata": {},
   "outputs": [
    {
     "data": {
      "text/plain": [
       "0    Baseline 2.0\n",
       "1     minion_1016\n",
       "2    Baseline 1.x\n",
       "Name: runName, dtype: object"
      ]
     },
     "execution_count": 18,
     "metadata": {},
     "output_type": "execute_result"
    }
   ],
   "source": [
    "data['runName']\n"
   ]
  },
  {
   "cell_type": "code",
   "execution_count": 19,
   "metadata": {},
   "outputs": [
    {
     "data": {
      "text/plain": [
       "['Baseline 2.0', 'minion_1016', 'Baseline 1.x']"
      ]
     },
     "execution_count": 19,
     "metadata": {},
     "output_type": "execute_result"
    }
   ],
   "source": [
    "runs =  [name for name in data['runName'].values]\n",
    "runs"
   ]
  },
  {
   "cell_type": "code",
   "execution_count": 21,
   "metadata": {},
   "outputs": [],
   "source": [
    "data_normed = norm_df(data, runs, cols, mag_cols=linear_cols,\n",
    "                      invert_cols=['parallax_best18k', 'properMotion_best18k'], norm_run='Baseline 1.x')\n",
    "data_normed = data_normed.rename(columns=name_mapper)"
   ]
  },
  {
   "cell_type": "code",
   "execution_count": 22,
   "metadata": {},
   "outputs": [
    {
     "data": {
      "image/png": "[encoded data removed]",
      "text/plain": [
       "<Figure size 612x360 with 1 Axes>"
      ]
     },
     "metadata": {
      "needs_background": "light"
     },
     "output_type": "display_data"
    }
   ],
   "source": [
    "fig, ax = radar(data_normed, legend=True, rgrids=[0.2, 1.0, 1.4])\n",
    "fig.tight_layout()\n",
    "#fig.savefig('radar_plots/even_filt_radar.pdf')"
   ]
  },
  {
   "cell_type": "code",
   "execution_count": 23,
   "metadata": {},
   "outputs": [
    {
     "data": {
      "text/html": [
       "<div>\n",
       "<style scoped>\n",
       "    .dataframe tbody tr th:only-of-type {\n",
       "        vertical-align: middle;\n",
       "    }\n",
       "\n",
       "    .dataframe tbody tr th {\n",
       "        vertical-align: top;\n",
       "    }\n",
       "\n",
       "    .dataframe thead th {\n",
       "        text-align: right;\n",
       "    }\n",
       "</style>\n",
       "<table border=\"1\" class=\"dataframe\">\n",
       "  <thead>\n",
       "    <tr style=\"text-align: right;\">\n",
       "      <th></th>\n",
       "      <th>runName</th>\n",
       "      <th>Parallax</th>\n",
       "      <th>Proper Motion</th>\n",
       "      <th>fO N</th>\n",
       "      <th>SNeIa</th>\n",
       "      <th>TDE</th>\n",
       "      <th>WL</th>\n",
       "      <th>3x2FoM</th>\n",
       "      <th>Fast Micro L</th>\n",
       "      <th>N Gals</th>\n",
       "      <th>N Stars</th>\n",
       "      <th>NEO, bright</th>\n",
       "      <th>NEO, faint</th>\n",
       "      <th>TNO</th>\n",
       "    </tr>\n",
       "  </thead>\n",
       "  <tbody>\n",
       "    <tr>\n",
       "      <th>0</th>\n",
       "      <td>Baseline 2.0</td>\n",
       "      <td>1.016775</td>\n",
       "      <td>0.959873</td>\n",
       "      <td>0.989387</td>\n",
       "      <td>1.297104</td>\n",
       "      <td>1.030928</td>\n",
       "      <td>1.000000</td>\n",
       "      <td>1.094791</td>\n",
       "      <td>3.206360</td>\n",
       "      <td>1.011708</td>\n",
       "      <td>1.093105</td>\n",
       "      <td>1.022212</td>\n",
       "      <td>0.989702</td>\n",
       "      <td>1.018228</td>\n",
       "    </tr>\n",
       "    <tr>\n",
       "      <th>1</th>\n",
       "      <td>minion_1016</td>\n",
       "      <td>0.952687</td>\n",
       "      <td>0.786206</td>\n",
       "      <td>0.908019</td>\n",
       "      <td>0.056235</td>\n",
       "      <td>0.515464</td>\n",
       "      <td>0.946237</td>\n",
       "      <td>0.924441</td>\n",
       "      <td>0.345061</td>\n",
       "      <td>0.962063</td>\n",
       "      <td>0.980872</td>\n",
       "      <td>1.022652</td>\n",
       "      <td>1.091057</td>\n",
       "      <td>1.000000</td>\n",
       "    </tr>\n",
       "    <tr>\n",
       "      <th>2</th>\n",
       "      <td>Baseline 1.x</td>\n",
       "      <td>1.000000</td>\n",
       "      <td>1.000000</td>\n",
       "      <td>1.000000</td>\n",
       "      <td>1.000000</td>\n",
       "      <td>1.000000</td>\n",
       "      <td>1.000000</td>\n",
       "      <td>1.000000</td>\n",
       "      <td>1.000000</td>\n",
       "      <td>1.000000</td>\n",
       "      <td>1.000000</td>\n",
       "      <td>1.000000</td>\n",
       "      <td>1.000000</td>\n",
       "      <td>1.000000</td>\n",
       "    </tr>\n",
       "  </tbody>\n",
       "</table>\n",
       "</div>"
      ],
      "text/plain": [
       "        runName  Parallax  Proper Motion      fO N     SNeIa       TDE  \\\n",
       "0  Baseline 2.0  1.016775       0.959873  0.989387  1.297104  1.030928   \n",
       "1   minion_1016  0.952687       0.786206  0.908019  0.056235  0.515464   \n",
       "2  Baseline 1.x  1.000000       1.000000  1.000000  1.000000  1.000000   \n",
       "\n",
       "         WL    3x2FoM  Fast Micro L    N Gals   N Stars  NEO, bright  \\\n",
       "0  1.000000  1.094791      3.206360  1.011708  1.093105     1.022212   \n",
       "1  0.946237  0.924441      0.345061  0.962063  0.980872     1.022652   \n",
       "2  1.000000  1.000000      1.000000  1.000000  1.000000     1.000000   \n",
       "\n",
       "   NEO, faint       TNO  \n",
       "0    0.989702  1.018228  \n",
       "1    1.091057  1.000000  \n",
       "2    1.000000  1.000000  "
      ]
     },
     "execution_count": 23,
     "metadata": {},
     "output_type": "execute_result"
    }
   ],
   "source": [
    "data_normed"
   ]
  },
  {
   "cell_type": "code",
   "execution_count": 10,
   "metadata": {},
   "outputs": [
    {
     "ename": "ValueError",
     "evalue": "zero-size array to reduction operation maximum which has no identity",
     "output_type": "error",
     "traceback": [
      "\u001b[0;31m---------------------------------------------------------------------------\u001b[0m",
      "\u001b[0;31mValueError\u001b[0m                                Traceback (most recent call last)",
      "\u001b[0;32m<ipython-input-10-9fbfaf32560d>\u001b[0m in \u001b[0;36m<module>\u001b[0;34m\u001b[0m\n\u001b[0;32m----> 1\u001b[0;31m data_normed = norm_df(data, runs, mag_cols, norm_run='vary_nes_nesfrac0.30',\n\u001b[0m\u001b[1;32m      2\u001b[0m                       invert_cols=None, mag_cols='all')\n\u001b[1;32m      3\u001b[0m \u001b[0mdata_normed\u001b[0m \u001b[0;34m=\u001b[0m \u001b[0mdata_normed\u001b[0m\u001b[0;34m.\u001b[0m\u001b[0mrename\u001b[0m\u001b[0;34m(\u001b[0m\u001b[0mcolumns\u001b[0m\u001b[0;34m=\u001b[0m\u001b[0mmag_name_mapper\u001b[0m\u001b[0;34m)\u001b[0m\u001b[0;34m\u001b[0m\u001b[0;34m\u001b[0m\u001b[0m\n\u001b[1;32m      4\u001b[0m \u001b[0;34m\u001b[0m\u001b[0m\n\u001b[1;32m      5\u001b[0m \u001b[0mfig\u001b[0m\u001b[0;34m,\u001b[0m \u001b[0max\u001b[0m \u001b[0;34m=\u001b[0m \u001b[0mradar\u001b[0m\u001b[0;34m(\u001b[0m\u001b[0mdata_normed\u001b[0m\u001b[0;34m,\u001b[0m \u001b[0mlegend\u001b[0m\u001b[0;34m=\u001b[0m\u001b[0;32mTrue\u001b[0m\u001b[0;34m,\u001b[0m \u001b[0mrgrids\u001b[0m\u001b[0;34m=\u001b[0m\u001b[0;34m[\u001b[0m\u001b[0;36m.50\u001b[0m\u001b[0;34m,\u001b[0m \u001b[0;36m1.0\u001b[0m\u001b[0;34m,\u001b[0m \u001b[0;36m1.1\u001b[0m\u001b[0;34m]\u001b[0m\u001b[0;34m,\u001b[0m \u001b[0malpha\u001b[0m\u001b[0;34m=\u001b[0m\u001b[0;36m.1\u001b[0m\u001b[0;34m)\u001b[0m\u001b[0;34m\u001b[0m\u001b[0;34m\u001b[0m\u001b[0m\n",
      "\u001b[0;32m~/git_repos/21_Scratch/minion_update/radar.py\u001b[0m in \u001b[0;36mnorm_df\u001b[0;34m(df, runs, cols, norm_run, invert_cols, reverse_cols, row_label, mag_cols)\u001b[0m\n\u001b[1;32m    180\u001b[0m             \u001b[0mout_df\u001b[0m\u001b[0;34m[\u001b[0m\u001b[0mcolname\u001b[0m\u001b[0;34m]\u001b[0m \u001b[0;34m=\u001b[0m \u001b[0;36m1.\u001b[0m\u001b[0;34m/\u001b[0m\u001b[0mout_df\u001b[0m\u001b[0;34m[\u001b[0m\u001b[0mcolname\u001b[0m\u001b[0;34m]\u001b[0m\u001b[0;34m\u001b[0m\u001b[0;34m\u001b[0m\u001b[0m\n\u001b[1;32m    181\u001b[0m     \u001b[0;32mif\u001b[0m \u001b[0mnorm_run\u001b[0m \u001b[0;32mis\u001b[0m \u001b[0;32mnot\u001b[0m \u001b[0;32mNone\u001b[0m\u001b[0;34m:\u001b[0m\u001b[0;34m\u001b[0m\u001b[0;34m\u001b[0m\u001b[0m\n\u001b[0;32m--> 182\u001b[0;31m         \u001b[0mindx\u001b[0m \u001b[0;34m=\u001b[0m \u001b[0mnp\u001b[0m\u001b[0;34m.\u001b[0m\u001b[0mmax\u001b[0m\u001b[0;34m(\u001b[0m\u001b[0mnp\u001b[0m\u001b[0;34m.\u001b[0m\u001b[0mwhere\u001b[0m\u001b[0;34m(\u001b[0m\u001b[0mout_df\u001b[0m\u001b[0;34m[\u001b[0m\u001b[0mrow_label\u001b[0m\u001b[0;34m]\u001b[0m \u001b[0;34m==\u001b[0m \u001b[0mnorm_run\u001b[0m\u001b[0;34m)\u001b[0m\u001b[0;34m[\u001b[0m\u001b[0;36m0\u001b[0m\u001b[0;34m]\u001b[0m\u001b[0;34m)\u001b[0m\u001b[0;34m\u001b[0m\u001b[0;34m\u001b[0m\u001b[0m\n\u001b[0m\u001b[1;32m    183\u001b[0m         \u001b[0;32mfor\u001b[0m \u001b[0mcol\u001b[0m \u001b[0;32min\u001b[0m \u001b[0mout_df\u001b[0m\u001b[0;34m.\u001b[0m\u001b[0mcolumns\u001b[0m\u001b[0;34m:\u001b[0m\u001b[0;34m\u001b[0m\u001b[0;34m\u001b[0m\u001b[0m\n\u001b[1;32m    184\u001b[0m             \u001b[0;31m# maybe just check that it's not a\u001b[0m\u001b[0;34m\u001b[0m\u001b[0;34m\u001b[0m\u001b[0;34m\u001b[0m\u001b[0m\n",
      "\u001b[0;32m<__array_function__ internals>\u001b[0m in \u001b[0;36mamax\u001b[0;34m(*args, **kwargs)\u001b[0m\n",
      "\u001b[0;32m~/anaconda3/envs/testenv/lib/python3.9/site-packages/numpy/core/fromnumeric.py\u001b[0m in \u001b[0;36mamax\u001b[0;34m(a, axis, out, keepdims, initial, where)\u001b[0m\n\u001b[1;32m   2731\u001b[0m     \u001b[0;36m5\u001b[0m\u001b[0;34m\u001b[0m\u001b[0;34m\u001b[0m\u001b[0m\n\u001b[1;32m   2732\u001b[0m     \"\"\"\n\u001b[0;32m-> 2733\u001b[0;31m     return _wrapreduction(a, np.maximum, 'max', axis, None, out,\n\u001b[0m\u001b[1;32m   2734\u001b[0m                           keepdims=keepdims, initial=initial, where=where)\n\u001b[1;32m   2735\u001b[0m \u001b[0;34m\u001b[0m\u001b[0m\n",
      "\u001b[0;32m~/anaconda3/envs/testenv/lib/python3.9/site-packages/numpy/core/fromnumeric.py\u001b[0m in \u001b[0;36m_wrapreduction\u001b[0;34m(obj, ufunc, method, axis, dtype, out, **kwargs)\u001b[0m\n\u001b[1;32m     85\u001b[0m                 \u001b[0;32mreturn\u001b[0m \u001b[0mreduction\u001b[0m\u001b[0;34m(\u001b[0m\u001b[0maxis\u001b[0m\u001b[0;34m=\u001b[0m\u001b[0maxis\u001b[0m\u001b[0;34m,\u001b[0m \u001b[0mout\u001b[0m\u001b[0;34m=\u001b[0m\u001b[0mout\u001b[0m\u001b[0;34m,\u001b[0m \u001b[0;34m**\u001b[0m\u001b[0mpasskwargs\u001b[0m\u001b[0;34m)\u001b[0m\u001b[0;34m\u001b[0m\u001b[0;34m\u001b[0m\u001b[0m\n\u001b[1;32m     86\u001b[0m \u001b[0;34m\u001b[0m\u001b[0m\n\u001b[0;32m---> 87\u001b[0;31m     \u001b[0;32mreturn\u001b[0m \u001b[0mufunc\u001b[0m\u001b[0;34m.\u001b[0m\u001b[0mreduce\u001b[0m\u001b[0;34m(\u001b[0m\u001b[0mobj\u001b[0m\u001b[0;34m,\u001b[0m \u001b[0maxis\u001b[0m\u001b[0;34m,\u001b[0m \u001b[0mdtype\u001b[0m\u001b[0;34m,\u001b[0m \u001b[0mout\u001b[0m\u001b[0;34m,\u001b[0m \u001b[0;34m**\u001b[0m\u001b[0mpasskwargs\u001b[0m\u001b[0;34m)\u001b[0m\u001b[0;34m\u001b[0m\u001b[0;34m\u001b[0m\u001b[0m\n\u001b[0m\u001b[1;32m     88\u001b[0m \u001b[0;34m\u001b[0m\u001b[0m\n\u001b[1;32m     89\u001b[0m \u001b[0;34m\u001b[0m\u001b[0m\n",
      "\u001b[0;31mValueError\u001b[0m: zero-size array to reduction operation maximum which has no identity"
     ]
    }
   ],
   "source": [
    "data_normed = norm_df(data, runs, mag_cols, norm_run='vary_nes_nesfrac0.30',\n",
    "                      invert_cols=None, mag_cols='all')\n",
    "data_normed = data_normed.rename(columns=mag_name_mapper)\n",
    "\n",
    "fig, ax = radar(data_normed, legend=True, rgrids=[.50, 1.0, 1.1], alpha=.1)\n",
    "fig.tight_layout()"
   ]
  },
  {
   "cell_type": "code",
   "execution_count": null,
   "metadata": {},
   "outputs": [],
   "source": []
  },
  {
   "cell_type": "code",
   "execution_count": null,
   "metadata": {},
   "outputs": [],
   "source": [
    "runs = ['baseline_nexp2'] + [name for name in data['runName'].values if 'twi_p' in name] "
   ]
  },
  {
   "cell_type": "code",
   "execution_count": null,
   "metadata": {},
   "outputs": [],
   "source": []
  },
  {
   "cell_type": "code",
   "execution_count": null,
   "metadata": {},
   "outputs": [],
   "source": [
    "data_normed = norm_df(data, runs, cols, mag_cols=linear_cols,\n",
    "                      invert_cols=['parallax_best18k', 'properMotion_best18k'],\n",
    "                      norm_run='baseline_nexp2')\n",
    "data_normed = data_normed.rename(columns=name_mapper)\n",
    "fig, ax = radar(data_normed, legend=True, rgrids=[0.8, 1.0, 1.2])\n",
    "fig.tight_layout()"
   ]
  },
  {
   "cell_type": "code",
   "execution_count": null,
   "metadata": {},
   "outputs": [],
   "source": [
    "data_normed = norm_df(data, runs, mag_cols, norm_run='baseline_nexp2',\n",
    "                      invert_cols=None, mag_cols='all')\n",
    "data_normed = data_normed.rename(columns=mag_name_mapper)\n",
    "\n",
    "fig, ax = radar(data_normed, legend=True, rgrids=[.90, 1.0, 1.05], alpha=.1)\n",
    "fig.tight_layout()"
   ]
  },
  {
   "cell_type": "code",
   "execution_count": null,
   "metadata": {},
   "outputs": [],
   "source": []
  },
  {
   "cell_type": "code",
   "execution_count": null,
   "metadata": {},
   "outputs": [],
   "source": []
  },
  {
   "cell_type": "code",
   "execution_count": null,
   "metadata": {},
   "outputs": [],
   "source": [
    "runs = ['baseline_nexp2'] + [name for name in data['runName'].values if 'twi_ne' in name] \n",
    "runs"
   ]
  },
  {
   "cell_type": "code",
   "execution_count": null,
   "metadata": {},
   "outputs": [],
   "source": [
    "indices = [np.max(np.where(data['runName'] == name)[0]) for name in runs]\n",
    "data['NEO bright'][indices]"
   ]
  },
  {
   "cell_type": "code",
   "execution_count": null,
   "metadata": {},
   "outputs": [],
   "source": [
    "data_normed = norm_df(data, runs, cols, mag_cols=linear_cols,\n",
    "                      invert_cols=['parallax_best18k', 'properMotion_best18k'],\n",
    "                      norm_run='baseline_nexp2')\n",
    "data_normed = data_normed.rename(columns=name_mapper)\n",
    "fig, ax = radar(data_normed, legend=True, rgrids=[0.8, 1.0, 1.1])\n",
    "fig.tight_layout()"
   ]
  },
  {
   "cell_type": "code",
   "execution_count": null,
   "metadata": {},
   "outputs": [],
   "source": [
    "data_normed"
   ]
  },
  {
   "cell_type": "code",
   "execution_count": null,
   "metadata": {},
   "outputs": [],
   "source": [
    "\n",
    "data_normed = norm_df(data, runs, mag_cols, norm_run='baseline_nexp2',\n",
    "                      invert_cols=None, mag_cols='all')\n",
    "data_normed = data_normed.rename(columns=mag_name_mapper)\n",
    "\n",
    "fig, ax = radar(data_normed, legend=True, rgrids=[0.8, 1.0, 1.03])\n",
    "fig.tight_layout()\n",
    "#fig.savefig('radar_plots/var_exp_mags_radar.pdf')"
   ]
  },
  {
   "cell_type": "code",
   "execution_count": null,
   "metadata": {},
   "outputs": [],
   "source": [
    "runs = ['baseline_nexp2'] + [name for name in data['runName'].values if 'pair_times' in name] \n",
    "runs"
   ]
  },
  {
   "cell_type": "code",
   "execution_count": null,
   "metadata": {},
   "outputs": [],
   "source": [
    "data_normed = norm_df(data, runs, cols, mag_cols=linear_cols,\n",
    "                      invert_cols=['parallax_best18k', 'properMotion_best18k'],\n",
    "                      norm_run='pair_times_22')\n",
    "data_normed = data_normed.rename(columns=name_mapper)\n",
    "fig, ax = radar(data_normed, legend=True, rgrids=[0.9, 0.95, 1.0, 1.05, 1.1])\n",
    "fig.tight_layout()"
   ]
  },
  {
   "cell_type": "code",
   "execution_count": null,
   "metadata": {},
   "outputs": [],
   "source": [
    "runs = ['baseline_nexp2'] + [name for name in data['runName'].values if 'footprint' in name] \n",
    "runs"
   ]
  },
  {
   "cell_type": "code",
   "execution_count": null,
   "metadata": {},
   "outputs": [],
   "source": [
    "data_normed = norm_df(data, runs, cols, mag_cols=linear_cols,\n",
    "                      invert_cols=['parallax_best18k', 'properMotion_best18k'],\n",
    "                      norm_run='baseline_nexp2')\n",
    "data_normed = data_normed.rename(columns=name_mapper)\n",
    "fig, ax = radar(data_normed, legend=True, rgrids=[0.8, 0.95, 1.0, 1.05, 1.2])\n",
    "fig.tight_layout()"
   ]
  },
  {
   "cell_type": "code",
   "execution_count": null,
   "metadata": {},
   "outputs": [],
   "source": []
  },
  {
   "cell_type": "code",
   "execution_count": null,
   "metadata": {},
   "outputs": [],
   "source": [
    "runs = ['baseline_nexp2'] + [name for name in data['runName'].values if 'rolling' in name and '_nm' not in name] \n",
    "runs"
   ]
  },
  {
   "cell_type": "code",
   "execution_count": null,
   "metadata": {},
   "outputs": [],
   "source": [
    "data_normed = norm_df(data, runs, cols, mag_cols=linear_cols,\n",
    "                      invert_cols=['parallax_best18k', 'properMotion_best18k'],\n",
    "                      norm_run='baseline_nexp2')\n",
    "data_normed = data_normed.rename(columns=name_mapper)\n",
    "fig, ax = radar(data_normed, legend=True, rgrids=[0.8, 0.95, 1.0, 1.05, 1.1])\n",
    "fig.tight_layout()"
   ]
  },
  {
   "cell_type": "code",
   "execution_count": null,
   "metadata": {},
   "outputs": [],
   "source": []
  },
  {
   "cell_type": "code",
   "execution_count": null,
   "metadata": {},
   "outputs": [],
   "source": [
    "runs = ['baseline_nexp2'] + [name for name in data['runName'].values if 'rolling_nm' in name] \n",
    "runs"
   ]
  },
  {
   "cell_type": "code",
   "execution_count": null,
   "metadata": {},
   "outputs": [],
   "source": [
    "data_normed = norm_df(data, runs, cols, mag_cols=linear_cols,\n",
    "                      invert_cols=['parallax_best18k', 'properMotion_best18k'],\n",
    "                      norm_run='baseline_nexp2')\n",
    "data_normed = data_normed.rename(columns=name_mapper)\n",
    "fig, ax = radar(data_normed, legend=True, rgrids=[0.8, 0.95, 1.0, 1.05, 1.1])\n",
    "fig.tight_layout()"
   ]
  },
  {
   "cell_type": "code",
   "execution_count": null,
   "metadata": {},
   "outputs": [],
   "source": [
    "runs = ['baseline_nexp2'] + [name for name in data['runName'].values if 'ddf_dither' in name] \n",
    "\n",
    "data_normed = norm_df(data, runs, cols, mag_cols=linear_cols,\n",
    "                      invert_cols=['parallax_best18k', 'properMotion_best18k'],\n",
    "                      norm_run='baseline_nexp2')\n",
    "data_normed = data_normed.rename(columns=name_mapper)\n",
    "fig, ax = radar(data_normed, legend=True, rgrids=[0.8, 0.95, 1.0, 1.05, 1.1])\n",
    "fig.tight_layout()"
   ]
  },
  {
   "cell_type": "code",
   "execution_count": null,
   "metadata": {},
   "outputs": [],
   "source": [
    "runs = ['baseline_nexp2'] + [name for name in data['runName'].values if 'u_long' in name] \n",
    "\n",
    "data_normed = norm_df(data, runs, cols, mag_cols=linear_cols,\n",
    "                      invert_cols=['parallax_best18k', 'properMotion_best18k'],\n",
    "                      norm_run='baseline_nexp2')\n",
    "data_normed = data_normed.rename(columns=name_mapper)\n",
    "fig, ax = radar(data_normed, legend=True, rgrids=[0.8, 0.95, 1.0, 1.05, 1.1])\n",
    "fig.tight_layout()"
   ]
  },
  {
   "cell_type": "code",
   "execution_count": null,
   "metadata": {},
   "outputs": [],
   "source": [
    "\n",
    "data_normed = norm_df(data, runs, mag_cols, norm_run='baseline_nexp2',\n",
    "                      invert_cols=None, mag_cols='all')\n",
    "data_normed = data_normed.rename(columns=mag_name_mapper)\n",
    "\n",
    "fig, ax = radar(data_normed, legend=True, rgrids=[0.9, 1.0, 1.5])\n",
    "fig.text(.68,.5, '$\\mathbf{\\Delta m+1}$',  fontweight='bold')\n",
    "fig.tight_layout()\n",
    "#fig.savefig('radar_plots/var_exp_mags_radar.pdf')"
   ]
  },
  {
   "cell_type": "code",
   "execution_count": null,
   "metadata": {},
   "outputs": [],
   "source": [
    "\n",
    "fig, ax = radar(data_normed, legend=True, rgrids=[0.95, 1.0, 1.1])\n",
    "fig.text(.68,.5, '$\\mathbf{\\Delta m+1}$',  fontweight='bold')\n",
    "fig.tight_layout()"
   ]
  },
  {
   "cell_type": "code",
   "execution_count": null,
   "metadata": {},
   "outputs": [],
   "source": [
    "runs = ['baseline_nexp2'] + [name for name in data['runName'].values if 'twi_pair' in name] \n",
    "\n",
    "data_normed = norm_df(data, runs, cols, mag_cols=linear_cols,\n",
    "                      invert_cols=['parallax_best18k', 'properMotion_best18k'],\n",
    "                      norm_run='baseline_nexp2')\n",
    "data_normed = data_normed.rename(columns=name_mapper)\n",
    "fig, ax = radar(data_normed, legend=True, rgrids=[0.8, 0.95, 1.0, 1.05, 1.1])\n",
    "fig.tight_layout()"
   ]
  },
  {
   "cell_type": "code",
   "execution_count": null,
   "metadata": {},
   "outputs": [],
   "source": [
    "\n",
    "data_normed = norm_df(data, runs, mag_cols, norm_run='baseline_nexp2',\n",
    "                      invert_cols=None, mag_cols='all')\n",
    "data_normed = data_normed.rename(columns=mag_name_mapper)\n",
    "\n",
    "\n",
    "fig, ax = radar(data_normed, legend=True, rgrids=[0.95, 1.0, 1.1])\n",
    "fig.text(.68,.5, '$\\mathbf{\\Delta m+1}$',  fontweight='bold')\n",
    "fig.tight_layout()"
   ]
  },
  {
   "cell_type": "code",
   "execution_count": null,
   "metadata": {},
   "outputs": [],
   "source": []
  }
 ],
 "metadata": {
  "kernelspec": {
   "display_name": "Python 3",
   "language": "python",
   "name": "python3"
  },
  "language_info": {
   "codemirror_mode": {
    "name": "ipython",
    "version": 3
   },
   "file_extension": ".py",
   "mimetype": "text/x-python",
   "name": "python",
   "nbconvert_exporter": "python",
   "pygments_lexer": "ipython3",
   "version": "3.9.2"
  }
 },
 "nbformat": 4,
 "nbformat_minor": 2
}
