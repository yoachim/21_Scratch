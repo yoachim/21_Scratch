{
 "cells": [
  {
   "cell_type": "code",
   "execution_count": 1,
   "id": "endless-hazard",
   "metadata": {},
   "outputs": [],
   "source": [
    "import lsst.sims.maf.metricBundles as metricBundles\n",
    "import lsst.sims.maf.slicers as slicers\n",
    "import lsst.sims.maf.db as db\n",
    "import lsst.sims.maf.utils as utils\n",
    "import sqlite3\n",
    "import numpy as np\n",
    "from lsst.sims.maf.metrics.snSLMetric import SNSLMetric\n",
    "import lsst.sims.maf.metrics as metrics\n",
    "import healpy as hp\n",
    "import os\n",
    "\n",
    "import matplotlib.pylab as plt\n",
    "%matplotlib inline\n",
    "import datetime"
   ]
  },
  {
   "cell_type": "code",
   "execution_count": 2,
   "id": "higher-morocco",
   "metadata": {},
   "outputs": [],
   "source": [
    "path_where_version_folder_is_stored = \"dbs17\"\n",
    "version = 'v1.7' # \"v1.5\"\n",
    "\n",
    "list_of_databases = os.listdir(\"%s\"% (path_where_version_folder_is_stored))\n",
    "\n",
    "list_of_databases.sort()\n"
   ]
  },
  {
   "cell_type": "code",
   "execution_count": 3,
   "id": "searching-victorian",
   "metadata": {},
   "outputs": [],
   "source": [
    "\n",
    "#list_of_databases = [list_of_databases[5]]\n",
    "#list_of_databases\n",
    "\n",
    "m5mins={'u': 22.7, 'g': 24.1, 'r': 23.7, 'i': 23.1, 'z': 22.2, 'y': 21.4}\n",
    "for key in m5mins:\n",
    "    m5mins[key] = 10."
   ]
  },
  {
   "cell_type": "code",
   "execution_count": null,
   "id": "presidential-scanning",
   "metadata": {},
   "outputs": [
    {
     "name": "stdout",
     "output_type": "stream",
     "text": [
      "0 of 2\n",
      "2021-04-08 08:35:11.881106\n",
      "Healpix slicer using NSIDE=64, approximate resolution 54.967783 arcminutes\n",
      "<lsst.sims.maf.metrics.snSLMetric.SNSLMetric object at 0x7fd32ae90e50>\n",
      "Querying database SummaryAllProps with no constraint for columns ['observationId', 'numExposures', 'fiveSigmaDepth', 'visitExposureTime', 'observationStartMJD', 'night', 'fieldRA', 'fieldDec', 'filter', 'visitTime'].\n",
      "Found 2208619 visits\n",
      "Running:  ['baseline_nexp1_v1_7_10yrs_SNSLMetric_HEAL']\n"
     ]
    },
    {
     "name": "stderr",
     "output_type": "stream",
     "text": [
      "/Users/yoachim/git_repos/sims_maf/python/lsst/sims/maf/maps/dustMap.py:24: UserWarning: Slicer value of nside (64) different from map value (128), using slicer value\n",
      "  warnings.warn('Slicer value of nside (%i) different from map value (%i), using slicer value'\n"
     ]
    },
    {
     "name": "stdout",
     "output_type": "stream",
     "text": [
      "Completed metric generation.\n",
      "Running reduce methods.\n",
      "Running summary statistics.\n",
      "Completed.\n",
      "Plotting figures with \"\" constraint now.\n"
     ]
    },
    {
     "name": "stderr",
     "output_type": "stream",
     "text": [
      "/Users/yoachim/lsst/conda/miniconda3-py38_4.9.2/envs/lsst-scipipe-0.4.1/lib/python3.8/site-packages/healpy/projaxes.py:202: MatplotlibDeprecationWarning: Passing parameters norm and vmin/vmax simultaneously is deprecated since 3.3 and will become an error two minor releases later. Please pass vmin/vmax directly to the norm when creating it.\n",
      "  aximg = self.imshow(\n",
      "/Users/yoachim/lsst/conda/miniconda3-py38_4.9.2/envs/lsst-scipipe-0.4.1/lib/python3.8/site-packages/healpy/pixelfunc.py:1581: UserWarning: monopole: 0.000344741  dipole: lon: 30.5143, lat: -82.985, amp: 0.00013998\n",
      "  warnings.warn(\n"
     ]
    },
    {
     "name": "stdout",
     "output_type": "stream",
     "text": [
      "Plotting complete.\n",
      "baseline_nexp1_v1.7_10yrs.db: 12.725081\n",
      "1 of 2\n",
      "2021-04-08 09:01:58.482351\n",
      "Healpix slicer using NSIDE=64, approximate resolution 54.967783 arcminutes\n"
     ]
    },
    {
     "name": "stderr",
     "output_type": "stream",
     "text": [
      "/Users/yoachim/lsst/conda/miniconda3-py38_4.9.2/envs/lsst-scipipe-0.4.1/lib/python3.8/site-packages/healpy/projaxes.py:920: MatplotlibDeprecationWarning: You are modifying the state of a globally registered colormap. This has been deprecated since 3.3 and in 3.6, you will not be able to modify a registered colormap in-place. To remove this warning, you can make a copy of the colormap first. cmap = mpl.cm.get_cmap(\"viridis\").copy()\n",
      "  newcm.set_over(newcm(1.0))\n",
      "/Users/yoachim/lsst/conda/miniconda3-py38_4.9.2/envs/lsst-scipipe-0.4.1/lib/python3.8/site-packages/healpy/projaxes.py:921: MatplotlibDeprecationWarning: You are modifying the state of a globally registered colormap. This has been deprecated since 3.3 and in 3.6, you will not be able to modify a registered colormap in-place. To remove this warning, you can make a copy of the colormap first. cmap = mpl.cm.get_cmap(\"viridis\").copy()\n",
      "  newcm.set_under(bgcolor)\n",
      "/Users/yoachim/lsst/conda/miniconda3-py38_4.9.2/envs/lsst-scipipe-0.4.1/lib/python3.8/site-packages/healpy/projaxes.py:922: MatplotlibDeprecationWarning: You are modifying the state of a globally registered colormap. This has been deprecated since 3.3 and in 3.6, you will not be able to modify a registered colormap in-place. To remove this warning, you can make a copy of the colormap first. cmap = mpl.cm.get_cmap(\"viridis\").copy()\n",
      "  newcm.set_bad(badcolor)\n",
      "/Users/yoachim/lsst/conda/miniconda3-py38_4.9.2/envs/lsst-scipipe-0.4.1/lib/python3.8/site-packages/healpy/projaxes.py:202: MatplotlibDeprecationWarning: Passing parameters norm and vmin/vmax simultaneously is deprecated since 3.3 and will become an error two minor releases later. Please pass vmin/vmax directly to the norm when creating it.\n",
      "  aximg = self.imshow(\n"
     ]
    },
    {
     "name": "stdout",
     "output_type": "stream",
     "text": [
      "<lsst.sims.maf.metrics.snSLMetric.SNSLMetric object at 0x7fd1ff8b30a0>\n",
      "Querying database SummaryAllProps with no constraint for columns ['observationId', 'numExposures', 'fiveSigmaDepth', 'visitExposureTime', 'observationStartMJD', 'night', 'fieldRA', 'fieldDec', 'filter', 'visitTime'].\n",
      "Found 2045493 visits\n",
      "Running:  ['baseline_nexp2_v1_7_10yrs_SNSLMetric_HEAL']\n"
     ]
    },
    {
     "name": "stderr",
     "output_type": "stream",
     "text": [
      "/Users/yoachim/git_repos/sims_maf/python/lsst/sims/maf/maps/dustMap.py:24: UserWarning: Slicer value of nside (64) different from map value (128), using slicer value\n",
      "  warnings.warn('Slicer value of nside (%i) different from map value (%i), using slicer value'\n"
     ]
    }
   ],
   "source": [
    "for j,i in enumerate(list_of_databases):\n",
    "    print('%i of %i' % (j,len(list_of_databases)))\n",
    "    print(datetime.datetime.now())\n",
    "\n",
    "    #if i == \"baseline_nexp1_v1.6_10yrs.db\": \n",
    "\n",
    "    # Database available from https://lsst-web.ncsa.illinois.edu/sim-data/sims_featureScheduler_runs1.4/baseline/\n",
    "    dbFile = os.path.join(path_where_version_folder_is_stored,'%s' % (i)) #'descddf_v1.4_10yrs.db'\n",
    "    dbName = i.replace('.db', '')\n",
    "    opsimdb = db.OpsimDatabase(dbFile)\n",
    "    \n",
    "    \n",
    "    slicer = slicers.HealpixSlicer(nside=64, useCache=False)\n",
    "    \n",
    "            \n",
    "    bundleList= []\n",
    "    \n",
    "    metric = SNSLMetric(night_collapse=True, m5mins=m5mins)\n",
    "    summaryStats = [metrics.SumMetric()]            \n",
    "    sql = '' \n",
    "    \n",
    "    print(metric)\n",
    "    \n",
    "    bundleList.append(metricBundles.MetricBundle(\n",
    "        metric, slicer, sql, runName= dbName,summaryMetrics=summaryStats))\n",
    "\n",
    "    outDir='temp17'\n",
    "    resultsDb = db.ResultsDb(outDir=outDir)\n",
    "    bundleDict = metricBundles.makeBundlesDictFromList(bundleList)\n",
    "    bgroup = metricBundles.MetricBundleGroup(bundleDict, opsimdb, outDir=outDir, resultsDb=resultsDb)\n",
    "    bgroup.runAll()\n",
    "    \n",
    "    bgroup.plotAll(closefigs=False)\n",
    "    \n",
    "    strategy_name = list(bundleDict)[0]\n",
    "    \n",
    "    nSL = bundleDict[strategy_name]\n",
    "    nSL = nSL.metricValues[~nSL.metricValues.mask]\n",
    "    nSL = nSL[nSL>0]    \n",
    "    print(\"%s: %f\" % (i,np.sum(nSL)))\n",
    "    \n",
    "    \n",
    "    hp.mollview(bundleList[0].metricValues,  title='sum= %f' % bundleList[0].summaryValues['Sum'])"
   ]
  },
  {
   "cell_type": "code",
   "execution_count": null,
   "id": "substantial-width",
   "metadata": {},
   "outputs": [],
   "source": []
  },
  {
   "cell_type": "code",
   "execution_count": null,
   "id": "indonesian-indonesia",
   "metadata": {},
   "outputs": [],
   "source": []
  }
 ],
 "metadata": {
  "kernelspec": {
   "display_name": "Python 3",
   "language": "python",
   "name": "python3"
  },
  "language_info": {
   "codemirror_mode": {
    "name": "ipython",
    "version": 3
   },
   "file_extension": ".py",
   "mimetype": "text/x-python",
   "name": "python",
   "nbconvert_exporter": "python",
   "pygments_lexer": "ipython3",
   "version": "3.8.8"
  }
 },
 "nbformat": 4,
 "nbformat_minor": 5
}
