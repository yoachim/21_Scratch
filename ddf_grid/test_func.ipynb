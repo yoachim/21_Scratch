{
 "cells": [
  {
   "cell_type": "code",
   "execution_count": 1,
   "id": "ca29fb1a",
   "metadata": {},
   "outputs": [],
   "source": [
    "import numpy as np\n",
    "import matplotlib.pylab as plt\n",
    "%matplotlib inline\n",
    "from schedule_ddf import sched_ddf"
   ]
  },
  {
   "cell_type": "code",
   "execution_count": 2,
   "id": "9dd97e8e",
   "metadata": {},
   "outputs": [
    {
     "name": "stdout",
     "output_type": "stream",
     "text": [
      "Academic license - for non-commercial use only - expires 2021-12-19\n",
      "Using license file /Users/yoachim/Dropbox/Apps/Gurobi/gurobi.lic\n",
      "Changed value of parameter TimeLimit to 200.0\n",
      "   Prev: inf  Min: 0.0  Max: inf  Default: inf\n",
      "Gurobi Optimizer version 9.1.2 build v9.1.2rc0 (mac64)\n",
      "Thread count: 2 physical cores, 4 logical processors, using up to 4 threads\n",
      "Optimize a model with 10963 rows, 361599 columns and 1302550 nonzeros\n",
      "Model fingerprint: 0x83c3821a\n",
      "Model has 3653 quadratic objective terms\n",
      "Model has 3653 quadratic constraints\n",
      "Variable types: 0 continuous, 361599 integer (350640 binary)\n",
      "Coefficient statistics:\n",
      "  Matrix range     [1e+00, 1e+00]\n",
      "  QMatrix range    [1e+00, 1e+00]\n",
      "  Objective range  [0e+00, 0e+00]\n",
      "  QObjective range [2e+00, 2e+00]\n",
      "  Bounds range     [1e+00, 4e+02]\n",
      "  RHS range        [1e+00, 4e+02]\n",
      "  QRHS range       [1e+00, 1e+00]\n",
      "Presolve removed 7310 rows and 356297 columns\n",
      "Presolve time: 0.60s\n",
      "Presolved: 3653 rows, 5302 columns, 10603 nonzeros\n",
      "Presolved model has 3652 quadratic objective terms\n",
      "Variable types: 0 continuous, 5302 integer (1650 binary)\n",
      "\n",
      "Root relaxation: objective 7.729661e+02, 7329 iterations, 0.33 seconds\n",
      "\n",
      "    Nodes    |    Current Node    |     Objective Bounds      |     Work\n",
      " Expl Unexpl |  Obj  Depth IntInf | Incumbent    BestBd   Gap | It/Node Time\n",
      "\n",
      "     0     0  772.96612    0 2109          -  772.96612      -     -    1s\n",
      "H    0     0                     901.0000000  772.96612  14.2%     -    1s\n",
      "     0     0  772.96612    0 2109  901.00000  772.96612  14.2%     -    1s\n",
      "     0     2  772.96612    0 2109  901.00000  772.96612  14.2%     -    2s\n",
      "   586   450  882.82379   29  445  901.00000  864.29644  4.07%   2.1    5s\n",
      "  1029   660  884.07379   42  383  901.00000  864.86054  4.01%   9.3   10s\n",
      "  1879   967  897.36580   55  206  901.00000  866.86986  3.79%   6.1   15s\n",
      "  2646  1311  887.94879   38  435  901.00000  869.94679  3.45%   4.9   20s\n",
      "  3485  1877  899.54168   62  172  901.00000  871.47592  3.28%   4.3   25s\n",
      "  4326  2423  876.01823   31  508  901.00000  873.26823  3.08%   3.9   30s\n",
      "  4964  2807  886.57379   34  475  901.00000  874.01823  2.99%   3.7   35s\n",
      "  5869  3352  897.38806   41  229  901.00000  874.79601  2.91%   3.4   41s\n",
      "  6515  3725  893.04906   42  357  901.00000  875.07592  2.88%   3.3   45s\n",
      "  7498  4322  896.24665   43  270  901.00000  876.01823  2.77%   3.2   51s\n",
      "  8390  4795  886.57379   34  476  901.00000  876.47592  2.72%   3.1   57s\n",
      "  9002  5165  883.57379   34  475  901.00000  876.79601  2.69%   3.1   60s\n",
      " 10067  5727  889.77076   44  356  901.00000  877.47592  2.61%   3.0   66s\n",
      " 11296  6423     cutoff   47       901.00000  877.76823  2.58%   2.9   70s\n",
      " 12961  7020  899.89594   54  223  901.00000  878.51823  2.50%   2.8   84s\n",
      " 13126  7276  889.15712   38  431  901.00000  878.51823  2.50%   2.8   86s\n",
      " 14872  8064  893.52947   43  253  901.00000  879.04601  2.44%   2.8   91s\n",
      " 16150  8684  887.90712   36  451  901.00000  879.51823  2.38%   2.8   95s\n",
      " 17876  9425  887.15712   38  431  901.00000  879.79601  2.35%   2.7  101s\n",
      " 19551 10117  896.98294   43  197  901.00000  880.51823  2.27%   2.7  106s\n",
      " 20959 10826  894.17703   53  234  901.00000  880.57379  2.27%   2.7  116s\n",
      " 22261 11451     cutoff   46       901.00000  880.69879  2.25%   2.6  120s\n",
      " 24045 12178  889.68688   41  391  901.00000  880.79601  2.24%   2.6  125s\n",
      " 25681 12768  890.72214   35  444  901.00000  881.47592  2.17%   2.6  130s\n",
      " 27514 13540  898.02886   60  174  901.00000  881.57379  2.16%   2.6  136s\n",
      " 28738 14067  886.94879   38  435  901.00000  881.69879  2.14%   2.6  140s\n",
      " 30085 14565  889.69879   36  455  901.00000  881.79601  2.13%   2.6  145s\n",
      " 31332 15054  896.28716   39  398  901.00000  882.01823  2.11%   2.6  150s\n",
      " 32570 15480  891.79952   41  380  901.00000  882.26823  2.08%   2.6  156s\n",
      " 33991 16014  894.61545   40  407  901.00000  882.57379  2.05%   2.6  161s\n",
      " 35038 16370  882.79601   32  497  901.00000  882.57379  2.05%   2.6  165s\n",
      " 35995 16701  883.57379   34  475  901.00000  882.57379  2.05%   2.6  170s\n",
      " 37278 17219  885.57379   35  465  901.00000  882.57379  2.05%   2.6  175s\n",
      " 38624 17807  886.28212   39  421  901.00000  882.69879  2.03%   2.6  180s\n",
      " 40015 18286  887.69879   36  455  901.00000  882.79601  2.02%   2.6  186s\n",
      " 41355 18773  886.10409   42  384  901.00000  882.82379  2.02%   2.6  191s\n",
      " 42207 19009  896.68333   43  226  901.00000  883.01823  2.00%   2.6  195s\n",
      " 43464 19381  891.13240   38  405  901.00000  883.26823  1.97%   2.6  200s\n",
      "\n",
      "Explored 43678 nodes (118713 simplex iterations) in 200.62 seconds\n",
      "Thread count was 4 (of 4 available processors)\n",
      "\n",
      "Solution count 1: 901 \n",
      "\n",
      "Time limit reached\n",
      "Best objective 9.010000000000e+02, best bound 8.840000000000e+02, gap 1.8868%\n"
     ]
    }
   ],
   "source": [
    "data, schedule = sched_ddf('ELAISS1')"
   ]
  },
  {
   "cell_type": "code",
   "execution_count": 3,
   "id": "e2761b5f",
   "metadata": {},
   "outputs": [
    {
     "data": {
      "text/plain": [
       "1.0"
      ]
     },
     "execution_count": 3,
     "metadata": {},
     "output_type": "execute_result"
    }
   ],
   "source": [
    "schedule.max()"
   ]
  },
  {
   "cell_type": "code",
   "execution_count": null,
   "id": "d57424a1",
   "metadata": {},
   "outputs": [],
   "source": []
  },
  {
   "cell_type": "code",
   "execution_count": null,
   "id": "477f5875",
   "metadata": {},
   "outputs": [],
   "source": []
  }
 ],
 "metadata": {
  "kernelspec": {
   "display_name": "Python 3 (ipykernel)",
   "language": "python",
   "name": "python3"
  },
  "language_info": {
   "codemirror_mode": {
    "name": "ipython",
    "version": 3
   },
   "file_extension": ".py",
   "mimetype": "text/x-python",
   "name": "python",
   "nbconvert_exporter": "python",
   "pygments_lexer": "ipython3",
   "version": "3.9.7"
  }
 },
 "nbformat": 4,
 "nbformat_minor": 5
}
