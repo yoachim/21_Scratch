{
 "cells": [
  {
   "cell_type": "code",
   "execution_count": 1,
   "id": "14fc5628",
   "metadata": {},
   "outputs": [],
   "source": [
    "import numpy as np\n",
    "import matplotlib.pylab as plt\n",
    "%matplotlib inline\n",
    "from schedule_ddf import sched_ddf"
   ]
  },
  {
   "cell_type": "code",
   "execution_count": null,
   "id": "60bf8907",
   "metadata": {},
   "outputs": [
    {
     "name": "stdout",
     "output_type": "stream",
     "text": [
      "Academic license - for non-commercial use only - expires 2021-12-19\n",
      "Using license file /Users/yoachim/Dropbox/Apps/Gurobi/gurobi.lic\n",
      "> \u001b[0;32m/Users/yoachim/git_repos/21_Scratch/ddf_grid/schedule_ddf.py\u001b[0m(84)\u001b[0;36msched_ddf\u001b[0;34m()\u001b[0m\n",
      "\u001b[0;32m     82 \u001b[0;31m    \u001b[0;32mimport\u001b[0m \u001b[0mpdb\u001b[0m \u001b[0;34m;\u001b[0m \u001b[0mpdb\u001b[0m\u001b[0;34m.\u001b[0m\u001b[0mset_trace\u001b[0m\u001b[0;34m(\u001b[0m\u001b[0;34m)\u001b[0m\u001b[0;34m\u001b[0m\u001b[0;34m\u001b[0m\u001b[0m\n",
      "\u001b[0m\u001b[0;32m     83 \u001b[0;31m    \u001b[0;31m# Makes it go blazing fast agian, that's for sure!\u001b[0m\u001b[0;34m\u001b[0m\u001b[0;34m\u001b[0m\u001b[0m\n",
      "\u001b[0m\u001b[0;32m---> 84 \u001b[0;31m    \u001b[0mcumulative_desired\u001b[0m \u001b[0;34m=\u001b[0m \u001b[0mnp\u001b[0m\u001b[0;34m.\u001b[0m\u001b[0mround\u001b[0m\u001b[0;34m(\u001b[0m\u001b[0mcumulative_desired\u001b[0m\u001b[0;34m)\u001b[0m\u001b[0;34m\u001b[0m\u001b[0;34m\u001b[0m\u001b[0m\n",
      "\u001b[0m\u001b[0;32m     85 \u001b[0;31m\u001b[0;34m\u001b[0m\u001b[0m\n",
      "\u001b[0m\u001b[0;32m     86 \u001b[0;31m    \u001b[0mm\u001b[0m\u001b[0;34m.\u001b[0m\u001b[0maddConstr\u001b[0m\u001b[0;34m(\u001b[0m\u001b[0mcumulative_diff\u001b[0m\u001b[0;34m[\u001b[0m\u001b[0;36m0\u001b[0m\u001b[0;34m]\u001b[0m \u001b[0;34m==\u001b[0m \u001b[0mcumulative_sched\u001b[0m\u001b[0;34m[\u001b[0m\u001b[0;36m0\u001b[0m\u001b[0;34m]\u001b[0m \u001b[0;34m-\u001b[0m \u001b[0mcumulative_desired\u001b[0m\u001b[0;34m[\u001b[0m\u001b[0;36m0\u001b[0m\u001b[0;34m]\u001b[0m\u001b[0;34m)\u001b[0m\u001b[0;34m\u001b[0m\u001b[0;34m\u001b[0m\u001b[0m\n",
      "\u001b[0m\n",
      "ipdb> cumulative_desired\n",
      "array([  0.,   0.,   1., ..., 400., 400., 400.])\n",
      "ipdb> out_season\n",
      "(array([ 109,  110,  111, ..., 3539, 3540, 3541]),)\n",
      "ipdb> season_mod\n",
      "array([0.50317897, 0.50571719, 0.50845504, ..., 0.49613471, 0.49887256,\n",
      "       0.50161041])\n",
      "ipdb> sun_mask\n",
      "array([ True,  True,  True, ...,  True,  True,  True])\n",
      "ipdb> night_season\n",
      "array([ 0.50317897,  0.50571719,  0.50845504, ..., 10.49613471,\n",
      "       10.49887256, 10.50161041])\n",
      "ipdb> RA\n",
      "9.45\n"
     ]
    }
   ],
   "source": [
    "data, schedule = sched_ddf('ELAISS1')"
   ]
  },
  {
   "cell_type": "code",
   "execution_count": null,
   "id": "bfc55b23",
   "metadata": {},
   "outputs": [],
   "source": [
    "schedule.max()"
   ]
  },
  {
   "cell_type": "code",
   "execution_count": null,
   "id": "5a05c297",
   "metadata": {},
   "outputs": [],
   "source": []
  }
 ],
 "metadata": {
  "kernelspec": {
   "display_name": "Python 3 (ipykernel)",
   "language": "python",
   "name": "python3"
  },
  "language_info": {
   "codemirror_mode": {
    "name": "ipython",
    "version": 3
   },
   "file_extension": ".py",
   "mimetype": "text/x-python",
   "name": "python",
   "nbconvert_exporter": "python",
   "pygments_lexer": "ipython3",
   "version": "3.9.7"
  }
 },
 "nbformat": 4,
 "nbformat_minor": 5
}
