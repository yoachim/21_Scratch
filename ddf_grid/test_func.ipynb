{
 "cells": [
  {
   "cell_type": "code",
   "execution_count": 1,
   "id": "ca29fb1a",
   "metadata": {},
   "outputs": [],
   "source": [
    "import numpy as np\n",
    "import matplotlib.pylab as plt\n",
    "%matplotlib inline\n",
    "from schedule_ddf import SchedDDF\n",
    "from rubin_sim.utils import ddf_locations\n"
   ]
  },
  {
   "cell_type": "code",
   "execution_count": 2,
   "id": "9dd97e8e",
   "metadata": {},
   "outputs": [],
   "source": [
    "locations = ddf_locations()\n",
    "sdd = SchedDDF()"
   ]
  },
  {
   "cell_type": "code",
   "execution_count": 3,
   "id": "e2761b5f",
   "metadata": {},
   "outputs": [
    {
     "data": {
      "text/plain": [
       "dtype([('mjd', '<f8'), ('sun_alt', '<f8'), ('ELAISS1_airmass', '<f8'), ('ELAISS1_sky_g', '<f8'), ('ELAISS1_m5_g', '<f8'), ('XMM_LSS_airmass', '<f8'), ('XMM_LSS_sky_g', '<f8'), ('XMM_LSS_m5_g', '<f8'), ('ECDFS_airmass', '<f8'), ('ECDFS_sky_g', '<f8'), ('ECDFS_m5_g', '<f8'), ('COSMOS_airmass', '<f8'), ('COSMOS_sky_g', '<f8'), ('COSMOS_m5_g', '<f8'), ('EDFS_a_airmass', '<f8'), ('EDFS_a_sky_g', '<f8'), ('EDFS_a_m5_g', '<f8'), ('EDFS_b_airmass', '<f8'), ('EDFS_b_sky_g', '<f8'), ('EDFS_b_m5_g', '<f8')])"
      ]
     },
     "execution_count": 3,
     "metadata": {},
     "output_type": "execute_result"
    }
   ],
   "source": [
    "sdd.ddf_grid.dtype"
   ]
  },
  {
   "cell_type": "code",
   "execution_count": null,
   "id": "4cfdca1f",
   "metadata": {},
   "outputs": [],
   "source": []
  },
  {
   "cell_type": "code",
   "execution_count": null,
   "id": "d2c593d1",
   "metadata": {},
   "outputs": [],
   "source": []
  },
  {
   "cell_type": "code",
   "execution_count": 4,
   "id": "d57424a1",
   "metadata": {},
   "outputs": [
    {
     "name": "stdout",
     "output_type": "stream",
     "text": [
      "Academic license - for non-commercial use only - expires 2021-12-19\n",
      "Using license file /Users/yoachim/Dropbox/Apps/Gurobi/gurobi.lic\n",
      "Changed value of parameter TimeLimit to 200.0\n",
      "   Prev: inf  Min: 0.0  Max: inf  Default: inf\n",
      "Gurobi Optimizer version 9.1.2 build v9.1.2rc0 (mac64)\n",
      "Thread count: 2 physical cores, 4 logical processors, using up to 4 threads\n",
      "Optimize a model with 10966 rows, 361602 columns and 1275769 nonzeros\n",
      "Model fingerprint: 0xa6cc8aed\n",
      "Model has 3654 quadratic objective terms\n",
      "Model has 3654 quadratic constraints\n",
      "Variable types: 0 continuous, 361602 integer (350640 binary)\n",
      "Coefficient statistics:\n",
      "  Matrix range     [1e+00, 1e+00]\n",
      "  QMatrix range    [1e+00, 1e+00]\n",
      "  Objective range  [0e+00, 0e+00]\n",
      "  QObjective range [2e+00, 2e+00]\n",
      "  Bounds range     [1e+00, 4e+02]\n",
      "  RHS range        [1e+00, 4e+02]\n",
      "  QRHS range       [1e+00, 1e+00]\n",
      "Presolve removed 7312 rows and 355572 columns\n",
      "Presolve time: 0.54s\n",
      "Presolved: 3654 rows, 6030 columns, 12059 nonzeros\n",
      "Presolved model has 3653 quadratic objective terms\n",
      "Variable types: 0 continuous, 6030 integer (2377 binary)\n",
      "\n",
      "Root relaxation: objective 7.720873e+01, 7657 iterations, 0.27 seconds\n",
      "\n",
      "    Nodes    |    Current Node    |     Objective Bounds      |     Work\n",
      " Expl Unexpl |  Obj  Depth IntInf | Incumbent    BestBd   Gap | It/Node Time\n",
      "\n",
      "     0     0   77.20873    0  488          -   77.20873      -     -    1s\n",
      "H    0     0                     118.0000000   77.20873  34.6%     -    1s\n",
      "     0     0   77.20873    0  488  118.00000   77.20873  34.6%     -    2s\n",
      "     0     2   77.20873    0  488  118.00000   77.20873  34.6%     -    4s\n",
      "   139   114  105.68889   18  320  118.00000   84.20873  28.6%   2.0    5s\n",
      "   726   509  101.95873   17  488  118.00000   86.49444  26.7%   2.0   10s\n",
      "  1367   760  104.94127   32  286  118.00000   87.49444  25.9%   7.6   15s\n",
      "  2582  1375   91.88730   21  380  118.00000   89.90516  23.8%   5.0   20s\n",
      "  3239  1779  114.62381   50  138  118.00000   90.31587  23.5%   4.4   25s\n",
      "  4531  2704   96.05397   23  362  118.00000   91.45873  22.5%   3.7   30s\n",
      "  5550  3429  102.91905   29  304  118.00000   92.19087  21.9%   3.4   35s\n",
      "  6138  3792  110.41905   38  232  118.00000   92.35159  21.7%   3.3   40s\n",
      "  7610  4848  110.51429   39  221  118.00000   93.03016  21.2%   3.0   45s\n",
      "  9143  5910  116.26667   55   89  118.00000   93.61944  20.7%   2.9   51s\n",
      "  9806  6420  112.71429   46  169  118.00000   93.88730  20.4%   2.8   55s\n",
      " 11398  7564  105.25238   29  304  118.00000   94.47659  19.9%   2.7   60s\n",
      " 13056  8500  116.31429   48  155  118.00000   94.88730  19.6%   2.6   70s\n",
      " 14505  9634  112.75238   37  240  118.00000   95.19087  19.3%   2.5   75s\n",
      " 16185 10767  101.40317   26  332  118.00000   95.76230  18.8%   2.5   80s\n",
      " 17454 11554  104.08571   31  288  118.00000   95.88730  18.7%   2.5   85s\n",
      " 19128 12628  114.58214   50  136  118.00000   96.33175  18.4%   2.4   90s\n",
      " 20778 13722  113.91429   45  176  118.00000   96.55397  18.2%   2.4   95s\n",
      " 21207 13723  114.91429   45  488  118.00000   96.60159  18.1%   2.4  102s\n",
      " 21211 13726  116.10794   42  488  118.00000   96.60159  18.1%   2.4  105s\n",
      " 21436 13873  109.88571   50  217  118.00000   96.60159  18.1%   2.7  110s\n",
      " 22720 14347  103.91905   41  288  118.00000   96.60159  18.1%   2.7  115s\n",
      " 23565 14654   96.60159   32  370  118.00000   96.60159  18.1%   2.7  120s\n",
      " 24314 14910  110.44127   49  228  118.00000   96.60159  18.1%   2.6  125s\n",
      " 25193 15200   96.60159   27  416  118.00000   96.60159  18.1%   2.6  130s\n",
      " 25892 15437   96.60159   35  342  118.00000   96.60159  18.1%   2.6  135s\n",
      " 27160 15946   98.90317   35  340  118.00000   96.60159  18.1%   2.6  140s\n",
      " 28480 16448   96.60159   31  380  118.00000   96.60159  18.1%   2.6  147s\n",
      " 29377 16785  103.58571   43  272  118.00000   96.60159  18.1%   2.5  150s\n",
      " 30442 17123   96.60159   29  398  118.00000   96.60159  18.1%   2.5  155s\n",
      " 32017 17763  109.75238   47  240  118.00000   96.60159  18.1%   2.5  160s\n",
      " 33664 18260  115.01071   56  172  118.00000   96.60159  18.1%   2.5  165s\n",
      " 35272 18721  113.08571   49  224  118.00000   96.60159  18.1%   2.5  170s\n",
      " 36900 19209  115.48571   52  203  118.00000   96.60159  18.1%   2.4  176s\n",
      " 38525 19776  100.41905   38  312  118.00000   96.60159  18.1%   2.4  182s\n",
      " 39698 20180  111.08571   43  272  118.00000   96.60159  18.1%   2.4  185s\n",
      " 40538 20460  101.27619   34  348  118.00000   96.60159  18.1%   2.4  190s\n",
      " 41360 20698  114.67143   61  124  118.00000   96.60159  18.1%   2.4  197s\n",
      " 42178 20688  114.31429   66   85  118.00000   96.60159  18.1%   2.4  200s\n",
      "\n",
      "Explored 42182 nodes (108017 simplex iterations) in 200.97 seconds\n",
      "Thread count was 4 (of 4 available processors)\n",
      "\n",
      "Solution count 1: 118 \n",
      "\n",
      "Time limit reached\n",
      "Best objective 1.180000000000e+02, best bound 9.700000000000e+01, gap 17.7966%\n",
      "Changed value of parameter TimeLimit to 200.0\n",
      "   Prev: inf  Min: 0.0  Max: inf  Default: inf\n",
      "Gurobi Optimizer version 9.1.2 build v9.1.2rc0 (mac64)\n",
      "Thread count: 2 physical cores, 4 logical processors, using up to 4 threads\n",
      "Optimize a model with 10966 rows, 361602 columns and 1280608 nonzeros\n",
      "Model fingerprint: 0x2619236f\n",
      "Model has 3654 quadratic objective terms\n",
      "Model has 3654 quadratic constraints\n",
      "Variable types: 0 continuous, 361602 integer (350640 binary)\n",
      "Coefficient statistics:\n",
      "  Matrix range     [1e+00, 1e+00]\n",
      "  QMatrix range    [1e+00, 1e+00]\n",
      "  Objective range  [0e+00, 0e+00]\n",
      "  QObjective range [2e+00, 2e+00]\n",
      "  Bounds range     [1e+00, 4e+02]\n",
      "  RHS range        [1e+00, 4e+02]\n",
      "  QRHS range       [1e+00, 1e+00]\n",
      "Presolve removed 7314 rows and 355944 columns\n",
      "Presolve time: 0.54s\n",
      "Presolved: 3652 rows, 5658 columns, 11315 nonzeros\n",
      "Presolved model has 3652 quadratic objective terms\n",
      "Variable types: 0 continuous, 5658 integer (2006 binary)\n",
      "\n",
      "Root relaxation: objective 1.406411e+02, 7004 iterations, 0.33 seconds\n",
      "\n",
      "    Nodes    |    Current Node    |     Objective Bounds      |     Work\n",
      " Expl Unexpl |  Obj  Depth IntInf | Incumbent    BestBd   Gap | It/Node Time\n",
      "\n",
      "     0     0  140.64111    0  676          -  140.64111      -     -    1s\n",
      "H    0     0                     192.0000000  140.64111  26.7%     -    1s\n",
      "     0     0  140.64111    0  676  192.00000  140.64111  26.7%     -    2s\n",
      "     0     2  140.64111    0  676  192.00000  140.64111  26.7%     -    3s\n",
      "   277   221  190.48808   42  224  192.00000  148.98859  22.4%   2.0    5s\n",
      "   747   533  176.21557   20  676  192.00000  151.81081  20.9%   2.0   11s\n",
      "  1058   667  188.82142   56  232  192.00000  151.81081  20.9%   8.7   15s\n",
      "  1747   923  190.21031   51  279  192.00000  153.48859  20.1%   6.1   22s\n",
      "  2171  1103  170.94414   29  515  192.00000  155.14414  19.2%   5.3   25s\n",
      "  2908  1557  183.94999   46  336  192.00000  156.26637  18.6%   4.5   30s\n",
      "  3467  2009  168.20778   32  480  192.00000  157.36637  18.0%   4.1   35s\n",
      "  4185  2521  186.48808   57  224  192.00000  158.14414  17.6%   3.7   40s\n",
      "  4956  3082  185.31557   36  441  192.00000  158.74414  17.3%   3.5   45s\n",
      "  5698  3571  177.95129   38  424  192.00000  159.14414  17.1%   3.3   51s\n",
      "  6784  4389  172.84414   32  482  192.00000  160.04414  16.6%   3.1   56s\n",
      "  7537  4899  185.60872   45  342  192.00000  160.14414  16.6%   3.0   61s\n",
      "  8412  5505  190.73333   76   41  192.00000  160.74414  16.3%   2.9   66s\n",
      "  9361  6241  166.84414   30  503  192.00000  161.04414  16.1%   2.8   72s\n",
      " 10112  6781  170.60778   32  478  192.00000  161.14414  16.1%   2.7   76s\n",
      " 10890  7395  175.99285   43  359  192.00000  161.84414  15.7%   2.7   82s\n",
      " 11703  7965  172.04414   36  435  192.00000  162.04414  15.6%   2.7   86s\n",
      " 12503  8509  164.84414   28  523  192.00000  162.14414  15.5%   2.6   90s\n",
      " 12904  8623  183.74414   34  459  192.00000  162.38859  15.4%   2.6  101s\n",
      " 13510  9199  189.41905   68  107  192.00000  162.84414  15.2%   2.6  105s\n",
      " 14818 10104  187.65475   54  248  192.00000  162.94414  15.1%   2.5  111s\n",
      " 15671 10630  185.96427   46  329  192.00000  163.04414  15.1%   2.5  117s\n",
      " 16466 11240  184.02921   43  360  192.00000  163.14414  15.0%   2.5  120s\n",
      " 17724 12093  182.70421   39  406  192.00000  163.84414  14.7%   2.4  127s\n",
      " 18576 12689  172.74414   33  470  192.00000  163.94414  14.6%   2.4  131s\n",
      " 19447 13140  189.89414   37  427  192.00000  163.94414  14.6%   2.4  135s\n"
     ]
    },
    {
     "name": "stdout",
     "output_type": "stream",
     "text": [
      " 20288 13686  173.74414   31  490  192.00000  164.04414  14.6%   2.4  140s\n",
      " 20727 13960  180.76914   36  437  192.00000  164.04414  14.6%   2.4  152s\n",
      " 21158 14195  165.04414   25  557  192.00000  164.04414  14.6%   2.4  155s\n",
      " 22788 15265  172.05486   37  428  192.00000  164.74414  14.2%   2.4  160s\n",
      " 24531 16414  165.74414   31  491  192.00000  164.84414  14.1%   2.3  165s\n",
      " 26248 17467  166.74414   29  511  192.00000  164.94414  14.1%   2.3  170s\n",
      " 27918 18523  190.45778   41  378  192.00000  165.14414  14.0%   2.3  176s\n",
      " 29570 19581  174.64414   35  447  192.00000  165.74414  13.7%   2.3  181s\n",
      " 30829 20508  188.82142   42  365  192.00000  165.84414  13.6%   2.3  185s\n",
      " 32246 21377  183.19443   49  299  192.00000  165.84414  13.6%   2.3  191s\n",
      " 33495 22214  166.84414   26  543  192.00000  165.94414  13.6%   2.3  196s\n",
      " 34394 22729  182.67856   45  338  192.00000  165.94414  13.6%   2.3  200s\n",
      "\n",
      "Explored 34804 nodes (85726 simplex iterations) in 200.64 seconds\n",
      "Thread count was 4 (of 4 available processors)\n",
      "\n",
      "Solution count 1: 192 \n",
      "\n",
      "Time limit reached\n",
      "Best objective 1.920000000000e+02, best bound 1.660000000000e+02, gap 13.5417%\n",
      "Changed value of parameter TimeLimit to 200.0\n",
      "   Prev: inf  Min: 0.0  Max: inf  Default: inf\n",
      "Gurobi Optimizer version 9.1.2 build v9.1.2rc0 (mac64)\n",
      "Thread count: 2 physical cores, 4 logical processors, using up to 4 threads\n",
      "Optimize a model with 10966 rows, 361602 columns and 1274897 nonzeros\n",
      "Model fingerprint: 0xaaa83a2b\n",
      "Model has 3654 quadratic objective terms\n",
      "Model has 3654 quadratic constraints\n",
      "Variable types: 0 continuous, 361602 integer (350640 binary)\n",
      "Coefficient statistics:\n",
      "  Matrix range     [1e+00, 1e+00]\n",
      "  QMatrix range    [1e+00, 1e+00]\n",
      "  Objective range  [0e+00, 0e+00]\n",
      "  QObjective range [2e+00, 2e+00]\n",
      "  Bounds range     [1e+00, 4e+02]\n",
      "  RHS range        [1e+00, 4e+02]\n",
      "  QRHS range       [1e+00, 1e+00]\n",
      "Presolve removed 7314 rows and 355494 columns\n",
      "Presolve time: 0.60s\n",
      "Presolved: 3652 rows, 6108 columns, 12215 nonzeros\n",
      "Presolved model has 3652 quadratic objective terms\n",
      "Variable types: 0 continuous, 6108 integer (2456 binary)\n",
      "\n",
      "Root relaxation: objective 7.707976e+01, 7983 iterations, 0.29 seconds\n",
      "\n",
      "    Nodes    |    Current Node    |     Objective Bounds      |     Work\n",
      " Expl Unexpl |  Obj  Depth IntInf | Incumbent    BestBd   Gap | It/Node Time\n",
      "\n",
      "     0     0   77.07976    0  486          -   77.07976      -     -    1s\n",
      "H    0     0                     113.0000000   77.07976  31.8%     -    1s\n",
      "     0     0   77.07976    0  486  113.00000   77.07976  31.8%     -    2s\n",
      "     0     2   77.07976    0  486  113.00000   77.07976  31.8%     -    3s\n",
      "   280   176  100.43730   19  316  113.00000   83.74048  25.9%   2.0    5s\n",
      "   755   443   85.90119   15  445  113.00000   85.90119  24.0%  12.6   10s\n",
      "  1963   829   93.89921   22  380  113.00000   88.02619  22.1%   6.1   15s\n",
      "  3280  1712   94.04206   20  398  113.00000   89.74048  20.6%   4.4   20s\n",
      "  4683  2650   99.39921   25  354  113.00000   91.31190  19.2%   3.7   25s\n",
      "  5986  3370  111.62143   50  143  113.00000   91.88333  18.7%   3.3   30s\n",
      "  7302  4302   94.39921   23  370  113.00000   92.59762  18.1%   3.1   35s\n",
      "  8785  5239  108.74841   42  219  113.00000   93.02619  17.7%   2.9   41s\n",
      "  9820  5823  107.93730   34  282  113.00000   93.47063  17.3%   2.8   45s\n",
      " 11755  7087  104.87063   38  252  113.00000   93.97063  16.8%   2.7   50s\n",
      " 12996  7683  111.25238   46  179  113.00000   94.38333  16.5%   2.6   57s\n",
      " 13987  8407  103.80397   34  281  113.00000   94.47063  16.4%   2.6   60s\n",
      " 16091  9654  103.07063   37  259  113.00000   94.89921  16.0%   2.5   66s\n",
      " 18200 10775  109.07063   37  259  113.00000   95.38333  15.6%   2.4   71s\n",
      " 19902 11670  106.27063   36  266  113.00000   95.47063  15.5%   2.4   75s\n",
      " 20718 12147  104.47063   27  337  113.00000   95.82778  15.2%   2.4   85s\n",
      " 22836 13346  111.44048   55  102  113.00000   95.97063  15.1%   2.4   91s\n",
      " 24455 14239  111.47063   40  238  113.00000   96.18333  14.9%   2.3   95s\n",
      " 26106 15122  109.87063   38  252  113.00000   96.47063  14.6%   2.3  100s\n",
      " 28483 16202  109.01190   51  135  113.00000   96.47063  14.6%   2.3  105s\n",
      " 30535 17264  111.98810   51  134  113.00000   96.75476  14.4%   2.3  110s\n",
      " 32230 18244   97.32778   21  389  113.00000   96.88333  14.3%   2.3  115s\n",
      " 34012 19170  110.26032   46  180  113.00000   96.97063  14.2%   2.2  120s\n",
      " 35688 19915  107.69643   49  152  113.00000   96.97063  14.2%   2.2  125s\n",
      " 37373 20743  109.60397   35  274  113.00000   97.25476  13.9%   2.2  130s\n",
      " 39435 21919  101.63730   27  337  113.00000   97.38333  13.8%   2.2  135s\n",
      " 40689 22718  108.98175   39  241  113.00000   97.47063  13.7%   2.2  140s\n",
      " 42326 23586  107.47063   35  273  113.00000   97.47063  13.7%   2.2  146s\n",
      " 44341 24620  103.80397   34  281  113.00000   97.47063  13.7%   2.2  151s\n",
      " 46018 25488  111.75437   49  156  113.00000   97.80397  13.4%   2.2  155s\n",
      " 47271 26202  102.80397   31  305  113.00000   97.89921  13.4%   2.2  160s\n",
      " 48917 27194  107.27063   36  266  113.00000   97.97063  13.3%   2.2  165s\n",
      " 50625 28024  111.18294   45  192  113.00000   97.97063  13.3%   2.2  170s\n",
      " 52230 28798  111.07063   37  259  113.00000   97.97063  13.3%   2.2  175s\n",
      " 53952 29808  110.75357   50  156  113.00000   98.12143  13.2%   2.2  180s\n",
      " 56055 30763  109.74841   42  219  113.00000   98.30397  13.0%   2.1  186s\n",
      " 57338 31491  103.47063   29  321  113.00000   98.38333  12.9%   2.1  190s\n",
      " 59007 32414  107.13730   30  313  113.00000   98.39921  12.9%   2.1  198s\n",
      " 59828 32730  111.45833   53  123  113.00000   98.47063  12.9%   2.1  200s\n",
      "\n",
      "Explored 59927 nodes (136097 simplex iterations) in 201.09 seconds\n",
      "Thread count was 4 (of 4 available processors)\n",
      "\n",
      "Solution count 1: 113 \n",
      "\n",
      "Time limit reached\n",
      "Best objective 1.130000000000e+02, best bound 9.900000000000e+01, gap 12.3894%\n",
      "Changed value of parameter TimeLimit to 200.0\n",
      "   Prev: inf  Min: 0.0  Max: inf  Default: inf\n",
      "Gurobi Optimizer version 9.1.2 build v9.1.2rc0 (mac64)\n",
      "Thread count: 2 physical cores, 4 logical processors, using up to 4 threads\n",
      "Optimize a model with 10966 rows, 361602 columns and 1284601 nonzeros\n",
      "Model fingerprint: 0x5b4dd87b\n",
      "Model has 3654 quadratic objective terms\n",
      "Model has 3654 quadratic constraints\n",
      "Variable types: 0 continuous, 361602 integer (350640 binary)\n",
      "Coefficient statistics:\n",
      "  Matrix range     [1e+00, 1e+00]\n",
      "  QMatrix range    [1e+00, 1e+00]\n",
      "  Objective range  [0e+00, 0e+00]\n",
      "  QObjective range [2e+00, 2e+00]\n",
      "  Bounds range     [1e+00, 4e+02]\n",
      "  RHS range        [1e+00, 4e+02]\n",
      "  QRHS range       [1e+00, 1e+00]\n",
      "Presolve removed 7348 rows and 356169 columns\n",
      "Presolve time: 0.59s\n",
      "Presolved: 3618 rows, 5433 columns, 10865 nonzeros\n",
      "Presolved model has 3618 quadratic objective terms\n",
      "Variable types: 0 continuous, 5433 integer (1815 binary)\n",
      "\n",
      "Root relaxation: objective 1.851056e+02, 6859 iterations, 0.21 seconds\n",
      "\n",
      "    Nodes    |    Current Node    |     Objective Bounds      |     Work\n",
      " Expl Unexpl |  Obj  Depth IntInf | Incumbent    BestBd   Gap | It/Node Time\n",
      "\n",
      "     0     0  185.10557    0 1136          -  185.10557      -     -    1s\n",
      "H    0     0                     246.0000000  185.10557  24.8%     -    1s\n",
      "     0     0  185.53994    0  724  246.00000  185.53994  24.6%     -    1s\n",
      "     0     0  185.53994    0  724  246.00000  185.53994  24.6%     -    1s\n",
      "     0     2  185.53994    0  724  246.00000  185.53994  24.6%     -    2s\n",
      "   582   485  242.94960   47  174  246.00000  197.56266  19.7%   2.0    5s\n",
      "   898   710  219.03171   34  456  246.00000  198.83539  19.2%   9.3   10s\n",
      "  1774  1120  236.64600   40  398  246.00000  200.43539  18.5%   5.7   15s\n",
      "  2424  1365  242.52103   59  183  246.00000  201.83539  18.0%   4.8   20s\n",
      "  3231  1959  242.02103   60  177  246.00000  203.43539  17.3%   4.1   25s\n",
      "  4044  2531  238.13214   54  235  246.00000  205.03539  16.7%   3.7   30s\n",
      "  4970  3176  241.77183   51  272  246.00000  205.78539  16.3%   3.4   36s\n",
      "  5868  3908  228.82781   36  442  246.00000  206.61317  16.0%   3.2   40s\n",
      "  6522  4358  242.66071   53  250  246.00000  207.34448  15.7%   3.1   45s\n",
      "  7486  5092  222.22781   29  521  246.00000  207.94448  15.5%   2.9   50s\n",
      "  8691  5938  213.89448   26  554  246.00000  208.63994  15.2%   2.8   55s\n",
      " 10065  6920  218.47226   29  519  246.00000  209.38539  14.9%   2.7   61s\n"
     ]
    },
    {
     "name": "stdout",
     "output_type": "stream",
     "text": [
      " 11677  8022  241.50516   53  243  246.00000  210.08994  14.6%   2.6   65s\n",
      " 12889  8667  225.64600   34  460  246.00000  210.54448  14.4%   2.6   76s\n",
      " 13857  9534  229.82781   35  453  246.00000  210.86771  14.3%   2.5   80s\n",
      " 15530 10711  239.44960   55  222  246.00000  211.14448  14.2%   2.5   85s\n",
      " 17162 11828  239.69708   51  267  246.00000  211.54448  14.0%   2.4   90s\n",
      " 18815 12917  235.64600   40  398  246.00000  212.08994  13.8%   2.4   95s\n",
      " 20429 13954  241.63647   43  356  246.00000  212.54448  13.6%   2.4  100s\n",
      " 20853 14252  223.82781   33  473  246.00000  212.54448  13.6%   2.4  109s\n",
      " 21269 14505  239.63647   45  336  246.00000  212.67226  13.5%   2.4  110s\n",
      " 22907 15571  225.82781   35  452  246.00000  213.01317  13.4%   2.3  115s\n",
      " 25340 17135  218.14448   25  568  246.00000  213.34448  13.3%   2.3  120s\n",
      " 26985 18181  243.94960   56  212  246.00000  213.54448  13.2%   2.3  126s\n",
      " 28548 19224  229.26504   39  398  246.00000  213.85004  13.1%   2.3  130s\n",
      " 30181 20269  226.93171   37  422  246.00000  214.04448  13.0%   2.3  135s\n",
      " 31801 21318  230.26504   40  388  246.00000  214.23994  12.9%   2.3  141s\n",
      " 32981 22051  243.23647   45  338  246.00000  214.34448  12.9%   2.3  146s\n",
      " 34643 23085  238.23647   41  378  246.00000  214.54448  12.8%   2.2  151s\n",
      " 35407 23587  235.32738   48  299  246.00000  214.67226  12.7%   2.2  155s\n",
      " 37027 24642  241.06071   52  254  246.00000  214.83994  12.7%   2.2  161s\n",
      " 38245 25372  229.64600   35  449  246.00000  214.94448  12.6%   2.2  165s\n",
      " 39888 26375  237.55076   43  359  246.00000  215.14448  12.5%   2.2  170s\n",
      " 41082 27137  244.09246   65  132  246.00000  215.26771  12.5%   2.2  175s\n",
      " 42283 27826  229.93171   38  412  246.00000  215.32226  12.5%   2.2  181s\n",
      " 43572 28670  229.64600   37  430  246.00000  215.54448  12.4%   2.2  185s\n",
      " 44847 29401  221.82781   33  473  246.00000  215.57226  12.4%   2.2  190s\n",
      " 46037 30132  231.93171   40  392  246.00000  215.68994  12.3%   2.2  195s\n",
      " 47709 31021  235.93171   37  422  246.00000  215.85004  12.3%   2.2  200s\n",
      "\n",
      "Explored 47975 nodes (111999 simplex iterations) in 200.70 seconds\n",
      "Thread count was 4 (of 4 available processors)\n",
      "\n",
      "Solution count 1: 246 \n",
      "\n",
      "Time limit reached\n",
      "Best objective 2.460000000000e+02, best bound 2.160000000000e+02, gap 12.1951%\n",
      "Changed value of parameter TimeLimit to 200.0\n",
      "   Prev: inf  Min: 0.0  Max: inf  Default: inf\n",
      "Gurobi Optimizer version 9.1.2 build v9.1.2rc0 (mac64)\n",
      "Thread count: 2 physical cores, 4 logical processors, using up to 4 threads\n",
      "Optimize a model with 10966 rows, 361602 columns and 1280311 nonzeros\n",
      "Model fingerprint: 0x854f048e\n",
      "Model has 3654 quadratic objective terms\n",
      "Model has 3654 quadratic constraints\n",
      "Variable types: 0 continuous, 361602 integer (350640 binary)\n",
      "Coefficient statistics:\n",
      "  Matrix range     [1e+00, 1e+00]\n",
      "  QMatrix range    [1e+00, 1e+00]\n",
      "  Objective range  [0e+00, 0e+00]\n",
      "  QObjective range [2e+00, 2e+00]\n",
      "  Bounds range     [1e+00, 4e+02]\n",
      "  RHS range        [1e+00, 4e+02]\n",
      "  QRHS range       [1e+00, 1e+00]\n",
      "Presolve removed 7314 rows and 355274 columns\n",
      "Presolve time: 0.58s\n",
      "Presolved: 3652 rows, 6328 columns, 12655 nonzeros\n",
      "Presolved model has 3652 quadratic objective terms\n",
      "Variable types: 0 continuous, 6328 integer (2676 binary)\n",
      "\n",
      "Root relaxation: objective 5.774167e+01, 8720 iterations, 0.32 seconds\n",
      "\n",
      "    Nodes    |    Current Node    |     Objective Bounds      |     Work\n",
      " Expl Unexpl |  Obj  Depth IntInf | Incumbent    BestBd   Gap | It/Node Time\n",
      "\n",
      "     0     0   57.74167    0  380          -   57.74167      -     -    1s\n",
      "H    0     0                      88.0000000   57.74167  34.4%     -    1s\n",
      "     0     0   57.74167    0  380   88.00000   57.74167  34.4%     -    2s\n",
      "     0     2   57.74167    0  380   88.00000   57.74167  34.4%     -    3s\n",
      "   435   267   86.00000   40   63   88.00000   64.43810  26.8%   2.0    5s\n",
      "   925   553   84.72857   35  173   88.00000   66.72381  24.2%  11.4   10s\n",
      "  2756  1253   86.55000   46   82   88.00000   68.79524  21.8%   5.2   15s\n",
      "  4186  2168   84.32143   45   96   88.00000   70.22381  20.2%   4.1   20s\n",
      "  5685  3099   86.15000   43  102   88.00000   70.79524  19.6%   3.5   25s\n",
      "  7317  4022   86.60714   40  125   88.00000   71.79524  18.4%   3.2   31s\n",
      "  8910  4876   77.62857   20  284   88.00000   72.29524  17.8%   3.0   35s\n",
      " 10777  5849   84.48214   39  135   88.00000   72.79524  17.3%   2.8   40s\n",
      " 12821  6802   78.79524   25  244   88.00000   73.29524  16.7%   2.7   47s\n",
      " 13359  7289   85.72857   29  214   88.00000   73.29524  16.7%   2.7   50s\n",
      " 15559  8405   81.12857   32  193   88.00000   73.79524  16.1%   2.6   55s\n",
      " 17341  9333   85.55000   46   82   88.00000   73.92857  16.0%   2.5   60s\n",
      " 19472 10416   84.32857   31  200   88.00000   74.29524  15.6%   2.4   66s\n",
      " 20760 11067   85.55000   40  123   88.00000   74.46190  15.4%   2.4   79s\n",
      " 21243 11255   86.75000   46   81   88.00000   74.46190  15.4%   2.4   80s\n",
      " 23411 12235   85.72857   34  179   88.00000   74.79524  15.0%   2.4   85s\n",
      " 25631 13300   86.72857   29  214   88.00000   75.12857  14.6%   2.3   90s\n",
      " 27761 14317   82.92857   33  186   88.00000   75.26190  14.5%   2.3   95s\n",
      " 29389 15161   82.32857   31  200   88.00000   75.46190  14.2%   2.3  101s\n",
      " 30800 15977   82.12857   27  228   88.00000   75.46190  14.2%   2.3  105s\n",
      " 32986 17056   86.52857   30  207   88.00000   75.79524  13.9%   2.3  111s\n",
      " 34813 18058   76.12857   21  276   88.00000   75.79524  13.9%   2.3  115s\n",
      " 36440 18927   87.00000   48   69   88.00000   76.12857  13.5%   2.2  120s\n",
      " 38510 20084   76.79524   22  268   88.00000   76.12857  13.5%   2.2  125s\n",
      " 40692 21139   83.26190   27  229   88.00000   76.29524  13.3%   2.2  130s\n",
      " 42222 22058   81.32857   31  200   88.00000   76.46190  13.1%   2.2  135s\n",
      " 44427 23283   85.12857   32  193   88.00000   76.46190  13.1%   2.2  140s\n",
      " 46122 24080   80.59524   26  237   88.00000   76.59524  13.0%   2.2  146s\n",
      " 48243 25207   77.46190   23  260   88.00000   76.79524  12.7%   2.2  151s\n",
      " 49913 26092   80.12857   24  252   88.00000   76.79524  12.7%   2.2  155s\n",
      " 51193 26817   86.32857   31  200   88.00000   76.79524  12.7%   2.2  160s\n",
      " 53280 27767   84.72857   29  214   88.00000   77.09524  12.4%   2.2  165s\n",
      " 54813 28558   84.72857   34  179   88.00000   77.12857  12.4%   2.2  170s\n",
      " 57003 29662   83.52857   30  207   88.00000   77.12857  12.4%   2.2  175s\n",
      " 58735 30563   80.32857   31  200   88.00000   77.26190  12.2%   2.1  180s\n",
      " 60511 31515   82.72857   29  214   88.00000   77.46190  12.0%   2.1  186s\n",
      " 62321 32388   79.46190   26  236   88.00000   77.46190  12.0%   2.1  190s\n",
      " 64494 33346   86.52857   30  207   88.00000   77.46190  12.0%   2.1  196s\n",
      " 66155 33901   79.72857   29  214   88.00000   77.59524  11.8%   2.1  200s\n",
      "\n",
      "Explored 66169 nodes (149817 simplex iterations) in 200.66 seconds\n",
      "Thread count was 4 (of 4 available processors)\n",
      "\n",
      "Solution count 1: 88 \n",
      "\n",
      "Time limit reached\n",
      "Best objective 8.800000000000e+01, best bound 7.800000000000e+01, gap 11.3636%\n"
     ]
    }
   ],
   "source": [
    "schedules = []\n",
    "for name in list(locations.keys())[:-1]:\n",
    "    schedules.append(sdd.best_night(name))"
   ]
  },
  {
   "cell_type": "code",
   "execution_count": 5,
   "id": "f87a43f0",
   "metadata": {},
   "outputs": [
    {
     "data": {
      "text/plain": [
       "'EDFS_a'"
      ]
     },
     "execution_count": 5,
     "metadata": {},
     "output_type": "execute_result"
    }
   ],
   "source": [
    "name"
   ]
  },
  {
   "cell_type": "code",
   "execution_count": 6,
   "id": "4ae7f746",
   "metadata": {},
   "outputs": [
    {
     "data": {
      "text/plain": [
       "['ELAISS1', 'XMM_LSS', 'ECDFS', 'COSMOS', 'EDFS_a', 'EDFS_b']"
      ]
     },
     "execution_count": 6,
     "metadata": {},
     "output_type": "execute_result"
    }
   ],
   "source": [
    "list(locations.keys())"
   ]
  },
  {
   "cell_type": "code",
   "execution_count": 7,
   "id": "477f5875",
   "metadata": {},
   "outputs": [
    {
     "data": {
      "text/plain": [
       "Text(0, 0.5, '5-sigma depth')"
      ]
     },
     "execution_count": 7,
     "metadata": {},
     "output_type": "execute_result"
    },
    {
     "data": {
      "image/png": "[encoded data removed]",
      "text/plain": [
       "<Figure size 432x288 with 1 Axes>"
      ]
     },
     "metadata": {
      "needs_background": "light"
     },
     "output_type": "display_data"
    }
   ],
   "source": [
    "sched = schedules[-1]\n",
    "plt.plot(sdd.ddf_grid['mjd'], sdd.ddf_grid['EDFS_a_m5_g'])\n",
    "good = np.where(sched == 1)[0]\n",
    "plt.plot(sdd.ddf_grid['mjd'][good], sdd.ddf_grid['EDFS_a_m5_g'][good], 'ko')\n",
    "plt.ylim([23.5,25])\n",
    "plt.xlabel('MJD')\n",
    "plt.ylabel('5-sigma depth')"
   ]
  },
  {
   "cell_type": "code",
   "execution_count": 8,
   "id": "2254b24c",
   "metadata": {},
   "outputs": [
    {
     "data": {
      "text/plain": [
       "(61200.0, 61600.0)"
      ]
     },
     "execution_count": 8,
     "metadata": {},
     "output_type": "execute_result"
    },
    {
     "data": {
      "image/png": "[encoded data removed]",
      "text/plain": [
       "<Figure size 432x288 with 1 Axes>"
      ]
     },
     "metadata": {
      "needs_background": "light"
     },
     "output_type": "display_data"
    }
   ],
   "source": [
    "plt.plot(sdd.ddf_grid['mjd'], sdd.ddf_grid['EDFS_a_m5_g'])\n",
    "good = np.where(sched == 1)[0]\n",
    "plt.plot(sdd.ddf_grid['mjd'][good], sdd.ddf_grid['EDFS_a_m5_g'][good], 'ko')\n",
    "plt.ylim([23.5,25])\n",
    "plt.xlabel('MJD')\n",
    "plt.ylabel('5-sigma depth')\n",
    "plt.xlim([61200,61600])"
   ]
  },
  {
   "cell_type": "code",
   "execution_count": 9,
   "id": "c7e0eb95",
   "metadata": {},
   "outputs": [
    {
     "data": {
      "text/plain": [
       "(61250.0, 61350.0)"
      ]
     },
     "execution_count": 9,
     "metadata": {},
     "output_type": "execute_result"
    },
    {
     "data": {
      "image/png": "[encoded data removed]",
      "text/plain": [
       "<Figure size 432x288 with 1 Axes>"
      ]
     },
     "metadata": {
      "needs_background": "light"
     },
     "output_type": "display_data"
    }
   ],
   "source": [
    "plt.plot(sdd.ddf_grid['mjd'], sdd.ddf_grid['EDFS_a_m5_g'])\n",
    "good = np.where(sched == 1)[0]\n",
    "plt.plot(sdd.ddf_grid['mjd'][good], sdd.ddf_grid['EDFS_a_m5_g'][good], 'ko')\n",
    "plt.ylim([23.5,25])\n",
    "plt.xlabel('MJD')\n",
    "plt.ylabel('5-sigma depth')\n",
    "plt.xlim([61250,61350])"
   ]
  },
  {
   "cell_type": "code",
   "execution_count": 10,
   "id": "d749e71c",
   "metadata": {},
   "outputs": [
    {
     "data": {
      "text/plain": [
       "[<matplotlib.lines.Line2D at 0x145169700>]"
      ]
     },
     "execution_count": 10,
     "metadata": {},
     "output_type": "execute_result"
    },
    {
     "data": {
      "image/png": "[encoded data removed]",
      "text/plain": [
       "<Figure size 432x288 with 1 Axes>"
      ]
     },
     "metadata": {
      "needs_background": "light"
     },
     "output_type": "display_data"
    }
   ],
   "source": [
    "plt.plot(sdd.ddf_grid['mjd'], sdd.ddf_grid['COSMOS_sky_g'])\n"
   ]
  },
  {
   "cell_type": "code",
   "execution_count": null,
   "id": "0a467eb0",
   "metadata": {},
   "outputs": [],
   "source": []
  }
 ],
 "metadata": {
  "kernelspec": {
   "display_name": "Python 3 (ipykernel)",
   "language": "python",
   "name": "python3"
  },
  "language_info": {
   "codemirror_mode": {
    "name": "ipython",
    "version": 3
   },
   "file_extension": ".py",
   "mimetype": "text/x-python",
   "name": "python",
   "nbconvert_exporter": "python",
   "pygments_lexer": "ipython3",
   "version": "3.9.7"
  }
 },
 "nbformat": 4,
 "nbformat_minor": 5
}
