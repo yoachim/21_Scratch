{
 "cells": [
  {
   "cell_type": "code",
   "execution_count": 1,
   "id": "1aa58076",
   "metadata": {},
   "outputs": [],
   "source": [
    "# asked about basic gurobi on stack overflow and got good answer here:  https://stackoverflow.com/questions/67186762/modifying-gurobi-objective-function-for-mip-scheduling-problem-in-python"
   ]
  },
  {
   "cell_type": "code",
   "execution_count": 2,
   "id": "47669452",
   "metadata": {},
   "outputs": [
    {
     "name": "stdout",
     "output_type": "stream",
     "text": [
      "Academic license - for non-commercial use only - expires 2021-06-18\n",
      "Using license file /Users/yoachim/Dropbox/Apps/Gurobi/gurobi.lic\n",
      "Gurobi Optimizer version 9.1.1 build v9.1.1rc0 (mac64)\n",
      "Thread count: 2 physical cores, 4 logical processors, using up to 4 threads\n",
      "Optimize a model with 1 rows, 10 columns and 10 nonzeros\n",
      "Model fingerprint: 0x82206c69\n",
      "Model has 6 quadratic objective terms\n",
      "Model has 9 quadratic constraints\n",
      "Variable types: 0 continuous, 10 integer (10 binary)\n",
      "Coefficient statistics:\n",
      "  Matrix range     [1e+00, 1e+00]\n",
      "  QMatrix range    [1e+00, 1e+00]\n",
      "  Objective range  [1e+00, 1e+01]\n",
      "  QObjective range [4e+01, 4e+01]\n",
      "  Bounds range     [1e+00, 1e+00]\n",
      "  RHS range        [3e+00, 3e+00]\n",
      "Presolve added 9 rows and 0 columns\n",
      "Presolve time: 0.00s\n",
      "Presolved: 16 rows, 16 columns, 46 nonzeros\n",
      "Variable types: 0 continuous, 16 integer (16 binary)\n",
      "Found heuristic solution: objective -9.0000000\n",
      "Found heuristic solution: objective -11.0000000\n",
      "\n",
      "Root relaxation: objective -2.500000e+01, 7 iterations, 0.00 seconds\n",
      "\n",
      "    Nodes    |    Current Node    |     Objective Bounds      |     Work\n",
      " Expl Unexpl |  Obj  Depth IntInf | Incumbent    BestBd   Gap | It/Node Time\n",
      "\n",
      "*    0     0               0     -25.0000000  -25.00000  0.00%     -    0s\n",
      "\n",
      "Explored 0 nodes (7 simplex iterations) in 0.17 seconds\n",
      "Thread count was 4 (of 4 available processors)\n",
      "\n",
      "Solution count 3: -25 -11 -9 \n",
      "No other solutions better than -25\n",
      "\n",
      "Optimal solution found (tolerance 1.00e-04)\n",
      "Best objective -2.500000000000e+01, best bound -2.500000000000e+01, gap 0.0000%\n",
      "[1.0, 0.0, 0.0, 0.0, 1.0, 0.0, 0.0, 0.0, 1.0, 0.0]\n"
     ]
    }
   ],
   "source": [
    "import numpy as np\n",
    "import gurobipy as gp\n",
    "from gurobipy import GRB\n",
    "\n",
    "m = gp.Model(\"example\")\n",
    "days = np.arange(10)\n",
    "sched = m.addMVar(10, vtype=GRB.BINARY)\n",
    "# Demand 3 times\n",
    "m.addConstr(sched.sum() == 3)\n",
    "# Constrain that can't schedule consecutive time slots\n",
    "m.addConstrs(sched[i+1] @ sched[i] == 0 for i in range(9))\n",
    "# Cost increases linearly with time\n",
    "cost = np.arange(1, 11)\n",
    "# Objective function\n",
    "m.setObjective(sched @ cost - sched[:6]@sched[4:]*20, GRB.MINIMIZE)\n",
    "\n",
    "m.optimize()\n",
    "print(m.X)"
   ]
  },
  {
   "cell_type": "code",
   "execution_count": null,
   "id": "40e1f446",
   "metadata": {},
   "outputs": [],
   "source": []
  },
  {
   "cell_type": "code",
   "execution_count": 3,
   "id": "e923bb50",
   "metadata": {},
   "outputs": [
    {
     "data": {
      "text/plain": [
       "(array([1., 0., 0., 0., 1., 0.]), array([1., 0., 0., 0., 1., 0.]))"
      ]
     },
     "execution_count": 3,
     "metadata": {},
     "output_type": "execute_result"
    }
   ],
   "source": [
    "sched[:6].X, sched[4:].X"
   ]
  },
  {
   "cell_type": "code",
   "execution_count": null,
   "id": "70e93238",
   "metadata": {},
   "outputs": [],
   "source": []
  },
  {
   "cell_type": "code",
   "execution_count": 4,
   "id": "ee62bf07",
   "metadata": {},
   "outputs": [
    {
     "data": {
      "text/plain": [
       "<(6,) matrix variable>"
      ]
     },
     "execution_count": 4,
     "metadata": {},
     "output_type": "execute_result"
    }
   ],
   "source": [
    "sched[:6]"
   ]
  },
  {
   "cell_type": "code",
   "execution_count": 5,
   "id": "968fa4d6",
   "metadata": {},
   "outputs": [
    {
     "data": {
      "text/plain": [
       "<(6,) matrix variable>"
      ]
     },
     "execution_count": 5,
     "metadata": {},
     "output_type": "execute_result"
    }
   ],
   "source": [
    "sched[:6]"
   ]
  },
  {
   "cell_type": "code",
   "execution_count": 6,
   "id": "4035b859",
   "metadata": {},
   "outputs": [
    {
     "name": "stdout",
     "output_type": "stream",
     "text": [
      "Gurobi Optimizer version 9.1.1 build v9.1.1rc0 (mac64)\n",
      "Thread count: 2 physical cores, 4 logical processors, using up to 4 threads\n",
      "Optimize a model with 1 rows, 10 columns and 10 nonzeros\n",
      "Model fingerprint: 0x82206c69\n",
      "Model has 6 quadratic objective terms\n",
      "Model has 9 quadratic constraints\n",
      "Variable types: 0 continuous, 10 integer (10 binary)\n",
      "Coefficient statistics:\n",
      "  Matrix range     [1e+00, 1e+00]\n",
      "  QMatrix range    [1e+00, 1e+00]\n",
      "  Objective range  [1e+00, 1e+01]\n",
      "  QObjective range [4e+01, 4e+01]\n",
      "  Bounds range     [1e+00, 1e+00]\n",
      "  RHS range        [3e+00, 3e+00]\n",
      "Presolve added 9 rows and 0 columns\n",
      "Presolve time: 0.00s\n",
      "Presolved: 16 rows, 16 columns, 46 nonzeros\n",
      "Variable types: 0 continuous, 16 integer (16 binary)\n",
      "Found heuristic solution: objective -9.0000000\n",
      "Found heuristic solution: objective -11.0000000\n",
      "\n",
      "Root relaxation: objective -2.500000e+01, 7 iterations, 0.00 seconds\n",
      "\n",
      "    Nodes    |    Current Node    |     Objective Bounds      |     Work\n",
      " Expl Unexpl |  Obj  Depth IntInf | Incumbent    BestBd   Gap | It/Node Time\n",
      "\n",
      "*    0     0               0     -25.0000000  -25.00000  0.00%     -    0s\n",
      "\n",
      "Explored 0 nodes (7 simplex iterations) in 0.09 seconds\n",
      "Thread count was 4 (of 4 available processors)\n",
      "\n",
      "Solution count 3: -25 -11 -9 \n",
      "No other solutions better than -25\n",
      "\n",
      "Optimal solution found (tolerance 1.00e-04)\n",
      "Best objective -2.500000000000e+01, best bound -2.500000000000e+01, gap 0.0000%\n",
      "[1.0, 0.0, 0.0, 0.0, 1.0, 0.0, 0.0, 0.0, 1.0, 0.0]\n"
     ]
    }
   ],
   "source": [
    "m = gp.Model(\"example\")\n",
    "days = np.arange(10)\n",
    "sched = m.addMVar(10, vtype=GRB.BINARY)\n",
    "# Demand 3 times\n",
    "m.addConstr(sched.sum() == 3)\n",
    "# Constrain that can't schedule consecutive time slots\n",
    "m.addConstrs(sched[i+1] @ sched[i] == 0 for i in range(9))\n",
    "# Cost increases linearly with time\n",
    "cost = np.arange(1, 11)\n",
    "# Objective function\n",
    "obj1 = sched @ cost\n",
    "obj2 = sched[:6]@sched[4:]*20\n",
    "m.setObjective(obj1 - obj2 , GRB.MINIMIZE)\n",
    "\n",
    "m.optimize()\n",
    "print(m.X)"
   ]
  },
  {
   "cell_type": "code",
   "execution_count": null,
   "id": "9c6b4156",
   "metadata": {},
   "outputs": [],
   "source": []
  }
 ],
 "metadata": {
  "kernelspec": {
   "display_name": "Python 3",
   "language": "python",
   "name": "python3"
  },
  "language_info": {
   "codemirror_mode": {
    "name": "ipython",
    "version": 3
   },
   "file_extension": ".py",
   "mimetype": "text/x-python",
   "name": "python",
   "nbconvert_exporter": "python",
   "pygments_lexer": "ipython3",
   "version": "3.8.8"
  }
 },
 "nbformat": 4,
 "nbformat_minor": 5
}
