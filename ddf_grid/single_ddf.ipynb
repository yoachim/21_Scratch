{
 "cells": [
  {
   "cell_type": "code",
   "execution_count": 1,
   "id": "13b0a9d3",
   "metadata": {},
   "outputs": [],
   "source": [
    "import numpy as np\n",
    "import gurobipy as gp\n",
    "from gurobipy import GRB\n",
    "import scipy.sparse as sp\n",
    "from scipy.stats import binned_statistic\n",
    "import matplotlib.pylab as plt\n",
    "%matplotlib inline"
   ]
  },
  {
   "cell_type": "code",
   "execution_count": 2,
   "id": "fbba7b58",
   "metadata": {},
   "outputs": [],
   "source": [
    "# from MAF. Should eventually go to sims_utils\n",
    "def calcSeason(ra, time):\n",
    "    \"\"\"Calculate the 'season' in the survey for a series of ra/dec/time values of an observation.\n",
    "    Based only on the RA of the point on the sky, it calculates the 'season' based on when this\n",
    "    point would be overhead .. the season is considered +/- 0.5 years around this time.\n",
    "\n",
    "    Parameters\n",
    "    ----------\n",
    "    ra : float\n",
    "        The RA (in degrees) of the point on the sky\n",
    "    time : np.ndarray\n",
    "        The times of the observations, in MJD\n",
    "\n",
    "    Returns\n",
    "    -------\n",
    "    np.ndarray\n",
    "        The season values\n",
    "    \"\"\"\n",
    "    # Reference RA and equinox to anchor ra/season reference - RA = 0 is overhead at autumnal equinox\n",
    "    # autumn equinox 2014 happened on september 23 --> equinox MJD\n",
    "    Equinox = 2456923.5 - 2400000.5\n",
    "    # convert ra into 'days'\n",
    "    dayRA = ra / 360 * 365.25\n",
    "    firstSeasonBegan = Equinox + dayRA - 0.5 * 365.25\n",
    "    seasons = (time - firstSeasonBegan) / 365.25\n",
    "    # Set first season to 0\n",
    "    seasons = seasons - np.floor(np.min(seasons))\n",
    "    return seasons"
   ]
  },
  {
   "cell_type": "code",
   "execution_count": 3,
   "id": "15ab2717",
   "metadata": {},
   "outputs": [],
   "source": [
    "ddf_data = np.load('ddf_grid.npz')\n",
    "ddf_grid = ddf_data['ddf_grid'].copy()\n",
    "\n",
    "# XXX-- double check that I got this right\n",
    "ack = ddf_grid['sun_alt'][0:-1] * ddf_grid['sun_alt'][1:]\n",
    "night = np.zeros(ddf_grid.size, dtype=int)\n",
    "night[np.where((ddf_grid['sun_alt'][1:] >=0) & (ack < 0))] += 1\n",
    "night = np.cumsum(night)"
   ]
  },
  {
   "cell_type": "code",
   "execution_count": 4,
   "id": "df5b019f",
   "metadata": {},
   "outputs": [
    {
     "data": {
      "text/plain": [
       "array([(59853.5       ,  0.35789797, 0.        ,         nan,         nan,  0.        , nan, nan,  0.        ,  0., inf,  0.        ,  0., inf,  0.        ,  0., inf),\n",
       "       (59853.51041667,  0.41360456, 0.        ,         nan,         nan,  0.        , nan, nan,  0.        ,  0., inf,  0.        ,  0., inf,  0.        ,  0., inf),\n",
       "       (59853.52083333,  0.46894875, 0.        ,         nan,         nan,  0.        , nan, nan,  0.        ,  0., inf,  0.        ,  0., inf,  0.        ,  0., inf),\n",
       "       ...,\n",
       "       (63505.96874915, -0.12942338, 0.        ,  0.        ,         inf, -0.        , nan, nan, -0.        , nan, nan, -0.        , nan, nan, -0.        , nan, nan),\n",
       "       (63505.97916582, -0.18569237, 0.        ,  0.        ,         inf, -0.        , nan, nan, -0.        , nan, nan, -0.        , nan, nan, -0.        , nan, nan),\n",
       "       (63505.98958248, -0.24112162, 1.90646443, 20.87839022, 23.56106875, -9.35888477, nan, nan, -8.85712875, nan, nan, -1.36598529, nan, nan, -1.41636139, nan, nan)],\n",
       "      dtype=[('mjd', '<f8'), ('sun_alt', '<f8'), ('DD:ELAISS1_airmass', '<f8'), ('DD:ELAISS1_sky_g', '<f8'), ('DD:ELAISS1_m5_g', '<f8'), ('DD:XMM-LSS_airmass', '<f8'), ('DD:XMM-LSS_sky_g', '<f8'), ('DD:XMM-LSS_m5_g', '<f8'), ('DD:ECDFS_airmass', '<f8'), ('DD:ECDFS_sky_g', '<f8'), ('DD:ECDFS_m5_g', '<f8'), ('DD:COSMOS_airmass', '<f8'), ('DD:COSMOS_sky_g', '<f8'), ('DD:COSMOS_m5_g', '<f8'), ('DD:EDFS_airmass', '<f8'), ('DD:EDFS_sky_g', '<f8'), ('DD:EDFS_m5_g', '<f8')])"
      ]
     },
     "execution_count": 4,
     "metadata": {},
     "output_type": "execute_result"
    }
   ],
   "source": [
    "ddf_grid"
   ]
  },
  {
   "cell_type": "code",
   "execution_count": 5,
   "id": "696d5114",
   "metadata": {},
   "outputs": [
    {
     "data": {
      "text/plain": [
       "14.99999999650754"
      ]
     },
     "execution_count": 5,
     "metadata": {},
     "output_type": "execute_result"
    }
   ],
   "source": [
    "# check what the timestep is\n",
    "24*60*(ddf_grid['mjd'][1] - ddf_grid['mjd'][0])"
   ]
  },
  {
   "cell_type": "code",
   "execution_count": 6,
   "id": "3bd0a8dc",
   "metadata": {},
   "outputs": [],
   "source": [
    "season = calcSeason(9.45, ddf_grid['mjd'])"
   ]
  },
  {
   "cell_type": "code",
   "execution_count": 7,
   "id": "e088dca4",
   "metadata": {},
   "outputs": [
    {
     "data": {
      "text/plain": [
       "array([0.49702173, 0.49705025, 0.49707877, ..., 0.49693617, 0.49696469,\n",
       "       0.49699321])"
      ]
     },
     "execution_count": 7,
     "metadata": {},
     "output_type": "execute_result"
    }
   ],
   "source": [
    "season % 1 # Can set things to be 0 when out of season, and 1 in season. Then do a cumsum, normalize, maybe round."
   ]
  },
  {
   "cell_type": "code",
   "execution_count": 8,
   "id": "dcc5cb30",
   "metadata": {},
   "outputs": [
    {
     "name": "stdout",
     "output_type": "stream",
     "text": [
      "Academic license - for non-commercial use only - expires 2021-06-18\n",
      "Using license file /Users/yoachim/Dropbox/Apps/Gurobi/gurobi.lic\n"
     ]
    }
   ],
   "source": [
    "m = gp.Model(\"try_sched\")"
   ]
  },
  {
   "cell_type": "code",
   "execution_count": 9,
   "id": "2c34c5b4",
   "metadata": {},
   "outputs": [],
   "source": [
    "ngrid = ddf_grid['mjd'].size\n",
    "sun_limit = np.radians(-18.)\n",
    "airmass_limit = 2.1  \n",
    "sky_limit = 22. #20. #21.5 #22.\n",
    "zeropoint = 25.0  # mags\n",
    "sequence_limit = 400 #230\n",
    "pause_time = 13/24.  # days\n",
    "RA = 9.45  # RA of the DDF\n",
    "delta_t = ddf_grid['mjd'][1] - ddf_grid['mjd'][0]\n",
    "\n",
    "# Let's try scheduling just one for now\n",
    "schedule = m.addMVar(ngrid, vtype=GRB.BINARY, name=\"pointing_1\")\n",
    "\n",
    "# set a sun mask\n",
    "sun_mask = np.zeros(ngrid, dtype=bool)\n",
    "sun_mask[np.where(ddf_grid['sun_alt'] >= sun_limit)] = 1\n",
    "\n",
    "airmass_mask = np.zeros(ngrid, dtype=bool)\n",
    "airmass_mask[np.where(ddf_grid['DD:ELAISS1_airmass'] >= airmass_limit)] = 1\n",
    "\n",
    "sky_mask = np.zeros(ngrid, dtype=bool)\n",
    "sky_mask[np.where(ddf_grid['DD:ELAISS1_sky_g'] <= sky_limit)] = 1\n",
    "sky_mask[np.where(np.isnan(ddf_grid['DD:ELAISS1_sky_g']) == True)] = 1\n",
    "\n",
    "# Let's add the constraints\n",
    "m.addConstr(schedule @ sun_mask == 0)\n",
    "m.addConstr(schedule @ airmass_mask == 0)\n",
    "m.addConstr(schedule @ sky_mask == 0)\n",
    "\n",
    "# limit the total number of ddf sequences\n",
    "# HA! Need to set an exact number I think. Or maybe a range.\n",
    "m.addConstr(schedule.sum() == sequence_limit)\n",
    "\n",
    "\n",
    "# prevent a repeat sequence in a night\n",
    "unights, indx = np.unique(night, return_index=True)\n",
    "night_mjd = ddf_grid['mjd'][indx]\n",
    "# The season of each night\n",
    "night_season = calcSeason(RA, night_mjd)\n",
    "sched_night = m.addMVar(unights.size, vtype=GRB.CONTINUOUS)\n",
    "for i,n in enumerate(unights):\n",
    "    in_night = np.where(night == n)[0]\n",
    "    m.addConstr(schedule[in_night]@schedule[in_night] <= 1)\n",
    "    m.addConstr(sched_night[i] == schedule[in_night].sum())"
   ]
  },
  {
   "cell_type": "code",
   "execution_count": 10,
   "id": "1fa0aa08",
   "metadata": {},
   "outputs": [],
   "source": [
    "blank = np.ones(ngrid, dtype=int)\n",
    "blank[np.where(sky_mask == 1)] = 0\n",
    "blank[np.where(airmass_mask == 1)] = 0\n",
    "blank[np.where(sun_mask == 1)] = 0\n",
    "bins = np.arange(np.min(night)-0.5, np.max(night)+1.5)\n",
    "slots_per_night, _be, _bn = binned_statistic(night, blank, statistic=np.sum, bins=bins)\n",
    "\n",
    "# Let's modify so it's equal weight any place there are more than N slots in a night\n",
    "slot_limit = 1\n",
    "slots_per_night[np.where(slots_per_night < slot_limit)] = 0\n",
    "slots_per_night[np.where(slots_per_night >= slot_limit)] = 1\n",
    "\n",
    "\n",
    "# ok, let's forbid 4 day gaps:\n",
    "# that was fun, splits the median peak at 4 into 3 and 5.\n",
    "#m.addConstr(sched_night[:-4]@sched_night[4:] == 0)\n"
   ]
  },
  {
   "cell_type": "code",
   "execution_count": 11,
   "id": "090deff4",
   "metadata": {},
   "outputs": [],
   "source": [
    "#slots_per_night\n",
    "#cumulative_desired = np.cumsum(slots_per_night)\n",
    "#cumulative_desired = cumulative_desired/cumulative_desired.max()*sequence_limit\n",
    "# what happens if I put a floor on this to make my desired one discrete?\n",
    "# Makes it go blazing fast agian, that's for sure!\n",
    "# cumulative_desired = np.round(cumulative_desired)\n",
    "\n",
    "raw_obs = np.ones(unights.size)\n",
    "# take out the ones that are out of season\n",
    "season_mod = night_season % 1\n",
    "# 7.2 month observing season if season_frac = 0.2\n",
    "season_frac = 0.2\n",
    "out_season = np.where((season_mod < season_frac) | (season_mod > (1.-season_frac)))\n",
    "raw_obs[out_season] = 0\n",
    "cumulative_desired = np.cumsum(raw_obs)\n",
    "cumulative_desired = cumulative_desired/cumulative_desired.max()*sequence_limit\n",
    "\n",
    "# Makes it go blazing fast agian, that's for sure!\n",
    "cumulative_desired = np.round(cumulative_desired)\n",
    "\n"
   ]
  },
  {
   "cell_type": "code",
   "execution_count": 12,
   "id": "60429775",
   "metadata": {},
   "outputs": [],
   "source": [
    "# Let's compute the potential energy of the distribution and minimize that\n",
    "position = np.arange(unights.size)\n",
    "# Here's an objective that works\n",
    "#obj = sched_night[:-1]@sched_night[1:] + sched_night[:-2]@sched_night[2:]*0.5 + sched_night[:-3]@sched_night[3:]*(1./3)\n",
    "obj = sched_night[:-1]@sched_night[1:]\n",
    "for i in range(2,5):\n",
    "    obj += sched_night[:-i]@sched_night[i:]*(1./i)\n",
    "\n",
    "\n",
    "# Compute t_eff, something we want to maximize\n",
    "t_eff = 10.**(.08*(ddf_grid['DD:ELAISS1_m5_g']-zeropoint))\n",
    "t_eff[np.where(np.isnan(t_eff) == True)] = 0\n",
    "t_eff[np.where(np.isinf(t_eff) == True)] = 0\n"
   ]
  },
  {
   "cell_type": "code",
   "execution_count": 13,
   "id": "c6a3eb9f",
   "metadata": {},
   "outputs": [],
   "source": [
    "\n",
    "# Cumulative number of scheduled events (by night, to avoid huge loop)\n",
    "cumulative_sched = m.addMVar(unights.size, vtype=GRB.CONTINUOUS)\n",
    "cumulative_diff = m.addMVar(unights.size, vtype=GRB.CONTINUOUS, lb=-sequence_limit, ub=sequence_limit)\n",
    "\n",
    "cumulative_dmax = m.addMVar(unights.size, vtype=GRB.CONTINUOUS)\n",
    "\n",
    "\n",
    "m.addConstr(cumulative_sched[0] == sched_night[0])\n",
    "\n",
    "#linear_cumulative = np.arange(unights.size)\n",
    "#linear_cumulative = linear_cumulative/np.max(linear_cumulative) * sequence_limit\n",
    "#m.addConstr(cumulative_diff[0] == cumulative_sched[0] - linear_cumulative[0])\n",
    "m.addConstr(cumulative_diff[0] == cumulative_sched[0] - cumulative_desired[0])\n",
    "\n",
    "\n",
    "for i in np.arange(1,unights.size):\n",
    "    m.addConstr(cumulative_sched[i] == cumulative_sched[i-1]+sched_night[i])\n",
    "    m.addConstr(cumulative_diff[i] == cumulative_sched[i] - cumulative_desired[i])\n",
    "    "
   ]
  },
  {
   "cell_type": "code",
   "execution_count": 14,
   "id": "bd127676",
   "metadata": {},
   "outputs": [
    {
     "data": {
      "text/plain": [
       "(21.0, 23.0)"
      ]
     },
     "execution_count": 14,
     "metadata": {},
     "output_type": "execute_result"
    },
    {
     "data": {
      "image/png": "[encoded data removed]",
      "text/plain": [
       "<Figure size 432x288 with 1 Axes>"
      ]
     },
     "metadata": {
      "needs_background": "light"
     },
     "output_type": "display_data"
    }
   ],
   "source": [
    "plt.plot(ddf_grid['mjd'], ddf_grid['DD:ELAISS1_sky_g'])\n",
    "plt.ylim([21,23])"
   ]
  },
  {
   "cell_type": "code",
   "execution_count": null,
   "id": "50b9eeb9",
   "metadata": {},
   "outputs": [],
   "source": []
  },
  {
   "cell_type": "code",
   "execution_count": 15,
   "id": "9b1c651b",
   "metadata": {},
   "outputs": [],
   "source": [
    "# maximize the t_eff\n",
    "#m.setObjective(t_eff@schedule, GRB.MAXIMIZE)\n",
    "# minimize the potential energy\n",
    "#m.setObjective(obj, GRB.MINIMIZE)\n",
    "# Try to match a CDF\n",
    "m.setObjective(cumulative_diff@cumulative_diff, GRB.MINIMIZE)"
   ]
  },
  {
   "cell_type": "code",
   "execution_count": 16,
   "id": "a8a7d651",
   "metadata": {},
   "outputs": [
    {
     "name": "stdout",
     "output_type": "stream",
     "text": [
      "Changed value of parameter TimeLimit to 200.0\n",
      "   Prev: inf  Min: 0.0  Max: inf  Default: inf\n",
      "Gurobi Optimizer version 9.1.1 build v9.1.1rc0 (mac64)\n",
      "Thread count: 2 physical cores, 4 logical processors, using up to 4 threads\n",
      "Optimize a model with 10963 rows, 365252 columns and 1302550 nonzeros\n",
      "Model fingerprint: 0x1e366b94\n",
      "Model has 3653 quadratic objective terms\n",
      "Model has 3653 quadratic constraints\n",
      "Variable types: 14612 continuous, 350640 integer (350640 binary)\n",
      "Coefficient statistics:\n",
      "  Matrix range     [1e+00, 1e+00]\n",
      "  QMatrix range    [1e+00, 1e+00]\n",
      "  Objective range  [0e+00, 0e+00]\n",
      "  QObjective range [2e+00, 2e+00]\n",
      "  Bounds range     [1e+00, 4e+02]\n",
      "  RHS range        [1e+00, 4e+02]\n",
      "  QRHS range       [1e+00, 1e+00]\n",
      "Presolve removed 6868 rows and 359508 columns\n",
      "Presolve time: 0.59s\n",
      "Presolved: 4095 rows, 5744 columns, 13076 nonzeros\n",
      "Presolved model has 3652 quadratic objective terms\n",
      "Variable types: 0 continuous, 5744 integer (1650 binary)\n",
      "\n",
      "Root relaxation: objective 7.558561e+02, 14749 iterations, 0.29 seconds\n",
      "\n",
      "    Nodes    |    Current Node    |     Objective Bounds      |     Work\n",
      " Expl Unexpl |  Obj  Depth IntInf | Incumbent    BestBd   Gap | It/Node Time\n",
      "\n",
      "     0     0  755.85614    0 2198          -  755.85614      -     -    1s\n",
      "H    0     0                     886.0000000  755.85614  14.7%     -    1s\n",
      "     0     0  755.85614    0 2198  886.00000  755.85614  14.7%     -    3s\n",
      "H    0     0                     882.0000000  756.65614  14.2%     -    3s\n",
      "     0     2  756.65614    0 2198  882.00000  756.65614  14.2%     -    3s\n",
      "   290   218  841.42020   16  674  882.00000  839.69293  4.80%   2.0    5s\n",
      "  1017   652  880.27965   61  167  882.00000  844.19798  4.29%   9.4   10s\n",
      "  1961  1007  869.78101   41  363  882.00000  845.62626  4.12%   5.9   15s\n",
      "  2712  1404  851.19037   23  589  882.00000  847.31764  3.93%   4.8   20s\n",
      "  3467  1899  855.56601   27  534  882.00000  848.92370  3.75%   4.3   25s\n",
      "  4326  2513  858.19768   33  459  882.00000  850.52370  3.57%   3.9   30s\n",
      "  5282  3150  867.86435   37  411  882.00000  851.92370  3.41%   3.6   36s\n",
      "  6069  3683  877.51613   44  207  882.00000  852.59037  3.33%   3.4   41s\n",
      "  7008  4322  865.19768   35  439  882.00000  853.12370  3.27%   3.2   46s\n",
      "  7825  4832  874.42937   37  352  882.00000  853.52370  3.23%   3.1   50s\n",
      "  9073  5611  856.81601   26  548  882.00000  854.12370  3.16%   3.0   55s\n",
      " 10151  6244  877.09054   30  352  882.00000  854.91197  3.07%   2.9   61s\n",
      " 11386  6949  877.69921   49  186  882.00000  855.52370  3.00%   2.9   65s\n",
      " 13011  7658  874.46608   45  314  882.00000  856.12370  2.93%   2.8   79s\n",
      " 13184  7916  865.53101   36  425  882.00000  856.19037  2.93%   2.8   80s\n",
      " 14920  8918  877.50837   37  379  882.00000  856.81601  2.86%   2.7   85s\n",
      " 16623  9815  877.08413   36  245  882.00000  857.19768  2.81%   2.7   91s\n",
      " 17864 10540  880.62922   52  160  882.00000  857.52370  2.78%   2.6   95s\n",
      " 19579 11427  870.60244   40  367  882.00000  857.81601  2.74%   2.6  100s\n",
      " 20871 12192  876.08413   44  218  882.00000  858.19768  2.70%   2.6  110s\n",
      " 22586 13036  878.23736   51  230  882.00000  858.38419  2.68%   2.6  115s\n",
      " 23845 13645  879.56583   49  278  882.00000  858.56601  2.66%   2.6  120s\n",
      " 25452 14493  872.17116   44  313  882.00000  858.91197  2.62%   2.5  126s\n",
      " 26755 15253  865.19768   33  460  882.00000  859.13419  2.59%   2.5  131s\n",
      " 28174 16010  880.49241   53  216  882.00000  859.19768  2.59%   2.5  135s\n",
      " 29830 16799  860.19768   35  439  882.00000  859.41990  2.56%   2.5  141s\n",
      " 31069 17375  864.81601   26  548  882.00000  859.56601  2.54%   2.5  146s\n",
      " 31890 17778  861.31601   28  520  882.00000  859.81601  2.52%   2.5  150s\n",
      " 33132 18388  867.12370   25  563  882.00000  859.92370  2.50%   2.5  155s\n",
      " 34114 18936  874.13978   44  308  882.00000  860.13419  2.48%   2.5  160s\n",
      " 35764 19825  876.60244   45  325  882.00000  860.19768  2.47%   2.5  165s\n",
      " 37185 20545  860.91197   30  496  882.00000  860.19768  2.47%   2.5  170s\n",
      " 38467 21154  875.43135   46  270  882.00000  860.31601  2.46%   2.4  175s\n",
      " 39704 21776  877.22554   34  353  882.00000  860.56601  2.43%   2.4  181s\n",
      " 41004 22330  874.53795   41  278  882.00000  860.81601  2.40%   2.4  187s\n",
      " 41419 22472  873.19768   38  397  882.00000  860.81601  2.40%   2.4  190s\n",
      " 43080 23324  864.41990   30  491  882.00000  861.12370  2.37%   2.4  196s\n",
      " 44262 23828  877.80635   46  230  882.00000  861.19768  2.36%   2.4  200s\n",
      "\n",
      "Explored 44567 nodes (123122 simplex iterations) in 200.03 seconds\n",
      "Thread count was 4 (of 4 available processors)\n",
      "\n",
      "Solution count 2: 882 886 \n",
      "\n",
      "Time limit reached\n",
      "Best objective 8.820000000000e+02, best bound 8.620000000000e+02, gap 2.2676%\n"
     ]
    }
   ],
   "source": [
    "m.Params.TimeLimit = 200\n",
    "m.optimize()"
   ]
  },
  {
   "cell_type": "code",
   "execution_count": 17,
   "id": "f6cb46da",
   "metadata": {},
   "outputs": [],
   "source": [
    "result_array = schedule.X"
   ]
  },
  {
   "cell_type": "code",
   "execution_count": null,
   "id": "0a877f1c",
   "metadata": {},
   "outputs": [],
   "source": []
  },
  {
   "cell_type": "code",
   "execution_count": 18,
   "id": "192baf38",
   "metadata": {},
   "outputs": [
    {
     "data": {
      "text/plain": [
       "[<matplotlib.lines.Line2D at 0x7fa56c1c6730>]"
      ]
     },
     "execution_count": 18,
     "metadata": {},
     "output_type": "execute_result"
    },
    {
     "data": {
      "image/png": "[encoded data removed]",
      "text/plain": [
       "<Figure size 432x288 with 1 Axes>"
      ]
     },
     "metadata": {
      "needs_background": "light"
     },
     "output_type": "display_data"
    }
   ],
   "source": [
    "plt.plot(ddf_grid['mjd'], ddf_grid['DD:ELAISS1_sky_g'])\n",
    "plt.ylim([21,23])\n",
    "sched = np.where(result_array > 0)[0]\n",
    "plt.plot(ddf_grid['mjd'][sched], ddf_grid['DD:ELAISS1_sky_g'][sched], 'ko')"
   ]
  },
  {
   "cell_type": "code",
   "execution_count": 19,
   "id": "f1528622",
   "metadata": {},
   "outputs": [
    {
     "data": {
      "text/plain": [
       "(60000.0, 60500.0)"
      ]
     },
     "execution_count": 19,
     "metadata": {},
     "output_type": "execute_result"
    },
    {
     "data": {
      "image/png": "[encoded data removed]",
      "text/plain": [
       "<Figure size 432x288 with 1 Axes>"
      ]
     },
     "metadata": {
      "needs_background": "light"
     },
     "output_type": "display_data"
    }
   ],
   "source": [
    "plt.plot(ddf_grid['mjd'], ddf_grid['DD:ELAISS1_sky_g'])\n",
    "plt.ylim([21,23])\n",
    "sched = np.where(result_array > 0)[0]\n",
    "plt.plot(ddf_grid['mjd'][sched], ddf_grid['DD:ELAISS1_sky_g'][sched], 'ko')\n",
    "plt.xlim(60000, 60500)"
   ]
  },
  {
   "cell_type": "code",
   "execution_count": 20,
   "id": "66a78137",
   "metadata": {},
   "outputs": [
    {
     "data": {
      "text/plain": [
       "(array([55, 56, 57, 58, 59]),)"
      ]
     },
     "execution_count": 20,
     "metadata": {},
     "output_type": "execute_result"
    }
   ],
   "source": [
    "np.where( (ddf_grid['mjd'][sched] > 60300) & (ddf_grid['mjd'][sched] < 60400))"
   ]
  },
  {
   "cell_type": "code",
   "execution_count": 21,
   "id": "9051a227",
   "metadata": {},
   "outputs": [],
   "source": [
    "\n",
    "#ack = ddf_grid['DD:ELAISS1_airmass'][np.where((ddf_grid['mjd'] > 60300) & (ddf_grid['mjd'] < 60400))]\n",
    "#ack[np.where((ack > 1) & (ack < 2.5))]"
   ]
  },
  {
   "cell_type": "code",
   "execution_count": 22,
   "id": "e219d19b",
   "metadata": {},
   "outputs": [
    {
     "data": {
      "text/plain": [
       "(60050.0, 60200.0)"
      ]
     },
     "execution_count": 22,
     "metadata": {},
     "output_type": "execute_result"
    },
    {
     "data": {
      "image/png": "[encoded data removed]",
      "text/plain": [
       "<Figure size 432x288 with 1 Axes>"
      ]
     },
     "metadata": {
      "needs_background": "light"
     },
     "output_type": "display_data"
    }
   ],
   "source": [
    "plt.plot(ddf_grid['mjd'], ddf_grid['DD:ELAISS1_sky_g'])\n",
    "plt.ylim([21,23])\n",
    "sched = np.where(result_array > 0)[0]\n",
    "plt.plot(ddf_grid['mjd'][sched], ddf_grid['DD:ELAISS1_sky_g'][sched], 'ko')\n",
    "plt.xlim(60050, 60200)"
   ]
  },
  {
   "cell_type": "code",
   "execution_count": 23,
   "id": "492cbeaa",
   "metadata": {},
   "outputs": [
    {
     "data": {
      "text/plain": [
       "(60120.0, 60160.0)"
      ]
     },
     "execution_count": 23,
     "metadata": {},
     "output_type": "execute_result"
    },
    {
     "data": {
      "image/png": "[encoded data removed]",
      "text/plain": [
       "<Figure size 432x288 with 1 Axes>"
      ]
     },
     "metadata": {
      "needs_background": "light"
     },
     "output_type": "display_data"
    }
   ],
   "source": [
    "plt.plot(ddf_grid['mjd'], ddf_grid['DD:ELAISS1_sky_g'])\n",
    "plt.ylim([18,23])\n",
    "sched = np.where(result_array > 0)[0]\n",
    "plt.plot(ddf_grid['mjd'][sched], ddf_grid['DD:ELAISS1_sky_g'][sched], 'ko')\n",
    "plt.xlim(60120, 60160)"
   ]
  },
  {
   "cell_type": "code",
   "execution_count": 24,
   "id": "0e3122f0",
   "metadata": {},
   "outputs": [],
   "source": [
    "# can try to also optimize uniformity! Could use the KS statistic. \n",
    "\n",
    "# Good answer on how to do a cumulative sum here:  https://stackoverflow.com/questions/55840816/gurobi-prefix-sum-optimization"
   ]
  },
  {
   "cell_type": "code",
   "execution_count": 25,
   "id": "700fb055",
   "metadata": {},
   "outputs": [],
   "source": [
    "#m.setObjective(gp.max_(cumulative_diff), GRB.MINIMIZE)"
   ]
  },
  {
   "cell_type": "code",
   "execution_count": 26,
   "id": "b01ef952",
   "metadata": {},
   "outputs": [
    {
     "data": {
      "image/png": "[encoded data removed]",
      "text/plain": [
       "<Figure size 432x288 with 1 Axes>"
      ]
     },
     "metadata": {
      "needs_background": "light"
     },
     "output_type": "display_data"
    }
   ],
   "source": [
    "ack = plt.hist(np.diff(ddf_grid['mjd'][sched]), bins=150)"
   ]
  },
  {
   "cell_type": "code",
   "execution_count": 27,
   "id": "a34893e3",
   "metadata": {},
   "outputs": [
    {
     "data": {
      "image/png": "[encoded data removed]",
      "text/plain": [
       "<Figure size 432x288 with 1 Axes>"
      ]
     },
     "metadata": {
      "needs_background": "light"
     },
     "output_type": "display_data"
    }
   ],
   "source": [
    "ack = plt.hist(np.diff(ddf_grid['mjd'][sched]), bins=np.arange(-0.5,25.5, 1))"
   ]
  },
  {
   "cell_type": "code",
   "execution_count": 28,
   "id": "58904640",
   "metadata": {},
   "outputs": [
    {
     "data": {
      "text/plain": [
       "5.041666665492812"
      ]
     },
     "execution_count": 28,
     "metadata": {},
     "output_type": "execute_result"
    }
   ],
   "source": [
    "np.median(np.diff(ddf_grid['mjd'][sched]))"
   ]
  },
  {
   "cell_type": "code",
   "execution_count": 29,
   "id": "2e5d9454",
   "metadata": {},
   "outputs": [
    {
     "data": {
      "text/plain": [
       "-1.0"
      ]
     },
     "execution_count": 29,
     "metadata": {},
     "output_type": "execute_result"
    }
   ],
   "source": [
    "cumulative_diff.X.min()"
   ]
  },
  {
   "cell_type": "code",
   "execution_count": 30,
   "id": "708b1e42",
   "metadata": {},
   "outputs": [
    {
     "data": {
      "text/plain": [
       "4.0"
      ]
     },
     "execution_count": 30,
     "metadata": {},
     "output_type": "execute_result"
    }
   ],
   "source": [
    "cumulative_diff.X.max()"
   ]
  },
  {
   "cell_type": "code",
   "execution_count": 31,
   "id": "ba6548c6",
   "metadata": {},
   "outputs": [
    {
     "data": {
      "text/plain": [
       "array([-0., -0.,  0., ...,  0.,  0.,  0.])"
      ]
     },
     "execution_count": 31,
     "metadata": {},
     "output_type": "execute_result"
    }
   ],
   "source": [
    "cumulative_diff.X"
   ]
  },
  {
   "cell_type": "code",
   "execution_count": null,
   "id": "c76f2cf8",
   "metadata": {},
   "outputs": [],
   "source": []
  },
  {
   "cell_type": "code",
   "execution_count": 32,
   "id": "adefbf8f",
   "metadata": {},
   "outputs": [
    {
     "data": {
      "text/plain": [
       "Text(0, 0.5, 'Cumulative nuumber of events')"
      ]
     },
     "execution_count": 32,
     "metadata": {},
     "output_type": "execute_result"
    },
    {
     "data": {
      "image/png": "[encoded data removed]",
      "text/plain": [
       "<Figure size 432x288 with 1 Axes>"
      ]
     },
     "metadata": {
      "needs_background": "light"
     },
     "output_type": "display_data"
    }
   ],
   "source": [
    "plt.plot(cumulative_sched.X)\n",
    "plt.plot(cumulative_desired)\n",
    "plt.xlabel('MJD')\n",
    "plt.ylabel('Cumulative nuumber of events')"
   ]
  },
  {
   "cell_type": "code",
   "execution_count": 33,
   "id": "7c38aabd",
   "metadata": {},
   "outputs": [
    {
     "data": {
      "text/plain": [
       "Text(0, 0.5, 'Cumulative number of events')"
      ]
     },
     "execution_count": 33,
     "metadata": {},
     "output_type": "execute_result"
    },
    {
     "data": {
      "image/png": "[encoded data removed]",
      "text/plain": [
       "<Figure size 432x288 with 1 Axes>"
      ]
     },
     "metadata": {
      "needs_background": "light"
     },
     "output_type": "display_data"
    }
   ],
   "source": [
    "plt.plot(cumulative_sched.X)\n",
    "plt.plot(cumulative_desired)\n",
    "plt.xlim([0,300])\n",
    "plt.ylim(0,50)\n",
    "plt.xlabel('MJD')\n",
    "plt.ylabel('Cumulative number of events')"
   ]
  },
  {
   "cell_type": "code",
   "execution_count": 34,
   "id": "4c6ab44f",
   "metadata": {},
   "outputs": [
    {
     "data": {
      "text/plain": [
       "Text(0, 0.5, 'Cumulative number of events desired-actual')"
      ]
     },
     "execution_count": 34,
     "metadata": {},
     "output_type": "execute_result"
    },
    {
     "data": {
      "image/png": "[encoded data removed]",
      "text/plain": [
       "<Figure size 432x288 with 1 Axes>"
      ]
     },
     "metadata": {
      "needs_background": "light"
     },
     "output_type": "display_data"
    }
   ],
   "source": [
    "plt.plot(cumulative_diff.X)\n",
    "plt.xlabel('MJD')\n",
    "plt.ylabel('Cumulative number of events desired-actual')"
   ]
  },
  {
   "cell_type": "code",
   "execution_count": null,
   "id": "594fb260",
   "metadata": {},
   "outputs": [],
   "source": []
  },
  {
   "cell_type": "code",
   "execution_count": null,
   "id": "46f62990",
   "metadata": {},
   "outputs": [],
   "source": []
  },
  {
   "cell_type": "markdown",
   "id": "8af6707d",
   "metadata": {},
   "source": [
    "# I can have an objective function that works for effective exposure time. I have an objective function that maximizes potential energy of the distribution. I can't have too many terms in that one though, or it slows down. Maybe I need an objective that tries to make the distribution match a uniform CDF? Or I could bin down into blocks of 10 nights, and then do the potential between those. Kind of a tree-sph thing.\n",
    "\n",
    "# Next steps\n",
    "\n",
    "* try running with the t_eff max at the same time\n",
    "* try scheduling 2 DDFs at the same time\n",
    "* try different possible CDFs (rolling and acourdian) \n",
    "* Need to make the CDF not go flat over lunar breaks to force it to cover the gaps better--looks good!"
   ]
  },
  {
   "cell_type": "code",
   "execution_count": null,
   "id": "080eeb74",
   "metadata": {},
   "outputs": [],
   "source": []
  },
  {
   "cell_type": "code",
   "execution_count": null,
   "id": "06575b78",
   "metadata": {},
   "outputs": [],
   "source": []
  },
  {
   "cell_type": "code",
   "execution_count": null,
   "id": "b933b41f",
   "metadata": {},
   "outputs": [],
   "source": []
  }
 ],
 "metadata": {
  "kernelspec": {
   "display_name": "Python 3 (ipykernel)",
   "language": "python",
   "name": "python3"
  },
  "language_info": {
   "codemirror_mode": {
    "name": "ipython",
    "version": 3
   },
   "file_extension": ".py",
   "mimetype": "text/x-python",
   "name": "python",
   "nbconvert_exporter": "python",
   "pygments_lexer": "ipython3",
   "version": "3.9.7"
  }
 },
 "nbformat": 4,
 "nbformat_minor": 5
}
