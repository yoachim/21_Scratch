{
 "cells": [
  {
   "cell_type": "code",
   "execution_count": 1,
   "id": "13b0a9d3",
   "metadata": {},
   "outputs": [],
   "source": [
    "import numpy as np\n",
    "import gurobipy as gp\n",
    "from gurobipy import GRB\n",
    "import scipy.sparse as sp\n",
    "import matplotlib.pylab as plt\n",
    "%matplotlib inline"
   ]
  },
  {
   "cell_type": "code",
   "execution_count": 2,
   "id": "15ab2717",
   "metadata": {},
   "outputs": [],
   "source": [
    "ddf_data = np.load('ddf_grid.npz')\n",
    "ddf_grid = ddf_data['ddf_grid'].copy()\n",
    "\n",
    "# XXX-- double check that I got this right\n",
    "ack = ddf_grid['sun_alt'][0:-1] * ddf_grid['sun_alt'][1:]\n",
    "night = np.zeros(ddf_grid.size, dtype=int)\n",
    "night[np.where((ddf_grid['sun_alt'][1:] >=0) & (ack < 0))] += 1\n",
    "night = np.cumsum(night)"
   ]
  },
  {
   "cell_type": "code",
   "execution_count": 3,
   "id": "df5b019f",
   "metadata": {},
   "outputs": [
    {
     "data": {
      "text/plain": [
       "array([(59853.5       ,  0.35789797, 0.        ,         nan,         nan,  0.        , nan, nan,  0.        ,  0., inf,  0.        ,  0., inf,  0.        ,  0., inf),\n",
       "       (59853.51041667,  0.41360456, 0.        ,         nan,         nan,  0.        , nan, nan,  0.        ,  0., inf,  0.        ,  0., inf,  0.        ,  0., inf),\n",
       "       (59853.52083333,  0.46894875, 0.        ,         nan,         nan,  0.        , nan, nan,  0.        ,  0., inf,  0.        ,  0., inf,  0.        ,  0., inf),\n",
       "       ...,\n",
       "       (63505.96874915, -0.12942338, 0.        ,  0.        ,         inf, -0.        , nan, nan, -0.        , nan, nan, -0.        , nan, nan, -0.        , nan, nan),\n",
       "       (63505.97916582, -0.18569237, 0.        ,  0.        ,         inf, -0.        , nan, nan, -0.        , nan, nan, -0.        , nan, nan, -0.        , nan, nan),\n",
       "       (63505.98958248, -0.24112162, 1.90646443, 20.87839022, 23.56106875, -9.35888477, nan, nan, -8.85712875, nan, nan, -1.36598529, nan, nan, -1.41636139, nan, nan)],\n",
       "      dtype=[('mjd', '<f8'), ('sun_alt', '<f8'), ('DD:ELAISS1_airmass', '<f8'), ('DD:ELAISS1_sky_g', '<f8'), ('DD:ELAISS1_m5_g', '<f8'), ('DD:XMM-LSS_airmass', '<f8'), ('DD:XMM-LSS_sky_g', '<f8'), ('DD:XMM-LSS_m5_g', '<f8'), ('DD:ECDFS_airmass', '<f8'), ('DD:ECDFS_sky_g', '<f8'), ('DD:ECDFS_m5_g', '<f8'), ('DD:COSMOS_airmass', '<f8'), ('DD:COSMOS_sky_g', '<f8'), ('DD:COSMOS_m5_g', '<f8'), ('DD:EDFS_airmass', '<f8'), ('DD:EDFS_sky_g', '<f8'), ('DD:EDFS_m5_g', '<f8')])"
      ]
     },
     "execution_count": 3,
     "metadata": {},
     "output_type": "execute_result"
    }
   ],
   "source": [
    "ddf_grid"
   ]
  },
  {
   "cell_type": "code",
   "execution_count": 4,
   "id": "696d5114",
   "metadata": {},
   "outputs": [
    {
     "data": {
      "text/plain": [
       "14.99999999650754"
      ]
     },
     "execution_count": 4,
     "metadata": {},
     "output_type": "execute_result"
    }
   ],
   "source": [
    "# check what the timestep is\n",
    "24*60*(ddf_grid['mjd'][1] - ddf_grid['mjd'][0])"
   ]
  },
  {
   "cell_type": "code",
   "execution_count": 5,
   "id": "dcc5cb30",
   "metadata": {},
   "outputs": [
    {
     "name": "stdout",
     "output_type": "stream",
     "text": [
      "Academic license - for non-commercial use only - expires 2021-06-18\n",
      "Using license file /Users/yoachim/Dropbox/Apps/Gurobi/gurobi.lic\n"
     ]
    }
   ],
   "source": [
    "m = gp.Model(\"try_sched\")"
   ]
  },
  {
   "cell_type": "code",
   "execution_count": 6,
   "id": "2c34c5b4",
   "metadata": {},
   "outputs": [],
   "source": [
    "ngrid = ddf_grid['mjd'].size\n",
    "sun_limit = np.radians(-18.)\n",
    "airmass_limit = 2.1  \n",
    "sky_limit = 22.\n",
    "zeropoint = 25.0  # mags\n",
    "sequence_limit = 230\n",
    "pause_time = 13/24.  # days\n",
    "delta_t = ddf_grid['mjd'][1] - ddf_grid['mjd'][0]\n",
    "\n",
    "# Let's try scheduling just one for now\n",
    "schedule = m.addMVar(ngrid, vtype=GRB.BINARY, name=\"pointing_1\")\n",
    "\n",
    "# set a sun mask\n",
    "sun_mask = np.zeros(ngrid, dtype=bool)\n",
    "sun_mask[np.where(ddf_grid['sun_alt'] >= sun_limit)] = 1\n",
    "\n",
    "airmass_mask = np.zeros(ngrid, dtype=bool)\n",
    "airmass_mask[np.where(ddf_grid['DD:ELAISS1_airmass'] >= airmass_limit)] = 1\n",
    "\n",
    "sky_mask = np.zeros(ngrid, dtype=bool)\n",
    "sky_mask[np.where(ddf_grid['DD:ELAISS1_sky_g'] <= sky_limit)] = 1\n",
    "\n",
    "\n",
    "# Let's add the constraints\n",
    "m.addConstr(schedule @ sun_mask == 0)\n",
    "m.addConstr(schedule @ airmass_mask == 0)\n",
    "m.addConstr(schedule @ sky_mask == 0)\n",
    "\n",
    "# limit the total number of ddf sequences\n",
    "m.addConstr(schedule.sum() <= sequence_limit)\n",
    "\n",
    "\n",
    "# prevent a repeat sequence in a night\n",
    "unights = np.unique(night)\n",
    "sched_night = m.addMVar(unights.size, vtype=GRB.CONTINUOUS)\n",
    "for i,n in enumerate(unights):\n",
    "    in_night = np.where(night == n)[0]\n",
    "    m.addConstr(schedule[in_night]@schedule[in_night] <= 1)\n",
    "    m.addConstr(sched_night[i] == schedule[in_night].sum())"
   ]
  },
  {
   "cell_type": "code",
   "execution_count": null,
   "id": "1fa0aa08",
   "metadata": {},
   "outputs": [],
   "source": []
  },
  {
   "cell_type": "code",
   "execution_count": 7,
   "id": "60429775",
   "metadata": {},
   "outputs": [],
   "source": [
    "    \n",
    "# Cumulative number of scheduled events (by night, to avoid huge loop)\n",
    "cumulative_sched = m.addMVar(unights.size, vtype=GRB.CONTINUOUS)\n",
    "cumulative_diff = m.addMVar(unights.size, vtype=GRB.CONTINUOUS, lb=-sequence_limit, ub=sequence_limit)\n",
    "\n",
    "cumulative_dmax = m.addMVar(unights.size, vtype=GRB.CONTINUOUS)\n",
    "\n",
    "\n",
    "m.addConstr(cumulative_sched[0] == sched_night[0])\n",
    "\n",
    "linear_cumulative = np.arange(unights.size)\n",
    "linear_cumulative = linear_cumulative/np.max(linear_cumulative) * sequence_limit\n",
    "m.addConstr(cumulative_diff[0] == cumulative_sched[0] - linear_cumulative[0])\n",
    "\n",
    "for i in np.arange(1,unights.size):\n",
    "    m.addConstr(cumulative_sched[i] == cumulative_sched[i-1]+sched_night[i])\n",
    "    m.addConstr(cumulative_diff[i] == cumulative_sched[i] - linear_cumulative[i])\n",
    "    \n",
    "\n",
    "# Compute t_eff, something we want to maximize\n",
    "t_eff = 10.**(.08*(ddf_grid['DD:ELAISS1_m5_g']-zeropoint))\n",
    "t_eff[np.where(np.isnan(t_eff) == True)] = 0\n",
    "t_eff[np.where(np.isinf(t_eff) == True)] = 0\n"
   ]
  },
  {
   "cell_type": "code",
   "execution_count": 8,
   "id": "c6a3eb9f",
   "metadata": {},
   "outputs": [],
   "source": [
    "cdiff_min = m.addMVar(1, vtype=GRB.CONTINUOUS)\n",
    "cdiff_max = m.addMVar(1, vtype=GRB.CONTINUOUS)\n",
    "#m.addConstr(cdiff_min == gp.min_(cumulative_diff))\n",
    "#m.addConstr(cdiff_max == gp.max_(cumulative_diff))\n"
   ]
  },
  {
   "cell_type": "code",
   "execution_count": 9,
   "id": "bd127676",
   "metadata": {},
   "outputs": [
    {
     "data": {
      "text/plain": [
       "(21.0, 23.0)"
      ]
     },
     "execution_count": 9,
     "metadata": {},
     "output_type": "execute_result"
    },
    {
     "data": {
      "image/png": "[encoded data removed]",
      "text/plain": [
       "<Figure size 432x288 with 1 Axes>"
      ]
     },
     "metadata": {
      "needs_background": "light"
     },
     "output_type": "display_data"
    }
   ],
   "source": [
    "plt.plot(ddf_grid['mjd'], ddf_grid['DD:ELAISS1_sky_g'])\n",
    "plt.ylim([21,23])"
   ]
  },
  {
   "cell_type": "code",
   "execution_count": null,
   "id": "50b9eeb9",
   "metadata": {},
   "outputs": [],
   "source": []
  },
  {
   "cell_type": "code",
   "execution_count": 10,
   "id": "9b1c651b",
   "metadata": {},
   "outputs": [],
   "source": [
    "m.setObjective(t_eff@schedule, GRB.MAXIMIZE)"
   ]
  },
  {
   "cell_type": "code",
   "execution_count": 11,
   "id": "a8a7d651",
   "metadata": {},
   "outputs": [
    {
     "name": "stdout",
     "output_type": "stream",
     "text": [
      "Gurobi Optimizer version 9.1.1 build v9.1.1rc0 (mac64)\n",
      "Thread count: 2 physical cores, 4 logical processors, using up to 4 threads\n",
      "Optimize a model with 10963 rows, 365254 columns and 1130185 nonzeros\n",
      "Model fingerprint: 0xff8066c9\n",
      "Model has 3653 quadratic constraints\n",
      "Variable types: 14614 continuous, 350640 integer (350640 binary)\n",
      "Coefficient statistics:\n",
      "  Matrix range     [1e+00, 1e+00]\n",
      "  QMatrix range    [1e+00, 1e+00]\n",
      "  Objective range  [5e-01, 1e+00]\n",
      "  Bounds range     [1e+00, 2e+02]\n",
      "  RHS range        [6e-02, 2e+02]\n",
      "  QRHS range       [1e+00, 1e+00]\n",
      "Presolve removed 10747 rows and 363254 columns\n",
      "Presolve time: 0.84s\n",
      "Presolved: 216 rows, 2000 columns, 3936 nonzeros\n",
      "Variable types: 0 continuous, 2000 integer (1655 binary)\n",
      "Found heuristic solution: objective 25.6180825\n",
      "\n",
      "Root relaxation: objective 2.211231e+02, 93 iterations, 0.00 seconds\n",
      "\n",
      "    Nodes    |    Current Node    |     Objective Bounds      |     Work\n",
      " Expl Unexpl |  Obj  Depth IntInf | Incumbent    BestBd   Gap | It/Node Time\n",
      "\n",
      "*    0     0               0     221.1231369  221.12314  0.00%     -    1s\n",
      "\n",
      "Explored 0 nodes (93 simplex iterations) in 1.08 seconds\n",
      "Thread count was 4 (of 4 available processors)\n",
      "\n",
      "Solution count 2: 221.123 25.6181 \n",
      "\n",
      "Optimal solution found (tolerance 1.00e-04)\n",
      "Best objective 2.211231368521e+02, best bound 2.211231368521e+02, gap 0.0000%\n"
     ]
    }
   ],
   "source": [
    "m.optimize()"
   ]
  },
  {
   "cell_type": "code",
   "execution_count": 12,
   "id": "f6cb46da",
   "metadata": {},
   "outputs": [],
   "source": [
    "np.sum(m.X)\n",
    "result_array = schedule.X"
   ]
  },
  {
   "cell_type": "code",
   "execution_count": null,
   "id": "0a877f1c",
   "metadata": {},
   "outputs": [],
   "source": []
  },
  {
   "cell_type": "code",
   "execution_count": 13,
   "id": "192baf38",
   "metadata": {},
   "outputs": [
    {
     "data": {
      "text/plain": [
       "[<matplotlib.lines.Line2D at 0x7f8c0cd55bb0>]"
      ]
     },
     "execution_count": 13,
     "metadata": {},
     "output_type": "execute_result"
    },
    {
     "data": {
      "image/png": "[encoded data removed]",
      "text/plain": [
       "<Figure size 432x288 with 1 Axes>"
      ]
     },
     "metadata": {
      "needs_background": "light"
     },
     "output_type": "display_data"
    }
   ],
   "source": [
    "plt.plot(ddf_grid['mjd'], ddf_grid['DD:ELAISS1_sky_g'])\n",
    "plt.ylim([21,23])\n",
    "sched = np.where(result_array > 0)[0]\n",
    "plt.plot(ddf_grid['mjd'][sched], ddf_grid['DD:ELAISS1_sky_g'][sched], 'ko')"
   ]
  },
  {
   "cell_type": "code",
   "execution_count": 14,
   "id": "f1528622",
   "metadata": {},
   "outputs": [
    {
     "data": {
      "text/plain": [
       "(60000.0, 60500.0)"
      ]
     },
     "execution_count": 14,
     "metadata": {},
     "output_type": "execute_result"
    },
    {
     "data": {
      "image/png": "[encoded data removed]",
      "text/plain": [
       "<Figure size 432x288 with 1 Axes>"
      ]
     },
     "metadata": {
      "needs_background": "light"
     },
     "output_type": "display_data"
    }
   ],
   "source": [
    "plt.plot(ddf_grid['mjd'], ddf_grid['DD:ELAISS1_sky_g'])\n",
    "plt.ylim([21,23])\n",
    "sched = np.where(result_array > 0)[0]\n",
    "plt.plot(ddf_grid['mjd'][sched], ddf_grid['DD:ELAISS1_sky_g'][sched], 'ko')\n",
    "plt.xlim(60000, 60500)"
   ]
  },
  {
   "cell_type": "code",
   "execution_count": 15,
   "id": "492cbeaa",
   "metadata": {},
   "outputs": [
    {
     "data": {
      "text/plain": [
       "array([  19,   20,   21,   22,   23,   24,   25,   26,   27,   41,  286,\n",
       "        287,  288,  289,  290,  291,  292,  293,  294,  295,  296,  297,\n",
       "        298,  299,  300,  396,  397,  398,  399,  400,  401,  402,  403,\n",
       "        404,  405,  406,  645,  646,  647,  648,  649,  650,  651,  652,\n",
       "        653,  654,  655,  751,  752,  753,  754,  755,  756,  757,  758,\n",
       "        759,  760,  761,  762,  763,  764,  765, 1024, 1025, 1026, 1027,\n",
       "       1028, 1029, 1030, 1031, 1114, 1115, 1116, 1117, 1118, 1119, 1120,\n",
       "       1133, 1134, 1135, 1136, 1137, 1379, 1380, 1381, 1382, 1383, 1384,\n",
       "       1385, 1386, 1387, 1388, 1389, 1390, 1391, 1392, 1489, 1490, 1491,\n",
       "       1492, 1493, 1494, 1495, 1496, 1497, 1498, 1499, 1500, 1501, 1502,\n",
       "       1741, 1742, 1743, 1744, 1745, 1746, 1747, 1762, 1846, 1847, 1848,\n",
       "       1849, 1850, 1851, 1852, 1853, 1854, 1855, 1856, 1857, 2118, 2119,\n",
       "       2120, 2121, 2122, 2123, 2124, 2125, 2126, 2127, 2210, 2211, 2227,\n",
       "       2228, 2229, 2230, 2231, 2232, 2233, 2473, 2474, 2475, 2476, 2477,\n",
       "       2478, 2479, 2480, 2481, 2482, 2483, 2484, 2485, 2582, 2583, 2584,\n",
       "       2585, 2586, 2587, 2588, 2589, 2590, 2591, 2592, 2593, 2594, 2836,\n",
       "       2837, 2838, 2839, 2840, 2855, 2856, 2857, 2858, 2942, 2943, 2944,\n",
       "       2945, 2946, 2947, 2948, 2949, 2950, 3210, 3211, 3212, 3213, 3214,\n",
       "       3215, 3216, 3217, 3218, 3219, 3220, 3221, 3222, 3223, 3319, 3320,\n",
       "       3321, 3322, 3323, 3324, 3325, 3326, 3327, 3328, 3567, 3568, 3569,\n",
       "       3570, 3571, 3572, 3573, 3574, 3575, 3576, 3577, 3578, 3579])"
      ]
     },
     "execution_count": 15,
     "metadata": {},
     "output_type": "execute_result"
    }
   ],
   "source": [
    "night[sched]"
   ]
  },
  {
   "cell_type": "code",
   "execution_count": 16,
   "id": "0e3122f0",
   "metadata": {},
   "outputs": [],
   "source": [
    "# can try to also optimize uniformity! Could use the KS statistic. \n",
    "\n",
    "# Good answer on how to do a cumulative sum here:  https://stackoverflow.com/questions/55840816/gurobi-prefix-sum-optimization"
   ]
  },
  {
   "cell_type": "code",
   "execution_count": 17,
   "id": "700fb055",
   "metadata": {},
   "outputs": [],
   "source": [
    "#m.setObjective(gp.max_(cumulative_diff), GRB.MINIMIZE)"
   ]
  },
  {
   "cell_type": "code",
   "execution_count": 18,
   "id": "b01ef952",
   "metadata": {},
   "outputs": [
    {
     "data": {
      "text/plain": [
       "array([0.])"
      ]
     },
     "execution_count": 18,
     "metadata": {},
     "output_type": "execute_result"
    }
   ],
   "source": [
    "cdiff_min.X"
   ]
  },
  {
   "cell_type": "code",
   "execution_count": 19,
   "id": "58904640",
   "metadata": {},
   "outputs": [
    {
     "data": {
      "text/plain": [
       "array([0.])"
      ]
     },
     "execution_count": 19,
     "metadata": {},
     "output_type": "execute_result"
    }
   ],
   "source": [
    "cdiff_max.X"
   ]
  },
  {
   "cell_type": "code",
   "execution_count": 20,
   "id": "2e5d9454",
   "metadata": {},
   "outputs": [
    {
     "data": {
      "text/plain": [
       "-9.100219058050385"
      ]
     },
     "execution_count": 20,
     "metadata": {},
     "output_type": "execute_result"
    }
   ],
   "source": [
    "cumulative_diff.X.min()"
   ]
  },
  {
   "cell_type": "code",
   "execution_count": 21,
   "id": "708b1e42",
   "metadata": {},
   "outputs": [
    {
     "data": {
      "text/plain": [
       "15.405257393209212"
      ]
     },
     "execution_count": 21,
     "metadata": {},
     "output_type": "execute_result"
    }
   ],
   "source": [
    "cumulative_diff.X.max()"
   ]
  },
  {
   "cell_type": "code",
   "execution_count": 22,
   "id": "ba6548c6",
   "metadata": {},
   "outputs": [
    {
     "data": {
      "text/plain": [
       "array([ 0.        , -0.06297919, -0.12595838, ...,  0.12595838,\n",
       "        0.06297919,  0.        ])"
      ]
     },
     "execution_count": 22,
     "metadata": {},
     "output_type": "execute_result"
    }
   ],
   "source": [
    "cumulative_diff.X"
   ]
  },
  {
   "cell_type": "code",
   "execution_count": 23,
   "id": "c76f2cf8",
   "metadata": {},
   "outputs": [
    {
     "data": {
      "text/plain": [
       "array([0.00000000e+00, 6.29791895e-02, 1.25958379e-01, ...,\n",
       "       2.29874042e+02, 2.29937021e+02, 2.30000000e+02])"
      ]
     },
     "execution_count": 23,
     "metadata": {},
     "output_type": "execute_result"
    }
   ],
   "source": [
    "linear_cumulative"
   ]
  },
  {
   "cell_type": "code",
   "execution_count": 24,
   "id": "4c6ab44f",
   "metadata": {},
   "outputs": [
    {
     "data": {
      "text/plain": [
       "<gurobi.GenExpr: <cyfunction Model.addGenConstrMax at 0x7f8c2f1f4c70>([<gurobi.GenExpr: <cyfunction Model.addGenConstrAbs at 0x7f8c2f1f4e10>(<(3653,) matrix variable>)>])>"
      ]
     },
     "execution_count": 24,
     "metadata": {},
     "output_type": "execute_result"
    }
   ],
   "source": [
    "gp.max_(gp.abs_(cumulative_diff))"
   ]
  },
  {
   "cell_type": "code",
   "execution_count": 25,
   "id": "594fb260",
   "metadata": {},
   "outputs": [
    {
     "ename": "TypeError",
     "evalue": "bad operand type for unary -: 'GenExpr'",
     "output_type": "error",
     "traceback": [
      "\u001b[0;31m---------------------------------------------------------------------------\u001b[0m",
      "\u001b[0;31mTypeError\u001b[0m                                 Traceback (most recent call last)",
      "\u001b[0;32m<ipython-input-25-de537204bc64>\u001b[0m in \u001b[0;36m<module>\u001b[0;34m\u001b[0m\n\u001b[1;32m      1\u001b[0m \u001b[0mks_stat\u001b[0m \u001b[0;34m=\u001b[0m \u001b[0mm\u001b[0m\u001b[0;34m.\u001b[0m\u001b[0maddMVar\u001b[0m\u001b[0;34m(\u001b[0m\u001b[0;36m1\u001b[0m\u001b[0;34m,\u001b[0m \u001b[0mvtype\u001b[0m\u001b[0;34m=\u001b[0m\u001b[0mGRB\u001b[0m\u001b[0;34m.\u001b[0m\u001b[0mCONTINUOUS\u001b[0m\u001b[0;34m)\u001b[0m\u001b[0;34m\u001b[0m\u001b[0;34m\u001b[0m\u001b[0m\n\u001b[0;32m----> 2\u001b[0;31m \u001b[0mm\u001b[0m\u001b[0;34m.\u001b[0m\u001b[0maddConstr\u001b[0m\u001b[0;34m(\u001b[0m\u001b[0mks_stat\u001b[0m \u001b[0;34m==\u001b[0m \u001b[0mgp\u001b[0m\u001b[0;34m.\u001b[0m\u001b[0mmax_\u001b[0m\u001b[0;34m(\u001b[0m\u001b[0mgp\u001b[0m\u001b[0;34m.\u001b[0m\u001b[0mabs_\u001b[0m\u001b[0;34m(\u001b[0m\u001b[0mcumulative_diff\u001b[0m\u001b[0;34m[\u001b[0m\u001b[0;36m0\u001b[0m\u001b[0;34m]\u001b[0m\u001b[0;34m)\u001b[0m\u001b[0;34m)\u001b[0m\u001b[0;34m)\u001b[0m\u001b[0;34m\u001b[0m\u001b[0;34m\u001b[0m\u001b[0m\n\u001b[0m\u001b[1;32m      3\u001b[0m \u001b[0mm\u001b[0m\u001b[0;34m.\u001b[0m\u001b[0msetObjective\u001b[0m\u001b[0;34m(\u001b[0m\u001b[0mks_stat\u001b[0m\u001b[0;34m,\u001b[0m \u001b[0mGRB\u001b[0m\u001b[0;34m.\u001b[0m\u001b[0mMINIMIZE\u001b[0m\u001b[0;34m)\u001b[0m\u001b[0;34m\u001b[0m\u001b[0;34m\u001b[0m\u001b[0m\n",
      "\u001b[0;32msrc/gurobipy/mvar.pxi\u001b[0m in \u001b[0;36mgurobipy.MVar.__eq__\u001b[0;34m()\u001b[0m\n",
      "\u001b[0;32msrc/gurobipy/mlinexpr.pxi\u001b[0m in \u001b[0;36mgurobipy.MLinExpr.__eq__\u001b[0;34m()\u001b[0m\n",
      "\u001b[0;32msrc/gurobipy/mlinexpr.pxi\u001b[0m in \u001b[0;36mgurobipy.MLinExpr.__sub__\u001b[0;34m()\u001b[0m\n",
      "\u001b[0;31mTypeError\u001b[0m: bad operand type for unary -: 'GenExpr'"
     ]
    }
   ],
   "source": [
    "ks_stat = m.addMVar(1, vtype=GRB.CONTINUOUS)\n",
    "m.addConstr(ks_stat == gp.max_(gp.abs_(cumulative_diff[0])))\n",
    "m.setObjective(ks_stat, GRB.MINIMIZE)"
   ]
  },
  {
   "cell_type": "code",
   "execution_count": null,
   "id": "46f62990",
   "metadata": {},
   "outputs": [],
   "source": [
    "gp.max_(gp.abs_(cumulative_diff))"
   ]
  },
  {
   "cell_type": "markdown",
   "id": "8af6707d",
   "metadata": {},
   "source": [
    "# OK, I think I can trick it into making a vector that has the max of the cumulative distribution at each point. Then just us the @ opperator with a vector that has all zeros except for 1 at the final element? Sure, why not."
   ]
  },
  {
   "cell_type": "code",
   "execution_count": null,
   "id": "080eeb74",
   "metadata": {},
   "outputs": [],
   "source": []
  }
 ],
 "metadata": {
  "kernelspec": {
   "display_name": "Python 3",
   "language": "python",
   "name": "python3"
  },
  "language_info": {
   "codemirror_mode": {
    "name": "ipython",
    "version": 3
   },
   "file_extension": ".py",
   "mimetype": "text/x-python",
   "name": "python",
   "nbconvert_exporter": "python",
   "pygments_lexer": "ipython3",
   "version": "3.8.8"
  }
 },
 "nbformat": 4,
 "nbformat_minor": 5
}
