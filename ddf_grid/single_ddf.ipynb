{
 "cells": [
  {
   "cell_type": "code",
   "execution_count": 1,
   "id": "13b0a9d3",
   "metadata": {},
   "outputs": [],
   "source": [
    "import numpy as np\n",
    "import gurobipy as gp\n",
    "from gurobipy import GRB\n",
    "import scipy.sparse as sp\n",
    "from scipy.stats import binned_statistic\n",
    "import matplotlib.pylab as plt\n",
    "%matplotlib inline"
   ]
  },
  {
   "cell_type": "code",
   "execution_count": 2,
   "id": "fbba7b58",
   "metadata": {},
   "outputs": [],
   "source": [
    "# from MAF. Should eventually go to sims_utils\n",
    "def calcSeason(ra, time):\n",
    "    \"\"\"Calculate the 'season' in the survey for a series of ra/dec/time values of an observation.\n",
    "    Based only on the RA of the point on the sky, it calculates the 'season' based on when this\n",
    "    point would be overhead .. the season is considered +/- 0.5 years around this time.\n",
    "\n",
    "    Parameters\n",
    "    ----------\n",
    "    ra : float\n",
    "        The RA (in degrees) of the point on the sky\n",
    "    time : np.ndarray\n",
    "        The times of the observations, in MJD\n",
    "\n",
    "    Returns\n",
    "    -------\n",
    "    np.ndarray\n",
    "        The season values\n",
    "    \"\"\"\n",
    "    # Reference RA and equinox to anchor ra/season reference - RA = 0 is overhead at autumnal equinox\n",
    "    # autumn equinox 2014 happened on september 23 --> equinox MJD\n",
    "    Equinox = 2456923.5 - 2400000.5\n",
    "    # convert ra into 'days'\n",
    "    dayRA = ra / 360 * 365.25\n",
    "    firstSeasonBegan = Equinox + dayRA - 0.5 * 365.25\n",
    "    seasons = (time - firstSeasonBegan) / 365.25\n",
    "    # Set first season to 0\n",
    "    seasons = seasons - np.floor(np.min(seasons))\n",
    "    return seasons"
   ]
  },
  {
   "cell_type": "code",
   "execution_count": 3,
   "id": "15ab2717",
   "metadata": {},
   "outputs": [],
   "source": [
    "ddf_data = np.load('ddf_grid.npz')\n",
    "ddf_grid = ddf_data['ddf_grid'].copy()\n",
    "\n",
    "# XXX-- double check that I got this right\n",
    "ack = ddf_grid['sun_alt'][0:-1] * ddf_grid['sun_alt'][1:]\n",
    "night = np.zeros(ddf_grid.size, dtype=int)\n",
    "night[np.where((ddf_grid['sun_alt'][1:] >=0) & (ack < 0))] += 1\n",
    "night = np.cumsum(night)"
   ]
  },
  {
   "cell_type": "code",
   "execution_count": 4,
   "id": "df5b019f",
   "metadata": {},
   "outputs": [
    {
     "data": {
      "text/plain": [
       "array([(60218.        , -0.29811383, 1.80175978, 21.90519431, 24.09010789,  -15.87772901, nan, nan, -12.88972328, nan, nan, -1.32240592, nan, nan, 10.11455854, nan, nan, 25.73116666, nan, nan),\n",
       "       (60218.01041667, -0.35266804, 1.68622247, 22.01955751, 24.20762808, -148.93641028, nan, nan, -31.85669643, nan, nan, -1.27536809, nan, nan,  7.61004813, nan, nan, 14.10008807, nan, nan),\n",
       "       (60218.02083333, -0.40660643, 1.58724299, 20.50823798, 23.57185679,   20.09596041, nan, nan,  62.66969967, nan, nan, -1.2365772 , nan, nan,  6.05980576, nan, nan,  9.58994955, nan, nan),\n",
       "       ...,\n",
       "       (63870.46874915,  0.18514584, 0.        ,         nan,         nan,    0.        , nan, nan,   0.        ,  0., inf,  0.        ,  0., inf,  0.        ,  0., inf,  0.        ,  0., inf),\n",
       "       (63870.47916582,  0.24161748, 0.        ,         nan,         nan,    0.        , nan, nan,   0.        ,  0., inf,  0.        ,  0., inf,  0.        ,  0., inf,  0.        ,  0., inf),\n",
       "       (63870.48958248,  0.29793358, 0.        ,         nan,         nan,    0.        , nan, nan,   0.        ,  0., inf,  0.        ,  0., inf,  0.        ,  0., inf,  0.        ,  0., inf)],\n",
       "      dtype=[('mjd', '<f8'), ('sun_alt', '<f8'), ('ELAISS1_airmass', '<f8'), ('ELAISS1_sky_g', '<f8'), ('ELAISS1_m5_g', '<f8'), ('XMM_LSS_airmass', '<f8'), ('XMM_LSS_sky_g', '<f8'), ('XMM_LSS_m5_g', '<f8'), ('ECDFS_airmass', '<f8'), ('ECDFS_sky_g', '<f8'), ('ECDFS_m5_g', '<f8'), ('COSMOS_airmass', '<f8'), ('COSMOS_sky_g', '<f8'), ('COSMOS_m5_g', '<f8'), ('EDFS_a_airmass', '<f8'), ('EDFS_a_sky_g', '<f8'), ('EDFS_a_m5_g', '<f8'), ('EDFS_b_airmass', '<f8'), ('EDFS_b_sky_g', '<f8'), ('EDFS_b_m5_g', '<f8')])"
      ]
     },
     "execution_count": 4,
     "metadata": {},
     "output_type": "execute_result"
    }
   ],
   "source": [
    "ddf_grid"
   ]
  },
  {
   "cell_type": "code",
   "execution_count": 5,
   "id": "696d5114",
   "metadata": {
    "scrolled": false
   },
   "outputs": [
    {
     "data": {
      "text/plain": [
       "14.99999999650754"
      ]
     },
     "execution_count": 5,
     "metadata": {},
     "output_type": "execute_result"
    }
   ],
   "source": [
    "# check what the timestep is\n",
    "24*60*(ddf_grid['mjd'][1] - ddf_grid['mjd'][0])"
   ]
  },
  {
   "cell_type": "code",
   "execution_count": 6,
   "id": "3bd0a8dc",
   "metadata": {},
   "outputs": [],
   "source": [
    "season = calcSeason(9.45, ddf_grid['mjd'])"
   ]
  },
  {
   "cell_type": "code",
   "execution_count": 7,
   "id": "e088dca4",
   "metadata": {},
   "outputs": [
    {
     "data": {
      "text/plain": [
       "array([0.49496834, 0.49499686, 0.49502538, ..., 0.49488278, 0.4949113 ,\n",
       "       0.49493982])"
      ]
     },
     "execution_count": 7,
     "metadata": {},
     "output_type": "execute_result"
    }
   ],
   "source": [
    "season % 1 # Can set things to be 0 when out of season, and 1 in season. Then do a cumsum, normalize, maybe round."
   ]
  },
  {
   "cell_type": "code",
   "execution_count": 8,
   "id": "dcc5cb30",
   "metadata": {},
   "outputs": [
    {
     "name": "stdout",
     "output_type": "stream",
     "text": [
      "Academic license - for non-commercial use only - expires 2021-12-19\n",
      "Using license file /Users/yoachim/Dropbox/Apps/Gurobi/gurobi.lic\n"
     ]
    }
   ],
   "source": [
    "m = gp.Model(\"try_sched\")"
   ]
  },
  {
   "cell_type": "code",
   "execution_count": 11,
   "id": "2c34c5b4",
   "metadata": {},
   "outputs": [],
   "source": [
    "ngrid = ddf_grid['mjd'].size\n",
    "sun_limit = np.radians(-18.)\n",
    "airmass_limit = 2.1  \n",
    "sky_limit = 22. #20. #21.5 #22.\n",
    "zeropoint = 25.0  # mags\n",
    "sequence_limit = 400 #230\n",
    "pause_time = 13/24.  # days\n",
    "RA = 9.45  # RA of the DDF\n",
    "delta_t = ddf_grid['mjd'][1] - ddf_grid['mjd'][0]\n",
    "\n",
    "# Let's try scheduling just one for now\n",
    "schedule = m.addMVar(ngrid, vtype=GRB.BINARY, name=\"pointing_1\")\n",
    "\n",
    "# set a sun mask\n",
    "sun_mask = np.zeros(ngrid, dtype=bool)\n",
    "sun_mask[np.where(ddf_grid['sun_alt'] >= sun_limit)] = 1\n",
    "\n",
    "airmass_mask = np.zeros(ngrid, dtype=bool)\n",
    "airmass_mask[np.where(ddf_grid['ELAISS1_airmass'] >= airmass_limit)] = 1\n",
    "\n",
    "sky_mask = np.zeros(ngrid, dtype=bool)\n",
    "sky_mask[np.where(ddf_grid['ELAISS1_sky_g'] <= sky_limit)] = 1\n",
    "sky_mask[np.where(np.isnan(ddf_grid['ELAISS1_sky_g']) == True)] = 1\n",
    "\n",
    "# Let's add the constraints\n",
    "m.addConstr(schedule @ sun_mask == 0)\n",
    "m.addConstr(schedule @ airmass_mask == 0)\n",
    "m.addConstr(schedule @ sky_mask == 0)\n",
    "\n",
    "# limit the total number of ddf sequences\n",
    "# HA! Need to set an exact number I think. Or maybe a range.\n",
    "m.addConstr(schedule.sum() == sequence_limit)\n",
    "\n",
    "\n",
    "# prevent a repeat sequence in a night\n",
    "unights, indx = np.unique(night, return_index=True)\n",
    "night_mjd = ddf_grid['mjd'][indx]\n",
    "# The season of each night\n",
    "night_season = calcSeason(RA, night_mjd)\n",
    "sched_night = m.addMVar(unights.size, vtype=GRB.INTEGER)\n",
    "for i,n in enumerate(unights):\n",
    "    in_night = np.where(night == n)[0]\n",
    "    m.addConstr(schedule[in_night]@schedule[in_night] <= 1)\n",
    "    m.addConstr(sched_night[i] == schedule[in_night].sum())"
   ]
  },
  {
   "cell_type": "code",
   "execution_count": null,
   "id": "e0daba81",
   "metadata": {},
   "outputs": [],
   "source": []
  },
  {
   "cell_type": "code",
   "execution_count": 12,
   "id": "1fa0aa08",
   "metadata": {},
   "outputs": [],
   "source": [
    "blank = np.ones(ngrid, dtype=int)\n",
    "blank[np.where(sky_mask == 1)] = 0\n",
    "blank[np.where(airmass_mask == 1)] = 0\n",
    "blank[np.where(sun_mask == 1)] = 0\n",
    "bins = np.arange(np.min(night)-0.5, np.max(night)+1.5)\n",
    "slots_per_night, _be, _bn = binned_statistic(night, blank, statistic=np.sum, bins=bins)\n",
    "\n",
    "# Let's modify so it's equal weight any place there are more than N slots in a night\n",
    "slot_limit = 1\n",
    "slots_per_night[np.where(slots_per_night < slot_limit)] = 0\n",
    "slots_per_night[np.where(slots_per_night >= slot_limit)] = 1\n",
    "\n",
    "\n",
    "# ok, let's forbid 4 day gaps:\n",
    "# that was fun, splits the median peak at 4 into 3 and 5.\n",
    "#m.addConstr(sched_night[:-4]@sched_night[4:] == 0)\n"
   ]
  },
  {
   "cell_type": "code",
   "execution_count": 13,
   "id": "090deff4",
   "metadata": {},
   "outputs": [],
   "source": [
    "#slots_per_night\n",
    "#cumulative_desired = np.cumsum(slots_per_night)\n",
    "#cumulative_desired = cumulative_desired/cumulative_desired.max()*sequence_limit\n",
    "# what happens if I put a floor on this to make my desired one discrete?\n",
    "# Makes it go blazing fast agian, that's for sure!\n",
    "# cumulative_desired = np.round(cumulative_desired)\n",
    "\n",
    "raw_obs = np.ones(unights.size)\n",
    "# take out the ones that are out of season\n",
    "season_mod = night_season % 1\n",
    "# 7.2 month observing season if season_frac = 0.2\n",
    "season_frac = 0.2\n",
    "out_season = np.where((season_mod < season_frac) | (season_mod > (1.-season_frac)))\n",
    "raw_obs[out_season] = 0\n",
    "cumulative_desired = np.cumsum(raw_obs)\n",
    "cumulative_desired = cumulative_desired/cumulative_desired.max()*sequence_limit\n",
    "\n",
    "# Makes it go blazing fast agian, that's for sure!\n",
    "cumulative_desired = np.round(cumulative_desired)\n",
    "\n"
   ]
  },
  {
   "cell_type": "code",
   "execution_count": 15,
   "id": "60429775",
   "metadata": {},
   "outputs": [],
   "source": [
    "# Let's compute the potential energy of the distribution and minimize that\n",
    "position = np.arange(unights.size)\n",
    "# Here's an objective that works\n",
    "#obj = sched_night[:-1]@sched_night[1:] + sched_night[:-2]@sched_night[2:]*0.5 + sched_night[:-3]@sched_night[3:]*(1./3)\n",
    "obj = sched_night[:-1]@sched_night[1:]\n",
    "for i in range(2,5):\n",
    "    obj += sched_night[:-i]@sched_night[i:]*(1./i)\n",
    "\n",
    "\n",
    "# Compute t_eff, something we want to maximize\n",
    "t_eff = 10.**(.08*(ddf_grid['ELAISS1_m5_g']-zeropoint))\n",
    "t_eff[np.where(np.isnan(t_eff) == True)] = 0\n",
    "t_eff[np.where(np.isinf(t_eff) == True)] = 0\n"
   ]
  },
  {
   "cell_type": "code",
   "execution_count": 16,
   "id": "7e503f8b",
   "metadata": {},
   "outputs": [
    {
     "data": {
      "text/plain": [
       "9.45"
      ]
     },
     "execution_count": 16,
     "metadata": {},
     "output_type": "execute_result"
    }
   ],
   "source": [
    "RA"
   ]
  },
  {
   "cell_type": "code",
   "execution_count": 17,
   "id": "c6a3eb9f",
   "metadata": {},
   "outputs": [],
   "source": [
    "\n",
    "# Cumulative number of scheduled events (by night, to avoid huge loop)\n",
    "cumulative_sched = m.addMVar(unights.size, vtype=GRB.INTEGER)\n",
    "cumulative_diff = m.addMVar(unights.size, vtype=GRB.INTEGER, lb=-sequence_limit, ub=sequence_limit)\n",
    "\n",
    "cumulative_dmax = m.addMVar(unights.size, vtype=GRB.INTEGER)\n",
    "\n",
    "\n",
    "m.addConstr(cumulative_sched[0] == sched_night[0])\n",
    "\n",
    "#linear_cumulative = np.arange(unights.size)\n",
    "#linear_cumulative = linear_cumulative/np.max(linear_cumulative) * sequence_limit\n",
    "#m.addConstr(cumulative_diff[0] == cumulative_sched[0] - linear_cumulative[0])\n",
    "m.addConstr(cumulative_diff[0] == cumulative_sched[0] - cumulative_desired[0])\n",
    "\n",
    "\n",
    "for i in np.arange(1,unights.size):\n",
    "    m.addConstr(cumulative_sched[i] == cumulative_sched[i-1]+sched_night[i])\n",
    "    m.addConstr(cumulative_diff[i] == cumulative_sched[i] - cumulative_desired[i])\n",
    "    "
   ]
  },
  {
   "cell_type": "code",
   "execution_count": 18,
   "id": "828f090d",
   "metadata": {},
   "outputs": [
    {
     "data": {
      "text/plain": [
       "<(3654,) matrix variable>"
      ]
     },
     "execution_count": 18,
     "metadata": {},
     "output_type": "execute_result"
    }
   ],
   "source": [
    "cumulative_diff"
   ]
  },
  {
   "cell_type": "code",
   "execution_count": 19,
   "id": "bd127676",
   "metadata": {},
   "outputs": [
    {
     "data": {
      "text/plain": [
       "(21.0, 23.0)"
      ]
     },
     "execution_count": 19,
     "metadata": {},
     "output_type": "execute_result"
    },
    {
     "data": {
      "image/png": "[encoded data removed]",
      "text/plain": [
       "<Figure size 432x288 with 1 Axes>"
      ]
     },
     "metadata": {
      "needs_background": "light"
     },
     "output_type": "display_data"
    }
   ],
   "source": [
    "plt.plot(ddf_grid['mjd'], ddf_grid['ELAISS1_sky_g'])\n",
    "plt.ylim([21,23])"
   ]
  },
  {
   "cell_type": "code",
   "execution_count": null,
   "id": "50b9eeb9",
   "metadata": {},
   "outputs": [],
   "source": []
  },
  {
   "cell_type": "code",
   "execution_count": 20,
   "id": "9b1c651b",
   "metadata": {},
   "outputs": [],
   "source": [
    "# maximize the t_eff\n",
    "#m.setObjective(t_eff@schedule, GRB.MAXIMIZE)\n",
    "# minimize the potential energy\n",
    "#m.setObjective(obj, GRB.MINIMIZE)\n",
    "# Try to match a CDF\n",
    "m.setObjective(cumulative_diff@cumulative_diff, GRB.MINIMIZE)"
   ]
  },
  {
   "cell_type": "code",
   "execution_count": 21,
   "id": "a8a7d651",
   "metadata": {},
   "outputs": [
    {
     "name": "stdout",
     "output_type": "stream",
     "text": [
      "Changed value of parameter TimeLimit to 200.0\n",
      "   Prev: inf  Min: 0.0  Max: inf  Default: inf\n",
      "Gurobi Optimizer version 9.1.2 build v9.1.2rc0 (mac64)\n",
      "Thread count: 2 physical cores, 4 logical processors, using up to 4 threads\n",
      "Optimize a model with 10966 rows, 715896 columns and 1302677 nonzeros\n",
      "Model fingerprint: 0xb177e9c6\n",
      "Model has 3654 quadratic objective terms\n",
      "Model has 3654 quadratic constraints\n",
      "Variable types: 0 continuous, 715896 integer (701280 binary)\n",
      "Coefficient statistics:\n",
      "  Matrix range     [1e+00, 1e+00]\n",
      "  QMatrix range    [1e+00, 1e+00]\n",
      "  Objective range  [0e+00, 0e+00]\n",
      "  QObjective range [2e+00, 2e+00]\n",
      "  Bounds range     [1e+00, 4e+02]\n",
      "  RHS range        [1e+00, 4e+02]\n",
      "  QRHS range       [1e+00, 1e+00]\n",
      "Presolve removed 7312 rows and 710579 columns\n",
      "Presolve time: 0.74s\n",
      "Presolved: 3654 rows, 5317 columns, 10633 nonzeros\n",
      "Presolved model has 3653 quadratic objective terms\n",
      "Variable types: 0 continuous, 5317 integer (1664 binary)\n",
      "\n",
      "Root relaxation: objective 6.031681e+02, 7501 iterations, 0.27 seconds\n",
      "\n",
      "    Nodes    |    Current Node    |     Objective Bounds      |     Work\n",
      " Expl Unexpl |  Obj  Depth IntInf | Incumbent    BestBd   Gap | It/Node Time\n",
      "\n",
      "     0     0  603.16806    0 2131          -  603.16806      -     -    1s\n",
      "H    0     0                     708.0000000  603.16806  14.8%     -    1s\n",
      "     0     0  608.44765    0 1457  708.00000  608.44765  14.1%     -    1s\n",
      "     0     0  612.12126    0 1311  708.00000  612.12126  13.5%     -    1s\n",
      "     0     0  616.78333    0 1164  708.00000  616.78333  12.9%     -    2s\n",
      "     0     0  616.78333    0 1164  708.00000  616.78333  12.9%     -    2s\n",
      "     0     2  616.78333    0 1164  708.00000  616.78333  12.9%     -    2s\n",
      "   531   423  669.11059    8  640  708.00000  664.82837  6.10%   2.0    5s\n",
      "  1232   779  700.04862   50  260  708.00000  665.39590  6.02%   7.3   10s\n",
      "  2378  1208  696.70418   47  291  708.00000  669.87982  5.38%   4.8   15s\n",
      "  3489  1962  702.46389   52  209  708.00000  672.15254  5.06%   4.0   20s\n",
      "  4680  2792  695.38046   40  375  708.00000  674.20709  4.77%   3.5   25s\n",
      "  5737  3431  693.14940   27  530  708.00000  675.20709  4.63%   3.3   30s\n",
      "  6584  3952  682.64940   25  558  708.00000  675.89940  4.53%   3.2   35s\n",
      "  7908  4774  680.24536   31  478  708.00000  677.15254  4.36%   3.0   41s\n",
      "  8840  5315  679.89940   24  572  708.00000  677.60709  4.29%   2.9   46s\n",
      " 10281  6231  699.44637   39  372  708.00000  678.60709  4.15%   2.8   51s\n",
      " 11069  6694  686.88172   33  452  708.00000  678.89940  4.11%   2.8   55s\n",
      " 12334  7405  701.06941   49  259  708.00000  679.60709  4.01%   2.8   62s\n",
      " 12761  7637  692.25546   37  406  708.00000  679.64940  4.00%   2.7   65s\n",
      " 13171  7717  684.46758   30  489  708.00000  679.89940  3.97%   2.7   81s\n",
      " 14163  8416  702.29452   40  293  708.00000  680.20709  3.93%   2.7   85s\n",
      " 15866  9449  694.32213   38  389  708.00000  680.89940  3.83%   2.7   90s\n",
      " 17172 10209  696.25546   38  395  708.00000  681.20709  3.78%   2.6   95s\n",
      " 18854 11062  699.19227   43  297  708.00000  681.64940  3.72%   2.6  100s\n",
      " 20518 12010  692.92213   33  450  708.00000  682.17718  3.65%   2.6  112s\n",
      " 21793 12657  697.61578   36  395  708.00000  682.39940  3.62%   2.6  115s\n",
      " 23885 13753 infeasible   49       708.00000  682.89940  3.55%   2.6  120s\n",
      " 25920 14799  688.47768   35  428  708.00000  683.28576  3.49%   2.6  125s\n",
      " 27562 15622  686.10394   32  463  708.00000  683.64940  3.44%   2.5  130s\n",
      " 28834 16268  698.70354   48  269  708.00000  683.69990  3.43%   2.5  135s\n",
      " 30559 17076  702.21641   36  366  708.00000  683.89940  3.40%   2.5  140s\n",
      " 32193 17888  704.36096   46  238  708.00000  684.24536  3.36%   2.5  145s\n",
      " 33869 18681  685.28576   31  476  708.00000  684.46758  3.32%   2.5  150s\n",
      " 35581 19530  685.39940   26  544  708.00000  684.64940  3.30%   2.5  155s\n",
      " 37297 20304  700.67838   49  245  708.00000  684.89940  3.26%   2.5  161s\n",
      " 38653 20953  697.39355   37  384  708.00000  684.89940  3.26%   2.5  165s\n",
      " 40355 21755  687.46758   30  489  708.00000  685.14940  3.23%   2.5  170s\n",
      " 41971 22616  699.60189   41  338  708.00000  685.39940  3.19%   2.5  176s\n",
      " 43380 23307  703.24584   45  315  708.00000  685.46758  3.18%   2.5  181s\n",
      " 44659 23925  686.46758   30  489  708.00000  685.64940  3.16%   2.5  186s\n",
      " 46098 24618  704.70198   44  247  708.00000  685.64940  3.16%   2.5  190s\n",
      " 47769 25407  700.94786   48  248  708.00000  685.88172  3.12%   2.5  196s\n",
      " 49203 25919  688.89940   28  516  708.00000  685.89940  3.12%   2.5  200s\n",
      "\n",
      "Explored 49336 nodes (130670 simplex iterations) in 201.05 seconds\n",
      "Thread count was 4 (of 4 available processors)\n",
      "\n",
      "Solution count 1: 708 \n",
      "\n",
      "Time limit reached\n",
      "Best objective 7.080000000000e+02, best bound 6.860000000000e+02, gap 3.1073%\n"
     ]
    }
   ],
   "source": [
    "m.Params.TimeLimit = 200\n",
    "m.optimize()"
   ]
  },
  {
   "cell_type": "code",
   "execution_count": 22,
   "id": "f6cb46da",
   "metadata": {},
   "outputs": [],
   "source": [
    "result_array = schedule.X"
   ]
  },
  {
   "cell_type": "code",
   "execution_count": null,
   "id": "0a877f1c",
   "metadata": {},
   "outputs": [],
   "source": []
  },
  {
   "cell_type": "code",
   "execution_count": 23,
   "id": "192baf38",
   "metadata": {},
   "outputs": [
    {
     "data": {
      "text/plain": [
       "[<matplotlib.lines.Line2D at 0x143698d00>]"
      ]
     },
     "execution_count": 23,
     "metadata": {},
     "output_type": "execute_result"
    },
    {
     "data": {
      "image/png": "[encoded data removed]",
      "text/plain": [
       "<Figure size 432x288 with 1 Axes>"
      ]
     },
     "metadata": {
      "needs_background": "light"
     },
     "output_type": "display_data"
    }
   ],
   "source": [
    "plt.plot(ddf_grid['mjd'], ddf_grid['ELAISS1_sky_g'])\n",
    "plt.ylim([21,23])\n",
    "sched = np.where(result_array > 0)[0]\n",
    "plt.plot(ddf_grid['mjd'][sched], ddf_grid['ELAISS1_sky_g'][sched], 'ko')"
   ]
  },
  {
   "cell_type": "code",
   "execution_count": 24,
   "id": "f1528622",
   "metadata": {},
   "outputs": [
    {
     "data": {
      "text/plain": [
       "(60000.0, 60500.0)"
      ]
     },
     "execution_count": 24,
     "metadata": {},
     "output_type": "execute_result"
    },
    {
     "data": {
      "image/png": "[encoded data removed]",
      "text/plain": [
       "<Figure size 432x288 with 1 Axes>"
      ]
     },
     "metadata": {
      "needs_background": "light"
     },
     "output_type": "display_data"
    }
   ],
   "source": [
    "plt.plot(ddf_grid['mjd'], ddf_grid['ELAISS1_sky_g'])\n",
    "plt.ylim([21,23])\n",
    "sched = np.where(result_array > 0)[0]\n",
    "plt.plot(ddf_grid['mjd'][sched], ddf_grid['ELAISS1_sky_g'][sched], 'ko')\n",
    "plt.xlim(60000, 60500)"
   ]
  },
  {
   "cell_type": "code",
   "execution_count": 25,
   "id": "66a78137",
   "metadata": {},
   "outputs": [
    {
     "data": {
      "text/plain": [
       "(array([15, 16, 17, 18, 19]),)"
      ]
     },
     "execution_count": 25,
     "metadata": {},
     "output_type": "execute_result"
    }
   ],
   "source": [
    "np.where( (ddf_grid['mjd'][sched] > 60300) & (ddf_grid['mjd'][sched] < 60400))"
   ]
  },
  {
   "cell_type": "code",
   "execution_count": null,
   "id": "9051a227",
   "metadata": {},
   "outputs": [],
   "source": [
    "\n",
    "#ack = ddf_grid['DD:ELAISS1_airmass'][np.where((ddf_grid['mjd'] > 60300) & (ddf_grid['mjd'] < 60400))]\n",
    "#ack[np.where((ack > 1) & (ack < 2.5))]"
   ]
  },
  {
   "cell_type": "code",
   "execution_count": 28,
   "id": "e219d19b",
   "metadata": {},
   "outputs": [
    {
     "data": {
      "text/plain": [
       "(60500.0, 60700.0)"
      ]
     },
     "execution_count": 28,
     "metadata": {},
     "output_type": "execute_result"
    },
    {
     "data": {
      "image/png": "[encoded data removed]",
      "text/plain": [
       "<Figure size 432x288 with 1 Axes>"
      ]
     },
     "metadata": {
      "needs_background": "light"
     },
     "output_type": "display_data"
    }
   ],
   "source": [
    "plt.plot(ddf_grid['mjd'], ddf_grid['ELAISS1_sky_g'])\n",
    "plt.ylim([21,23])\n",
    "sched = np.where(result_array > 0)[0]\n",
    "plt.plot(ddf_grid['mjd'][sched], ddf_grid['ELAISS1_sky_g'][sched], 'ko')\n",
    "plt.xlim(60500, 60700)"
   ]
  },
  {
   "cell_type": "code",
   "execution_count": 31,
   "id": "492cbeaa",
   "metadata": {},
   "outputs": [
    {
     "data": {
      "text/plain": [
       "(60525.0, 60550.0)"
      ]
     },
     "execution_count": 31,
     "metadata": {},
     "output_type": "execute_result"
    },
    {
     "data": {
      "image/png": "[encoded data removed]",
      "text/plain": [
       "<Figure size 432x288 with 1 Axes>"
      ]
     },
     "metadata": {
      "needs_background": "light"
     },
     "output_type": "display_data"
    }
   ],
   "source": [
    "plt.plot(ddf_grid['mjd'], ddf_grid['ELAISS1_sky_g'])\n",
    "plt.ylim([18,23])\n",
    "sched = np.where(result_array > 0)[0]\n",
    "plt.plot(ddf_grid['mjd'][sched], ddf_grid['ELAISS1_sky_g'][sched], 'ko')\n",
    "plt.xlim(60525, 60550)"
   ]
  },
  {
   "cell_type": "code",
   "execution_count": null,
   "id": "0e3122f0",
   "metadata": {},
   "outputs": [],
   "source": [
    "# can try to also optimize uniformity! Could use the KS statistic. \n",
    "\n",
    "# Good answer on how to do a cumulative sum here:  https://stackoverflow.com/questions/55840816/gurobi-prefix-sum-optimization"
   ]
  },
  {
   "cell_type": "code",
   "execution_count": null,
   "id": "700fb055",
   "metadata": {},
   "outputs": [],
   "source": [
    "#m.setObjective(gp.max_(cumulative_diff), GRB.MINIMIZE)"
   ]
  },
  {
   "cell_type": "code",
   "execution_count": 32,
   "id": "b01ef952",
   "metadata": {},
   "outputs": [
    {
     "data": {
      "image/png": "[encoded data removed]",
      "text/plain": [
       "<Figure size 432x288 with 1 Axes>"
      ]
     },
     "metadata": {
      "needs_background": "light"
     },
     "output_type": "display_data"
    }
   ],
   "source": [
    "ack = plt.hist(np.diff(ddf_grid['mjd'][sched]), bins=150)"
   ]
  },
  {
   "cell_type": "code",
   "execution_count": 33,
   "id": "a34893e3",
   "metadata": {},
   "outputs": [
    {
     "data": {
      "image/png": "[encoded data removed]",
      "text/plain": [
       "<Figure size 432x288 with 1 Axes>"
      ]
     },
     "metadata": {
      "needs_background": "light"
     },
     "output_type": "display_data"
    }
   ],
   "source": [
    "ack = plt.hist(np.diff(ddf_grid['mjd'][sched]), bins=np.arange(-0.5,25.5, 1))"
   ]
  },
  {
   "cell_type": "code",
   "execution_count": 34,
   "id": "58904640",
   "metadata": {},
   "outputs": [
    {
     "data": {
      "text/plain": [
       "5.0520833321570535"
      ]
     },
     "execution_count": 34,
     "metadata": {},
     "output_type": "execute_result"
    }
   ],
   "source": [
    "np.median(np.diff(ddf_grid['mjd'][sched]))"
   ]
  },
  {
   "cell_type": "code",
   "execution_count": 35,
   "id": "2e5d9454",
   "metadata": {},
   "outputs": [
    {
     "data": {
      "text/plain": [
       "-1.0"
      ]
     },
     "execution_count": 35,
     "metadata": {},
     "output_type": "execute_result"
    }
   ],
   "source": [
    "cumulative_diff.X.min()"
   ]
  },
  {
   "cell_type": "code",
   "execution_count": 36,
   "id": "708b1e42",
   "metadata": {},
   "outputs": [
    {
     "data": {
      "text/plain": [
       "4.0"
      ]
     },
     "execution_count": 36,
     "metadata": {},
     "output_type": "execute_result"
    }
   ],
   "source": [
    "cumulative_diff.X.max()"
   ]
  },
  {
   "cell_type": "code",
   "execution_count": 37,
   "id": "ba6548c6",
   "metadata": {},
   "outputs": [
    {
     "data": {
      "text/plain": [
       "array([0., 0., 0., ..., 0., 0., 0.])"
      ]
     },
     "execution_count": 37,
     "metadata": {},
     "output_type": "execute_result"
    }
   ],
   "source": [
    "cumulative_diff.X"
   ]
  },
  {
   "cell_type": "code",
   "execution_count": null,
   "id": "c76f2cf8",
   "metadata": {},
   "outputs": [],
   "source": []
  },
  {
   "cell_type": "code",
   "execution_count": 38,
   "id": "adefbf8f",
   "metadata": {},
   "outputs": [
    {
     "data": {
      "text/plain": [
       "Text(0, 0.5, 'Cumulative nuumber of events')"
      ]
     },
     "execution_count": 38,
     "metadata": {},
     "output_type": "execute_result"
    },
    {
     "data": {
      "image/png": "[encoded data removed]",
      "text/plain": [
       "<Figure size 432x288 with 1 Axes>"
      ]
     },
     "metadata": {
      "needs_background": "light"
     },
     "output_type": "display_data"
    }
   ],
   "source": [
    "plt.plot(cumulative_sched.X)\n",
    "plt.plot(cumulative_desired)\n",
    "plt.xlabel('MJD')\n",
    "plt.ylabel('Cumulative nuumber of events')"
   ]
  },
  {
   "cell_type": "code",
   "execution_count": 44,
   "id": "7c38aabd",
   "metadata": {},
   "outputs": [
    {
     "data": {
      "text/plain": [
       "<matplotlib.legend.Legend at 0x14272fe80>"
      ]
     },
     "execution_count": 44,
     "metadata": {},
     "output_type": "execute_result"
    },
    {
     "data": {
      "image/png": "[encoded data removed]",
      "text/plain": [
       "<Figure size 432x288 with 1 Axes>"
      ]
     },
     "metadata": {
      "needs_background": "light"
     },
     "output_type": "display_data"
    }
   ],
   "source": [
    "plt.plot(cumulative_sched.X, label='Scheduled')\n",
    "plt.plot(cumulative_desired, label='Desired')\n",
    "plt.xlim([0,365*2])\n",
    "plt.ylim(0,100)\n",
    "plt.xlabel('MJD')\n",
    "plt.ylabel('Cumulative number of events')\n",
    "plt.legend()"
   ]
  },
  {
   "cell_type": "markdown",
   "id": "7b5f5354",
   "metadata": {},
   "source": [
    "## plt.plot(cumulative_diff.X)\n",
    "plt.xlabel('MJD')\n",
    "plt.ylabel('Cumulative number of events desired-actual')"
   ]
  },
  {
   "cell_type": "code",
   "execution_count": null,
   "id": "594fb260",
   "metadata": {},
   "outputs": [],
   "source": []
  },
  {
   "cell_type": "code",
   "execution_count": null,
   "id": "46f62990",
   "metadata": {},
   "outputs": [],
   "source": []
  },
  {
   "cell_type": "markdown",
   "id": "8af6707d",
   "metadata": {},
   "source": [
    "# I can have an objective function that works for effective exposure time. I have an objective function that maximizes potential energy of the distribution. I can't have too many terms in that one though, or it slows down. Maybe I need an objective that tries to make the distribution match a uniform CDF? Or I could bin down into blocks of 10 nights, and then do the potential between those. Kind of a tree-sph thing.\n",
    "\n",
    "# Next steps\n",
    "\n",
    "* try running with the t_eff max at the same time\n",
    "* try scheduling 2 DDFs at the same time\n",
    "* try different possible CDFs (rolling and acourdian) \n",
    "* Need to make the CDF not go flat over lunar breaks to force it to cover the gaps better--looks good!"
   ]
  },
  {
   "cell_type": "code",
   "execution_count": null,
   "id": "080eeb74",
   "metadata": {},
   "outputs": [],
   "source": []
  },
  {
   "cell_type": "code",
   "execution_count": null,
   "id": "06575b78",
   "metadata": {},
   "outputs": [],
   "source": []
  },
  {
   "cell_type": "code",
   "execution_count": null,
   "id": "b933b41f",
   "metadata": {},
   "outputs": [],
   "source": []
  }
 ],
 "metadata": {
  "kernelspec": {
   "display_name": "Python 3 (ipykernel)",
   "language": "python",
   "name": "python3"
  },
  "language_info": {
   "codemirror_mode": {
    "name": "ipython",
    "version": 3
   },
   "file_extension": ".py",
   "mimetype": "text/x-python",
   "name": "python",
   "nbconvert_exporter": "python",
   "pygments_lexer": "ipython3",
   "version": "3.9.7"
  }
 },
 "nbformat": 4,
 "nbformat_minor": 5
}
