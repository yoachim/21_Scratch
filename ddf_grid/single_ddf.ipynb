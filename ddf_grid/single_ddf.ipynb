{
 "cells": [
  {
   "cell_type": "code",
   "execution_count": 1,
   "id": "13b0a9d3",
   "metadata": {},
   "outputs": [],
   "source": [
    "import numpy as np\n",
    "import gurobipy as gp\n",
    "from gurobipy import GRB\n",
    "import scipy.sparse as sp\n",
    "from scipy.stats import binned_statistic\n",
    "import matplotlib.pylab as plt\n",
    "%matplotlib inline"
   ]
  },
  {
   "cell_type": "code",
   "execution_count": 2,
   "id": "fbba7b58",
   "metadata": {},
   "outputs": [],
   "source": [
    "# from MAF. Should eventually go to sims_utils\n",
    "def calcSeason(ra, time):\n",
    "    \"\"\"Calculate the 'season' in the survey for a series of ra/dec/time values of an observation.\n",
    "    Based only on the RA of the point on the sky, it calculates the 'season' based on when this\n",
    "    point would be overhead .. the season is considered +/- 0.5 years around this time.\n",
    "\n",
    "    Parameters\n",
    "    ----------\n",
    "    ra : float\n",
    "        The RA (in degrees) of the point on the sky\n",
    "    time : np.ndarray\n",
    "        The times of the observations, in MJD\n",
    "\n",
    "    Returns\n",
    "    -------\n",
    "    np.ndarray\n",
    "        The season values\n",
    "    \"\"\"\n",
    "    # Reference RA and equinox to anchor ra/season reference - RA = 0 is overhead at autumnal equinox\n",
    "    # autumn equinox 2014 happened on september 23 --> equinox MJD\n",
    "    Equinox = 2456923.5 - 2400000.5\n",
    "    # convert ra into 'days'\n",
    "    dayRA = ra / 360 * 365.25\n",
    "    firstSeasonBegan = Equinox + dayRA - 0.5 * 365.25\n",
    "    seasons = (time - firstSeasonBegan) / 365.25\n",
    "    # Set first season to 0\n",
    "    seasons = seasons - np.floor(np.min(seasons))\n",
    "    return seasons"
   ]
  },
  {
   "cell_type": "code",
   "execution_count": 3,
   "id": "15ab2717",
   "metadata": {},
   "outputs": [],
   "source": [
    "ddf_data = np.load('ddf_grid.npz')\n",
    "ddf_grid = ddf_data['ddf_grid'].copy()\n",
    "\n",
    "# XXX-- double check that I got this right\n",
    "ack = ddf_grid['sun_alt'][0:-1] * ddf_grid['sun_alt'][1:]\n",
    "night = np.zeros(ddf_grid.size, dtype=int)\n",
    "night[np.where((ddf_grid['sun_alt'][1:] >=0) & (ack < 0))] += 1\n",
    "night = np.cumsum(night)"
   ]
  },
  {
   "cell_type": "code",
   "execution_count": 4,
   "id": "df5b019f",
   "metadata": {},
   "outputs": [
    {
     "data": {
      "text/plain": [
       "array([(59853.5       ,  0.35789797, 0.        ,         nan,         nan,  0.        , nan, nan,  0.        ,  0., inf,  0.        ,  0., inf,  0.        ,  0., inf),\n",
       "       (59853.51041667,  0.41360456, 0.        ,         nan,         nan,  0.        , nan, nan,  0.        ,  0., inf,  0.        ,  0., inf,  0.        ,  0., inf),\n",
       "       (59853.52083333,  0.46894875, 0.        ,         nan,         nan,  0.        , nan, nan,  0.        ,  0., inf,  0.        ,  0., inf,  0.        ,  0., inf),\n",
       "       ...,\n",
       "       (63505.96874915, -0.12942338, 0.        ,  0.        ,         inf, -0.        , nan, nan, -0.        , nan, nan, -0.        , nan, nan, -0.        , nan, nan),\n",
       "       (63505.97916582, -0.18569237, 0.        ,  0.        ,         inf, -0.        , nan, nan, -0.        , nan, nan, -0.        , nan, nan, -0.        , nan, nan),\n",
       "       (63505.98958248, -0.24112162, 1.90646443, 20.87839022, 23.56106875, -9.35888477, nan, nan, -8.85712875, nan, nan, -1.36598529, nan, nan, -1.41636139, nan, nan)],\n",
       "      dtype=[('mjd', '<f8'), ('sun_alt', '<f8'), ('DD:ELAISS1_airmass', '<f8'), ('DD:ELAISS1_sky_g', '<f8'), ('DD:ELAISS1_m5_g', '<f8'), ('DD:XMM-LSS_airmass', '<f8'), ('DD:XMM-LSS_sky_g', '<f8'), ('DD:XMM-LSS_m5_g', '<f8'), ('DD:ECDFS_airmass', '<f8'), ('DD:ECDFS_sky_g', '<f8'), ('DD:ECDFS_m5_g', '<f8'), ('DD:COSMOS_airmass', '<f8'), ('DD:COSMOS_sky_g', '<f8'), ('DD:COSMOS_m5_g', '<f8'), ('DD:EDFS_airmass', '<f8'), ('DD:EDFS_sky_g', '<f8'), ('DD:EDFS_m5_g', '<f8')])"
      ]
     },
     "execution_count": 4,
     "metadata": {},
     "output_type": "execute_result"
    }
   ],
   "source": [
    "ddf_grid"
   ]
  },
  {
   "cell_type": "code",
   "execution_count": 5,
   "id": "696d5114",
   "metadata": {
    "scrolled": false
   },
   "outputs": [
    {
     "data": {
      "text/plain": [
       "14.99999999650754"
      ]
     },
     "execution_count": 5,
     "metadata": {},
     "output_type": "execute_result"
    }
   ],
   "source": [
    "# check what the timestep is\n",
    "24*60*(ddf_grid['mjd'][1] - ddf_grid['mjd'][0])"
   ]
  },
  {
   "cell_type": "code",
   "execution_count": 6,
   "id": "3bd0a8dc",
   "metadata": {},
   "outputs": [],
   "source": [
    "season = calcSeason(9.45, ddf_grid['mjd'])"
   ]
  },
  {
   "cell_type": "code",
   "execution_count": 7,
   "id": "e088dca4",
   "metadata": {},
   "outputs": [
    {
     "data": {
      "text/plain": [
       "array([0.49702173, 0.49705025, 0.49707877, ..., 0.49693617, 0.49696469,\n",
       "       0.49699321])"
      ]
     },
     "execution_count": 7,
     "metadata": {},
     "output_type": "execute_result"
    }
   ],
   "source": [
    "season % 1 # Can set things to be 0 when out of season, and 1 in season. Then do a cumsum, normalize, maybe round."
   ]
  },
  {
   "cell_type": "code",
   "execution_count": 8,
   "id": "dcc5cb30",
   "metadata": {},
   "outputs": [
    {
     "name": "stdout",
     "output_type": "stream",
     "text": [
      "Academic license - for non-commercial use only - expires 2021-12-19\n",
      "Using license file /Users/yoachim/Dropbox/Apps/Gurobi/gurobi.lic\n"
     ]
    }
   ],
   "source": [
    "m = gp.Model(\"try_sched\")"
   ]
  },
  {
   "cell_type": "code",
   "execution_count": 9,
   "id": "2c34c5b4",
   "metadata": {},
   "outputs": [],
   "source": [
    "ngrid = ddf_grid['mjd'].size\n",
    "sun_limit = np.radians(-18.)\n",
    "airmass_limit = 2.1  \n",
    "sky_limit = 22. #20. #21.5 #22.\n",
    "zeropoint = 25.0  # mags\n",
    "sequence_limit = 400 #230\n",
    "pause_time = 13/24.  # days\n",
    "RA = 9.45  # RA of the DDF\n",
    "delta_t = ddf_grid['mjd'][1] - ddf_grid['mjd'][0]\n",
    "\n",
    "# Let's try scheduling just one for now\n",
    "schedule = m.addMVar(ngrid, vtype=GRB.BINARY, name=\"pointing_1\")\n",
    "\n",
    "# set a sun mask\n",
    "sun_mask = np.zeros(ngrid, dtype=bool)\n",
    "sun_mask[np.where(ddf_grid['sun_alt'] >= sun_limit)] = 1\n",
    "\n",
    "airmass_mask = np.zeros(ngrid, dtype=bool)\n",
    "airmass_mask[np.where(ddf_grid['DD:ELAISS1_airmass'] >= airmass_limit)] = 1\n",
    "\n",
    "sky_mask = np.zeros(ngrid, dtype=bool)\n",
    "sky_mask[np.where(ddf_grid['DD:ELAISS1_sky_g'] <= sky_limit)] = 1\n",
    "sky_mask[np.where(np.isnan(ddf_grid['DD:ELAISS1_sky_g']) == True)] = 1\n",
    "\n",
    "# Let's add the constraints\n",
    "m.addConstr(schedule @ sun_mask == 0)\n",
    "m.addConstr(schedule @ airmass_mask == 0)\n",
    "m.addConstr(schedule @ sky_mask == 0)\n",
    "\n",
    "# limit the total number of ddf sequences\n",
    "# HA! Need to set an exact number I think. Or maybe a range.\n",
    "m.addConstr(schedule.sum() == sequence_limit)\n",
    "\n",
    "\n",
    "# prevent a repeat sequence in a night\n",
    "unights, indx = np.unique(night, return_index=True)\n",
    "night_mjd = ddf_grid['mjd'][indx]\n",
    "# The season of each night\n",
    "night_season = calcSeason(RA, night_mjd)\n",
    "sched_night = m.addMVar(unights.size, vtype=GRB.INTEGER)\n",
    "for i,n in enumerate(unights):\n",
    "    in_night = np.where(night == n)[0]\n",
    "    m.addConstr(schedule[in_night]@schedule[in_night] <= 1)\n",
    "    m.addConstr(sched_night[i] == schedule[in_night].sum())"
   ]
  },
  {
   "cell_type": "code",
   "execution_count": 10,
   "id": "1fa0aa08",
   "metadata": {},
   "outputs": [],
   "source": [
    "blank = np.ones(ngrid, dtype=int)\n",
    "blank[np.where(sky_mask == 1)] = 0\n",
    "blank[np.where(airmass_mask == 1)] = 0\n",
    "blank[np.where(sun_mask == 1)] = 0\n",
    "bins = np.arange(np.min(night)-0.5, np.max(night)+1.5)\n",
    "slots_per_night, _be, _bn = binned_statistic(night, blank, statistic=np.sum, bins=bins)\n",
    "\n",
    "# Let's modify so it's equal weight any place there are more than N slots in a night\n",
    "slot_limit = 1\n",
    "slots_per_night[np.where(slots_per_night < slot_limit)] = 0\n",
    "slots_per_night[np.where(slots_per_night >= slot_limit)] = 1\n",
    "\n",
    "\n",
    "# ok, let's forbid 4 day gaps:\n",
    "# that was fun, splits the median peak at 4 into 3 and 5.\n",
    "#m.addConstr(sched_night[:-4]@sched_night[4:] == 0)\n"
   ]
  },
  {
   "cell_type": "code",
   "execution_count": 11,
   "id": "090deff4",
   "metadata": {},
   "outputs": [],
   "source": [
    "#slots_per_night\n",
    "#cumulative_desired = np.cumsum(slots_per_night)\n",
    "#cumulative_desired = cumulative_desired/cumulative_desired.max()*sequence_limit\n",
    "# what happens if I put a floor on this to make my desired one discrete?\n",
    "# Makes it go blazing fast agian, that's for sure!\n",
    "# cumulative_desired = np.round(cumulative_desired)\n",
    "\n",
    "raw_obs = np.ones(unights.size)\n",
    "# take out the ones that are out of season\n",
    "season_mod = night_season % 1\n",
    "# 7.2 month observing season if season_frac = 0.2\n",
    "season_frac = 0.2\n",
    "out_season = np.where((season_mod < season_frac) | (season_mod > (1.-season_frac)))\n",
    "raw_obs[out_season] = 0\n",
    "cumulative_desired = np.cumsum(raw_obs)\n",
    "cumulative_desired = cumulative_desired/cumulative_desired.max()*sequence_limit\n",
    "\n",
    "# Makes it go blazing fast agian, that's for sure!\n",
    "cumulative_desired = np.round(cumulative_desired)\n",
    "\n"
   ]
  },
  {
   "cell_type": "code",
   "execution_count": 12,
   "id": "60429775",
   "metadata": {},
   "outputs": [],
   "source": [
    "# Let's compute the potential energy of the distribution and minimize that\n",
    "position = np.arange(unights.size)\n",
    "# Here's an objective that works\n",
    "#obj = sched_night[:-1]@sched_night[1:] + sched_night[:-2]@sched_night[2:]*0.5 + sched_night[:-3]@sched_night[3:]*(1./3)\n",
    "obj = sched_night[:-1]@sched_night[1:]\n",
    "for i in range(2,5):\n",
    "    obj += sched_night[:-i]@sched_night[i:]*(1./i)\n",
    "\n",
    "\n",
    "# Compute t_eff, something we want to maximize\n",
    "t_eff = 10.**(.08*(ddf_grid['DD:ELAISS1_m5_g']-zeropoint))\n",
    "t_eff[np.where(np.isnan(t_eff) == True)] = 0\n",
    "t_eff[np.where(np.isinf(t_eff) == True)] = 0\n"
   ]
  },
  {
   "cell_type": "code",
   "execution_count": 13,
   "id": "7e503f8b",
   "metadata": {},
   "outputs": [
    {
     "data": {
      "text/plain": [
       "9.45"
      ]
     },
     "execution_count": 13,
     "metadata": {},
     "output_type": "execute_result"
    }
   ],
   "source": [
    "RA"
   ]
  },
  {
   "cell_type": "code",
   "execution_count": 14,
   "id": "c6a3eb9f",
   "metadata": {},
   "outputs": [],
   "source": [
    "\n",
    "# Cumulative number of scheduled events (by night, to avoid huge loop)\n",
    "cumulative_sched = m.addMVar(unights.size, vtype=GRB.INTEGER)\n",
    "cumulative_diff = m.addMVar(unights.size, vtype=GRB.INTEGER, lb=-sequence_limit, ub=sequence_limit)\n",
    "\n",
    "cumulative_dmax = m.addMVar(unights.size, vtype=GRB.INTEGER)\n",
    "\n",
    "\n",
    "m.addConstr(cumulative_sched[0] == sched_night[0])\n",
    "\n",
    "#linear_cumulative = np.arange(unights.size)\n",
    "#linear_cumulative = linear_cumulative/np.max(linear_cumulative) * sequence_limit\n",
    "#m.addConstr(cumulative_diff[0] == cumulative_sched[0] - linear_cumulative[0])\n",
    "m.addConstr(cumulative_diff[0] == cumulative_sched[0] - cumulative_desired[0])\n",
    "\n",
    "\n",
    "for i in np.arange(1,unights.size):\n",
    "    m.addConstr(cumulative_sched[i] == cumulative_sched[i-1]+sched_night[i])\n",
    "    m.addConstr(cumulative_diff[i] == cumulative_sched[i] - cumulative_desired[i])\n",
    "    "
   ]
  },
  {
   "cell_type": "code",
   "execution_count": 15,
   "id": "828f090d",
   "metadata": {},
   "outputs": [
    {
     "data": {
      "text/plain": [
       "<(3653,) matrix variable>"
      ]
     },
     "execution_count": 15,
     "metadata": {},
     "output_type": "execute_result"
    }
   ],
   "source": [
    "cumulative_diff"
   ]
  },
  {
   "cell_type": "code",
   "execution_count": 16,
   "id": "bd127676",
   "metadata": {},
   "outputs": [
    {
     "data": {
      "text/plain": [
       "(21.0, 23.0)"
      ]
     },
     "execution_count": 16,
     "metadata": {},
     "output_type": "execute_result"
    },
    {
     "data": {
      "image/png": "[encoded data removed]",
      "text/plain": [
       "<Figure size 432x288 with 1 Axes>"
      ]
     },
     "metadata": {
      "needs_background": "light"
     },
     "output_type": "display_data"
    }
   ],
   "source": [
    "plt.plot(ddf_grid['mjd'], ddf_grid['DD:ELAISS1_sky_g'])\n",
    "plt.ylim([21,23])"
   ]
  },
  {
   "cell_type": "code",
   "execution_count": null,
   "id": "50b9eeb9",
   "metadata": {},
   "outputs": [],
   "source": []
  },
  {
   "cell_type": "code",
   "execution_count": 17,
   "id": "9b1c651b",
   "metadata": {},
   "outputs": [],
   "source": [
    "# maximize the t_eff\n",
    "#m.setObjective(t_eff@schedule, GRB.MAXIMIZE)\n",
    "# minimize the potential energy\n",
    "#m.setObjective(obj, GRB.MINIMIZE)\n",
    "# Try to match a CDF\n",
    "m.setObjective(cumulative_diff@cumulative_diff, GRB.MINIMIZE)"
   ]
  },
  {
   "cell_type": "code",
   "execution_count": 18,
   "id": "a8a7d651",
   "metadata": {},
   "outputs": [
    {
     "name": "stdout",
     "output_type": "stream",
     "text": [
      "Changed value of parameter TimeLimit to 200.0\n",
      "   Prev: inf  Min: 0.0  Max: inf  Default: inf\n",
      "Gurobi Optimizer version 9.1.2 build v9.1.2rc0 (mac64)\n",
      "Thread count: 2 physical cores, 4 logical processors, using up to 4 threads\n",
      "Optimize a model with 10963 rows, 365252 columns and 1302550 nonzeros\n",
      "Model fingerprint: 0xa40e4683\n",
      "Model has 3653 quadratic objective terms\n",
      "Model has 3653 quadratic constraints\n",
      "Variable types: 0 continuous, 365252 integer (350640 binary)\n",
      "Coefficient statistics:\n",
      "  Matrix range     [1e+00, 1e+00]\n",
      "  QMatrix range    [1e+00, 1e+00]\n",
      "  Objective range  [0e+00, 0e+00]\n",
      "  QObjective range [2e+00, 2e+00]\n",
      "  Bounds range     [1e+00, 4e+02]\n",
      "  RHS range        [1e+00, 4e+02]\n",
      "  QRHS range       [1e+00, 1e+00]\n",
      "Presolve removed 7310 rows and 359950 columns\n",
      "Presolve time: 0.65s\n",
      "Presolved: 3653 rows, 5302 columns, 10603 nonzeros\n",
      "Presolved model has 3652 quadratic objective terms\n",
      "Variable types: 0 continuous, 5302 integer (1650 binary)\n",
      "\n",
      "Root relaxation: objective 7.558561e+02, 7335 iterations, 0.51 seconds\n",
      "\n",
      "    Nodes    |    Current Node    |     Objective Bounds      |     Work\n",
      " Expl Unexpl |  Obj  Depth IntInf | Incumbent    BestBd   Gap | It/Node Time\n",
      "\n",
      "     0     0  755.85614    0 2116          -  755.85614      -     -    1s\n",
      "H    0     0                     882.0000000  755.85614  14.3%     -    1s\n",
      "     0     0  755.85614    0 2116  882.00000  755.85614  14.3%     -    2s\n",
      "     0     2  755.85614    0 2116  882.00000  755.85614  14.3%     -    3s\n",
      "   182   141  866.57376   35  384  882.00000  834.84877  5.35%   2.1    5s\n",
      "   734   581  852.91857   18 2116  882.00000  842.69293  4.46%   2.0   11s\n",
      "  1128   735  868.96608   49  312  882.00000  842.69293  4.46%   8.6   15s\n",
      "  1934  1036  865.78101   41  405  882.00000  846.25703  4.05%   5.9   20s\n",
      "  2493  1172  869.44768   40  419  882.00000  847.92370  3.86%   5.1   25s\n",
      "  3284  1731  856.91197   33  496  882.00000  849.19037  3.72%   4.4   30s\n",
      "  4240  2346  874.23935   43  381  882.00000  849.92370  3.64%   3.9   35s\n",
      "  4857  2768  869.57268   42  387  882.00000  850.59037  3.56%   3.7   40s\n",
      "  5788  3382  879.61299   60  199  882.00000  851.81601  3.42%   3.4   46s\n",
      "  6438  3770 infeasible   46       882.00000  852.52370  3.34%   3.3   50s\n",
      "  7147  4216  870.44768   40  419  882.00000  852.92370  3.30%   3.2   55s\n",
      "  8288  4940  862.81601   29  548  882.00000  853.59037  3.22%   3.1   61s\n",
      "  8921  5314  872.03101   46  343  882.00000  854.12370  3.16%   3.0   65s\n",
      " 10000  5935  859.81601   29  548  882.00000  854.52370  3.12%   2.9   72s\n",
      " 10763  6373  873.39465   47  330  882.00000  855.12370  3.05%   2.9   76s\n",
      " 11590  6784  879.31255   52  127  882.00000  855.31601  3.03%   2.9   81s\n",
      " 12402  7213  874.41746   38  402  882.00000  855.91197  2.96%   2.8   85s\n",
      " 12822  7341  872.62579   41  368  882.00000  855.92370  2.96%   2.8   98s\n",
      " 13466  7847  866.19768   37  449  882.00000  856.12370  2.93%   2.8  101s\n",
      " 14757  8508  878.96861   52  160  882.00000  856.52370  2.89%   2.7  106s\n",
      " 16027  9161  873.00332   34  431  882.00000  856.92370  2.84%   2.7  110s\n",
      " 17321  9935  871.32971   50  299  882.00000  857.19768  2.81%   2.7  115s\n",
      " 18570 10570  869.67387   38  413  882.00000  857.56601  2.77%   2.6  120s\n",
      " 19403 10985  871.26911   36  454  882.00000  857.81601  2.74%   2.6  125s\n",
      " 20627 11632  867.19768   36  460  882.00000  858.12370  2.71%   2.6  139s\n",
      " 21092 11889  880.43571   69  107  882.00000  858.19768  2.70%   2.6  140s\n",
      " 22366 12556  873.86435   36  442  882.00000  858.31601  2.69%   2.6  146s\n",
      " 23187 12961  869.32268   37  449  882.00000  858.56601  2.66%   2.6  150s\n",
      " 24420 13506     cutoff   43       882.00000  858.81601  2.63%   2.6  155s\n",
      " 25720 14189     cutoff   55       882.00000  858.91197  2.62%   2.5  160s\n",
      " 27008 14824  874.20417   47  312  882.00000  859.13419  2.59%   2.5  166s\n",
      " 27909 15327  875.83521   52  243  882.00000  859.19768  2.59%   2.5  171s\n",
      " 29167 15867  862.19768   34  480  882.00000  859.31601  2.57%   2.5  176s\n",
      " 30016 16253  870.78101   40  415  882.00000  859.56601  2.54%   2.5  180s\n",
      " 31254 16849  873.44019   40  342  882.00000  859.81601  2.52%   2.5  185s\n",
      " 32567 17543  870.92387   45  331  882.00000  859.91197  2.50%   2.5  190s\n",
      " 33887 18255  867.19768   37  449  882.00000  860.13419  2.48%   2.5  195s\n",
      " 34911 18709  860.59037   25  601  882.00000  860.19768  2.47%   2.5  200s\n",
      "\n",
      "Explored 35257 nodes (94935 simplex iterations) in 200.73 seconds\n",
      "Thread count was 4 (of 4 available processors)\n",
      "\n",
      "Solution count 1: 882 \n",
      "\n",
      "Time limit reached\n",
      "Best objective 8.820000000000e+02, best bound 8.610000000000e+02, gap 2.3810%\n"
     ]
    }
   ],
   "source": [
    "m.Params.TimeLimit = 200\n",
    "m.optimize()"
   ]
  },
  {
   "cell_type": "code",
   "execution_count": 19,
   "id": "f6cb46da",
   "metadata": {},
   "outputs": [],
   "source": [
    "result_array = schedule.X"
   ]
  },
  {
   "cell_type": "code",
   "execution_count": null,
   "id": "0a877f1c",
   "metadata": {},
   "outputs": [],
   "source": []
  },
  {
   "cell_type": "code",
   "execution_count": 20,
   "id": "192baf38",
   "metadata": {},
   "outputs": [
    {
     "data": {
      "text/plain": [
       "[<matplotlib.lines.Line2D at 0x13a140040>]"
      ]
     },
     "execution_count": 20,
     "metadata": {},
     "output_type": "execute_result"
    },
    {
     "data": {
      "image/png": "[encoded data removed]",
      "text/plain": [
       "<Figure size 432x288 with 1 Axes>"
      ]
     },
     "metadata": {
      "needs_background": "light"
     },
     "output_type": "display_data"
    }
   ],
   "source": [
    "plt.plot(ddf_grid['mjd'], ddf_grid['DD:ELAISS1_sky_g'])\n",
    "plt.ylim([21,23])\n",
    "sched = np.where(result_array > 0)[0]\n",
    "plt.plot(ddf_grid['mjd'][sched], ddf_grid['DD:ELAISS1_sky_g'][sched], 'ko')"
   ]
  },
  {
   "cell_type": "code",
   "execution_count": 21,
   "id": "f1528622",
   "metadata": {},
   "outputs": [
    {
     "data": {
      "text/plain": [
       "(60000.0, 60500.0)"
      ]
     },
     "execution_count": 21,
     "metadata": {},
     "output_type": "execute_result"
    },
    {
     "data": {
      "image/png": "[encoded data removed]",
      "text/plain": [
       "<Figure size 432x288 with 1 Axes>"
      ]
     },
     "metadata": {
      "needs_background": "light"
     },
     "output_type": "display_data"
    }
   ],
   "source": [
    "plt.plot(ddf_grid['mjd'], ddf_grid['DD:ELAISS1_sky_g'])\n",
    "plt.ylim([21,23])\n",
    "sched = np.where(result_array > 0)[0]\n",
    "plt.plot(ddf_grid['mjd'][sched], ddf_grid['DD:ELAISS1_sky_g'][sched], 'ko')\n",
    "plt.xlim(60000, 60500)"
   ]
  },
  {
   "cell_type": "code",
   "execution_count": 22,
   "id": "66a78137",
   "metadata": {},
   "outputs": [
    {
     "data": {
      "text/plain": [
       "(array([55, 56, 57, 58, 59]),)"
      ]
     },
     "execution_count": 22,
     "metadata": {},
     "output_type": "execute_result"
    }
   ],
   "source": [
    "np.where( (ddf_grid['mjd'][sched] > 60300) & (ddf_grid['mjd'][sched] < 60400))"
   ]
  },
  {
   "cell_type": "code",
   "execution_count": 23,
   "id": "9051a227",
   "metadata": {},
   "outputs": [],
   "source": [
    "\n",
    "#ack = ddf_grid['DD:ELAISS1_airmass'][np.where((ddf_grid['mjd'] > 60300) & (ddf_grid['mjd'] < 60400))]\n",
    "#ack[np.where((ack > 1) & (ack < 2.5))]"
   ]
  },
  {
   "cell_type": "code",
   "execution_count": 24,
   "id": "e219d19b",
   "metadata": {},
   "outputs": [
    {
     "data": {
      "text/plain": [
       "(60050.0, 60200.0)"
      ]
     },
     "execution_count": 24,
     "metadata": {},
     "output_type": "execute_result"
    },
    {
     "data": {
      "image/png": "[encoded data removed]",
      "text/plain": [
       "<Figure size 432x288 with 1 Axes>"
      ]
     },
     "metadata": {
      "needs_background": "light"
     },
     "output_type": "display_data"
    }
   ],
   "source": [
    "plt.plot(ddf_grid['mjd'], ddf_grid['DD:ELAISS1_sky_g'])\n",
    "plt.ylim([21,23])\n",
    "sched = np.where(result_array > 0)[0]\n",
    "plt.plot(ddf_grid['mjd'][sched], ddf_grid['DD:ELAISS1_sky_g'][sched], 'ko')\n",
    "plt.xlim(60050, 60200)"
   ]
  },
  {
   "cell_type": "code",
   "execution_count": 25,
   "id": "492cbeaa",
   "metadata": {},
   "outputs": [
    {
     "data": {
      "text/plain": [
       "(60120.0, 60160.0)"
      ]
     },
     "execution_count": 25,
     "metadata": {},
     "output_type": "execute_result"
    },
    {
     "data": {
      "image/png": "[encoded data removed]",
      "text/plain": [
       "<Figure size 432x288 with 1 Axes>"
      ]
     },
     "metadata": {
      "needs_background": "light"
     },
     "output_type": "display_data"
    }
   ],
   "source": [
    "plt.plot(ddf_grid['mjd'], ddf_grid['DD:ELAISS1_sky_g'])\n",
    "plt.ylim([18,23])\n",
    "sched = np.where(result_array > 0)[0]\n",
    "plt.plot(ddf_grid['mjd'][sched], ddf_grid['DD:ELAISS1_sky_g'][sched], 'ko')\n",
    "plt.xlim(60120, 60160)"
   ]
  },
  {
   "cell_type": "code",
   "execution_count": 26,
   "id": "0e3122f0",
   "metadata": {},
   "outputs": [],
   "source": [
    "# can try to also optimize uniformity! Could use the KS statistic. \n",
    "\n",
    "# Good answer on how to do a cumulative sum here:  https://stackoverflow.com/questions/55840816/gurobi-prefix-sum-optimization"
   ]
  },
  {
   "cell_type": "code",
   "execution_count": 27,
   "id": "700fb055",
   "metadata": {},
   "outputs": [],
   "source": [
    "#m.setObjective(gp.max_(cumulative_diff), GRB.MINIMIZE)"
   ]
  },
  {
   "cell_type": "code",
   "execution_count": 28,
   "id": "b01ef952",
   "metadata": {},
   "outputs": [
    {
     "data": {
      "image/png": "[encoded data removed]",
      "text/plain": [
       "<Figure size 432x288 with 1 Axes>"
      ]
     },
     "metadata": {
      "needs_background": "light"
     },
     "output_type": "display_data"
    }
   ],
   "source": [
    "ack = plt.hist(np.diff(ddf_grid['mjd'][sched]), bins=150)"
   ]
  },
  {
   "cell_type": "code",
   "execution_count": 29,
   "id": "a34893e3",
   "metadata": {},
   "outputs": [
    {
     "data": {
      "image/png": "[encoded data removed]",
      "text/plain": [
       "<Figure size 432x288 with 1 Axes>"
      ]
     },
     "metadata": {
      "needs_background": "light"
     },
     "output_type": "display_data"
    }
   ],
   "source": [
    "ack = plt.hist(np.diff(ddf_grid['mjd'][sched]), bins=np.arange(-0.5,25.5, 1))"
   ]
  },
  {
   "cell_type": "code",
   "execution_count": 30,
   "id": "58904640",
   "metadata": {},
   "outputs": [
    {
     "data": {
      "text/plain": [
       "4.999999998835847"
      ]
     },
     "execution_count": 30,
     "metadata": {},
     "output_type": "execute_result"
    }
   ],
   "source": [
    "np.median(np.diff(ddf_grid['mjd'][sched]))"
   ]
  },
  {
   "cell_type": "code",
   "execution_count": 31,
   "id": "2e5d9454",
   "metadata": {},
   "outputs": [
    {
     "data": {
      "text/plain": [
       "-1.0"
      ]
     },
     "execution_count": 31,
     "metadata": {},
     "output_type": "execute_result"
    }
   ],
   "source": [
    "cumulative_diff.X.min()"
   ]
  },
  {
   "cell_type": "code",
   "execution_count": 32,
   "id": "708b1e42",
   "metadata": {},
   "outputs": [
    {
     "data": {
      "text/plain": [
       "4.0"
      ]
     },
     "execution_count": 32,
     "metadata": {},
     "output_type": "execute_result"
    }
   ],
   "source": [
    "cumulative_diff.X.max()"
   ]
  },
  {
   "cell_type": "code",
   "execution_count": 33,
   "id": "ba6548c6",
   "metadata": {},
   "outputs": [
    {
     "data": {
      "text/plain": [
       "array([0., 0., 0., ..., 0., 0., 0.])"
      ]
     },
     "execution_count": 33,
     "metadata": {},
     "output_type": "execute_result"
    }
   ],
   "source": [
    "cumulative_diff.X"
   ]
  },
  {
   "cell_type": "code",
   "execution_count": null,
   "id": "c76f2cf8",
   "metadata": {},
   "outputs": [],
   "source": []
  },
  {
   "cell_type": "code",
   "execution_count": 34,
   "id": "adefbf8f",
   "metadata": {},
   "outputs": [
    {
     "data": {
      "text/plain": [
       "Text(0, 0.5, 'Cumulative nuumber of events')"
      ]
     },
     "execution_count": 34,
     "metadata": {},
     "output_type": "execute_result"
    },
    {
     "data": {
      "image/png": "[encoded data removed]",
      "text/plain": [
       "<Figure size 432x288 with 1 Axes>"
      ]
     },
     "metadata": {
      "needs_background": "light"
     },
     "output_type": "display_data"
    }
   ],
   "source": [
    "plt.plot(cumulative_sched.X)\n",
    "plt.plot(cumulative_desired)\n",
    "plt.xlabel('MJD')\n",
    "plt.ylabel('Cumulative nuumber of events')"
   ]
  },
  {
   "cell_type": "code",
   "execution_count": 35,
   "id": "7c38aabd",
   "metadata": {},
   "outputs": [
    {
     "data": {
      "text/plain": [
       "Text(0, 0.5, 'Cumulative number of events')"
      ]
     },
     "execution_count": 35,
     "metadata": {},
     "output_type": "execute_result"
    },
    {
     "data": {
      "image/png": "[encoded data removed]",
      "text/plain": [
       "<Figure size 432x288 with 1 Axes>"
      ]
     },
     "metadata": {
      "needs_background": "light"
     },
     "output_type": "display_data"
    }
   ],
   "source": [
    "plt.plot(cumulative_sched.X)\n",
    "plt.plot(cumulative_desired)\n",
    "plt.xlim([0,300])\n",
    "plt.ylim(0,50)\n",
    "plt.xlabel('MJD')\n",
    "plt.ylabel('Cumulative number of events')"
   ]
  },
  {
   "cell_type": "code",
   "execution_count": 36,
   "id": "4c6ab44f",
   "metadata": {},
   "outputs": [
    {
     "data": {
      "text/plain": [
       "Text(0, 0.5, 'Cumulative number of events desired-actual')"
      ]
     },
     "execution_count": 36,
     "metadata": {},
     "output_type": "execute_result"
    },
    {
     "data": {
      "image/png": "[encoded data removed]",
      "text/plain": [
       "<Figure size 432x288 with 1 Axes>"
      ]
     },
     "metadata": {
      "needs_background": "light"
     },
     "output_type": "display_data"
    }
   ],
   "source": [
    "plt.plot(cumulative_diff.X)\n",
    "plt.xlabel('MJD')\n",
    "plt.ylabel('Cumulative number of events desired-actual')"
   ]
  },
  {
   "cell_type": "code",
   "execution_count": null,
   "id": "594fb260",
   "metadata": {},
   "outputs": [],
   "source": []
  },
  {
   "cell_type": "code",
   "execution_count": null,
   "id": "46f62990",
   "metadata": {},
   "outputs": [],
   "source": []
  },
  {
   "cell_type": "markdown",
   "id": "8af6707d",
   "metadata": {},
   "source": [
    "# I can have an objective function that works for effective exposure time. I have an objective function that maximizes potential energy of the distribution. I can't have too many terms in that one though, or it slows down. Maybe I need an objective that tries to make the distribution match a uniform CDF? Or I could bin down into blocks of 10 nights, and then do the potential between those. Kind of a tree-sph thing.\n",
    "\n",
    "# Next steps\n",
    "\n",
    "* try running with the t_eff max at the same time\n",
    "* try scheduling 2 DDFs at the same time\n",
    "* try different possible CDFs (rolling and acourdian) \n",
    "* Need to make the CDF not go flat over lunar breaks to force it to cover the gaps better--looks good!"
   ]
  },
  {
   "cell_type": "code",
   "execution_count": null,
   "id": "080eeb74",
   "metadata": {},
   "outputs": [],
   "source": []
  },
  {
   "cell_type": "code",
   "execution_count": null,
   "id": "06575b78",
   "metadata": {},
   "outputs": [],
   "source": []
  },
  {
   "cell_type": "code",
   "execution_count": null,
   "id": "b933b41f",
   "metadata": {},
   "outputs": [],
   "source": []
  }
 ],
 "metadata": {
  "kernelspec": {
   "display_name": "Python 3 (ipykernel)",
   "language": "python",
   "name": "python3"
  },
  "language_info": {
   "codemirror_mode": {
    "name": "ipython",
    "version": 3
   },
   "file_extension": ".py",
   "mimetype": "text/x-python",
   "name": "python",
   "nbconvert_exporter": "python",
   "pygments_lexer": "ipython3",
   "version": "3.9.7"
  }
 },
 "nbformat": 4,
 "nbformat_minor": 5
}
