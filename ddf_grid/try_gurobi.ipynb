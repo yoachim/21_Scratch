{
 "cells": [
  {
   "cell_type": "code",
   "execution_count": 1,
   "id": "4694ec05",
   "metadata": {},
   "outputs": [],
   "source": [
    "import numpy as np\n",
    "import gurobipy as gp\n",
    "from gurobipy import GRB\n",
    "import scipy.sparse as sp"
   ]
  },
  {
   "cell_type": "code",
   "execution_count": 2,
   "id": "3de9974b",
   "metadata": {},
   "outputs": [],
   "source": [
    "# ok, let's say we have two fields we want to schedule\n",
    "\n",
    "# airmass of pointings at each time (just making things up)\n",
    "am1 = [1.5, 1.45, 1.4, 1.3, 1.2, 1.1, 1.1, 1.2, 1.3, 1.4]\n",
    "am2 = [3,    3.5,   3, 2.5, 2.2, 2.1, 1.0, 1.4, 1.3, 1.2]\n",
    "\n",
    "# mark if a time step is blocked for some reason\n",
    "open_block = np.ones(10, dtype=bool)\n",
    "open_block[-2] = False\n",
    "open_block[2] =False\n",
    "open_block[1] = False"
   ]
  },
  {
   "cell_type": "code",
   "execution_count": 3,
   "id": "a823c280",
   "metadata": {},
   "outputs": [
    {
     "data": {
      "text/plain": [
       "array([ True, False, False,  True,  True,  True,  True,  True, False,\n",
       "        True])"
      ]
     },
     "execution_count": 3,
     "metadata": {},
     "output_type": "execute_result"
    }
   ],
   "source": [
    "open_block"
   ]
  },
  {
   "cell_type": "code",
   "execution_count": 4,
   "id": "cd432019",
   "metadata": {},
   "outputs": [
    {
     "name": "stdout",
     "output_type": "stream",
     "text": [
      "Academic license - for non-commercial use only - expires 2021-06-18\n",
      "Using license file /Users/yoachim/Dropbox/Apps/Gurobi/gurobi.lic\n"
     ]
    }
   ],
   "source": [
    "# Define the model\n",
    "m = gp.Model(\"try_sched\")"
   ]
  },
  {
   "cell_type": "code",
   "execution_count": 5,
   "id": "777fcba6",
   "metadata": {},
   "outputs": [
    {
     "data": {
      "text/plain": [
       "<gurobi.QConstr Not Yet Added>"
      ]
     },
     "execution_count": 5,
     "metadata": {},
     "output_type": "execute_result"
    }
   ],
   "source": [
    "# Add two variables\n",
    "pointing_1 = m.addMVar(10, vtype=GRB.BINARY, name=\"pointing_1\")\n",
    "pointing_2 = m.addMVar(10, vtype=GRB.BINARY, name=\"pointing_2\")\n",
    "\n",
    "# Here's a diagonal matrix with airmass of each field\n",
    "ams1 = sp.diags(am1)\n",
    "ams2 = sp.diags(am2)\n",
    "\n",
    "\n",
    "am1_realized = m.addMVar(10)\n",
    "m.addConstr(am1_realized == ams1 @ pointing_1)\n",
    "\n",
    "am2_realized = m.addMVar(10)\n",
    "m.addConstr(am2_realized == ams2 @ pointing_2)\n",
    "\n",
    "# Let's force there to be 2 observations for each field\n",
    "#m.addConstr(pointing_1.sum() == 2)\n",
    "#m.addConstr(pointing_2.sum() == 2)\n",
    "\n",
    "# Make sure pointings aren't scheduled in blocked times, and sum to the number of allowed observations\n",
    "m.addConstr(pointing_1 @ open_block == 2)\n",
    "m.addConstr(pointing_2 @ open_block == 2)\n",
    "\n",
    "# Constraint that we can't double-book a time slot\n",
    "m.addConstr(pointing_1 @ pointing_2 == 0)\n"
   ]
  },
  {
   "cell_type": "code",
   "execution_count": 6,
   "id": "85514eb7",
   "metadata": {},
   "outputs": [],
   "source": [
    "# minimize the total airmass we're taking things at\n",
    "m.setObjective(am1_realized.sum()+am2_realized.sum(), GRB.MINIMIZE)"
   ]
  },
  {
   "cell_type": "code",
   "execution_count": 7,
   "id": "edab9ae8",
   "metadata": {},
   "outputs": [
    {
     "name": "stdout",
     "output_type": "stream",
     "text": [
      "Gurobi Optimizer version 9.1.1 build v9.1.1rc0 (mac64)\n",
      "Thread count: 2 physical cores, 4 logical processors, using up to 4 threads\n",
      "Optimize a model with 22 rows, 40 columns and 54 nonzeros\n",
      "Model fingerprint: 0x0a24c311\n",
      "Model has 1 quadratic constraint\n",
      "Variable types: 20 continuous, 20 integer (20 binary)\n",
      "Coefficient statistics:\n",
      "  Matrix range     [1e+00, 4e+00]\n",
      "  QMatrix range    [1e+00, 1e+00]\n",
      "  Objective range  [1e+00, 1e+00]\n",
      "  Bounds range     [1e+00, 1e+00]\n",
      "  RHS range        [2e+00, 2e+00]\n",
      "Presolve removed 13 rows and 26 columns\n",
      "Presolve time: 0.00s\n",
      "Presolved: 9 rows, 14 columns, 28 nonzeros\n",
      "Variable types: 0 continuous, 14 integer (14 binary)\n",
      "Found heuristic solution: objective 4.5000000\n",
      "\n",
      "Root relaxation: cutoff, 3 iterations, 0.00 seconds\n",
      "\n",
      "    Nodes    |    Current Node    |     Objective Bounds      |     Work\n",
      " Expl Unexpl |  Obj  Depth IntInf | Incumbent    BestBd   Gap | It/Node Time\n",
      "\n",
      "     0     0     cutoff    0         4.50000    4.50000  0.00%     -    0s\n",
      "\n",
      "Explored 0 nodes (3 simplex iterations) in 0.10 seconds\n",
      "Thread count was 4 (of 4 available processors)\n",
      "\n",
      "Solution count 1: 4.5 \n",
      "\n",
      "Optimal solution found (tolerance 1.00e-04)\n",
      "Best objective 4.500000000000e+00, best bound 4.500000000000e+00, gap 0.0000%\n"
     ]
    }
   ],
   "source": [
    "m.optimize()"
   ]
  },
  {
   "cell_type": "code",
   "execution_count": 8,
   "id": "5826748a",
   "metadata": {},
   "outputs": [
    {
     "data": {
      "text/plain": [
       "(array([-0.,  0.,  0., -0.,  1.,  1., -0., -0.,  0., -0.]),\n",
       " array([-0.,  0.,  0., -0., -0., -0.,  1., -0.,  0.,  1.]))"
      ]
     },
     "execution_count": 8,
     "metadata": {},
     "output_type": "execute_result"
    }
   ],
   "source": [
    "# really? In the year of our lord 2021 and we're still naming variables X?\n",
    "pointing_1.X, pointing_2.X"
   ]
  },
  {
   "cell_type": "code",
   "execution_count": 9,
   "id": "8620400d",
   "metadata": {},
   "outputs": [
    {
     "data": {
      "text/plain": [
       "array([ True, False, False,  True,  True,  True,  True,  True, False,\n",
       "        True])"
      ]
     },
     "execution_count": 9,
     "metadata": {},
     "output_type": "execute_result"
    }
   ],
   "source": [
    "open_block"
   ]
  },
  {
   "cell_type": "code",
   "execution_count": 10,
   "id": "1fad3d14",
   "metadata": {},
   "outputs": [],
   "source": [
    "# maybe I want to maximize the number of times there's a gap in a certain range.\n",
    "# I can construct some matrix where the reward is based on the gap between sched[i],sched[j]\n",
    "# then A[i,j] @ sched[i] @ sched[j] maybe?"
   ]
  },
  {
   "cell_type": "code",
   "execution_count": 11,
   "id": "d14a9a1b",
   "metadata": {},
   "outputs": [],
   "source": [
    "days = np.arange(10)"
   ]
  },
  {
   "cell_type": "code",
   "execution_count": 12,
   "id": "f7067935",
   "metadata": {},
   "outputs": [],
   "source": [
    "m = gp.Model(\"try_sched\")"
   ]
  },
  {
   "cell_type": "code",
   "execution_count": 13,
   "id": "b7545aaa",
   "metadata": {},
   "outputs": [],
   "source": [
    "sched = m.addMVar(10, vtype=GRB.BINARY, name=\"pointing_1\")\n",
    "m.addConstr(sched.sum() == 3)\n",
    "# Ah ha! Here's how to set multiple constraints in a loop!\n",
    "# could use python to do this as something sophisticated like constrain to only one sequence per night.\n",
    "m.addConstrs(sched[i+1] @ sched[i] == 0 for i in range(9))\n",
    "\n",
    "cost = np.arange(1, 11)"
   ]
  },
  {
   "cell_type": "code",
   "execution_count": 14,
   "id": "21603ccc",
   "metadata": {},
   "outputs": [],
   "source": [
    "m.setObjective(sched @ cost, GRB.MINIMIZE)"
   ]
  },
  {
   "cell_type": "code",
   "execution_count": 15,
   "id": "001701b1",
   "metadata": {},
   "outputs": [
    {
     "name": "stdout",
     "output_type": "stream",
     "text": [
      "Gurobi Optimizer version 9.1.1 build v9.1.1rc0 (mac64)\n",
      "Thread count: 2 physical cores, 4 logical processors, using up to 4 threads\n",
      "Optimize a model with 1 rows, 10 columns and 10 nonzeros\n",
      "Model fingerprint: 0xd6247462\n",
      "Model has 9 quadratic constraints\n",
      "Variable types: 0 continuous, 10 integer (10 binary)\n",
      "Coefficient statistics:\n",
      "  Matrix range     [1e+00, 1e+00]\n",
      "  QMatrix range    [1e+00, 1e+00]\n",
      "  Objective range  [1e+00, 1e+01]\n",
      "  Bounds range     [1e+00, 1e+00]\n",
      "  RHS range        [3e+00, 3e+00]\n",
      "Presolve removed 0 rows and 5 columns\n",
      "Presolve time: 0.00s\n",
      "Presolved: 1 rows, 5 columns, 5 nonzeros\n",
      "Variable types: 0 continuous, 5 integer (5 binary)\n",
      "Found heuristic solution: objective 9.0000000\n",
      "\n",
      "Root relaxation: cutoff, 0 iterations, 0.00 seconds\n",
      "\n",
      "Explored 0 nodes (0 simplex iterations) in 0.03 seconds\n",
      "Thread count was 4 (of 4 available processors)\n",
      "\n",
      "Solution count 1: 9 \n",
      "\n",
      "Optimal solution found (tolerance 1.00e-04)\n",
      "Best objective 9.000000000000e+00, best bound 9.000000000000e+00, gap 0.0000%\n"
     ]
    }
   ],
   "source": [
    "m.optimize()"
   ]
  },
  {
   "cell_type": "code",
   "execution_count": 16,
   "id": "1d2bf3cd",
   "metadata": {},
   "outputs": [
    {
     "data": {
      "text/plain": [
       "array([1., 0., 1., 0., 1., 0., 0., 0., 0., 0.])"
      ]
     },
     "execution_count": 16,
     "metadata": {},
     "output_type": "execute_result"
    }
   ],
   "source": [
    "sched.X"
   ]
  },
  {
   "cell_type": "code",
   "execution_count": null,
   "id": "960e3680",
   "metadata": {},
   "outputs": [],
   "source": []
  },
  {
   "cell_type": "code",
   "execution_count": null,
   "id": "4daf26ce",
   "metadata": {},
   "outputs": [],
   "source": []
  }
 ],
 "metadata": {
  "kernelspec": {
   "display_name": "Python 3",
   "language": "python",
   "name": "python3"
  },
  "language_info": {
   "codemirror_mode": {
    "name": "ipython",
    "version": 3
   },
   "file_extension": ".py",
   "mimetype": "text/x-python",
   "name": "python",
   "nbconvert_exporter": "python",
   "pygments_lexer": "ipython3",
   "version": "3.8.8"
  }
 },
 "nbformat": 4,
 "nbformat_minor": 5
}
