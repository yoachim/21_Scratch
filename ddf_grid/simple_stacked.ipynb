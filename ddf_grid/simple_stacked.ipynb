{
 "cells": [
  {
   "cell_type": "code",
   "execution_count": 1,
   "id": "0e9031b8",
   "metadata": {},
   "outputs": [],
   "source": [
    "import numpy as np\n",
    "import gurobipy as gp\n",
    "from gurobipy import GRB\n",
    "import scipy.sparse as sp\n",
    "from scipy.stats import binned_statistic\n",
    "import matplotlib.pylab as plt\n",
    "%matplotlib inline\n",
    "from rubin_sim.utils import ddf_locations"
   ]
  },
  {
   "cell_type": "code",
   "execution_count": 11,
   "id": "23a41f1c",
   "metadata": {},
   "outputs": [],
   "source": [
    "# 100 potential time slots\n",
    "times = np.arange(100)\n",
    "m = gp.Model(\"try_sched\")\n",
    "\n",
    "schedule = m.addMVar(times.size*2, vtype=GRB.BINARY, name=\"schedule_1\")\n",
    "\n",
    "s1 = np.zeros(times.size*2)\n",
    "s1[0:100] = 1\n",
    "s2 = np.zeros(times.size*2)\n",
    "s2[100:] = 1\n",
    "\n",
    "mask = np.zeros(times.size*2)\n",
    "\n",
    "# They can't be at the same time. Wow, this really slows it down.\n",
    "# m.addConstr(schedule[0:100] @ schedule[100:] == 0)\n",
    "\n",
    "\n",
    "# Set some random times that can't be scheduled for each\n",
    "np.random.seed(42)\n",
    "mask[np.round(np.random.uniform(low=0,high=99, size=20)).astype(int)] = 1\n",
    "mask[np.round(np.random.uniform(low=0,high=99, size=20)).astype(int)+times.size] = 1\n",
    "\n",
    "m.addConstr(schedule @ mask == 0)\n",
    "\n",
    "# Limit the total number of times each one can be scheduled\n",
    "n_limit_1 = 30\n",
    "n_limit_2 = 30\n",
    "m.addConstr(schedule @ s1 == n_limit_1)\n",
    "m.addConstr(schedule @ s2 == n_limit_2)\n",
    "\n",
    "# I want both to be as evenly distributed as possible. So, minimize chi^2\n",
    "# for the difference between the cumulative distribution and an ideal cumulative\n",
    "desired_cumulative_1 = np.round(times/times.max() * n_limit_1)\n",
    "desired_cumulative_2 = np.round(times/times.max() * n_limit_2)\n",
    "\n",
    "cumulative_sched = m.addMVar(times.size*2, vtype=GRB.CONTINUOUS)\n",
    "cumulative_diff = m.addMVar(times.size*2, vtype=GRB.CONTINUOUS, lb=-n_limit_1, ub=n_limit_1)\n",
    "\n",
    "\n",
    "m.addConstr(cumulative_sched[0] == schedule[0])\n",
    "m.addConstr(cumulative_sched[100] == schedule[100])\n",
    "\n",
    "offset = times.size\n",
    "for i in np.arange(1,times.size):\n",
    "    m.addConstr(cumulative_sched[i] == cumulative_sched[i-1]+schedule[i])\n",
    "    m.addConstr(cumulative_diff[i] == cumulative_sched[i] - desired_cumulative_1[i])\n",
    "   \n",
    "    m.addConstr(cumulative_sched[i+offset] == cumulative_sched[i-1+offset]+schedule[i+offset])\n",
    "    m.addConstr(cumulative_diff[i+offset] == cumulative_sched[i+offset] - desired_cumulative_2[i])\n",
    "   "
   ]
  },
  {
   "cell_type": "code",
   "execution_count": 12,
   "id": "0291658b",
   "metadata": {},
   "outputs": [],
   "source": [
    "m.setObjective(cumulative_diff@cumulative_diff, GRB.MINIMIZE)"
   ]
  },
  {
   "cell_type": "code",
   "execution_count": 13,
   "id": "a45d5641",
   "metadata": {},
   "outputs": [
    {
     "name": "stdout",
     "output_type": "stream",
     "text": [
      "Gurobi Optimizer version 9.1.2 build v9.1.2rc0 (mac64)\n",
      "Thread count: 2 physical cores, 4 logical processors, using up to 4 threads\n",
      "Optimize a model with 401 rows, 600 columns and 1232 nonzeros\n",
      "Model fingerprint: 0x6ed087f4\n",
      "Model has 200 quadratic objective terms\n",
      "Variable types: 400 continuous, 200 integer (200 binary)\n",
      "Coefficient statistics:\n",
      "  Matrix range     [1e+00, 1e+00]\n",
      "  Objective range  [0e+00, 0e+00]\n",
      "  QObjective range [2e+00, 2e+00]\n",
      "  Bounds range     [1e+00, 3e+01]\n",
      "  RHS range        [1e+00, 3e+01]\n",
      "Presolve removed 277 rows and 396 columns\n",
      "Presolve time: 0.04s\n",
      "Presolved: 124 rows, 204 columns, 475 nonzeros\n",
      "Presolved model has 99 quadratic objective terms\n",
      "Variable types: 0 continuous, 204 integer (80 binary)\n",
      "Found heuristic solution: objective 64.0000000\n",
      "\n",
      "Root relaxation: objective 7.166667e+00, 415 iterations, 0.01 seconds\n",
      "\n",
      "    Nodes    |    Current Node    |     Objective Bounds      |     Work\n",
      " Expl Unexpl |  Obj  Depth IntInf | Incumbent    BestBd   Gap | It/Node Time\n",
      "\n",
      "     0     0    7.16667    0   19   64.00000    7.16667  88.8%     -    0s\n",
      "H    0     0                      10.0000000    7.16667  28.3%     -    0s\n",
      "     0     0    7.16667    0   19   10.00000    7.16667  28.3%     -    0s\n",
      "H    0     0                       9.0000000    7.16667  20.4%     -    0s\n",
      "     0     2    7.50000    0   13    9.00000    7.50000  16.7%     -    0s\n",
      "\n",
      "Explored 3 nodes (421 simplex iterations) in 0.32 seconds\n",
      "Thread count was 4 (of 4 available processors)\n",
      "\n",
      "Solution count 3: 9 10 64 \n",
      "\n",
      "Optimal solution found (tolerance 1.00e-04)\n",
      "Best objective 9.000000000000e+00, best bound 9.000000000000e+00, gap 0.0000%\n"
     ]
    }
   ],
   "source": [
    "m.optimize()"
   ]
  },
  {
   "cell_type": "code",
   "execution_count": 5,
   "id": "3ff9ad97",
   "metadata": {},
   "outputs": [
    {
     "data": {
      "text/plain": [
       "array([ 0.,  0.,  0.,  1., -0.,  1.,  0., -0., -0.,  1., -0., -0.,  1.,\n",
       "       -0.,  0.,  0.,  1., -0.,  0.,  1., -0.,  0.,  1., -0., -0.,  1.,\n",
       "       -0., -0.,  1.,  0.,  0., -0.,  1., -0., -0.,  1., -0.,  0.,  1.,\n",
       "       -0., -0., -0.,  1.,  0., -0.,  1., -0., -0.,  1., -0., -0.,  0.,\n",
       "        0.,  1., -0.,  1., -0., -0.,  1.,  0.,  0., -0.,  1., -0., -0.,\n",
       "        1., -0., -0.,  1., -0.,  0.,  1.,  0., -0., -0.,  1., -0., -0.,\n",
       "        1., -0., -0.,  1.,  0., -0., -0.,  1.,  0., -0.,  1., -0., -0.,\n",
       "        1., -0., -0.,  0.,  1.,  0., -0.,  1., -0.,  0.,  0.,  1.,  0.,\n",
       "        1.,  0.,  0.,  0.,  0.,  1.,  0., -0.,  1.,  0.,  0.,  1., -0.,\n",
       "        0., -0.,  1.,  0., -0.,  1., -0., -0.,  1.,  0.,  0.,  1.,  0.,\n",
       "        0.,  0.,  1.,  0.,  0.,  1.,  0.,  0.,  1.,  0.,  0., -0.,  1.,\n",
       "        0.,  0.,  0.,  1.,  0.,  1., -0., -0.,  0.,  1.,  0.,  0.,  1.,\n",
       "        0., -0.,  1.,  0.,  0.,  0.,  1.,  0., -0.,  1.,  0.,  0.,  0.,\n",
       "        1., -0.,  1., -0.,  0.,  0.,  1., -0.,  0.,  0.,  1.,  0.,  1.,\n",
       "       -0., -0., -0.,  1.,  0.,  0.,  1., -0., -0.,  1.,  0., -0.,  0.,\n",
       "        1.,  0., -0.,  1.,  0.])"
      ]
     },
     "execution_count": 5,
     "metadata": {},
     "output_type": "execute_result"
    }
   ],
   "source": [
    "schedule.X"
   ]
  },
  {
   "cell_type": "code",
   "execution_count": null,
   "id": "a0881bd7",
   "metadata": {},
   "outputs": [],
   "source": []
  }
 ],
 "metadata": {
  "kernelspec": {
   "display_name": "Python 3 (ipykernel)",
   "language": "python",
   "name": "python3"
  },
  "language_info": {
   "codemirror_mode": {
    "name": "ipython",
    "version": 3
   },
   "file_extension": ".py",
   "mimetype": "text/x-python",
   "name": "python",
   "nbconvert_exporter": "python",
   "pygments_lexer": "ipython3",
   "version": "3.9.7"
  }
 },
 "nbformat": 4,
 "nbformat_minor": 5
}
