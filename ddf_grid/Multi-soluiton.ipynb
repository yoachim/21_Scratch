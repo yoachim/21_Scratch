{
 "cells": [
  {
   "cell_type": "code",
   "execution_count": 1,
   "id": "8cd5e69a",
   "metadata": {},
   "outputs": [],
   "source": [
    "# Try to schedule multiple DDFs "
   ]
  },
  {
   "cell_type": "code",
   "execution_count": 2,
   "id": "8125ce3f",
   "metadata": {},
   "outputs": [],
   "source": [
    "import numpy as np\n",
    "import gurobipy as gp\n",
    "from gurobipy import GRB\n",
    "import scipy.sparse as sp\n",
    "from scipy.stats import binned_statistic\n",
    "import matplotlib.pylab as plt\n",
    "%matplotlib inline\n",
    "from rubin_sim.utils import ddf_locations"
   ]
  },
  {
   "cell_type": "code",
   "execution_count": 3,
   "id": "97c9d072",
   "metadata": {},
   "outputs": [],
   "source": [
    "# from MAF. Should eventually go to sims_utils\n",
    "def calcSeason(ra, time):\n",
    "    \"\"\"Calculate the 'season' in the survey for a series of ra/dec/time values of an observation.\n",
    "    Based only on the RA of the point on the sky, it calculates the 'season' based on when this\n",
    "    point would be overhead .. the season is considered +/- 0.5 years around this time.\n",
    "\n",
    "    Parameters\n",
    "    ----------\n",
    "    ra : float\n",
    "        The RA (in degrees) of the point on the sky\n",
    "    time : np.ndarray\n",
    "        The times of the observations, in MJD\n",
    "\n",
    "    Returns\n",
    "    -------\n",
    "    np.ndarray\n",
    "        The season values\n",
    "    \"\"\"\n",
    "    # Reference RA and equinox to anchor ra/season reference - RA = 0 is overhead at autumnal equinox\n",
    "    # autumn equinox 2014 happened on september 23 --> equinox MJD\n",
    "    Equinox = 2456923.5 - 2400000.5\n",
    "    # convert ra into 'days'\n",
    "    dayRA = ra / 360 * 365.25\n",
    "    firstSeasonBegan = Equinox + dayRA - 0.5 * 365.25\n",
    "    seasons = (time - firstSeasonBegan) / 365.25\n",
    "    # Set first season to 0\n",
    "    seasons = seasons - np.floor(np.min(seasons))\n",
    "    return seasons"
   ]
  },
  {
   "cell_type": "code",
   "execution_count": 4,
   "id": "dee6899f",
   "metadata": {},
   "outputs": [],
   "source": [
    "locations = ddf_locations()"
   ]
  },
  {
   "cell_type": "code",
   "execution_count": 5,
   "id": "bddf083c",
   "metadata": {},
   "outputs": [],
   "source": [
    "ddf_data = np.load('ddf_grid.npz')\n",
    "ddf_grid = ddf_data['ddf_grid'].copy()\n",
    "\n",
    "# XXX-- double check that I got this right\n",
    "ack = ddf_grid['sun_alt'][0:-1] * ddf_grid['sun_alt'][1:]\n",
    "night = np.zeros(ddf_grid.size, dtype=int)\n",
    "night[np.where((ddf_grid['sun_alt'][1:] >=0) & (ack < 0))] += 1\n",
    "night = np.cumsum(night)"
   ]
  },
  {
   "cell_type": "code",
   "execution_count": 6,
   "id": "78aa4c70",
   "metadata": {},
   "outputs": [
    {
     "data": {
      "text/plain": [
       "{'ELAISS1': (9.45, -44.0),\n",
       " 'XMM_LSS': (35.708333, -4.75),\n",
       " 'ECDFS': (53.125, -28.1),\n",
       " 'COSMOS': (150.1, 2.1819444444444445),\n",
       " 'EDFS_a': (58.9, -49.315),\n",
       " 'EDFS_b': (63.6, -47.6)}"
      ]
     },
     "execution_count": 6,
     "metadata": {},
     "output_type": "execute_result"
    }
   ],
   "source": [
    "locations"
   ]
  },
  {
   "cell_type": "code",
   "execution_count": 7,
   "id": "414f625e",
   "metadata": {},
   "outputs": [],
   "source": [
    "# Just duplicate the dumb thing\n",
    "locations['XMM-LSS'] = locations['XMM_LSS']\n",
    "DDFs = ['DD:ELAISS1', 'DD:XMM-LSS']"
   ]
  },
  {
   "cell_type": "code",
   "execution_count": 8,
   "id": "e1d0bdbb",
   "metadata": {},
   "outputs": [
    {
     "name": "stdout",
     "output_type": "stream",
     "text": [
      "Academic license - for non-commercial use only - expires 2021-12-19\n",
      "Using license file /Users/yoachim/Dropbox/Apps/Gurobi/gurobi.lic\n"
     ]
    },
    {
     "ename": "GurobiError",
     "evalue": "Unable to convert argument to an expression",
     "output_type": "error",
     "traceback": [
      "\u001b[0;31m---------------------------------------------------------------------------\u001b[0m",
      "\u001b[0;31mGurobiError\u001b[0m                               Traceback (most recent call last)",
      "\u001b[0;32m/var/folders/05/z_zc9f654c5dlw06t4s_d68w0000gn/T/ipykernel_83129/2311153873.py\u001b[0m in \u001b[0;36m<module>\u001b[0;34m\u001b[0m\n\u001b[1;32m     89\u001b[0m     \u001b[0;31m# Not sure how priority works yet\u001b[0m\u001b[0;34m\u001b[0m\u001b[0;34m\u001b[0m\u001b[0m\n\u001b[1;32m     90\u001b[0m     \u001b[0mpriority\u001b[0m \u001b[0;34m=\u001b[0m \u001b[0;36m1\u001b[0m\u001b[0;34m\u001b[0m\u001b[0;34m\u001b[0m\u001b[0m\n\u001b[0;32m---> 91\u001b[0;31m     \u001b[0mm\u001b[0m\u001b[0;34m.\u001b[0m\u001b[0msetObjectiveN\u001b[0m\u001b[0;34m(\u001b[0m\u001b[0mcumulative_diff\u001b[0m\u001b[0;34m@\u001b[0m\u001b[0mcumulative_diff\u001b[0m\u001b[0;34m,\u001b[0m \u001b[0mm_indx\u001b[0m\u001b[0;34m,\u001b[0m \u001b[0mpriority\u001b[0m\u001b[0;34m)\u001b[0m\u001b[0;34m\u001b[0m\u001b[0;34m\u001b[0m\u001b[0m\n\u001b[0m\u001b[1;32m     92\u001b[0m     \u001b[0mm_indx\u001b[0m \u001b[0;34m+=\u001b[0m \u001b[0;36m1\u001b[0m\u001b[0;34m\u001b[0m\u001b[0;34m\u001b[0m\u001b[0m\n\u001b[1;32m     93\u001b[0m     \u001b[0;31m# This is the default, just make it explicit\u001b[0m\u001b[0;34m\u001b[0m\u001b[0;34m\u001b[0m\u001b[0m\n",
      "\u001b[0;32msrc/gurobipy/model.pxi\u001b[0m in \u001b[0;36mgurobipy.Model.setObjectiveN\u001b[0;34m()\u001b[0m\n",
      "\u001b[0;32msrc/gurobipy/exprutil.pxi\u001b[0m in \u001b[0;36mgurobipy.__simpleexpr\u001b[0;34m()\u001b[0m\n",
      "\u001b[0;31mGurobiError\u001b[0m: Unable to convert argument to an expression"
     ]
    }
   ],
   "source": [
    "\n",
    "\n",
    "ngrid = ddf_grid['mjd'].size\n",
    "sun_limit = np.radians(-18.)\n",
    "airmass_limit = 2.1  \n",
    "sky_limit = 22. #20. #21.5 #22.\n",
    "zeropoint = 25.0  # mags\n",
    "sequence_limit = 400 #230\n",
    "pause_time = 13/24.  # days\n",
    "\n",
    "m = gp.Model(\"try_sched\")\n",
    "\n",
    "m_indx = 0\n",
    "\n",
    "nddfs = np.size(DDFs)\n",
    "\n",
    "sun_mask = np.zeros(ngrid*nddfs, dtype=bool)\n",
    "airmass_mask = np.zeros(ngrid*nddfs, dtype=bool)\n",
    "sky_mask = np.zeros(ngrid*nddfs, dtype=bool)\n",
    "\n",
    "# Let's try scheduling just one for now\n",
    "schedule = m.addMVar(ngrid*nddfs, vtype=GRB.BINARY, name=\"pointing_1\")\n",
    "\n",
    "\n",
    "for i,ddf_name in enumerate(DDFs):\n",
    "    RA = locations[ddf_name.replace('DD:','')][0]  # RA of the DDF\n",
    "    \n",
    "    season = calcSeason(RA, ddf_grid['mjd'])\n",
    "    season % 1 # Can set things to be 0 when out of season, and 1 in season. Then do a cumsum, normalize, maybe round.\n",
    "    delta_t = ddf_grid['mjd'][1] - ddf_grid['mjd'][0]\n",
    "    \n",
    "    sub_indx = np.arange(ngrid*i:ngrid*(i+1))\n",
    "    \n",
    "    sun_mask[sub_indx[np.where(ddf_grid['sun_alt'] >= sun_limit)]] = 1\n",
    "    \n",
    "    airmass_mask[sub_indx[np.where(ddf_grid['%s_airmass' % ddf_name] >= airmass_limit)]] = 1\n",
    "\n",
    "    sky_mask[sub_indx[np.where(ddf_grid['%s_sky_g' % ddf_name] <= sky_limit)]] = 1\n",
    "    sky_mask[sub_indx[np.where(np.isnan(ddf_grid['%s_sky_g' % ddf_name]) == True)]] = 1\n",
    "\n",
    " \n",
    "    unights, indx = np.unique(night, return_index=True)\n",
    "    night_mjd = ddf_grid['mjd'][indx]\n",
    "    # The season of each night\n",
    "    night_season = calcSeason(RA, night_mjd)\n",
    "    sched_night = m.addMVar(unights.size*nddfs, vtype=GRB.CONTINUOUS)\n",
    "    \n",
    "    for i,n in enumerate(unights):\n",
    "        in_night = np.where(night == n)[0]\n",
    "        m.addConstr(schedule[in_night]@schedule[in_night] <= 1)\n",
    "        m.addConstr(sched_night[i] == [in_night].sum())\n",
    "        \n",
    "    # Cumulative number of scheduled events (by night, to avoid huge loop)\n",
    "    cumulative_sched = m.addMVar(unights.size, vtype=GRB.CONTINUOUS)\n",
    "    cumulative_diff = m.addMVar(unights.size, vtype=GRB.CONTINUOUS, lb=-sequence_limit, ub=sequence_limit)\n",
    "    \n",
    "    cumulative_diff_sq = m.addMVar(unights.size, vtype=GRB.CONTINUOUS)\n",
    "    \n",
    "    cumulative_dmax = m.addMVar(unights.size, vtype=GRB.CONTINUOUS)\n",
    "\n",
    "\n",
    "    m.addConstr(cumulative_sched[0] == sched_night[0])\n",
    "    \n",
    "    \n",
    "    raw_obs = np.ones(unights.size)\n",
    "    # take out the ones that are out of season\n",
    "    season_mod = night_season % 1\n",
    "    # 7.2 month observing season if season_frac = 0.2\n",
    "    season_frac = 0.2\n",
    "    out_season = np.where((season_mod < season_frac) | (season_mod > (1.-season_frac)))\n",
    "    raw_obs[out_season] = 0\n",
    "    cumulative_desired = np.cumsum(raw_obs)\n",
    "    cumulative_desired = cumulative_desired/cumulative_desired.max()*sequence_limit\n",
    "\n",
    "    # Makes it go blazing fast agian, that's for sure!\n",
    "    cumulative_desired = np.round(cumulative_desired)\n",
    "\n",
    "\n",
    "    m.addConstr(cumulative_diff[0] == cumulative_sched[0] - cumulative_desired[0])\n",
    "\n",
    "    for i in np.arange(1,unights.size):\n",
    "        m.addConstr(cumulative_sched[i] == cumulative_sched[i-1]+sched_night[i])\n",
    "        m.addConstr(cumulative_diff[i] == cumulative_sched[i] - cumulative_desired[i])\n",
    "\n",
    "    # Not sure how priority works yet\n",
    "    priority = 1\n",
    "    m.setObjectiveN(cumulative_diff@cumulative_diff, m_indx, priority)\n",
    "    m_indx += 1\n",
    "    # This is the default, just make it explicit\n",
    "    model.ModelSense = GRB.MINIMIZE\n",
    "\n",
    "# mask constaints\n",
    "m.addConstr(schedule @ sun_mask == 0)\n",
    "m.addConstr(schedule @ airmass_mask == 0)\n",
    "m.addConstr(schedule @ sky_mask == 0)\n",
    "\n",
    "   "
   ]
  },
  {
   "cell_type": "code",
   "execution_count": null,
   "id": "65332fed",
   "metadata": {},
   "outputs": [],
   "source": [
    "#m.setObjective(cumulative_diff@cumulative_diff, GRB.MINIMIZE)\n",
    "m.setObjective(cumulative_diff@cumulative_diff)"
   ]
  },
  {
   "cell_type": "code",
   "execution_count": null,
   "id": "aff87d0d",
   "metadata": {},
   "outputs": [],
   "source": [
    "cumulative_diff@cumulative_diff"
   ]
  },
  {
   "cell_type": "code",
   "execution_count": 9,
   "id": "96fae232",
   "metadata": {},
   "outputs": [
    {
     "name": "stdout",
     "output_type": "stream",
     "text": [
      "Help on method setObjectiveN in module gurobipy:\n",
      "\n",
      "setObjectiveN(expr, index, priority=0, weight=1.0, abstol=1e-06, reltol=0.0, name='') method of gurobipy.Model instance\n",
      "    ROUTINE:\n",
      "      setObjectiveN(expression, index)\n",
      "    \n",
      "    PURPOSE:\n",
      "      Set the model objective equal to a LinExpr or QuadExpr\n",
      "    \n",
      "    ARGUMENTS:\n",
      "      expr:     The desired objective function.  The objective can be\n",
      "                a linear expression (LinExpr) a variable (Var) or a constant.\n",
      "                This routine will replace the 'ObjNVal' attribute on model variables\n",
      "                with the corresponding values from the supplied expression for\n",
      "                multi-objective 'index'\n",
      "      index:    Identify which multi-objective to set\n",
      "      priority: Set the ObjNPriority attribute for this multi-objective (default is zero)\n",
      "      weight:   Set the ObjNWeight attribute for this multi-objective (default is 1.0)\n",
      "      abstol:   Set the ObjNAbsTol  attribute for this multi-objective (default is 1e-6)\n",
      "      reltol:   Set the ObjNRelTol  attribute for this multi-objective (default is zero)\n",
      "      name:     multi-objective name (default is no name)\n",
      "    \n",
      "    RETURN VALUE:\n",
      "      None.\n",
      "    \n",
      "    EXAMPLE:\n",
      "      model.setObjectiveN(x + y, 1)\n",
      "      model.setObjectiveN(x + y + 2*z, 2)\n",
      "\n"
     ]
    }
   ],
   "source": [
    "help(m.setObjectiveN)"
   ]
  },
  {
   "cell_type": "code",
   "execution_count": null,
   "id": "5199facb",
   "metadata": {},
   "outputs": [],
   "source": []
  },
  {
   "cell_type": "code",
   "execution_count": null,
   "id": "da0c8645",
   "metadata": {},
   "outputs": [],
   "source": []
  },
  {
   "cell_type": "code",
   "execution_count": null,
   "id": "95e2edfe",
   "metadata": {},
   "outputs": [],
   "source": []
  }
 ],
 "metadata": {
  "kernelspec": {
   "display_name": "Python 3 (ipykernel)",
   "language": "python",
   "name": "python3"
  },
  "language_info": {
   "codemirror_mode": {
    "name": "ipython",
    "version": 3
   },
   "file_extension": ".py",
   "mimetype": "text/x-python",
   "name": "python",
   "nbconvert_exporter": "python",
   "pygments_lexer": "ipython3",
   "version": "3.9.7"
  }
 },
 "nbformat": 4,
 "nbformat_minor": 5
}
