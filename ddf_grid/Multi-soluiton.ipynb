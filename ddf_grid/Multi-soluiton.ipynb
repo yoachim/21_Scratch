{
 "cells": [
  {
   "cell_type": "code",
   "execution_count": 1,
   "id": "8cd5e69a",
   "metadata": {},
   "outputs": [],
   "source": [
    "# Try to schedule multiple DDFs "
   ]
  },
  {
   "cell_type": "code",
   "execution_count": 2,
   "id": "8125ce3f",
   "metadata": {},
   "outputs": [],
   "source": [
    "import numpy as np\n",
    "import gurobipy as gp\n",
    "from gurobipy import GRB\n",
    "import scipy.sparse as sp\n",
    "from scipy.stats import binned_statistic\n",
    "import matplotlib.pylab as plt\n",
    "%matplotlib inline"
   ]
  },
  {
   "cell_type": "code",
   "execution_count": 3,
   "id": "97c9d072",
   "metadata": {},
   "outputs": [],
   "source": [
    "# from MAF. Should eventually go to sims_utils\n",
    "def calcSeason(ra, time):\n",
    "    \"\"\"Calculate the 'season' in the survey for a series of ra/dec/time values of an observation.\n",
    "    Based only on the RA of the point on the sky, it calculates the 'season' based on when this\n",
    "    point would be overhead .. the season is considered +/- 0.5 years around this time.\n",
    "\n",
    "    Parameters\n",
    "    ----------\n",
    "    ra : float\n",
    "        The RA (in degrees) of the point on the sky\n",
    "    time : np.ndarray\n",
    "        The times of the observations, in MJD\n",
    "\n",
    "    Returns\n",
    "    -------\n",
    "    np.ndarray\n",
    "        The season values\n",
    "    \"\"\"\n",
    "    # Reference RA and equinox to anchor ra/season reference - RA = 0 is overhead at autumnal equinox\n",
    "    # autumn equinox 2014 happened on september 23 --> equinox MJD\n",
    "    Equinox = 2456923.5 - 2400000.5\n",
    "    # convert ra into 'days'\n",
    "    dayRA = ra / 360 * 365.25\n",
    "    firstSeasonBegan = Equinox + dayRA - 0.5 * 365.25\n",
    "    seasons = (time - firstSeasonBegan) / 365.25\n",
    "    # Set first season to 0\n",
    "    seasons = seasons - np.floor(np.min(seasons))\n",
    "    return seasons"
   ]
  },
  {
   "cell_type": "code",
   "execution_count": 4,
   "id": "bddf083c",
   "metadata": {},
   "outputs": [],
   "source": [
    "ddf_data = np.load('ddf_grid.npz')\n",
    "ddf_grid = ddf_data['ddf_grid'].copy()\n",
    "\n",
    "# XXX-- double check that I got this right\n",
    "ack = ddf_grid['sun_alt'][0:-1] * ddf_grid['sun_alt'][1:]\n",
    "night = np.zeros(ddf_grid.size, dtype=int)\n",
    "night[np.where((ddf_grid['sun_alt'][1:] >=0) & (ack < 0))] += 1\n",
    "night = np.cumsum(night)"
   ]
  },
  {
   "cell_type": "code",
   "execution_count": 5,
   "id": "78aa4c70",
   "metadata": {},
   "outputs": [],
   "source": []
  },
  {
   "cell_type": "code",
   "execution_count": 7,
   "id": "414f625e",
   "metadata": {},
   "outputs": [
    {
     "data": {
      "text/plain": [
       "array([(59853.5       ,  0.35789797, 0.        ,         nan,         nan,  0.        , nan, nan,  0.        ,  0., inf,  0.        ,  0., inf,  0.        ,  0., inf),\n",
       "       (59853.51041667,  0.41360456, 0.        ,         nan,         nan,  0.        , nan, nan,  0.        ,  0., inf,  0.        ,  0., inf,  0.        ,  0., inf),\n",
       "       (59853.52083333,  0.46894875, 0.        ,         nan,         nan,  0.        , nan, nan,  0.        ,  0., inf,  0.        ,  0., inf,  0.        ,  0., inf),\n",
       "       ...,\n",
       "       (63505.96874915, -0.12942338, 0.        ,  0.        ,         inf, -0.        , nan, nan, -0.        , nan, nan, -0.        , nan, nan, -0.        , nan, nan),\n",
       "       (63505.97916582, -0.18569237, 0.        ,  0.        ,         inf, -0.        , nan, nan, -0.        , nan, nan, -0.        , nan, nan, -0.        , nan, nan),\n",
       "       (63505.98958248, -0.24112162, 1.90646443, 20.87839022, 23.56106875, -9.35888477, nan, nan, -8.85712875, nan, nan, -1.36598529, nan, nan, -1.41636139, nan, nan)],\n",
       "      dtype=[('mjd', '<f8'), ('sun_alt', '<f8'), ('DD:ELAISS1_airmass', '<f8'), ('DD:ELAISS1_sky_g', '<f8'), ('DD:ELAISS1_m5_g', '<f8'), ('DD:XMM-LSS_airmass', '<f8'), ('DD:XMM-LSS_sky_g', '<f8'), ('DD:XMM-LSS_m5_g', '<f8'), ('DD:ECDFS_airmass', '<f8'), ('DD:ECDFS_sky_g', '<f8'), ('DD:ECDFS_m5_g', '<f8'), ('DD:COSMOS_airmass', '<f8'), ('DD:COSMOS_sky_g', '<f8'), ('DD:COSMOS_m5_g', '<f8'), ('DD:EDFS_airmass', '<f8'), ('DD:EDFS_sky_g', '<f8'), ('DD:EDFS_m5_g', '<f8')])"
      ]
     },
     "execution_count": 7,
     "metadata": {},
     "output_type": "execute_result"
    }
   ],
   "source": [
    "DDFs = ['DD:ELAISS1', 'DD:XMM-LSS']"
   ]
  },
  {
   "cell_type": "code",
   "execution_count": null,
   "id": "e1d0bdbb",
   "metadata": {},
   "outputs": [],
   "source": [
    "schedule_list = []\n",
    "\n",
    "# I can just make a giant schedule that has things stacked! \n",
    "\n",
    "\n",
    "for ddf_name in DDFs:\n",
    "    RA = ddf_ra[ddf_name]  # RA of the DDF\n",
    "    \n",
    "    season = calcSeason(RA, ddf_grid['mjd'])\n",
    "    season % 1 # Can set things to be 0 when out of season, and 1 in season. Then do a cumsum, normalize, maybe round.\n",
    "    \n",
    "    ngrid = ddf_grid['mjd'].size\n",
    "    sun_limit = np.radians(-18.)\n",
    "    airmass_limit = 2.1  \n",
    "    sky_limit = 22. #20. #21.5 #22.\n",
    "    zeropoint = 25.0  # mags\n",
    "    sequence_limit = 400 #230\n",
    "    pause_time = 13/24.  # days\n",
    "    \n",
    "    delta_t = ddf_grid['mjd'][1] - ddf_grid['mjd'][0]\n",
    "\n",
    "    # Let's try scheduling just one for now\n",
    "    schedule = m.addMVar(ngrid, vtype=GRB.BINARY, name=\"schedule_%s\" % ddf_name)\n",
    "    # set a sun mask\n",
    "    sun_mask = np.zeros(ngrid, dtype=bool)\n",
    "    sun_mask[np.where(ddf_grid['sun_alt'] >= sun_limit)] = 1\n",
    "\n",
    "    airmass_mask = np.zeros(ngrid, dtype=bool)\n",
    "    airmass_mask[np.where(ddf_grid['DD:ELAISS1_airmass'] >= airmass_limit)] = 1\n",
    "\n",
    "    sky_mask = np.zeros(ngrid, dtype=bool)\n",
    "    sky_mask[np.where(ddf_grid['DD:ELAISS1_sky_g'] <= sky_limit)] = 1\n",
    "    sky_mask[np.where(np.isnan(ddf_grid['DD:ELAISS1_sky_g']) == True)] = 1\n",
    "\n",
    "    # Let's add the constraints\n",
    "    m.addConstr(schedule @ sun_mask == 0)\n",
    "    m.addConstr(schedule @ airmass_mask == 0)\n",
    "    m.addConstr(schedule @ sky_mask == 0)\n",
    "\n",
    "    # limit the total number of ddf sequences\n",
    "    # HA! Need to set an exact number I think. Or maybe a range.\n",
    "    m.addConstr(schedule.sum() == sequence_limit)\n",
    "\n",
    "    # prevent a repeat sequence in a night\n",
    "    unights, indx = np.unique(night, return_index=True)\n",
    "    night_mjd = ddf_grid['mjd'][indx]\n",
    "    # The season of each night\n",
    "    night_season = calcSeason(RA, night_mjd)\n",
    "    sched_night = m.addMVar(unights.size, vtype=GRB.CONTINUOUS)\n",
    "    for i,n in enumerate(unights):\n",
    "        in_night = np.where(night == n)[0]\n",
    "        m.addConstr(schedule[in_night]@schedule[in_night] <= 1)\n",
    "        m.addConstr(sched_night[i] == schedule[in_night].sum())\n",
    "\n",
    "# Declare a new master schedule that is the sum of all the individual ones, and put a constraint on it\n",
    "# Or maybe just constrain all the different schedules to multiply to zero?"
   ]
  }
 ],
 "metadata": {
  "kernelspec": {
   "display_name": "Python 3 (ipykernel)",
   "language": "python",
   "name": "python3"
  },
  "language_info": {
   "codemirror_mode": {
    "name": "ipython",
    "version": 3
   },
   "file_extension": ".py",
   "mimetype": "text/x-python",
   "name": "python",
   "nbconvert_exporter": "python",
   "pygments_lexer": "ipython3",
   "version": "3.9.7"
  }
 },
 "nbformat": 4,
 "nbformat_minor": 5
}
