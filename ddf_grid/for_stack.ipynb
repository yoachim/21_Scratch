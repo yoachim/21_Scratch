{
 "cells": [
  {
   "cell_type": "code",
   "execution_count": 1,
   "id": "45338e35",
   "metadata": {},
   "outputs": [],
   "source": [
    "import numpy as np\n",
    "import gurobipy as gp\n",
    "from gurobipy import GRB\n",
    "import scipy.sparse as sp\n",
    "from scipy.stats import binned_statistic\n",
    "import matplotlib.pylab as plt\n",
    "%matplotlib inline\n",
    "from rubin_sim.utils import ddf_locations"
   ]
  },
  {
   "cell_type": "code",
   "execution_count": 9,
   "id": "a6a7dbbc",
   "metadata": {},
   "outputs": [],
   "source": [
    "# 100 potential time slots\n",
    "times = np.arange(100)\n",
    "m = gp.Model(\"try_sched\")\n",
    "\n",
    "schedule_1 = m.addMVar(times.size, vtype=GRB.BINARY, name=\"schedule_1\")\n",
    "schedule_2 = m.addMVar(times.size, vtype=GRB.BINARY, name=\"schedule_2\")\n",
    "\n",
    "# Can't be at the same time\n",
    "m.addConstr(schedule_1 @ schedule_2 == 0)\n",
    "\n",
    "mask1 = np.zeros(times.size)\n",
    "mask2 = np.zeros(times.size)\n",
    "\n",
    "# Set some random times that can't be scheduled for each\n",
    "np.random.seed(42)\n",
    "mask1[np.round(np.random.uniform(low=0,high=99, size=20)).astype(int)] = 1\n",
    "mask2[np.round(np.random.uniform(low=0,high=99, size=20)).astype(int)] = 1\n",
    "\n",
    "m.addConstr(schedule_1 @ mask1 == 0)\n",
    "m.addConstr(schedule_2 @ mask2 == 0)\n",
    "\n",
    "# Limit the total number of times each one can be scheduled\n",
    "n_limit_1 = 30\n",
    "n_limit_2 = 30\n",
    "m.addConstr(schedule_1.sum() == n_limit_1)\n",
    "m.addConstr(schedule_2.sum() == n_limit_2)\n",
    "\n",
    "# I want both to be as evenly distributed as possible. So, minimize chi^2\n",
    "# for the difference between the cumulative distribution and an ideal cumulative\n",
    "desired_cumulative_1 = np.round(times/times.max() * n_limit_1)\n",
    "desired_cumulative_2 = np.round(times/times.max() * n_limit_2)\n",
    "\n",
    "cumulative_sched_1 = m.addMVar(times.size, vtype=GRB.CONTINUOUS)\n",
    "cumulative_diff_1 = m.addMVar(times.size, vtype=GRB.CONTINUOUS, lb=-n_limit_1, ub=n_limit_1)\n",
    "\n",
    "cumulative_sched_2 = m.addMVar(times.size, vtype=GRB.CONTINUOUS)\n",
    "cumulative_diff_2 = m.addMVar(times.size, vtype=GRB.CONTINUOUS, lb=-n_limit_2, ub=n_limit_2)\n",
    "\n",
    "m.addConstr(cumulative_sched_1[0] == schedule_1[0])\n",
    "m.addConstr(cumulative_sched_2[0] == schedule_2[0])\n",
    "\n",
    "for i in np.arange(1,times.size):\n",
    "    m.addConstr(cumulative_sched_1[i] == cumulative_sched_1[i-1]+schedule_1[i])\n",
    "    m.addConstr(cumulative_diff_1[i] == cumulative_sched_1[i] - desired_cumulative_1[i])\n",
    "   \n",
    "    m.addConstr(cumulative_sched_2[i] == cumulative_sched_2[i-1]+schedule_2[i])\n",
    "    m.addConstr(cumulative_diff_2[i] == cumulative_sched_2[i] - desired_cumulative_2[i])\n",
    "   \n",
    "\n"
   ]
  },
  {
   "cell_type": "code",
   "execution_count": 10,
   "id": "d18a795b",
   "metadata": {},
   "outputs": [],
   "source": [
    "m.setObjective(cumulative_diff_2@cumulative_diff_2, GRB.MINIMIZE)"
   ]
  },
  {
   "cell_type": "code",
   "execution_count": 11,
   "id": "e0828189",
   "metadata": {},
   "outputs": [
    {
     "name": "stdout",
     "output_type": "stream",
     "text": [
      "Gurobi Optimizer version 9.1.2 build v9.1.2rc0 (mac64)\n",
      "Thread count: 2 physical cores, 4 logical processors, using up to 4 threads\n",
      "Optimize a model with 402 rows, 600 columns and 1232 nonzeros\n",
      "Model fingerprint: 0x27b486fa\n",
      "Model has 100 quadratic objective terms\n",
      "Model has 1 quadratic constraint\n",
      "Variable types: 400 continuous, 200 integer (200 binary)\n",
      "Coefficient statistics:\n",
      "  Matrix range     [1e+00, 1e+00]\n",
      "  QMatrix range    [1e+00, 1e+00]\n",
      "  Objective range  [0e+00, 0e+00]\n",
      "  QObjective range [2e+00, 2e+00]\n",
      "  Bounds range     [1e+00, 3e+01]\n",
      "  RHS range        [1e+00, 3e+01]\n",
      "Presolve removed 208 rows and 327 columns\n",
      "Presolve time: 0.01s\n",
      "Presolved: 194 rows, 273 columns, 679 nonzeros\n",
      "Presolved model has 99 quadratic objective terms\n",
      "Variable types: 0 continuous, 273 integer (149 binary)\n",
      "Found heuristic solution: objective 4190.0000000\n",
      "Found heuristic solution: objective 456.0000000\n",
      "\n",
      "Root relaxation: objective 3.000000e+00, 541 iterations, 0.01 seconds\n",
      "\n",
      "    Nodes    |    Current Node    |     Objective Bounds      |     Work\n",
      " Expl Unexpl |  Obj  Depth IntInf | Incumbent    BestBd   Gap | It/Node Time\n",
      "\n",
      "     0     0    3.00000    0   29  456.00000    3.00000  99.3%     -    0s\n",
      "H    0     0                       5.0000000    3.00000  40.0%     -    0s\n",
      "     0     0    4.00000    0    9    5.00000    4.00000  20.0%     -    0s\n",
      "\n",
      "Cutting planes:\n",
      "  RLT: 6\n",
      "  Relax-and-lift: 1\n",
      "\n",
      "Explored 1 nodes (545 simplex iterations) in 0.16 seconds\n",
      "Thread count was 4 (of 4 available processors)\n",
      "\n",
      "Solution count 3: 5 456 4190 \n",
      "\n",
      "Optimal solution found (tolerance 1.00e-04)\n",
      "Best objective 5.000000000000e+00, best bound 5.000000000000e+00, gap 0.0000%\n"
     ]
    }
   ],
   "source": [
    "m.optimize()"
   ]
  },
  {
   "cell_type": "code",
   "execution_count": 12,
   "id": "2e9e2a89",
   "metadata": {},
   "outputs": [
    {
     "data": {
      "text/plain": [
       "array([1., 1., 0., 1., 0., 1., 0., 1., 0., 0., 1., 1., 0., 1., 1., 0., 1.,\n",
       "       1., 0., 0., 1., 0., 0., 1., 1., 0., 0., 0., 0., 0., 0., 0., 0., 0.,\n",
       "       0., 0., 1., 0., 0., 0., 0., 0., 0., 0., 1., 1., 0., 0., 0., 0., 0.,\n",
       "       1., 0., 0., 0., 0., 0., 0., 0., 0., 0., 1., 0., 0., 0., 0., 0., 0.,\n",
       "       1., 0., 0., 0., 0., 0., 0., 0., 0., 0., 1., 0., 1., 0., 0., 0., 1.,\n",
       "       0., 0., 1., 0., 1., 1., 0., 1., 1., 0., 0., 0., 1., 0., 1.])"
      ]
     },
     "execution_count": 12,
     "metadata": {},
     "output_type": "execute_result"
    }
   ],
   "source": [
    "schedule_1.X"
   ]
  },
  {
   "cell_type": "code",
   "execution_count": 13,
   "id": "2127bee2",
   "metadata": {},
   "outputs": [
    {
     "data": {
      "text/plain": [
       "array([0., 0., 1., 0., 1., 0., 0., 0., 0., 1., 0., 0., 1., 0., 0., 1., 0.,\n",
       "       0., 0., 1., 0., 0., 1., 0., 0., 1., 0., 0., 1., 0., 0., 0., 1., 0.,\n",
       "       0., 1., 0., 0., 1., 0., 0., 0., 1., 0., 0., 0., 1., 0., 1., 0., 0.,\n",
       "       0., 1., 0., 0., 1., 0., 0., 1., 0., 0., 0., 1., 0., 0., 1., 0., 1.,\n",
       "       0., 0., 0., 1., 0., 0., 0., 1., 0., 1., 0., 0., 0., 1., 0., 0., 0.,\n",
       "       1., 0., 0., 1., 0., 0., 1., 0., 0., 0., 1., 0., 0., 1., 0.])"
      ]
     },
     "execution_count": 13,
     "metadata": {},
     "output_type": "execute_result"
    }
   ],
   "source": [
    "schedule_2.X"
   ]
  },
  {
   "cell_type": "code",
   "execution_count": 16,
   "id": "4c1d411d",
   "metadata": {},
   "outputs": [
    {
     "data": {
      "text/plain": [
       "array([ 0.,  0.,  0.,  0.,  1.,  0.,  0.,  0.,  0.,  0.,  0.,  0.,  0.,\n",
       "        0.,  0.,  0.,  0.,  0.,  0.,  0.,  0.,  0.,  0.,  0.,  0.,  0.,\n",
       "        0.,  0.,  1.,  0.,  0.,  0.,  0.,  0.,  0.,  0.,  0.,  0.,  0.,\n",
       "        0.,  0.,  0.,  0.,  0.,  0., -1.,  0.,  0.,  0.,  0.,  0.,  0.,\n",
       "        0.,  0.,  0.,  0.,  0.,  0.,  0.,  0.,  0.,  0.,  0.,  0.,  0.,\n",
       "        0.,  0.,  1.,  0.,  0.,  0.,  0.,  0.,  0.,  0.,  0.,  0.,  1.,\n",
       "        0.,  0.,  0.,  0.,  0.,  0.,  0.,  0.,  0.,  0.,  0.,  0.,  0.,\n",
       "        0.,  0.,  0.,  0.,  0.,  0.,  0.,  0.,  0.])"
      ]
     },
     "execution_count": 16,
     "metadata": {},
     "output_type": "execute_result"
    }
   ],
   "source": [
    "np.cumsum(schedule_2.X) - desired_cumulative_2"
   ]
  },
  {
   "cell_type": "code",
   "execution_count": null,
   "id": "329bbf3a",
   "metadata": {},
   "outputs": [],
   "source": []
  },
  {
   "cell_type": "code",
   "execution_count": null,
   "id": "4024a570",
   "metadata": {},
   "outputs": [],
   "source": []
  }
 ],
 "metadata": {
  "kernelspec": {
   "display_name": "Python 3 (ipykernel)",
   "language": "python",
   "name": "python3"
  },
  "language_info": {
   "codemirror_mode": {
    "name": "ipython",
    "version": 3
   },
   "file_extension": ".py",
   "mimetype": "text/x-python",
   "name": "python",
   "nbconvert_exporter": "python",
   "pygments_lexer": "ipython3",
   "version": "3.9.7"
  }
 },
 "nbformat": 4,
 "nbformat_minor": 5
}
