{
 "cells": [
  {
   "cell_type": "code",
   "execution_count": 1,
   "id": "78ed7f2e",
   "metadata": {},
   "outputs": [],
   "source": [
    "import numpy as np\n",
    "import matplotlib.pylab as plt\n",
    "from lsst.sims.coordUtils import _chipNameFromRaDec\n",
    "from lsst.obs.lsst import LsstCamMapper\n",
    "import lsst.sims.utils as simsUtils\n",
    "\n"
   ]
  },
  {
   "cell_type": "code",
   "execution_count": 2,
   "id": "15f40bfa",
   "metadata": {},
   "outputs": [],
   "source": [
    "def gnomonic_project_toxy(RA1, Dec1, RAcen, Deccen):\n",
    "    \"\"\"Calculate x/y projection of RA1/Dec1 in system with center at RAcen, Deccen.\n",
    "    Input radians. Grabbed from sims_selfcal\"\"\"\n",
    "    # also used in Global Telescope Network website\n",
    "    cosc = np.sin(Deccen) * np.sin(Dec1) + np.cos(Deccen) * np.cos(Dec1) * np.cos(RA1-RAcen)\n",
    "    x = np.cos(Dec1) * np.sin(RA1-RAcen) / cosc\n",
    "    y = (np.cos(Deccen)*np.sin(Dec1) - np.sin(Deccen)*np.cos(Dec1)*np.cos(RA1-RAcen)) / cosc\n",
    "    return x, y\n",
    "\n",
    "\n",
    "def gnomonic_project_tosky(x, y, RAcen, Deccen):\n",
    "    \"\"\"Calculate RA/Dec on sky of object with x/y and RA/Cen of field of view.\n",
    "    Returns Ra/Dec in radians.\"\"\"\n",
    "    denom = np.cos(Deccen) - y * np.sin(Deccen)\n",
    "    RA = RAcen + np.arctan2(x, denom)\n",
    "    Dec = np.arctan2(np.sin(Deccen) + y * np.cos(Deccen), np.sqrt(x*x + denom*denom))\n",
    "    return RA, Dec"
   ]
  },
  {
   "cell_type": "code",
   "execution_count": null,
   "id": "b3b9a355",
   "metadata": {},
   "outputs": [
    {
     "name": "stderr",
     "output_type": "stream",
     "text": [
      "/Users/yoachim/lsst/stack/miniconda3-py38_4.9.2-0.4.1/DarwinX86/obs_lsst/21.0.0-17-g4778fb9+9a7018fc91/python/lsst/obs/lsst/lsstCamMapper.py:157: FutureWarning: Replaced by FilterLabel. Will be removed after v22.\n",
      "  for n in afwImage.Filter.getNames():\n"
     ]
    }
   ],
   "source": [
    "mapper = LsstCamMapper()\n",
    "camera = mapper.camera\n",
    "epoch = 2000.0\n",
    "\n",
    "ra = 0.\n",
    "dec = 0.\n",
    "rotSkyPos = 0.\n",
    "mjd = 5300.\n",
    "\n",
    "obs_metadata = simsUtils.ObservationMetaData(pointingRA=np.degrees(ra),\n",
    "                                             pointingDec=np.degrees(dec),\n",
    "                                             rotSkyPos=np.degrees(rotSkyPos),\n",
    "                                             mjd=mjd)\n",
    "\n",
    "nside = int(500)\n",
    "# 60k pixels, from 0 to 3.5 degrees\n",
    "x_one = np.linspace(-1.75, 1.75, int(nside))\n",
    "\n",
    "# make 2-d x,y arrays\n",
    "x_two = np.broadcast_to(x_one, (nside, nside))\n",
    "y_two = np.broadcast_to(x_one, (nside, nside)).T\n",
    "\n",
    "result = np.ones((nside, nside), dtype=bool)\n",
    "ra_two, dec_two = gnomonic_project_tosky(np.radians(x_two), np.radians(y_two), ra, dec)\n",
    "chipNames = _chipNameFromRaDec(ra_two.ravel(), dec_two.ravel(), epoch=epoch,\n",
    "                               camera=camera, obs_metadata=obs_metadata)\n",
    "\n",
    "chipNames = chipNames.reshape(nside, nside)\n",
    "wavefront_names = [name for name in np.unique(chipNames[np.where(chipNames != None)]) if ('SW' in name)\n",
    "                   | ('R44' in name) | ('R00' in name) | ('R04' in name) | ('R40' in name)]\n",
    "for name in wavefront_names:\n",
    "    result[np.where(chipNames == name)] = False\n",
    "\n"
   ]
  },
  {
   "cell_type": "code",
   "execution_count": null,
   "id": "0d14ec26",
   "metadata": {},
   "outputs": [],
   "source": []
  }
 ],
 "metadata": {
  "kernelspec": {
   "display_name": "Python 3",
   "language": "python",
   "name": "python3"
  },
  "language_info": {
   "codemirror_mode": {
    "name": "ipython",
    "version": 3
   },
   "file_extension": ".py",
   "mimetype": "text/x-python",
   "name": "python",
   "nbconvert_exporter": "python",
   "pygments_lexer": "ipython3",
   "version": "3.8.8"
  }
 },
 "nbformat": 4,
 "nbformat_minor": 5
}
