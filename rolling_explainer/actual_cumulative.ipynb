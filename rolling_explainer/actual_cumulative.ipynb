{
 "cells": [
  {
   "cell_type": "code",
   "execution_count": 1,
   "id": "74343f3d",
   "metadata": {},
   "outputs": [],
   "source": [
    "%matplotlib inline\n",
    "import numpy as np\n",
    "import matplotlib.pyplot as plt\n",
    "import healpy as hp\n",
    "\n",
    "import lsst.sims.maf.db as db\n",
    "import lsst.sims.maf.utils as utils\n",
    "import lsst.sims.maf.metrics as metrics\n",
    "import lsst.sims.maf.slicers as slicers\n",
    "import lsst.sims.maf.stackers as stackers\n",
    "import lsst.sims.maf.metricBundles as metricBundles\n",
    "import pandas as pd\n",
    "from scipy import interpolate"
   ]
  },
  {
   "cell_type": "code",
   "execution_count": 2,
   "id": "8edbb95f",
   "metadata": {},
   "outputs": [],
   "source": [
    "\n",
    "dbFile = 'baseline_nexp2_v1.7.1_10yrs.db'\n",
    "runName = dbFile.replace('.db', '')\n",
    "conn = db.OpsimDatabase(dbFile)\n",
    "# Set the output directory\n",
    "outDir = 'temp'\n",
    "resultsDb = db.ResultsDb(outDir)"
   ]
  },
  {
   "cell_type": "code",
   "execution_count": 3,
   "id": "ec51ad77",
   "metadata": {},
   "outputs": [
    {
     "name": "stdout",
     "output_type": "stream",
     "text": [
      "Querying database SummaryAllProps with constraint filter=\"r\" for columns ['fieldRA', 'fiveSigmaDepth', 'fieldDec', 'note', 'observationStartMJD', 'filter']\n",
      "Found 452819 visits\n",
      "Running:  ['opsim_Pass_observationStartMJD_fiveSigmaDepth_filter_note_r_USER']\n",
      "Completed metric generation.\n",
      "Running reduce methods.\n",
      "Running summary statistics.\n",
      "Completed.\n"
     ]
    }
   ],
   "source": [
    "bundleList = []\n",
    "\n",
    "# Grab everything\n",
    "sql = 'filter=\"r\"'\n",
    "\n",
    "ra = np.array([ 0.])\n",
    "dec = np.array([ -20.])\n",
    "# Look at just one point on the sky\n",
    "slicer = slicers.UserPointsSlicer(ra, dec)\n",
    "# Pull out this information for visits that overlap that point\n",
    "metric = metrics.PassMetric(cols=['observationStartMJD', 'fiveSigmaDepth', 'filter', 'note'])\n",
    "plotDict={}\n",
    "summaryStats = []\n",
    "bundleList.append(metricBundles.MetricBundle(metric,slicer,sql,\n",
    "                                             plotDict=plotDict,\n",
    "                                             summaryMetrics=summaryStats))\n",
    "bg = metricBundles.MetricBundleGroup(bundleList, conn, outDir=outDir, resultsDb=resultsDb)\n",
    "bg.runAll()"
   ]
  },
  {
   "cell_type": "code",
   "execution_count": 6,
   "id": "4f37d2e3",
   "metadata": {},
   "outputs": [],
   "source": [
    "bundleList[0].metricValues[0].sort(order='observationStartMJD')"
   ]
  },
  {
   "cell_type": "code",
   "execution_count": 9,
   "id": "943b2fdd",
   "metadata": {},
   "outputs": [],
   "source": [
    "yval = np.arange(1,bundleList[0].metricValues[0].size+1, 1)\n",
    "xval = bundleList[0].metricValues[0]['observationStartMJD']\n",
    "xval -= xval.min()"
   ]
  },
  {
   "cell_type": "code",
   "execution_count": 16,
   "id": "547eb556",
   "metadata": {},
   "outputs": [
    {
     "data": {
      "text/plain": [
       "(60.0, 120.0)"
      ]
     },
     "execution_count": 16,
     "metadata": {},
     "output_type": "execute_result"
    },
    {
     "data": {
      "image/png": "[encoded data removed]",
      "text/plain": [
       "<Figure size 432x288 with 1 Axes>"
      ]
     },
     "metadata": {
      "needs_background": "light"
     },
     "output_type": "display_data"
    }
   ],
   "source": [
    "plt.plot(xval,yval)\n",
    "plt.xlabel('night')\n",
    "plt.ylabel('# visits in r')\n",
    "plt.title('at RA=%i, dec=%i' %(ra, dec))\n",
    "plt.xlim([365.25*3,365.25*6])\n",
    "plt.ylim([60.,120])"
   ]
  },
  {
   "cell_type": "code",
   "execution_count": null,
   "id": "97f4b558",
   "metadata": {},
   "outputs": [],
   "source": []
  }
 ],
 "metadata": {
  "kernelspec": {
   "display_name": "Python 3",
   "language": "python",
   "name": "python3"
  },
  "language_info": {
   "codemirror_mode": {
    "name": "ipython",
    "version": 3
   },
   "file_extension": ".py",
   "mimetype": "text/x-python",
   "name": "python",
   "nbconvert_exporter": "python",
   "pygments_lexer": "ipython3",
   "version": "3.8.8"
  }
 },
 "nbformat": 4,
 "nbformat_minor": 5
}
