{
 "cells": [
  {
   "cell_type": "code",
   "execution_count": 1,
   "id": "80eca49e",
   "metadata": {},
   "outputs": [],
   "source": [
    "import numpy as np\n",
    "import lsst.sims.skybrightness as sb\n",
    "from lsst.sims.utils import m5_flat_sed\n",
    "from lsst.sims.seeingModel import SeeingModel"
   ]
  },
  {
   "cell_type": "code",
   "execution_count": 2,
   "id": "ebc8d285",
   "metadata": {},
   "outputs": [],
   "source": [
    "sm = sb.SkyModel(mags=True)\n",
    "alt=70.\n",
    "airmass = 1./np.cos(np.radians(90.-alt))\n",
    "zenith_seeing = 0.7"
   ]
  },
  {
   "cell_type": "code",
   "execution_count": 3,
   "id": "4a8715b6",
   "metadata": {},
   "outputs": [
    {
     "name": "stdout",
     "output_type": "stream",
     "text": [
      "{'fwhmEff': array([1.05723162, 0.99366903, 0.93692541, 0.89875911, 0.87217055,\n",
      "       0.85189711]), 'fwhmGeom': array([0.9210444 , 0.86879595, 0.82215269, 0.79077999, 0.76892419,\n",
      "       0.75225942])}\n"
     ]
    }
   ],
   "source": [
    "seeing_model = SeeingModel()\n",
    "seeing = seeing_model(zenith_seeing, airmass)\n",
    "print(seeing)"
   ]
  },
  {
   "cell_type": "code",
   "execution_count": 4,
   "id": "23721c2e",
   "metadata": {},
   "outputs": [],
   "source": [
    "sm.setRaDecMjd(0, 60, 5900.25, degrees=True, azAlt=True)"
   ]
  },
  {
   "cell_type": "code",
   "execution_count": 5,
   "id": "c27aa7af",
   "metadata": {},
   "outputs": [],
   "source": [
    "sky_mags = sm.returnMags()"
   ]
  },
  {
   "cell_type": "code",
   "execution_count": 6,
   "id": "5da0c9df",
   "metadata": {},
   "outputs": [
    {
     "data": {
      "text/plain": [
       "{'u': array([22.6671932]),\n",
       " 'g': array([22.05386026]),\n",
       " 'r': array([21.13297598]),\n",
       " 'i': array([20.27730761]),\n",
       " 'z': array([19.34430616]),\n",
       " 'y': array([18.50686121])}"
      ]
     },
     "execution_count": 6,
     "metadata": {},
     "output_type": "execute_result"
    }
   ],
   "source": [
    "sky_mags"
   ]
  },
  {
   "cell_type": "code",
   "execution_count": 7,
   "id": "be273afc",
   "metadata": {},
   "outputs": [
    {
     "name": "stdout",
     "output_type": "stream",
     "text": [
      "[24.18808154]\n",
      "[25.03158099]\n",
      "[24.61092016]\n",
      "[24.11598578]\n",
      "[23.51308989]\n",
      "[22.67647851]\n"
     ]
    }
   ],
   "source": [
    "for i,key in enumerate(sky_mags):\n",
    "    print(m5_flat_sed(key, sky_mags[key], seeing['fwhmEff'][i], 30., airmass, nexp=2))\n"
   ]
  },
  {
   "cell_type": "code",
   "execution_count": 8,
   "id": "590cade0",
   "metadata": {},
   "outputs": [],
   "source": [
    "# The values from LPM-17. \n",
    "#23.9 25.0 24.7 24.0 23.3 22.1"
   ]
  },
  {
   "cell_type": "code",
   "execution_count": 10,
   "id": "273a1a26",
   "metadata": {},
   "outputs": [
    {
     "data": {
      "text/plain": [
       "1.064177772475912"
      ]
     },
     "execution_count": 10,
     "metadata": {},
     "output_type": "execute_result"
    }
   ],
   "source": [
    "airmass"
   ]
  },
  {
   "cell_type": "code",
   "execution_count": null,
   "id": "61a52302",
   "metadata": {},
   "outputs": [],
   "source": []
  }
 ],
 "metadata": {
  "kernelspec": {
   "display_name": "Python 3",
   "language": "python",
   "name": "python3"
  },
  "language_info": {
   "codemirror_mode": {
    "name": "ipython",
    "version": 3
   },
   "file_extension": ".py",
   "mimetype": "text/x-python",
   "name": "python",
   "nbconvert_exporter": "python",
   "pygments_lexer": "ipython3",
   "version": "3.8.8"
  }
 },
 "nbformat": 4,
 "nbformat_minor": 5
}
