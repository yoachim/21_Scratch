{
 "cells": [
  {
   "cell_type": "code",
   "execution_count": 1,
   "id": "c5c4a684",
   "metadata": {},
   "outputs": [],
   "source": [
    "import numpy as np\n",
    "import matplotlib.pylab as plt\n",
    "from lsst.sims.coordUtils import _chipNameFromRaDec\n",
    "from lsst.obs.lsst import LsstCamMapper\n",
    "import lsst.sims.utils as simsUtils\n"
   ]
  },
  {
   "cell_type": "code",
   "execution_count": 2,
   "id": "eea4092f",
   "metadata": {},
   "outputs": [],
   "source": [
    "# Need to put these in sims_utils and remove from MAF and scheduler.\n",
    "\n",
    "def gnomonic_project_toxy(RA1, Dec1, RAcen, Deccen):\n",
    "    \"\"\"Calculate x/y projection of RA1/Dec1 in system with center at RAcen, Deccen.\n",
    "    Input radians. Grabbed from sims_selfcal\"\"\"\n",
    "    # also used in Global Telescope Network website\n",
    "    cosc = np.sin(Deccen) * np.sin(Dec1) + np.cos(Deccen) * np.cos(Dec1) * np.cos(RA1-RAcen)\n",
    "    x = np.cos(Dec1) * np.sin(RA1-RAcen) / cosc\n",
    "    y = (np.cos(Deccen)*np.sin(Dec1) - np.sin(Deccen)*np.cos(Dec1)*np.cos(RA1-RAcen)) / cosc\n",
    "    return x, y\n",
    "\n",
    "\n",
    "def gnomonic_project_tosky(x, y, RAcen, Deccen):\n",
    "    \"\"\"Calculate RA/Dec on sky of object with x/y and RA/Cen of field of view.\n",
    "    Returns Ra/Dec in radians.\"\"\"\n",
    "    denom = np.cos(Deccen) - y * np.sin(Deccen)\n",
    "    RA = RAcen + np.arctan2(x, denom)\n",
    "    Dec = np.arctan2(np.sin(Deccen) + y * np.cos(Deccen), np.sqrt(x*x + denom*denom))\n",
    "    return RA, Dec\n"
   ]
  },
  {
   "cell_type": "code",
   "execution_count": 3,
   "id": "d5d3cb95",
   "metadata": {},
   "outputs": [
    {
     "name": "stderr",
     "output_type": "stream",
     "text": [
      "/Users/yoachim/lsst/stack/miniconda3-py38_4.9.2-0.4.1/DarwinX86/obs_lsst/21.0.0-17-g4778fb9+9a7018fc91/python/lsst/obs/lsst/lsstCamMapper.py:157: FutureWarning: Replaced by FilterLabel. Will be removed after v22.\n",
      "  for n in afwImage.Filter.getNames():\n"
     ]
    }
   ],
   "source": [
    "mapper = LsstCamMapper()\n",
    "camera = mapper.camera\n",
    "epoch = 2000.0\n",
    "\n",
    "ra = 0.\n",
    "dec = 0.\n",
    "rotSkyPos = 0.\n",
    "mjd = 5300.\n",
    "\n",
    "obs_metadata = simsUtils.ObservationMetaData(pointingRA=np.degrees(ra),\n",
    "                                                             pointingDec=np.degrees(dec),\n",
    "                                                             rotSkyPos=np.degrees(rotSkyPos),\n",
    "                                                             mjd=mjd)"
   ]
  },
  {
   "cell_type": "code",
   "execution_count": 4,
   "id": "bef8a01f",
   "metadata": {},
   "outputs": [],
   "source": [
    "nside = int(1000)\n",
    "# 60k pixels, from 0 to 3.5 degrees\n",
    "x_one = np.linspace(-1.75, 1.75, int(nside))\n"
   ]
  },
  {
   "cell_type": "code",
   "execution_count": 5,
   "id": "5f8cab91",
   "metadata": {},
   "outputs": [],
   "source": [
    "# make 2-d x,y arrays\n",
    "x_two = np.broadcast_to(x_one, (nside, nside))\n",
    "y_two = np.broadcast_to(x_one, (nside, nside)).T\n",
    "\n",
    "result = np.ones((nside,nside), dtype=bool)"
   ]
  },
  {
   "cell_type": "code",
   "execution_count": 6,
   "id": "5fcf5fe3",
   "metadata": {},
   "outputs": [],
   "source": [
    "ra_two, dec_two = gnomonic_project_tosky(np.radians(x_two), np.radians(y_two), ra, dec)"
   ]
  },
  {
   "cell_type": "code",
   "execution_count": 7,
   "id": "a9fa2661",
   "metadata": {},
   "outputs": [],
   "source": [
    "chipNames = _chipNameFromRaDec(ra_two.ravel(),dec_two.ravel(),epoch=epoch,\n",
    "                               camera=camera, obs_metadata=obs_metadata)\n"
   ]
  },
  {
   "cell_type": "code",
   "execution_count": 8,
   "id": "241f1cf1",
   "metadata": {},
   "outputs": [],
   "source": [
    "chipNames =  chipNames.reshape(nside,nside)\n"
   ]
  },
  {
   "cell_type": "code",
   "execution_count": 9,
   "id": "1b48527a",
   "metadata": {},
   "outputs": [
    {
     "data": {
      "text/plain": [
       "array(['R00_SG0', 'R00_SG1', 'R00_SW0', 'R00_SW1', 'R01_S00', 'R01_S01',\n",
       "       'R01_S02', 'R01_S10', 'R01_S11', 'R01_S12', 'R01_S20', 'R01_S21',\n",
       "       'R01_S22', 'R02_S00', 'R02_S01', 'R02_S02', 'R02_S10', 'R02_S11',\n",
       "       'R02_S12', 'R02_S20', 'R02_S21', 'R02_S22', 'R03_S00', 'R03_S01',\n",
       "       'R03_S02', 'R03_S10', 'R03_S11', 'R03_S12', 'R03_S20', 'R03_S21',\n",
       "       'R03_S22', 'R04_SG0', 'R04_SG1', 'R04_SW0', 'R04_SW1', 'R10_S00',\n",
       "       'R10_S01', 'R10_S02', 'R10_S10', 'R10_S11', 'R10_S12', 'R10_S20',\n",
       "       'R10_S21', 'R10_S22', 'R11_S00', 'R11_S01', 'R11_S02', 'R11_S10',\n",
       "       'R11_S11', 'R11_S12', 'R11_S20', 'R11_S21', 'R11_S22', 'R12_S00',\n",
       "       'R12_S01', 'R12_S02', 'R12_S10', 'R12_S11', 'R12_S12', 'R12_S20',\n",
       "       'R12_S21', 'R12_S22', 'R13_S00', 'R13_S01', 'R13_S02', 'R13_S10',\n",
       "       'R13_S11', 'R13_S12', 'R13_S20', 'R13_S21', 'R13_S22', 'R14_S00',\n",
       "       'R14_S01', 'R14_S02', 'R14_S10', 'R14_S11', 'R14_S12', 'R14_S20',\n",
       "       'R14_S21', 'R14_S22', 'R20_S00', 'R20_S01', 'R20_S02', 'R20_S10',\n",
       "       'R20_S11', 'R20_S12', 'R20_S20', 'R20_S21', 'R20_S22', 'R21_S00',\n",
       "       'R21_S01', 'R21_S02', 'R21_S10', 'R21_S11', 'R21_S12', 'R21_S20',\n",
       "       'R21_S21', 'R21_S22', 'R22_S00', 'R22_S01', 'R22_S02', 'R22_S10',\n",
       "       'R22_S11', 'R22_S12', 'R22_S20', 'R22_S21', 'R22_S22', 'R23_S00',\n",
       "       'R23_S01', 'R23_S02', 'R23_S10', 'R23_S11', 'R23_S12', 'R23_S20',\n",
       "       'R23_S21', 'R23_S22', 'R24_S00', 'R24_S01', 'R24_S02', 'R24_S10',\n",
       "       'R24_S11', 'R24_S12', 'R24_S20', 'R24_S21', 'R24_S22', 'R30_S00',\n",
       "       'R30_S01', 'R30_S02', 'R30_S10', 'R30_S11', 'R30_S12', 'R30_S20',\n",
       "       'R30_S21', 'R30_S22', 'R31_S00', 'R31_S01', 'R31_S02', 'R31_S10',\n",
       "       'R31_S11', 'R31_S12', 'R31_S20', 'R31_S21', 'R31_S22', 'R32_S00',\n",
       "       'R32_S01', 'R32_S02', 'R32_S10', 'R32_S11', 'R32_S12', 'R32_S20',\n",
       "       'R32_S21', 'R32_S22', 'R33_S00', 'R33_S01', 'R33_S02', 'R33_S10',\n",
       "       'R33_S11', 'R33_S12', 'R33_S20', 'R33_S21', 'R33_S22', 'R34_S00',\n",
       "       'R34_S01', 'R34_S02', 'R34_S10', 'R34_S11', 'R34_S12', 'R34_S20',\n",
       "       'R34_S21', 'R34_S22', 'R40_SG0', 'R40_SG1', 'R40_SW0', 'R40_SW1',\n",
       "       'R41_S00', 'R41_S01', 'R41_S02', 'R41_S10', 'R41_S11', 'R41_S12',\n",
       "       'R41_S20', 'R41_S21', 'R41_S22', 'R42_S00', 'R42_S01', 'R42_S02',\n",
       "       'R42_S10', 'R42_S11', 'R42_S12', 'R42_S20', 'R42_S21', 'R42_S22',\n",
       "       'R43_S00', 'R43_S01', 'R43_S02', 'R43_S10', 'R43_S11', 'R43_S12',\n",
       "       'R43_S20', 'R43_S21', 'R43_S22', 'R44_SG0', 'R44_SG1', 'R44_SW0',\n",
       "       'R44_SW1'], dtype=object)"
      ]
     },
     "execution_count": 9,
     "metadata": {},
     "output_type": "execute_result"
    }
   ],
   "source": [
    "result[np.where(chipNames == None)] = False\n",
    "np.unique(chipNames[np.where(chipNames != None)])"
   ]
  },
  {
   "cell_type": "code",
   "execution_count": 10,
   "id": "6c035b11",
   "metadata": {},
   "outputs": [
    {
     "data": {
      "text/plain": [
       "<matplotlib.image.AxesImage at 0x7f7f1859d520>"
      ]
     },
     "execution_count": 10,
     "metadata": {},
     "output_type": "execute_result"
    },
    {
     "data": {
      "image/png": "[encoded data removed]",
      "text/plain": [
       "<Figure size 432x288 with 1 Axes>"
      ]
     },
     "metadata": {
      "needs_background": "light"
     },
     "output_type": "display_data"
    }
   ],
   "source": [
    "plt.imshow(result)"
   ]
  },
  {
   "cell_type": "code",
   "execution_count": 11,
   "id": "808aa8cb",
   "metadata": {},
   "outputs": [],
   "source": [
    "wavefront_names = [name for name in np.unique(chipNames[np.where(chipNames != None)]) if ('SW' in name)\n",
    "                   | ('R44' in name) | ('R00' in name) | ('R04' in name) | ('R40' in name)]"
   ]
  },
  {
   "cell_type": "code",
   "execution_count": null,
   "id": "d0de0682",
   "metadata": {},
   "outputs": [],
   "source": []
  },
  {
   "cell_type": "code",
   "execution_count": 12,
   "id": "a08e8fb9",
   "metadata": {},
   "outputs": [],
   "source": [
    "for name in wavefront_names:\n",
    "    result[np.where(chipNames == name)] = False"
   ]
  },
  {
   "cell_type": "code",
   "execution_count": 13,
   "id": "cf420b40",
   "metadata": {},
   "outputs": [
    {
     "data": {
      "text/plain": [
       "<matplotlib.image.AxesImage at 0x7f7efff71760>"
      ]
     },
     "execution_count": 13,
     "metadata": {},
     "output_type": "execute_result"
    },
    {
     "data": {
      "image/png": "[encoded data removed]",
      "text/plain": [
       "<Figure size 432x288 with 1 Axes>"
      ]
     },
     "metadata": {
      "needs_background": "light"
     },
     "output_type": "display_data"
    }
   ],
   "source": [
    "plt.imshow(result)"
   ]
  },
  {
   "cell_type": "code",
   "execution_count": 14,
   "id": "fb2c91f1",
   "metadata": {},
   "outputs": [],
   "source": [
    "# so, we now have an array that says if a spot is on silicon or not.\n",
    "\n",
    "# The future procedure, take the slicePoint, gnomic project to x,y for each overlapping pointing. \n",
    "# rotate by (negative?) the rotSkyPos value (about 0,0). \n",
    "# Then convert x,y (in radians) to index based on the pixelscale we created the map in \n",
    "# Then it's just an index lookup of result[x_indx,y_indx] \n",
    "# dataSlice = dataSlice[fovmap[x_indx,y_indx]]]"
   ]
  },
  {
   "cell_type": "code",
   "execution_count": null,
   "id": "6e614b49",
   "metadata": {},
   "outputs": [],
   "source": []
  },
  {
   "cell_type": "code",
   "execution_count": null,
   "id": "1d444778",
   "metadata": {},
   "outputs": [],
   "source": []
  }
 ],
 "metadata": {
  "kernelspec": {
   "display_name": "Python 3",
   "language": "python",
   "name": "python3"
  },
  "language_info": {
   "codemirror_mode": {
    "name": "ipython",
    "version": 3
   },
   "file_extension": ".py",
   "mimetype": "text/x-python",
   "name": "python",
   "nbconvert_exporter": "python",
   "pygments_lexer": "ipython3",
   "version": "3.8.8"
  }
 },
 "nbformat": 4,
 "nbformat_minor": 5
}
