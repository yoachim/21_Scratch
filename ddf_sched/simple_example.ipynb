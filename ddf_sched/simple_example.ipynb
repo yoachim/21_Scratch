{
 "cells": [
  {
   "cell_type": "code",
   "execution_count": 1,
   "id": "3c531df7",
   "metadata": {},
   "outputs": [],
   "source": [
    "import numpy as np\n",
    "from rubin_sim.scheduler.utils import empty_observation\n",
    "from rubin_sim.site_models import Almanac\n",
    "import matplotlib.pylab as plt\n",
    "%matplotlib inline\n",
    "from ddf_quick import Fast_ddf_sim"
   ]
  },
  {
   "cell_type": "code",
   "execution_count": 2,
   "id": "adc72e41",
   "metadata": {},
   "outputs": [],
   "source": [
    "# Load up the pre-computed info\n",
    "ddf_precompute = np.load('ddf_grid.npz')"
   ]
  },
  {
   "cell_type": "code",
   "execution_count": 3,
   "id": "0c46a8af",
   "metadata": {},
   "outputs": [
    {
     "data": {
      "text/plain": [
       "Text(0, 0.5, '5 sigma depth in g (mags)')"
      ]
     },
     "execution_count": 3,
     "metadata": {},
     "output_type": "execute_result"
    },
    {
     "data": {
      "image/png": "[encoded data removed]",
      "text/plain": [
       "<Figure size 432x288 with 1 Axes>"
      ]
     },
     "metadata": {
      "needs_background": "light"
     },
     "output_type": "display_data"
    }
   ],
   "source": [
    "plt.plot(ddf_precompute['ddf_grid']['mjd'], ddf_precompute['ddf_grid']['DD:ELAISS1_m5_g'])\n",
    "plt.xlabel('MJD')\n",
    "plt.ylabel('5 sigma depth in g (mags)')"
   ]
  },
  {
   "cell_type": "code",
   "execution_count": 4,
   "id": "2229e556",
   "metadata": {},
   "outputs": [],
   "source": [
    "# Lets make a simple algorithm to pick some target observing times\n",
    "good_times = np.where((ddf_precompute['ddf_grid']['DD:ELAISS1_m5_g'] > 24.7)  & (np.isfinite(ddf_precompute['ddf_grid']['DD:ELAISS1_m5_g'])))[0]\n",
    "mjd = ddf_precompute['ddf_grid']['mjd'][good_times]\n",
    "m5 = ddf_precompute['ddf_grid']['DD:ELAISS1_m5_g'][good_times]\n",
    "\n"
   ]
  },
  {
   "cell_type": "code",
   "execution_count": 5,
   "id": "8fbb5471",
   "metadata": {},
   "outputs": [],
   "source": [
    "almanac = Almanac(mjd_start=mjd.min()-0.5)\n"
   ]
  },
  {
   "cell_type": "code",
   "execution_count": 6,
   "id": "4c1509fc",
   "metadata": {},
   "outputs": [],
   "source": [
    "indx = almanac.mjd_indx(mjd)\n",
    "night = almanac.sunsets['night'][indx]"
   ]
  },
  {
   "cell_type": "code",
   "execution_count": 7,
   "id": "f1b9c537",
   "metadata": {},
   "outputs": [],
   "source": [
    "# for each night, find the best time\n",
    "best_mjds = []\n",
    "# should find a faster array way to do this, but fine for now\n",
    "for ni in np.unique(night):\n",
    "    in_night = np.where(night == ni)[0]\n",
    "    best = np.where(m5[in_night] == np.max(m5[in_night]))[0]\n",
    "    best_mjds.append(mjd[in_night[best]].min())\n",
    "# We could add some more checks, like make sure there's enough time before twilight, etc"
   ]
  },
  {
   "cell_type": "code",
   "execution_count": 8,
   "id": "5d964b8f",
   "metadata": {},
   "outputs": [],
   "source": [
    "empty = empty_observation()\n",
    "\n",
    "obs = np.zeros(np.size(best_mjds), dtype=empty.dtype)"
   ]
  },
  {
   "cell_type": "code",
   "execution_count": 9,
   "id": "b77ad780",
   "metadata": {},
   "outputs": [],
   "source": [
    "num = [20, 10, 20, 26, 20]\n",
    "filts = 'grizy'\n",
    "nc = np.cumsum(num)\n",
    "obs_sequence = np.zeros(np.sum(num), dtype=empty.dtype)\n",
    "for i,n in enumerate(nc[::-1]):\n",
    "    obs_sequence['filter'][0:n] = filts[i]"
   ]
  },
  {
   "cell_type": "code",
   "execution_count": 10,
   "id": "f92e94bf",
   "metadata": {},
   "outputs": [],
   "source": [
    "all_observations = []\n",
    "for mjd in best_mjds:\n",
    "    temp_obs = obs_sequence.copy()\n",
    "    temp_obs['mjd'] = mjd\n",
    "    all_observations.append(temp_obs)\n",
    "all_observations = np.concatenate(all_observations)\n",
    "all_observations['note'] = 'DD:ELAISS1'\n",
    "# Need to put in the RA and dec\n",
    "all_observations['nexp'] = 2\n",
    "all_observations['exptime'] = 30\n",
    "indx = np.where(ddf_precompute['names'] == 'DD:ELAISS1')\n",
    "all_observations['RA'] = ddf_precompute['ra'][indx]\n",
    "all_observations['dec'] = ddf_precompute['dec'][indx]\n",
    "\n"
   ]
  },
  {
   "cell_type": "code",
   "execution_count": null,
   "id": "20e529b7",
   "metadata": {},
   "outputs": [],
   "source": []
  },
  {
   "cell_type": "code",
   "execution_count": 11,
   "id": "2815d04f",
   "metadata": {},
   "outputs": [
    {
     "data": {
      "text/plain": [
       "dtype([('mjd', '<f8'), ('sun_alt', '<f8'), ('DD:ELAISS1_airmass', '<f8'), ('DD:ELAISS1_sky_u', '<f8'), ('DD:ELAISS1_sky_g', '<f8'), ('DD:ELAISS1_sky_r', '<f8'), ('DD:ELAISS1_sky_i', '<f8'), ('DD:ELAISS1_sky_z', '<f8'), ('DD:ELAISS1_sky_y', '<f8'), ('DD:ELAISS1_m5_g', '<f8'), ('DD:XMM-LSS_airmass', '<f8'), ('DD:XMM-LSS_sky_u', '<f8'), ('DD:XMM-LSS_sky_g', '<f8'), ('DD:XMM-LSS_sky_r', '<f8'), ('DD:XMM-LSS_sky_i', '<f8'), ('DD:XMM-LSS_sky_z', '<f8'), ('DD:XMM-LSS_sky_y', '<f8'), ('DD:XMM-LSS_m5_g', '<f8'), ('DD:ECDFS_airmass', '<f8'), ('DD:ECDFS_sky_u', '<f8'), ('DD:ECDFS_sky_g', '<f8'), ('DD:ECDFS_sky_r', '<f8'), ('DD:ECDFS_sky_i', '<f8'), ('DD:ECDFS_sky_z', '<f8'), ('DD:ECDFS_sky_y', '<f8'), ('DD:ECDFS_m5_g', '<f8'), ('DD:COSMOS_airmass', '<f8'), ('DD:COSMOS_sky_u', '<f8'), ('DD:COSMOS_sky_g', '<f8'), ('DD:COSMOS_sky_r', '<f8'), ('DD:COSMOS_sky_i', '<f8'), ('DD:COSMOS_sky_z', '<f8'), ('DD:COSMOS_sky_y', '<f8'), ('DD:COSMOS_m5_g', '<f8'), ('DD:EDFS_airmass', '<f8'), ('DD:EDFS_sky_u', '<f8'), ('DD:EDFS_sky_g', '<f8'), ('DD:EDFS_sky_r', '<f8'), ('DD:EDFS_sky_i', '<f8'), ('DD:EDFS_sky_z', '<f8'), ('DD:EDFS_sky_y', '<f8'), ('DD:EDFS_m5_g', '<f8')])"
      ]
     },
     "execution_count": 11,
     "metadata": {},
     "output_type": "execute_result"
    }
   ],
   "source": [
    "ddf_precompute['ddf_grid'].dtype"
   ]
  },
  {
   "cell_type": "code",
   "execution_count": 12,
   "id": "c25b7e61",
   "metadata": {},
   "outputs": [
    {
     "data": {
      "text/plain": [
       "dtype([('ID', '<i8'), ('RA', '<f8'), ('dec', '<f8'), ('mjd', '<f8'), ('flush_by_mjd', '<f8'), ('exptime', '<f8'), ('filter', '<U1'), ('rotSkyPos', '<f8'), ('nexp', '<i8'), ('airmass', '<f8'), ('FWHM_500', '<f8'), ('FWHMeff', '<f8'), ('FWHM_geometric', '<f8'), ('skybrightness', '<f8'), ('night', '<i8'), ('slewtime', '<f8'), ('visittime', '<f8'), ('slewdist', '<f8'), ('fivesigmadepth', '<f8'), ('alt', '<f8'), ('az', '<f8'), ('pa', '<f8'), ('clouds', '<f8'), ('moonAlt', '<f8'), ('sunAlt', '<f8'), ('note', '<U40'), ('field_id', '<i8'), ('survey_id', '<i8'), ('block_id', '<i8'), ('lmst', '<f8'), ('rotTelPos', '<f8'), ('moonAz', '<f8'), ('sunAz', '<f8'), ('sunRA', '<f8'), ('sunDec', '<f8'), ('moonRA', '<f8'), ('moonDec', '<f8'), ('moonDist', '<f8'), ('solarElong', '<f8'), ('moonPhase', '<f8'), ('cummTelAz', '<f8')])"
      ]
     },
     "execution_count": 12,
     "metadata": {},
     "output_type": "execute_result"
    }
   ],
   "source": [
    "empty.dtype"
   ]
  },
  {
   "cell_type": "code",
   "execution_count": 13,
   "id": "2794d402",
   "metadata": {},
   "outputs": [],
   "source": [
    "qs = Fast_ddf_sim(pre_computed_blob=ddf_precompute)"
   ]
  },
  {
   "cell_type": "code",
   "execution_count": 14,
   "id": "bf9055af",
   "metadata": {},
   "outputs": [],
   "source": [
    "ack = qs.space_observations(all_observations)"
   ]
  },
  {
   "cell_type": "code",
   "execution_count": 15,
   "id": "91414c5e",
   "metadata": {},
   "outputs": [
    {
     "data": {
      "text/plain": [
       "105408"
      ]
     },
     "execution_count": 15,
     "metadata": {},
     "output_type": "execute_result"
    }
   ],
   "source": [
    "ack.size"
   ]
  },
  {
   "cell_type": "code",
   "execution_count": 16,
   "id": "d54d45a9",
   "metadata": {},
   "outputs": [],
   "source": [
    "ack = qs.remove_downtimes(ack)"
   ]
  },
  {
   "cell_type": "code",
   "execution_count": 17,
   "id": "b563685f",
   "metadata": {},
   "outputs": [
    {
     "data": {
      "text/plain": [
       "97248"
      ]
     },
     "execution_count": 17,
     "metadata": {},
     "output_type": "execute_result"
    }
   ],
   "source": [
    "ack.size"
   ]
  },
  {
   "cell_type": "code",
   "execution_count": 18,
   "id": "bc58bdaa",
   "metadata": {},
   "outputs": [
    {
     "name": "stderr",
     "output_type": "stream",
     "text": [
      "/Users/yoachim/anaconda3/envs/testenv/lib/python3.9/site-packages/erfa/core.py:154: ErfaWarning: ERFA function \"utctai\" yielded 73632 of \"dubious year (Note 3)\"\n",
      "  warnings.warn('ERFA function \"{}\" yielded {}'.format(func_name, wmsg),\n"
     ]
    }
   ],
   "source": [
    "ack = qs.remove_cloudy(ack)"
   ]
  },
  {
   "cell_type": "code",
   "execution_count": 19,
   "id": "3af9ee26",
   "metadata": {},
   "outputs": [
    {
     "data": {
      "text/plain": [
       "66245"
      ]
     },
     "execution_count": 19,
     "metadata": {},
     "output_type": "execute_result"
    }
   ],
   "source": [
    "ack.size"
   ]
  },
  {
   "cell_type": "code",
   "execution_count": 20,
   "id": "d05d5d40",
   "metadata": {},
   "outputs": [
    {
     "data": {
      "text/plain": [
       "-0.767944870877505"
      ]
     },
     "execution_count": 20,
     "metadata": {},
     "output_type": "execute_result"
    }
   ],
   "source": [
    "ack['dec'][0]"
   ]
  },
  {
   "cell_type": "code",
   "execution_count": 21,
   "id": "882c2953",
   "metadata": {},
   "outputs": [
    {
     "name": "stderr",
     "output_type": "stream",
     "text": [
      "/Users/yoachim/anaconda3/envs/testenv/lib/python3.9/site-packages/erfa/core.py:154: ErfaWarning: ERFA function \"utctai\" yielded 48689 of \"dubious year (Note 3)\"\n",
      "  warnings.warn('ERFA function \"{}\" yielded {}'.format(func_name, wmsg),\n",
      "WARNING: Tried to get polar motions for times after IERS data is valid. Defaulting to polar motion from the 50-yr mean for those. This may affect precision at the arcsec level [astropy.coordinates.builtin_frames.utils]\n",
      "/Users/yoachim/anaconda3/envs/testenv/lib/python3.9/site-packages/erfa/core.py:154: ErfaWarning: ERFA function \"apio13\" yielded 48689 of \"dubious year (Note 2)\"\n",
      "  warnings.warn('ERFA function \"{}\" yielded {}'.format(func_name, wmsg),\n",
      "/Users/yoachim/anaconda3/envs/testenv/lib/python3.9/site-packages/erfa/core.py:154: ErfaWarning: ERFA function \"utctai\" yielded 10134 of \"dubious year (Note 3)\"\n",
      "  warnings.warn('ERFA function \"{}\" yielded {}'.format(func_name, wmsg),\n",
      "/Users/yoachim/anaconda3/envs/testenv/lib/python3.9/site-packages/erfa/core.py:154: ErfaWarning: ERFA function \"utctai\" yielded 10137 of \"dubious year (Note 3)\"\n",
      "  warnings.warn('ERFA function \"{}\" yielded {}'.format(func_name, wmsg),\n",
      "/Users/yoachim/anaconda3/envs/testenv/lib/python3.9/site-packages/erfa/core.py:154: ErfaWarning: ERFA function \"utctai\" yielded 13170 of \"dubious year (Note 3)\"\n",
      "  warnings.warn('ERFA function \"{}\" yielded {}'.format(func_name, wmsg),\n",
      "/Users/yoachim/anaconda3/envs/testenv/lib/python3.9/site-packages/erfa/core.py:154: ErfaWarning: ERFA function \"utctai\" yielded 10173 of \"dubious year (Note 3)\"\n",
      "  warnings.warn('ERFA function \"{}\" yielded {}'.format(func_name, wmsg),\n",
      "/Users/yoachim/anaconda3/envs/testenv/lib/python3.9/site-packages/erfa/core.py:154: ErfaWarning: ERFA function \"utctai\" yielded 5075 of \"dubious year (Note 3)\"\n",
      "  warnings.warn('ERFA function \"{}\" yielded {}'.format(func_name, wmsg),\n"
     ]
    }
   ],
   "source": [
    "ack = qs.add_details(ack)"
   ]
  },
  {
   "cell_type": "code",
   "execution_count": null,
   "id": "ae8ed428",
   "metadata": {},
   "outputs": [],
   "source": []
  },
  {
   "cell_type": "code",
   "execution_count": null,
   "id": "5364e06a",
   "metadata": {},
   "outputs": [],
   "source": []
  }
 ],
 "metadata": {
  "kernelspec": {
   "display_name": "Python 3",
   "language": "python",
   "name": "python3"
  },
  "language_info": {
   "codemirror_mode": {
    "name": "ipython",
    "version": 3
   },
   "file_extension": ".py",
   "mimetype": "text/x-python",
   "name": "python",
   "nbconvert_exporter": "python",
   "pygments_lexer": "ipython3",
   "version": "3.9.2"
  }
 },
 "nbformat": 4,
 "nbformat_minor": 5
}
