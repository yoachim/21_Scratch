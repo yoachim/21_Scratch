{
 "cells": [
  {
   "cell_type": "code",
   "execution_count": 1,
   "id": "4b81a077",
   "metadata": {},
   "outputs": [
    {
     "name": "stderr",
     "output_type": "stream",
     "text": [
      "/Users/yoachim/git_repos/rubin_sim/rubin_sim/maf/runComparison/runComparison.py:22: UserWarning: \n",
      "The generateDiffHtml method requires bokeh to be installed\n",
      "but it is not needed to use the other methods in this class.\n",
      "Run: pip install bokeh then restart your jupyter notebook kernel.\n",
      "  warnings.warn('\\n'+'The generateDiffHtml method requires bokeh to be installed'+'\\n'+\n",
      "/Users/yoachim/git_repos/rubin_sim/rubin_sim/maf/mafContrib/LSSObsStrategy/artificialStructureCalculation.py:40: UserWarning: sympy not installed\n",
      "  warnings.warn('sympy not installed')\n",
      "/Users/yoachim/git_repos/rubin_sim/rubin_sim/maf/mafContrib/transientAsciiSEDMetric.py:19: UserWarning: sncosmo not installed\n",
      "  warnings.warn('sncosmo not installed')\n"
     ]
    }
   ],
   "source": [
    "import numpy as np\n",
    "import healpy as hp\n",
    "import matplotlib.pylab as plt\n",
    "%matplotlib inline\n",
    "from rubin_sim.maf.batches import ddfBatch\n",
    "import rubin_sim.maf.db as db\n",
    "import rubin_sim.maf.metricBundles as metricBundles\n",
    "from rubin_sim.utils import _equatorialFromGalactic, _healbin, healbin\n"
   ]
  },
  {
   "cell_type": "code",
   "execution_count": 2,
   "id": "c50cb576",
   "metadata": {},
   "outputs": [
    {
     "name": "stdout",
     "output_type": "stream",
     "text": [
      "Loading  /Users/yoachim/rubin_sim_data/maf/SNe_data/LC_-2.0_0.2_380.0_800.0_ebvofMW_0.0_vstack.hdf5 g 18174 699 26\n",
      "Loading  /Users/yoachim/rubin_sim_data/maf/SNe_data/LC_-2.0_0.2_380.0_800.0_ebvofMW_0.0_vstack.hdf5 i 68502 699 98\n",
      "Loading  /Users/yoachim/rubin_sim_data/maf/SNe_data/LC_-2.0_0.2_380.0_800.0_ebvofMW_0.0_vstack.hdf5 r 44037 699 63\n",
      "Loading  /Users/yoachim/rubin_sim_data/maf/SNe_data/LC_-2.0_0.2_380.0_800.0_ebvofMW_0.0_vstack.hdf5 y 54522 699 78\n",
      "Loading  /Users/yoachim/rubin_sim_data/maf/SNe_data/LC_-2.0_0.2_380.0_800.0_ebvofMW_0.0_vstack.hdf5 z 63609 699 91\n",
      "Loading  /Users/yoachim/rubin_sim_data/maf/SNe_data/LC_0.0_0.0_380.0_800.0_ebvofMW_0.0_vstack.hdf5 g 18174 699 26\n",
      "Loading  /Users/yoachim/rubin_sim_data/maf/SNe_data/LC_0.0_0.0_380.0_800.0_ebvofMW_0.0_vstack.hdf5 i 68502 699 98\n",
      "Loading  /Users/yoachim/rubin_sim_data/maf/SNe_data/LC_0.0_0.0_380.0_800.0_ebvofMW_0.0_vstack.hdf5 r 44037 699 63\n",
      "Loading  /Users/yoachim/rubin_sim_data/maf/SNe_data/LC_0.0_0.0_380.0_800.0_ebvofMW_0.0_vstack.hdf5 y 68502 699 98\n",
      "Loading  /Users/yoachim/rubin_sim_data/maf/SNe_data/LC_0.0_0.0_380.0_800.0_ebvofMW_0.0_vstack.hdf5 z 77589 699 111\n"
     ]
    }
   ],
   "source": [
    "bd = ddfBatch(runName='baseline_nexp2_v1.7.1', nside=512)"
   ]
  },
  {
   "cell_type": "code",
   "execution_count": 3,
   "id": "e1725510",
   "metadata": {},
   "outputs": [],
   "source": [
    "opsimdb = db.OpsimDatabase('baseline_nexp2_v1.7.1_10yrs.db')\n",
    "outDir='temp'\n",
    "resultsDb = db.ResultsDb(outDir=outDir)"
   ]
  },
  {
   "cell_type": "code",
   "execution_count": 4,
   "id": "0ec46f7c",
   "metadata": {},
   "outputs": [],
   "source": [
    "bgroup = metricBundles.MetricBundleGroup(bd, opsimdb, outDir=outDir, resultsDb=resultsDb)"
   ]
  },
  {
   "cell_type": "code",
   "execution_count": null,
   "id": "74e921ab",
   "metadata": {},
   "outputs": [
    {
     "name": "stdout",
     "output_type": "stream",
     "text": [
      "Querying database SummaryAllProps with no constraint for columns ['fiveSigmaDepth', 'fieldRA', 'observationStartMJD', 'visitTime', 'filter', 'observationId', 'fieldDec', 'numExposures', 'night', 'visitExposureTime', 'rotSkyPos'].\n",
      "Found 2044984 visits\n",
      "Running:  ['baseline_nexp2_v1_7_1_SnN_ELAISS1_USER']\n"
     ]
    },
    {
     "name": "stderr",
     "output_type": "stream",
     "text": [
      "/Users/yoachim/git_repos/rubin_sim/rubin_sim/maf/maps/dustMap.py:24: UserWarning: Slicer value of nside 512 different from map value 128, using slicer value\n",
      "  warnings.warn(f\"Slicer value of nside {slicePoints['nside']} different \"\n"
     ]
    }
   ],
   "source": [
    "bgroup.runAll()    \n",
    "bgroup.plotAll(closefigs=False)"
   ]
  },
  {
   "cell_type": "code",
   "execution_count": null,
   "id": "91998d84",
   "metadata": {},
   "outputs": [],
   "source": []
  },
  {
   "cell_type": "code",
   "execution_count": null,
   "id": "cb91fa85",
   "metadata": {},
   "outputs": [],
   "source": []
  },
  {
   "cell_type": "code",
   "execution_count": null,
   "id": "289fa075",
   "metadata": {},
   "outputs": [],
   "source": []
  },
  {
   "cell_type": "code",
   "execution_count": null,
   "id": "a6760207",
   "metadata": {},
   "outputs": [],
   "source": []
  },
  {
   "cell_type": "code",
   "execution_count": null,
   "id": "2170dcc6",
   "metadata": {},
   "outputs": [],
   "source": []
  },
  {
   "cell_type": "code",
   "execution_count": null,
   "id": "405e1d0a",
   "metadata": {},
   "outputs": [],
   "source": []
  },
  {
   "cell_type": "code",
   "execution_count": null,
   "id": "0ae09ad5",
   "metadata": {},
   "outputs": [],
   "source": []
  }
 ],
 "metadata": {
  "kernelspec": {
   "display_name": "Python 3",
   "language": "python",
   "name": "python3"
  },
  "language_info": {
   "codemirror_mode": {
    "name": "ipython",
    "version": 3
   },
   "file_extension": ".py",
   "mimetype": "text/x-python",
   "name": "python",
   "nbconvert_exporter": "python",
   "pygments_lexer": "ipython3",
   "version": "3.9.2"
  }
 },
 "nbformat": 4,
 "nbformat_minor": 5
}
