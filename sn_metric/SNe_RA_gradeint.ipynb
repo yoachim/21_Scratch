{
 "cells": [
  {
   "cell_type": "code",
   "execution_count": 1,
   "id": "9c24373c",
   "metadata": {},
   "outputs": [],
   "source": [
    "import rubin_sim.maf.metricBundles as metricBundles\n",
    "import rubin_sim.maf.slicers as slicers\n",
    "import rubin_sim.maf.db as db\n",
    "import rubin_sim.maf.utils as utils\n",
    "import rubin_sim.maf.metrics as metrics\n",
    "import sqlite3\n",
    "import numpy as np\n",
    "from rubin_sim.maf.metrics.snNSNMetric import SNNSNMetric\n",
    "import healpy as hp\n",
    "%matplotlib inline\n",
    "import glob\n"
   ]
  },
  {
   "cell_type": "code",
   "execution_count": 2,
   "id": "80ec2489",
   "metadata": {},
   "outputs": [],
   "source": [
    "dbfiles = glob.glob('baseline*nexp2*10yrs.db')\n",
    "dbfiles.sort()"
   ]
  },
  {
   "cell_type": "code",
   "execution_count": 3,
   "id": "c035db64",
   "metadata": {},
   "outputs": [
    {
     "data": {
      "text/plain": [
       "['baseline_nexp2_v1.7.1_10yrs.db', 'baseline_nexp2_v1.7_10yrs.db']"
      ]
     },
     "execution_count": 3,
     "metadata": {},
     "output_type": "execute_result"
    }
   ],
   "source": [
    "dbfiles"
   ]
  },
  {
   "cell_type": "code",
   "execution_count": null,
   "id": "71886f77",
   "metadata": {},
   "outputs": [],
   "source": []
  },
  {
   "cell_type": "code",
   "execution_count": null,
   "id": "9f5879c3",
   "metadata": {},
   "outputs": [],
   "source": []
  },
  {
   "cell_type": "code",
   "execution_count": null,
   "id": "ed51ff72",
   "metadata": {},
   "outputs": [],
   "source": []
  },
  {
   "cell_type": "code",
   "execution_count": null,
   "id": "347fb02c",
   "metadata": {},
   "outputs": [
    {
     "name": "stdout",
     "output_type": "stream",
     "text": [
      "Loading  /Users/yoachim/rubin_sim_data/maf/SNe_data/LC_-2.0_0.2_380.0_800.0_ebvofMW_0.0_vstack.hdf5 g 18174 699 26\n",
      "Loading  /Users/yoachim/rubin_sim_data/maf/SNe_data/LC_-2.0_0.2_380.0_800.0_ebvofMW_0.0_vstack.hdf5 i 68502 699 98\n",
      "Loading  /Users/yoachim/rubin_sim_data/maf/SNe_data/LC_-2.0_0.2_380.0_800.0_ebvofMW_0.0_vstack.hdf5 r 44037 699 63\n",
      "Loading  /Users/yoachim/rubin_sim_data/maf/SNe_data/LC_-2.0_0.2_380.0_800.0_ebvofMW_0.0_vstack.hdf5 y 54522 699 78\n",
      "Loading  /Users/yoachim/rubin_sim_data/maf/SNe_data/LC_-2.0_0.2_380.0_800.0_ebvofMW_0.0_vstack.hdf5 z 63609 699 91\n",
      "Loading  /Users/yoachim/rubin_sim_data/maf/SNe_data/LC_0.0_0.0_380.0_800.0_ebvofMW_0.0_vstack.hdf5 g 18174 699 26\n",
      "Loading  /Users/yoachim/rubin_sim_data/maf/SNe_data/LC_0.0_0.0_380.0_800.0_ebvofMW_0.0_vstack.hdf5 i 68502 699 98\n",
      "Loading  /Users/yoachim/rubin_sim_data/maf/SNe_data/LC_0.0_0.0_380.0_800.0_ebvofMW_0.0_vstack.hdf5 r 44037 699 63\n",
      "Loading  /Users/yoachim/rubin_sim_data/maf/SNe_data/LC_0.0_0.0_380.0_800.0_ebvofMW_0.0_vstack.hdf5 y 68502 699 98\n",
      "Loading  /Users/yoachim/rubin_sim_data/maf/SNe_data/LC_0.0_0.0_380.0_800.0_ebvofMW_0.0_vstack.hdf5 z 77589 699 111\n",
      "Loading  /Users/yoachim/rubin_sim_data/maf/SNe_data/LC_-2.0_0.2_380.0_800.0_ebvofMW_0.0_vstack.hdf5 g 18174 699 26\n",
      "Loading  /Users/yoachim/rubin_sim_data/maf/SNe_data/LC_-2.0_0.2_380.0_800.0_ebvofMW_0.0_vstack.hdf5 i 68502 699 98\n",
      "Loading  /Users/yoachim/rubin_sim_data/maf/SNe_data/LC_-2.0_0.2_380.0_800.0_ebvofMW_0.0_vstack.hdf5 r 44037 699 63\n",
      "Loading  /Users/yoachim/rubin_sim_data/maf/SNe_data/LC_-2.0_0.2_380.0_800.0_ebvofMW_0.0_vstack.hdf5 y 54522 699 78\n",
      "Loading  /Users/yoachim/rubin_sim_data/maf/SNe_data/LC_-2.0_0.2_380.0_800.0_ebvofMW_0.0_vstack.hdf5 z 63609 699 91\n",
      "Loading  /Users/yoachim/rubin_sim_data/maf/SNe_data/LC_0.0_0.0_380.0_800.0_ebvofMW_0.0_vstack.hdf5 g 18174 699 26\n",
      "Loading  /Users/yoachim/rubin_sim_data/maf/SNe_data/LC_0.0_0.0_380.0_800.0_ebvofMW_0.0_vstack.hdf5 i 68502 699 98\n",
      "Loading  /Users/yoachim/rubin_sim_data/maf/SNe_data/LC_0.0_0.0_380.0_800.0_ebvofMW_0.0_vstack.hdf5 r 44037 699 63\n",
      "Loading  /Users/yoachim/rubin_sim_data/maf/SNe_data/LC_0.0_0.0_380.0_800.0_ebvofMW_0.0_vstack.hdf5 y 68502 699 98\n",
      "Loading  /Users/yoachim/rubin_sim_data/maf/SNe_data/LC_0.0_0.0_380.0_800.0_ebvofMW_0.0_vstack.hdf5 z 77589 699 111\n",
      "Healpix slicer using NSIDE=16, approximate resolution 219.871130 arcminutes\n",
      "Querying database SummaryAllProps with no constraint for columns ['observationId', 'fieldRA', 'filter', 'fieldDec', 'numExposures', 'visitExposureTime', 'visitTime', 'observationStartMJD', 'fiveSigmaDepth', 'night'].\n",
      "Found 2044984 visits\n",
      "Running:  ['baseline_nexp2_v1_7_1_SNNSNMetric_HEAL', 'baseline_nexp2_v1_7_1_SN_dust_HEAL']\n"
     ]
    },
    {
     "name": "stderr",
     "output_type": "stream",
     "text": [
      "/Users/yoachim/git_repos/rubin_sim/rubin_sim/maf/slicers/baseSpatialSlicer.py:106: UserWarning: Warning:  Loading maps but cache on.Should probably set useCache=False in slicer.\n",
      "  warnings.warn('Warning:  Loading maps but cache on.'\n",
      "/Users/yoachim/git_repos/rubin_sim/rubin_sim/maf/maps/dustMap.py:24: UserWarning: Slicer value of nside (16) different from map value (128), using slicer value\n",
      "  warnings.warn('Slicer value of nside (%i) different from map value (%i), using slicer value'\n"
     ]
    }
   ],
   "source": [
    "nside = 16\n",
    "sql = ''\n",
    "# what is this zlim thingy?\n",
    "#metric = SNNSNMetric( verbose=False, zlim_coeff=0.98)\n",
    "metric1 = SNNSNMetric(dust=False, verbose=False)\n",
    "metric2 = SNNSNMetric( dust=True, verbose=False, metricName='SN_dust')\n",
    "\n",
    "result_list = []\n",
    "for filename in [dbfiles[0]]:\n",
    "    opsimdb = db.OpsimDatabase(filename)\n",
    "    runname = filename.replace('_10yrs.db', '')\n",
    "    bundleList = []\n",
    "    slicer = slicers.HealpixSlicer(nside=nside)\n",
    "    resultsDb = db.ResultsDb(outDir=runname)\n",
    "    summaryStats = [metrics.MeanMetric(), metrics.MedianMetric(), metrics.SumMetric()]\n",
    "\n",
    "    bundleList.append(metricBundles.MetricBundle(metric1, slicer,sql,runName=runname, summaryMetrics=summaryStats))\n",
    "    bundleList.append(metricBundles.MetricBundle(metric2, slicer,sql,runName=runname, summaryMetrics=summaryStats))\n",
    "    outDir = runname\n",
    "    resultsDb = db.ResultsDb(outDir=outDir)\n",
    "    bundleDict = metricBundles.makeBundlesDictFromList(bundleList)\n",
    "    bgroup = metricBundles.MetricBundleGroup(bundleDict, opsimdb, outDir=outDir, resultsDb=resultsDb)\n",
    "    bgroup.runAll()\n",
    "    bgroup.plotAll(closefigs=False)\n",
    "    #print(runname, bundleDict['SNNSNMetric_nSN'].summaryValues, bundleDict['SNNSNMetric_zlim'].summaryValues)\n",
    "    #result_list.append((runname, bundleDict['SNNSNMetric_nSN'].summaryValues, bundleDict['SNNSNMetric_zlim'].summaryValues))\n",
    "    "
   ]
  },
  {
   "cell_type": "code",
   "execution_count": null,
   "id": "d1476add",
   "metadata": {},
   "outputs": [],
   "source": [
    "hp.mollview(bgroup.bundleDict['SNNSNMetric_nSN'].metricValues, max=75, min=0)"
   ]
  },
  {
   "cell_type": "code",
   "execution_count": null,
   "id": "6e7b9306",
   "metadata": {},
   "outputs": [],
   "source": []
  },
  {
   "cell_type": "code",
   "execution_count": null,
   "id": "bcccf208",
   "metadata": {},
   "outputs": [],
   "source": []
  }
 ],
 "metadata": {
  "kernelspec": {
   "display_name": "Python 3",
   "language": "python",
   "name": "python3"
  },
  "language_info": {
   "codemirror_mode": {
    "name": "ipython",
    "version": 3
   },
   "file_extension": ".py",
   "mimetype": "text/x-python",
   "name": "python",
   "nbconvert_exporter": "python",
   "pygments_lexer": "ipython3",
   "version": "3.9.2"
  }
 },
 "nbformat": 4,
 "nbformat_minor": 5
}
