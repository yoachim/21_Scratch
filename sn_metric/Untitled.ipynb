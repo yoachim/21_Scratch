{
 "cells": [
  {
   "cell_type": "code",
   "execution_count": 1,
   "id": "fdcd1a0c",
   "metadata": {},
   "outputs": [],
   "source": [
    "import rubin_sim.maf.metricBundles as metricBundles\n",
    "import rubin_sim.maf.slicers as slicers\n",
    "import rubin_sim.maf.db as db\n",
    "import rubin_sim.maf.utils as utils\n",
    "import rubin_sim.maf.metrics as metrics\n",
    "import sqlite3\n",
    "import numpy as np\n",
    "from rubin_sim.maf.metrics.snNSNMetric import SNNSNMetric\n",
    "import healpy as hp\n",
    "%matplotlib inline\n",
    "import glob\n",
    "import matplotlib.pylab as plt"
   ]
  },
  {
   "cell_type": "code",
   "execution_count": 2,
   "id": "3ff7cf25",
   "metadata": {},
   "outputs": [],
   "source": [
    "dbfiles = glob.glob('baseline*nexp2*10yrs.db')\n",
    "dbfiles.sort()"
   ]
  },
  {
   "cell_type": "code",
   "execution_count": 3,
   "id": "79160d30",
   "metadata": {},
   "outputs": [
    {
     "data": {
      "text/plain": [
       "['baseline_nexp2_v1.7.1_10yrs.db', 'baseline_nexp2_v1.7_10yrs.db']"
      ]
     },
     "execution_count": 3,
     "metadata": {},
     "output_type": "execute_result"
    }
   ],
   "source": [
    "dbfiles"
   ]
  },
  {
   "cell_type": "code",
   "execution_count": 4,
   "id": "ebd95d75",
   "metadata": {},
   "outputs": [],
   "source": [
    "filename=dbfiles[0]\n",
    "opsimdb = db.OpsimDatabase(dbfiles[0])\n",
    "runname = filename.replace('_10yrs.db', '')\n",
    "outDir = runname\n",
    "resultsDb = db.ResultsDb(outDir=outDir)\n",
    "\n",
    "\n"
   ]
  },
  {
   "cell_type": "code",
   "execution_count": 5,
   "id": "f62bbeea",
   "metadata": {},
   "outputs": [
    {
     "name": "stdout",
     "output_type": "stream",
     "text": [
      "Querying database SummaryAllProps with no constraint for columns ['fieldRA', 'observationStartMJD', 'fiveSigmaDepth', 'night', 'visitTime', 'visitExposureTime', 'numExposures', 'observationId', 'fieldDec', 'filter'].\n",
      "Found 2044984 visits\n",
      "Running:  ['baseline_nexp2_v1_7_1_Pass_observationStartMJD_fieldRA_fieldDec_filter_fiveSigmaDepth_visitExposureTime_night_observationId_numExposures_visitTime_USER']\n",
      "Completed metric generation.\n",
      "Running reduce methods.\n",
      "Running summary statistics.\n",
      "Completed.\n"
     ]
    }
   ],
   "source": [
    "bundleList = []\n",
    "\n",
    "ra = 0\n",
    "dec = -20\n",
    "\n",
    "sql=''\n",
    "metric = metrics.PassMetric(cols=['observationStartMJD','fieldRA','fieldDec',\n",
    "                 'filter', 'fiveSigmaDepth', 'visitExposureTime',\n",
    "                 'night', 'observationId', 'numExposures',\n",
    "                 'visitTime'])\n",
    "slicer = slicers.UserPointsSlicer(ra=ra, dec=dec)\n",
    "\n",
    "bundleList.append(metricBundles.MetricBundle(metric, slicer,sql,runName=runname))\n",
    "bundleDict = metricBundles.makeBundlesDictFromList(bundleList)\n",
    "bgroup = metricBundles.MetricBundleGroup(bundleDict, opsimdb, outDir=outDir, resultsDb=resultsDb)\n",
    "bgroup.runAll()\n",
    "# bgroup.plotAll(closefigs=False)\n"
   ]
  },
  {
   "cell_type": "code",
   "execution_count": 6,
   "id": "0f8343c9",
   "metadata": {},
   "outputs": [
    {
     "name": "stdout",
     "output_type": "stream",
     "text": [
      "Loading  /Users/yoachim/rubin_sim_data/maf/SNe_data/LC_-2.0_0.2_380.0_800.0_ebvofMW_0.0_vstack.hdf5 g 18174 699 26\n",
      "Loading  /Users/yoachim/rubin_sim_data/maf/SNe_data/LC_-2.0_0.2_380.0_800.0_ebvofMW_0.0_vstack.hdf5 i 68502 699 98\n",
      "Loading  /Users/yoachim/rubin_sim_data/maf/SNe_data/LC_-2.0_0.2_380.0_800.0_ebvofMW_0.0_vstack.hdf5 r 44037 699 63\n",
      "Loading  /Users/yoachim/rubin_sim_data/maf/SNe_data/LC_-2.0_0.2_380.0_800.0_ebvofMW_0.0_vstack.hdf5 y 54522 699 78\n",
      "Loading  /Users/yoachim/rubin_sim_data/maf/SNe_data/LC_-2.0_0.2_380.0_800.0_ebvofMW_0.0_vstack.hdf5 z 63609 699 91\n",
      "Loading  /Users/yoachim/rubin_sim_data/maf/SNe_data/LC_0.0_0.0_380.0_800.0_ebvofMW_0.0_vstack.hdf5 g 18174 699 26\n",
      "Loading  /Users/yoachim/rubin_sim_data/maf/SNe_data/LC_0.0_0.0_380.0_800.0_ebvofMW_0.0_vstack.hdf5 i 68502 699 98\n",
      "Loading  /Users/yoachim/rubin_sim_data/maf/SNe_data/LC_0.0_0.0_380.0_800.0_ebvofMW_0.0_vstack.hdf5 r 44037 699 63\n",
      "Loading  /Users/yoachim/rubin_sim_data/maf/SNe_data/LC_0.0_0.0_380.0_800.0_ebvofMW_0.0_vstack.hdf5 y 68502 699 98\n",
      "Loading  /Users/yoachim/rubin_sim_data/maf/SNe_data/LC_0.0_0.0_380.0_800.0_ebvofMW_0.0_vstack.hdf5 z 77589 699 111\n"
     ]
    }
   ],
   "source": [
    "met = metrics.SNNSNMetric()"
   ]
  },
  {
   "cell_type": "code",
   "execution_count": null,
   "id": "776eec62",
   "metadata": {},
   "outputs": [
    {
     "name": "stdout",
     "output_type": "stream",
     "text": [
      "> \u001b[0;32m/Users/yoachim/git_repos/rubin_sim/rubin_sim/maf/metrics/snNSNMetric.py\u001b[0m(238)\u001b[0;36mrun\u001b[0;34m()\u001b[0m\n",
      "\u001b[0;32m    236 \u001b[0;31m        \u001b[0;31m# final result: median zlim for a faint sn\u001b[0m\u001b[0;34m\u001b[0m\u001b[0;34m\u001b[0m\u001b[0;34m\u001b[0m\u001b[0m\n",
      "\u001b[0m\u001b[0;32m    237 \u001b[0;31m        \u001b[0;31m# and nsn_med for z<zlim\u001b[0m\u001b[0;34m\u001b[0m\u001b[0;34m\u001b[0m\u001b[0;34m\u001b[0m\u001b[0m\n",
      "\u001b[0m\u001b[0;32m--> 238 \u001b[0;31m        \u001b[0;32mif\u001b[0m \u001b[0mresdf\u001b[0m\u001b[0;34m.\u001b[0m\u001b[0mempty\u001b[0m\u001b[0;34m:\u001b[0m\u001b[0;34m\u001b[0m\u001b[0;34m\u001b[0m\u001b[0m\n",
      "\u001b[0m\u001b[0;32m    239 \u001b[0;31m            \u001b[0;32mreturn\u001b[0m \u001b[0mnlr\u001b[0m\u001b[0;34m.\u001b[0m\u001b[0mmerge_arrays\u001b[0m\u001b[0;34m(\u001b[0m\u001b[0;34m[\u001b[0m\u001b[0midarray\u001b[0m\u001b[0;34m,\u001b[0m \u001b[0mself\u001b[0m\u001b[0;34m.\u001b[0m\u001b[0mbad\u001b[0m\u001b[0;34m]\u001b[0m\u001b[0;34m,\u001b[0m \u001b[0mflatten\u001b[0m\u001b[0;34m=\u001b[0m\u001b[0;32mTrue\u001b[0m\u001b[0;34m)\u001b[0m\u001b[0;34m\u001b[0m\u001b[0;34m\u001b[0m\u001b[0m\n",
      "\u001b[0m\u001b[0;32m    240 \u001b[0;31m\u001b[0;34m\u001b[0m\u001b[0m\n",
      "\u001b[0m\n",
      "ipdb> season_info\n",
      "    season  level_1  Nvisits       MJD_min       MJD_max  season_length  \\\n",
      "0        1        0       28  59858.248494  59925.031614      66.783120   \n",
      "1        2        0       47  60120.414146  60305.085806     184.671660   \n",
      "2        3        0       63  60484.395071  60663.038340     178.643269   \n",
      "3        4        0       56  60809.412642  61013.041989     203.629348   \n",
      "4        5        0       68  61191.412079  61398.048934     206.636855   \n",
      "5        6        0       60  61546.429370  61757.048731     210.619361   \n",
      "6        7        0       57  61958.330423  62121.047453     162.717029   \n",
      "7        8        0       66  62288.406641  62491.076221     202.669580   \n",
      "8        9        0       60  62650.433932  62852.041003     201.607072   \n",
      "9       10        0       65  63021.419910  63227.108240     205.688330   \n",
      "10      11        0       43  63378.429305  63501.290444     122.861139   \n",
      "\n",
      "     cadence  \n",
      "0   4.173945  \n",
      "1   8.028837  \n",
      "2   4.828196  \n",
      "3   6.787645  \n",
      "4   5.165921  \n",
      "5   6.017696  \n",
      "6   5.423901  \n",
      "7   5.477337  \n",
      "8   6.300221  \n",
      "9   5.876809  \n",
      "10  5.118869  \n",
      "ipdb> resdf\n",
      "   season   x1  color  zlim    nsn_med  var_nsn_med\n",
      "0       2 -2.0    0.2  0.25   7.871450          0.0\n",
      "0       2  0.0    0.0  0.25   7.871450          0.0\n",
      "0       3 -2.0    0.2  0.25  12.125292          0.0\n",
      "0       3  0.0    0.0  0.25  12.125292          0.0\n",
      "0       5 -2.0    0.2  0.25   7.476912          0.0\n",
      "0       5  0.0    0.0  0.25   7.476912          0.0\n",
      "0       7 -2.0    0.2  0.15   0.922509          0.0\n",
      "0       7  0.0    0.0  0.25   5.212006          0.0\n",
      "0       8 -2.0    0.2  0.20   2.767782          0.0\n",
      "0       8  0.0    0.0  0.25   5.413522          0.0\n",
      "0       9 -2.0    0.2  0.25   6.057053          0.0\n",
      "0       9  0.0    0.0  0.25   6.057053          0.0\n",
      "0      10 -2.0    0.2  0.30   8.014062          0.0\n",
      "0      10  0.0    0.0  0.30   8.014062          0.0\n",
      "0      11 -2.0    0.2  0.25   6.025910          0.0\n",
      "0      11  0.0    0.0  0.25   6.025910          0.0\n",
      "ipdb> season_info['Nvisits'].sum()\n",
      "613\n"
     ]
    }
   ],
   "source": [
    "slicePoint = {'nside': 8, 'ra':np.radians(ra), 'dec': np.radians(dec)}\n",
    "result = met.run(bundleList[0].metricValues[0], slicePoint=slicePoint)"
   ]
  },
  {
   "cell_type": "code",
   "execution_count": null,
   "id": "9abef292",
   "metadata": {},
   "outputs": [],
   "source": [
    "result\n"
   ]
  },
  {
   "cell_type": "code",
   "execution_count": null,
   "id": "d6786eb6",
   "metadata": {},
   "outputs": [],
   "source": []
  }
 ],
 "metadata": {
  "kernelspec": {
   "display_name": "Python 3",
   "language": "python",
   "name": "python3"
  },
  "language_info": {
   "codemirror_mode": {
    "name": "ipython",
    "version": 3
   },
   "file_extension": ".py",
   "mimetype": "text/x-python",
   "name": "python",
   "nbconvert_exporter": "python",
   "pygments_lexer": "ipython3",
   "version": "3.9.2"
  }
 },
 "nbformat": 4,
 "nbformat_minor": 5
}
