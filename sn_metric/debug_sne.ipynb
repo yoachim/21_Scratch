{
 "cells": [
  {
   "cell_type": "code",
   "execution_count": 1,
   "id": "60341aba",
   "metadata": {},
   "outputs": [],
   "source": [
    "import rubin_sim.maf.metricBundles as metricBundles\n",
    "import rubin_sim.maf.slicers as slicers\n",
    "import rubin_sim.maf.db as db\n",
    "import rubin_sim.maf.utils as utils\n",
    "import rubin_sim.maf.metrics as metrics\n",
    "import sqlite3\n",
    "import numpy as np\n",
    "from rubin_sim.maf.metrics.snNSNMetric import SNNSNMetric\n",
    "import healpy as hp\n",
    "%matplotlib inline\n",
    "import glob\n",
    "import matplotlib.pylab as plt"
   ]
  },
  {
   "cell_type": "code",
   "execution_count": 2,
   "id": "5d31746e",
   "metadata": {},
   "outputs": [],
   "source": [
    "dbfiles = glob.glob('baseline*nexp2*10yrs.db')\n",
    "dbfiles.sort()"
   ]
  },
  {
   "cell_type": "code",
   "execution_count": 3,
   "id": "51e887f1",
   "metadata": {},
   "outputs": [
    {
     "data": {
      "text/plain": [
       "['baseline_nexp2_v1.7.1_10yrs.db', 'baseline_nexp2_v1.7_10yrs.db']"
      ]
     },
     "execution_count": 3,
     "metadata": {},
     "output_type": "execute_result"
    }
   ],
   "source": [
    "dbfiles"
   ]
  },
  {
   "cell_type": "code",
   "execution_count": 4,
   "id": "7352e12d",
   "metadata": {},
   "outputs": [],
   "source": [
    "filename=dbfiles[0]\n",
    "opsimdb = db.OpsimDatabase(dbfiles[0])\n",
    "runname = filename.replace('_10yrs.db', '')\n",
    "outDir = runname\n",
    "resultsDb = db.ResultsDb(outDir=outDir)\n",
    "\n",
    "\n"
   ]
  },
  {
   "cell_type": "code",
   "execution_count": 5,
   "id": "5401e27e",
   "metadata": {},
   "outputs": [
    {
     "name": "stdout",
     "output_type": "stream",
     "text": [
      "Querying database SummaryAllProps with no constraint for columns ['numExposures', 'filter', 'observationId', 'night', 'visitExposureTime', 'fieldDec', 'visitTime', 'fieldRA', 'fiveSigmaDepth', 'observationStartMJD'].\n",
      "Found 2044984 visits\n",
      "Running:  ['baseline_nexp2_v1_7_1_Pass_observationStartMJD_fieldRA_fieldDec_filter_fiveSigmaDepth_visitExposureTime_night_observationId_numExposures_visitTime_USER']\n",
      "Completed metric generation.\n",
      "Running reduce methods.\n",
      "Running summary statistics.\n",
      "Completed.\n"
     ]
    }
   ],
   "source": [
    "bundleList = []\n",
    "\n",
    "ra = 200\n",
    "dec = -20\n",
    "\n",
    "sql=''\n",
    "metric = metrics.PassMetric(cols=['observationStartMJD','fieldRA','fieldDec',\n",
    "                 'filter', 'fiveSigmaDepth', 'visitExposureTime',\n",
    "                 'night', 'observationId', 'numExposures',\n",
    "                 'visitTime'])\n",
    "slicer = slicers.UserPointsSlicer(ra=ra, dec=dec)\n",
    "\n",
    "bundleList.append(metricBundles.MetricBundle(metric, slicer,sql,runName=runname))\n",
    "bundleDict = metricBundles.makeBundlesDictFromList(bundleList)\n",
    "bgroup = metricBundles.MetricBundleGroup(bundleDict, opsimdb, outDir=outDir, resultsDb=resultsDb)\n",
    "bgroup.runAll()\n",
    "# bgroup.plotAll(closefigs=False)\n"
   ]
  },
  {
   "cell_type": "code",
   "execution_count": 6,
   "id": "4ea616a5",
   "metadata": {},
   "outputs": [],
   "source": [
    "#plt.plot(bundleList[0].metricValues[0]['fieldRA'], 'ko')"
   ]
  },
  {
   "cell_type": "code",
   "execution_count": 7,
   "id": "666935ca",
   "metadata": {},
   "outputs": [
    {
     "name": "stdout",
     "output_type": "stream",
     "text": [
      "Loading  /Users/yoachim/rubin_sim_data/maf/SNe_data/LC_-2.0_0.2_380.0_800.0_ebvofMW_0.0_vstack.hdf5 g 18174 699 26\n",
      "Loading  /Users/yoachim/rubin_sim_data/maf/SNe_data/LC_-2.0_0.2_380.0_800.0_ebvofMW_0.0_vstack.hdf5 i 68502 699 98\n",
      "Loading  /Users/yoachim/rubin_sim_data/maf/SNe_data/LC_-2.0_0.2_380.0_800.0_ebvofMW_0.0_vstack.hdf5 r 44037 699 63\n",
      "Loading  /Users/yoachim/rubin_sim_data/maf/SNe_data/LC_-2.0_0.2_380.0_800.0_ebvofMW_0.0_vstack.hdf5 y 54522 699 78\n",
      "Loading  /Users/yoachim/rubin_sim_data/maf/SNe_data/LC_-2.0_0.2_380.0_800.0_ebvofMW_0.0_vstack.hdf5 z 63609 699 91\n",
      "Loading  /Users/yoachim/rubin_sim_data/maf/SNe_data/LC_0.0_0.0_380.0_800.0_ebvofMW_0.0_vstack.hdf5 g 18174 699 26\n",
      "Loading  /Users/yoachim/rubin_sim_data/maf/SNe_data/LC_0.0_0.0_380.0_800.0_ebvofMW_0.0_vstack.hdf5 i 68502 699 98\n",
      "Loading  /Users/yoachim/rubin_sim_data/maf/SNe_data/LC_0.0_0.0_380.0_800.0_ebvofMW_0.0_vstack.hdf5 r 44037 699 63\n",
      "Loading  /Users/yoachim/rubin_sim_data/maf/SNe_data/LC_0.0_0.0_380.0_800.0_ebvofMW_0.0_vstack.hdf5 y 68502 699 98\n",
      "Loading  /Users/yoachim/rubin_sim_data/maf/SNe_data/LC_0.0_0.0_380.0_800.0_ebvofMW_0.0_vstack.hdf5 z 77589 699 111\n"
     ]
    }
   ],
   "source": [
    "met = metrics.SNNSNMetric()"
   ]
  },
  {
   "cell_type": "code",
   "execution_count": null,
   "id": "ab2852eb",
   "metadata": {},
   "outputs": [
    {
     "name": "stdout",
     "output_type": "stream",
     "text": [
      "> \u001b[0;32m/Users/yoachim/git_repos/rubin_sim/rubin_sim/maf/metrics/snNSNMetric.py\u001b[0m(238)\u001b[0;36mrun\u001b[0;34m()\u001b[0m\n",
      "\u001b[0;32m    236 \u001b[0;31m        \u001b[0;31m# final result: median zlim for a faint sn\u001b[0m\u001b[0;34m\u001b[0m\u001b[0;34m\u001b[0m\u001b[0;34m\u001b[0m\u001b[0m\n",
      "\u001b[0m\u001b[0;32m    237 \u001b[0;31m        \u001b[0;31m# and nsn_med for z<zlim\u001b[0m\u001b[0;34m\u001b[0m\u001b[0;34m\u001b[0m\u001b[0;34m\u001b[0m\u001b[0m\n",
      "\u001b[0m\u001b[0;32m--> 238 \u001b[0;31m        \u001b[0;32mif\u001b[0m \u001b[0mresdf\u001b[0m\u001b[0;34m.\u001b[0m\u001b[0mempty\u001b[0m\u001b[0;34m:\u001b[0m\u001b[0;34m\u001b[0m\u001b[0;34m\u001b[0m\u001b[0m\n",
      "\u001b[0m\u001b[0;32m    239 \u001b[0;31m            \u001b[0;32mreturn\u001b[0m \u001b[0mnlr\u001b[0m\u001b[0;34m.\u001b[0m\u001b[0mmerge_arrays\u001b[0m\u001b[0;34m(\u001b[0m\u001b[0;34m[\u001b[0m\u001b[0midarray\u001b[0m\u001b[0;34m,\u001b[0m \u001b[0mself\u001b[0m\u001b[0;34m.\u001b[0m\u001b[0mbad\u001b[0m\u001b[0;34m]\u001b[0m\u001b[0;34m,\u001b[0m \u001b[0mflatten\u001b[0m\u001b[0;34m=\u001b[0m\u001b[0;32mTrue\u001b[0m\u001b[0;34m)\u001b[0m\u001b[0;34m\u001b[0m\u001b[0;34m\u001b[0m\u001b[0m\n",
      "\u001b[0m\u001b[0;32m    240 \u001b[0;31m\u001b[0;34m\u001b[0m\u001b[0m\n",
      "\u001b[0m\n",
      "ipdb> season_info\n",
      "   season  level_1  Nvisits       MJD_min       MJD_max  season_length  \\\n",
      "0       1        0       67  59975.344903  60131.068338     155.723435   \n",
      "1       2        0       46  60353.388262  60516.003705     162.615442   \n",
      "2       3        0       73  60710.292113  60881.010139     170.718026   \n",
      "3       4        0       70  61047.365549  61238.995959     191.630410   \n",
      "4       5        0       65  61428.367401  61611.007317     182.639916   \n",
      "5       6        0       37  61794.362657  61956.044685     161.682028   \n",
      "6       7        0       75  62154.357115  62340.964330     186.607215   \n",
      "7       8        0       65  62516.364715  62696.027769     179.663054   \n",
      "8       9        0       49  62905.306472  63075.966203     170.659730   \n",
      "9      10        0       77  63232.352079  63437.963852     205.611773   \n",
      "\n",
      "    cadence  \n",
      "0  4.324832  \n",
      "1  6.775298  \n",
      "2  5.020622  \n",
      "3  5.178973  \n",
      "4  5.534288  \n",
      "5  7.699144  \n",
      "6  4.665180  \n",
      "7  5.283961  \n",
      "8  6.563496  \n",
      "9  4.672995  \n",
      "ipdb> resdf\n",
      "   season   x1  color  zlim    nsn_med  var_nsn_med\n",
      "0       1 -2.0    0.2  0.25  17.046275          0.0\n",
      "0       1  0.0    0.0  0.35  46.913787          0.0\n",
      "0       3 -2.0    0.2  0.25   9.394742          0.0\n",
      "0       3  0.0    0.0  0.45  31.417793          0.0\n",
      "0       4 -2.0    0.2  0.25  18.940083          0.0\n",
      "0       4  0.0    0.0  0.25  18.940083          0.0\n",
      "0       5 -2.0    0.2  0.25  13.472229          0.0\n",
      "0       5  0.0    0.0  0.25  13.472229          0.0\n",
      "0       6 -2.0    0.2  0.20   1.470275          0.0\n",
      "0       6  0.0    0.0  0.20   1.470275          0.0\n",
      "0       7 -2.0    0.2  0.20   5.979412          0.0\n",
      "0       7  0.0    0.0  0.25  12.735142          0.0\n",
      "0       8 -2.0    0.2  0.25   7.613829          0.0\n",
      "0       8  0.0    0.0  0.25   7.613829          0.0\n",
      "0       9 -2.0    0.2  0.25   7.551331          0.0\n",
      "0       9  0.0    0.0  0.25   7.551331          0.0\n",
      "0      10 -2.0    0.2  0.25  16.653106          0.0\n",
      "0      10  0.0    0.0  0.25  16.653106          0.0\n"
     ]
    }
   ],
   "source": [
    "slicePoint = {'nside': 8, 'ra':np.radians(ra), 'dec': np.radians(dec)}\n",
    "result = met.run(bundleList[0].metricValues[0], slicePoint=slicePoint)"
   ]
  },
  {
   "cell_type": "code",
   "execution_count": null,
   "id": "5f314d83",
   "metadata": {},
   "outputs": [],
   "source": [
    "result"
   ]
  },
  {
   "cell_type": "code",
   "execution_count": null,
   "id": "be1357b1",
   "metadata": {},
   "outputs": [],
   "source": []
  }
 ],
 "metadata": {
  "kernelspec": {
   "display_name": "Python 3",
   "language": "python",
   "name": "python3"
  },
  "language_info": {
   "codemirror_mode": {
    "name": "ipython",
    "version": 3
   },
   "file_extension": ".py",
   "mimetype": "text/x-python",
   "name": "python",
   "nbconvert_exporter": "python",
   "pygments_lexer": "ipython3",
   "version": "3.9.2"
  }
 },
 "nbformat": 4,
 "nbformat_minor": 5
}
