{
 "cells": [
  {
   "cell_type": "code",
   "execution_count": 1,
   "id": "d3f77f8b",
   "metadata": {},
   "outputs": [
    {
     "name": "stderr",
     "output_type": "stream",
     "text": [
      "/Users/yoachim/git_repos/rubin_sim/rubin_sim/maf/runComparison/runComparison.py:22: UserWarning: \n",
      "The generateDiffHtml method requires bokeh to be installed\n",
      "but it is not needed to use the other methods in this class.\n",
      "Run: pip install bokeh then restart your jupyter notebook kernel.\n",
      "  warnings.warn('\\n'+'The generateDiffHtml method requires bokeh to be installed'+'\\n'+\n",
      "/Users/yoachim/git_repos/rubin_sim/rubin_sim/maf/mafContrib/LSSObsStrategy/artificialStructureCalculation.py:40: UserWarning: sympy not installed\n",
      "  warnings.warn('sympy not installed')\n",
      "/Users/yoachim/git_repos/rubin_sim/rubin_sim/maf/mafContrib/transientAsciiSEDMetric.py:19: UserWarning: sncosmo not installed\n",
      "  warnings.warn('sncosmo not installed')\n"
     ]
    }
   ],
   "source": [
    "import rubin_sim.maf.metricBundles as metricBundles\n",
    "import rubin_sim.maf.slicers as slicers\n",
    "import rubin_sim.maf.db as db\n",
    "import rubin_sim.maf.utils as utils\n",
    "import rubin_sim.maf.metrics as metrics\n",
    "import sqlite3\n",
    "import numpy as np\n",
    "import healpy as hp\n",
    "%matplotlib inline\n",
    "import glob\n",
    "import matplotlib.pylab as plt"
   ]
  },
  {
   "cell_type": "code",
   "execution_count": 2,
   "id": "4cef3c9e",
   "metadata": {},
   "outputs": [],
   "source": [
    "dbfiles = glob.glob('*10yrs.db')\n",
    "dbfiles.sort()"
   ]
  },
  {
   "cell_type": "code",
   "execution_count": 3,
   "id": "6b6442b7",
   "metadata": {},
   "outputs": [
    {
     "data": {
      "text/plain": [
       "['baseline_nexp2_v1.7.1_10yrs.db']"
      ]
     },
     "execution_count": 3,
     "metadata": {},
     "output_type": "execute_result"
    }
   ],
   "source": [
    "dbfiles"
   ]
  },
  {
   "cell_type": "code",
   "execution_count": 4,
   "id": "7980fa10",
   "metadata": {},
   "outputs": [],
   "source": [
    "class GapValsMetric(metrics.BaseMetric):\n",
    "    def __init__(self, mjdCol='observationStartMJD', metricName='gapvals', max_gap=3, **kwargs):\n",
    "        self.mjdCol = mjdCol\n",
    "        self.max_gap = max_gap\n",
    "        super(GapValsMetric, self).__init__(\n",
    "            col=[mjdCol], metricDtype='object', metricName=metricName,  **kwargs)\n",
    "    def run(self, dataSlice, slicePoint):\n",
    "        \n",
    "        gaps = dataSlice[self.mjdCol] - dataSlice[self.mjdCol][:,np.newaxis]\n",
    "        indx = np.triu_indices(dataSlice.size, k=1)\n",
    "        result = np.ravel(np.abs(gaps[indx]))\n",
    "        indx = np.where(result < self.max_gap)[0]\n",
    "        return result[indx]"
   ]
  },
  {
   "cell_type": "code",
   "execution_count": null,
   "id": "3c42df1c",
   "metadata": {},
   "outputs": [],
   "source": []
  },
  {
   "cell_type": "code",
   "execution_count": null,
   "id": "379da9c5",
   "metadata": {},
   "outputs": [],
   "source": []
  },
  {
   "cell_type": "code",
   "execution_count": 5,
   "id": "033bd5e0",
   "metadata": {},
   "outputs": [
    {
     "name": "stdout",
     "output_type": "stream",
     "text": [
      "Healpix slicer using NSIDE=8, approximate resolution 439.742261 arcminutes\n",
      "Querying database SummaryAllProps with no constraint for columns ['fieldDec', 'observationStartMJD', 'fieldRA'].\n",
      "Found 2044984 visits\n",
      "Running:  ['baseline_nexp2_v1_7_1_gapvals_HEAL']\n",
      "Completed metric generation.\n",
      "Running reduce methods.\n",
      "Running summary statistics.\n",
      "Completed.\n",
      "Plotting figures with \"\" constraint now.\n",
      "Plotting complete.\n"
     ]
    },
    {
     "name": "stderr",
     "output_type": "stream",
     "text": [
      "/Users/yoachim/git_repos/rubin_sim/rubin_sim/maf/plots/plotHandler.py:518: UserWarning: Cannot plot object metric values with this plotter.\n",
      "  warnings.warn('Cannot plot object metric values with this plotter.')\n"
     ]
    }
   ],
   "source": [
    "nside=8\n",
    "sql = ''\n",
    "filename = dbfiles[0]\n",
    "opsimdb = db.OpsimDatabase(dbfiles[0])\n",
    "runname = filename.replace('_10yrs.db', '')\n",
    "bundleList = []\n",
    "slicer = slicers.HealpixSlicer(nside=nside)\n",
    "resultsDb = db.ResultsDb(outDir=runname)\n",
    "summaryStats = []\n",
    "metric = GapValsMetric()\n",
    "\n",
    "bundleList.append(metricBundles.MetricBundle(metric, slicer,sql,runName=runname, summaryMetrics=summaryStats))\n",
    "outDir = runname\n",
    "resultsDb = db.ResultsDb(outDir=outDir)\n",
    "bundleDict = metricBundles.makeBundlesDictFromList(bundleList)\n",
    "bgroup = metricBundles.MetricBundleGroup(bundleDict, opsimdb, outDir=outDir, resultsDb=resultsDb)\n",
    "bgroup.runAll()\n",
    "bgroup.plotAll(closefigs=False)\n"
   ]
  },
  {
   "cell_type": "code",
   "execution_count": null,
   "id": "bc3c7121",
   "metadata": {},
   "outputs": [],
   "source": []
  },
  {
   "cell_type": "code",
   "execution_count": 6,
   "id": "0beea562",
   "metadata": {},
   "outputs": [],
   "source": [
    "gaps = bundleList[0].metricValues\n",
    "gaps =  np.concatenate(gaps.data[np.where(gaps.mask == False)])"
   ]
  },
  {
   "cell_type": "code",
   "execution_count": 10,
   "id": "8a6012b0",
   "metadata": {},
   "outputs": [
    {
     "data": {
      "image/png": "[encoded data removed]",
      "text/plain": [
       "<Figure size 432x288 with 1 Axes>"
      ]
     },
     "metadata": {
      "needs_background": "light"
     },
     "output_type": "display_data"
    }
   ],
   "source": [
    "_ack = plt.hist(gaps*24, bins=[0.1, 0.5, 1, 2, 3, 4, 5, 6, 7, 8, 9, 10, 12, 13, 14, 15])"
   ]
  },
  {
   "cell_type": "code",
   "execution_count": 21,
   "id": "1882c2de",
   "metadata": {},
   "outputs": [],
   "source": []
  },
  {
   "cell_type": "code",
   "execution_count": null,
   "id": "57f4f197",
   "metadata": {},
   "outputs": [],
   "source": []
  },
  {
   "cell_type": "code",
   "execution_count": null,
   "id": "9f80931e",
   "metadata": {},
   "outputs": [],
   "source": []
  },
  {
   "cell_type": "code",
   "execution_count": null,
   "id": "3ab8220d",
   "metadata": {},
   "outputs": [],
   "source": []
  },
  {
   "cell_type": "code",
   "execution_count": null,
   "id": "5bcd0cfe",
   "metadata": {},
   "outputs": [],
   "source": []
  }
 ],
 "metadata": {
  "kernelspec": {
   "display_name": "Python 3",
   "language": "python",
   "name": "python3"
  },
  "language_info": {
   "codemirror_mode": {
    "name": "ipython",
    "version": 3
   },
   "file_extension": ".py",
   "mimetype": "text/x-python",
   "name": "python",
   "nbconvert_exporter": "python",
   "pygments_lexer": "ipython3",
   "version": "3.9.2"
  }
 },
 "nbformat": 4,
 "nbformat_minor": 5
}
