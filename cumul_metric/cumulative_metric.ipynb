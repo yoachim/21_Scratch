{
 "cells": [
  {
   "cell_type": "code",
   "execution_count": 1,
   "id": "364019af",
   "metadata": {},
   "outputs": [],
   "source": [
    "import os\n",
    "import numpy as np\n",
    "import matplotlib.pyplot as plt\n",
    "%matplotlib inline\n",
    "\n",
    "import healpy as hp\n",
    "import pandas as pd\n",
    "\n",
    "import rubin_sim.maf as maf\n",
    "from rubin_sim.data import get_baseline"
   ]
  },
  {
   "cell_type": "code",
   "execution_count": 2,
   "id": "a3e35a09",
   "metadata": {},
   "outputs": [
    {
     "name": "stdout",
     "output_type": "stream",
     "text": [
      "ddf_accourd_sf0.05_lsf0.2_lsr0.3_v2.1_10yrs\n"
     ]
    }
   ],
   "source": [
    "baseline_file = 'ddf_accourd_sf0.05_lsf0.2_lsr0.3_v2.1_10yrs.db' #get_baseline()\n",
    "runName = os.path.split(baseline_file)[-1].replace('.db', '')\n",
    "\n",
    "print(runName)"
   ]
  },
  {
   "cell_type": "code",
   "execution_count": 3,
   "id": "636c508c",
   "metadata": {},
   "outputs": [],
   "source": [
    "outDir = 'temp'\n",
    "resultsDb = maf.db.ResultsDb(outDir=outDir)"
   ]
  },
  {
   "cell_type": "code",
   "execution_count": 10,
   "id": "670b7cb0",
   "metadata": {},
   "outputs": [
    {
     "name": "stderr",
     "output_type": "stream",
     "text": [
      "/Users/yoachim/git_repos/rubin_sim/rubin_sim/maf/metrics/baseMetric.py:37: UserWarning: Redefining metric __main__.CumulativeMetric! (there are >1 metrics with the same name)\n",
      "  warnings.warn(\n"
     ]
    }
   ],
   "source": [
    "class CumulativeMetric(maf.metrics.BaseMetric):\n",
    "    def __init__(self, metricName=\"Cumulative\", time_col='observationStartMJD', \n",
    "                 night_col='night', bins=None, **kwargs):\n",
    "        super().__init__(col=[time_col, night_col], metricName=metricName, metricDtype=\"object\",**kwargs)\n",
    "        self.time_col = time_col\n",
    "        self.night_col = night_col\n",
    "        self.bins = bins\n",
    "    def run(self, dataSlice, slicePoint=None):\n",
    "        dataSlice.sort(order=self.time_col)\n",
    "        if self.bins is None:\n",
    "            bins = np.arange(dataSlice[self.night_col].min(), dataSlice[self.night_col].max()+1, 1)\n",
    "        cumulative_number = np.arange(dataSlice.size)+1\n",
    "        yresult = np.interp(bins, dataSlice[self.night_col], cumulative_number)\n",
    "        xresult = bins\n",
    "        return {'x': xresult, 'y': yresult}\n",
    "        "
   ]
  },
  {
   "cell_type": "code",
   "execution_count": 11,
   "id": "bff2e8d4",
   "metadata": {},
   "outputs": [],
   "source": [
    "class XyPlotter(maf.plots.BasePlotter):\n",
    "    def __init__(self):\n",
    "        self.objectPlotter = True\n",
    "        self.plotType = 'simple'\n",
    "        self.defaultPlotDict = {}\n",
    "        \n",
    "    def __call__(self, metricValueIn, slicer, userPlotDict, fignum=None):\n",
    "        fig = plt.figure(fignum)\n",
    "        ax = fig.add_subplot(111)\n",
    "        x = metricValueIn[0]['x']\n",
    "        y = metricValueIn[0]['y']\n",
    "        ax.plot(x, y)\n",
    "        return fig.number\n",
    "    "
   ]
  },
  {
   "cell_type": "code",
   "execution_count": 12,
   "id": "97dfd69e",
   "metadata": {},
   "outputs": [],
   "source": [
    "plots = [XyPlotter()]\n",
    "plotDict = {}\n",
    "bundleList = []\n",
    "slicer = maf.UniSlicer()\n",
    "metric = CumulativeMetric() \n",
    "bundleList.append(maf.MetricBundle(metric, slicer, 'note like \"DD:ELAISS1\"', plotFuncs=plots, \n",
    "                                   plotDict=plotDict, runName=runName))\n",
    "# Ugh, need to wipe out the auto generated summary stat.\n",
    "bundleList[0].summaryMetrics = []"
   ]
  },
  {
   "cell_type": "code",
   "execution_count": 13,
   "id": "ceec3151",
   "metadata": {},
   "outputs": [],
   "source": [
    "bundleDict = maf.metricBundles.makeBundlesDictFromList(bundleList)"
   ]
  },
  {
   "cell_type": "code",
   "execution_count": 14,
   "id": "7bacc0a4",
   "metadata": {},
   "outputs": [
    {
     "name": "stdout",
     "output_type": "stream",
     "text": [
      "Querying database None with constraint note like \"DD:ELAISS1\" for columns ['observationStartMJD', 'night']\n",
      "Found 21667 visits\n",
      "Running:  ['ddf_accourd_sf0_05_lsf0_2_lsr0_3_v2_1_10yrs_Cumulative_note_like_DD_ELAISS1_UNIS']\n",
      "Completed metric generation.\n",
      "Running reduce methods.\n",
      "Running summary statistics.\n",
      "Completed.\n"
     ]
    }
   ],
   "source": [
    "bgroup = maf.metricBundles.MetricBundleGroup(bundleDict, baseline_file, outDir=outDir, resultsDb=resultsDb)\n",
    "bgroup.runAll()"
   ]
  },
  {
   "cell_type": "code",
   "execution_count": 15,
   "id": "a9daf161",
   "metadata": {},
   "outputs": [
    {
     "name": "stdout",
     "output_type": "stream",
     "text": [
      "Plotting figures with \"note like \"DD:ELAISS1\"\" constraint now.\n",
      "Plotting complete.\n"
     ]
    },
    {
     "data": {
      "image/png": "[encoded data removed]",
      "text/plain": [
       "<Figure size 432x288 with 1 Axes>"
      ]
     },
     "metadata": {
      "needs_background": "light"
     },
     "output_type": "display_data"
    }
   ],
   "source": [
    "bgroup.plotAll(closefigs=False)"
   ]
  },
  {
   "cell_type": "code",
   "execution_count": null,
   "id": "6bc4aa1d",
   "metadata": {},
   "outputs": [],
   "source": []
  },
  {
   "cell_type": "code",
   "execution_count": null,
   "id": "2d8095af",
   "metadata": {},
   "outputs": [],
   "source": []
  }
 ],
 "metadata": {
  "kernelspec": {
   "display_name": "Python 3 (ipykernel)",
   "language": "python",
   "name": "python3"
  },
  "language_info": {
   "codemirror_mode": {
    "name": "ipython",
    "version": 3
   },
   "file_extension": ".py",
   "mimetype": "text/x-python",
   "name": "python",
   "nbconvert_exporter": "python",
   "pygments_lexer": "ipython3",
   "version": "3.8.12"
  }
 },
 "nbformat": 4,
 "nbformat_minor": 5
}
