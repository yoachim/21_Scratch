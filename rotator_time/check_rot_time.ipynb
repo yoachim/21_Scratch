{
 "cells": [
  {
   "cell_type": "code",
   "execution_count": 23,
   "id": "c6c13b06",
   "metadata": {},
   "outputs": [],
   "source": [
    "import numpy as np\n",
    "from rubin_sim.scheduler.modelObservatory import Model_observatory\n",
    "from rubin_sim.scheduler.utils import empty_observation\n",
    "import healpy as hp\n",
    "import matplotlib.pylab as plt\n",
    "%matplotlib inline"
   ]
  },
  {
   "cell_type": "code",
   "execution_count": 81,
   "id": "45c0e22f",
   "metadata": {},
   "outputs": [],
   "source": [
    "mo = Model_observatory()"
   ]
  },
  {
   "cell_type": "code",
   "execution_count": 118,
   "id": "4f636b4d",
   "metadata": {},
   "outputs": [],
   "source": [
    "obs = empty_observation()"
   ]
  },
  {
   "cell_type": "code",
   "execution_count": 119,
   "id": "cf30594c",
   "metadata": {},
   "outputs": [
    {
     "data": {
      "text/plain": [
       "array([(0, 0., 0., 0., 0., 0., '', 0., 0, 0., 0., 0., 0., 0., 0, 0., 0., 0., 0., 0., 0., 0., 0., 0., 0., '', 0, 0, 0, 0., 0., 0., 0., 0., 0., 0., 0., 0., 0., 0., 0.)],\n",
       "      dtype=[('ID', '<i8'), ('RA', '<f8'), ('dec', '<f8'), ('mjd', '<f8'), ('flush_by_mjd', '<f8'), ('exptime', '<f8'), ('filter', '<U1'), ('rotSkyPos', '<f8'), ('nexp', '<i8'), ('airmass', '<f8'), ('FWHM_500', '<f8'), ('FWHMeff', '<f8'), ('FWHM_geometric', '<f8'), ('skybrightness', '<f8'), ('night', '<i8'), ('slewtime', '<f8'), ('visittime', '<f8'), ('slewdist', '<f8'), ('fivesigmadepth', '<f8'), ('alt', '<f8'), ('az', '<f8'), ('pa', '<f8'), ('clouds', '<f8'), ('moonAlt', '<f8'), ('sunAlt', '<f8'), ('note', '<U40'), ('field_id', '<i8'), ('survey_id', '<i8'), ('block_id', '<i8'), ('lmst', '<f8'), ('rotTelPos', '<f8'), ('moonAz', '<f8'), ('sunAz', '<f8'), ('sunRA', '<f8'), ('sunDec', '<f8'), ('moonRA', '<f8'), ('moonDec', '<f8'), ('moonDist', '<f8'), ('solarElong', '<f8'), ('moonPhase', '<f8'), ('cummTelAz', '<f8')])"
      ]
     },
     "execution_count": 119,
     "metadata": {},
     "output_type": "execute_result"
    }
   ],
   "source": [
    "obs"
   ]
  },
  {
   "cell_type": "code",
   "execution_count": 120,
   "id": "6922f87c",
   "metadata": {},
   "outputs": [],
   "source": [
    "obs['dec'] = np.radians(-40)\n",
    "obs['RA'] = np.radians(270)\n",
    "obs['rotTelPos'] = np.radians(-90)\n",
    "obs['filter'] ='r'"
   ]
  },
  {
   "cell_type": "code",
   "execution_count": 121,
   "id": "08953f77",
   "metadata": {},
   "outputs": [],
   "source": [
    "ack = mo.observe(obs)"
   ]
  },
  {
   "cell_type": "code",
   "execution_count": 122,
   "id": "c31aff84",
   "metadata": {},
   "outputs": [
    {
     "data": {
      "text/plain": [
       "(array([(6, 4.71238898, -0.6981317, 59853.98780671, 0., 0., 'r', 3.44163284, 0, 1.08589303, 1.06204279, 1.32776546, 1.14342321, 19.82480953, 1, 2.83756341, 0., 0., nan, 1.17038573, 4.15215008, 1.27075614, 0., 1.08880803, -0.230754, '', 0, 0, 0, 19.70309419, -1.57079633, 4.69876712, 4.50182671, 3.2772391, -0.0585506, 4.60684187, -0.46561812, 0.24850537, 1.42929517, 42.30687238, -2.14646702)],\n",
       "       dtype=[('ID', '<i8'), ('RA', '<f8'), ('dec', '<f8'), ('mjd', '<f8'), ('flush_by_mjd', '<f8'), ('exptime', '<f8'), ('filter', '<U1'), ('rotSkyPos', '<f8'), ('nexp', '<i8'), ('airmass', '<f8'), ('FWHM_500', '<f8'), ('FWHMeff', '<f8'), ('FWHM_geometric', '<f8'), ('skybrightness', '<f8'), ('night', '<i8'), ('slewtime', '<f8'), ('visittime', '<f8'), ('slewdist', '<f8'), ('fivesigmadepth', '<f8'), ('alt', '<f8'), ('az', '<f8'), ('pa', '<f8'), ('clouds', '<f8'), ('moonAlt', '<f8'), ('sunAlt', '<f8'), ('note', '<U40'), ('field_id', '<i8'), ('survey_id', '<i8'), ('block_id', '<i8'), ('lmst', '<f8'), ('rotTelPos', '<f8'), ('moonAz', '<f8'), ('sunAz', '<f8'), ('sunRA', '<f8'), ('sunDec', '<f8'), ('moonRA', '<f8'), ('moonDec', '<f8'), ('moonDist', '<f8'), ('solarElong', '<f8'), ('moonPhase', '<f8'), ('cummTelAz', '<f8')]),\n",
       " False)"
      ]
     },
     "execution_count": 122,
     "metadata": {},
     "output_type": "execute_result"
    }
   ],
   "source": [
    "ack"
   ]
  },
  {
   "cell_type": "code",
   "execution_count": 123,
   "id": "27554c2d",
   "metadata": {},
   "outputs": [],
   "source": [
    "cond = mo.return_conditions()\n",
    "mjd1 = cond.mjd +0"
   ]
  },
  {
   "cell_type": "code",
   "execution_count": 124,
   "id": "8824d6dd",
   "metadata": {},
   "outputs": [
    {
     "data": {
      "text/plain": [
       "array([59853.98780671])"
      ]
     },
     "execution_count": 124,
     "metadata": {},
     "output_type": "execute_result"
    }
   ],
   "source": [
    "mjd1"
   ]
  },
  {
   "cell_type": "code",
   "execution_count": 125,
   "id": "777e668d",
   "metadata": {},
   "outputs": [],
   "source": [
    "obs['rotTelPos'] = np.radians(90)\n",
    "\n",
    "ack = mo.observe(obs)"
   ]
  },
  {
   "cell_type": "code",
   "execution_count": 126,
   "id": "65ef54c3",
   "metadata": {},
   "outputs": [
    {
     "data": {
      "text/plain": [
       "array([59853.98844241])"
      ]
     },
     "execution_count": 126,
     "metadata": {},
     "output_type": "execute_result"
    }
   ],
   "source": [
    "cond = mo.return_conditions()\n",
    "mjd2 = cond.mjd +0\n",
    "mjd2"
   ]
  },
  {
   "cell_type": "code",
   "execution_count": 127,
   "id": "f7ed2e65",
   "metadata": {},
   "outputs": [
    {
     "data": {
      "text/plain": [
       "array([54.92458327])"
      ]
     },
     "execution_count": 127,
     "metadata": {},
     "output_type": "execute_result"
    }
   ],
   "source": [
    "(mjd2-mjd1)*24*3600"
   ]
  },
  {
   "cell_type": "code",
   "execution_count": null,
   "id": "bfdaf71c",
   "metadata": {},
   "outputs": [],
   "source": []
  },
  {
   "cell_type": "code",
   "execution_count": null,
   "id": "b70e1371",
   "metadata": {},
   "outputs": [],
   "source": []
  },
  {
   "cell_type": "code",
   "execution_count": null,
   "id": "78b387f9",
   "metadata": {},
   "outputs": [],
   "source": []
  }
 ],
 "metadata": {
  "kernelspec": {
   "display_name": "Python 3",
   "language": "python",
   "name": "python3"
  },
  "language_info": {
   "codemirror_mode": {
    "name": "ipython",
    "version": 3
   },
   "file_extension": ".py",
   "mimetype": "text/x-python",
   "name": "python",
   "nbconvert_exporter": "python",
   "pygments_lexer": "ipython3",
   "version": "3.9.2"
  }
 },
 "nbformat": 4,
 "nbformat_minor": 5
}
