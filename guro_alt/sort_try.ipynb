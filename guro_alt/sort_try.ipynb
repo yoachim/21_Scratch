{
 "cells": [
  {
   "cell_type": "code",
   "execution_count": 1,
   "id": "7ae430bb",
   "metadata": {},
   "outputs": [],
   "source": [
    "import numpy as np\n",
    "import matplotlib.pylab as plt\n",
    "%matplotlib inline\n",
    "\n",
    "from rubin_sim.utils import calcSeason, ddf_locations\n"
   ]
  },
  {
   "cell_type": "code",
   "execution_count": 2,
   "id": "24ab6119",
   "metadata": {},
   "outputs": [],
   "source": [
    "ddf_name = \"ELAISS1\"\n",
    "ddfs = ddf_locations()\n",
    "ddf_RA = ddfs[ddf_name][0]\n",
    "\n",
    "ddf_data = np.load('ddf_grid.npz')\n",
    "ddf_grid = ddf_data['ddf_grid'].copy()\n",
    "sun_limit=np.radians(-18)\n",
    "airmass_limit=2.1\n",
    "sky_limit=21.75\n",
    "season_frac = 0.2\n",
    "sequence_limit=286\n",
    "low_season_rate=0.3\n",
    "low_season_frac=0.4\n",
    "\n",
    "# XXX-- double check that I got this right\n",
    "ack = ddf_grid['sun_alt'][0:-1] * ddf_grid['sun_alt'][1:]\n",
    "night = np.zeros(ddf_grid.size, dtype=int)\n",
    "night[np.where((ddf_grid['sun_alt'][1:] >= 0) & (ack < 0))] += 1\n",
    "night = np.cumsum(night)\n",
    "ngrid = ddf_grid['mjd'].size\n"
   ]
  },
  {
   "cell_type": "code",
   "execution_count": 3,
   "id": "c18aaa19",
   "metadata": {},
   "outputs": [],
   "source": [
    "# set a sun, airmass, sky masks\n",
    "sun_mask = np.ones(ngrid, dtype=int)\n",
    "sun_mask[np.where(ddf_grid['sun_alt'] >= sun_limit)] = 0\n",
    "\n",
    "airmass_mask = np.ones(ngrid, dtype=int)\n",
    "airmass_mask[np.where(ddf_grid['%s_airmass' % ddf_name] >= airmass_limit)] = 0\n",
    "\n",
    "sky_mask = np.ones(ngrid, dtype=int)\n",
    "sky_mask[np.where(ddf_grid['%s_sky_g' % ddf_name] <= sky_limit)] = 0\n",
    "sky_mask[np.where(np.isnan(ddf_grid['%s_sky_g' % ddf_name]) == True)] = 0\n",
    "\n",
    "m5_mask = np.zeros(ngrid, dtype=bool)\n",
    "m5_mask[np.isfinite(ddf_grid['%s_m5_g' % ddf_name])] = 1\n",
    "\n",
    "big_mask = sun_mask * airmass_mask * sky_mask * m5_mask"
   ]
  },
  {
   "cell_type": "code",
   "execution_count": 4,
   "id": "14ece9ae",
   "metadata": {},
   "outputs": [],
   "source": [
    "potential_nights = np.unique(night[np.where(big_mask > 0)] )"
   ]
  },
  {
   "cell_type": "code",
   "execution_count": 5,
   "id": "6db8a6b9",
   "metadata": {},
   "outputs": [],
   "source": [
    "# prevent a repeat sequence in a night\n",
    "unights, indx = np.unique(night, return_index=True)\n",
    "night_mjd = ddf_grid['mjd'][indx]\n",
    "# The season of each night\n",
    "night_season = calcSeason(ddf_RA, night_mjd)\n",
    "\n",
    "raw_obs = np.ones(unights.size)\n",
    "# take out the ones that are out of season\n",
    "season_mod = night_season % 1\n",
    "\n",
    " # Set a region to be a lower cadence. \n",
    "low_season = np.where((season_mod < low_season_frac) | (season_mod > (1.-low_season_frac)))\n",
    "raw_obs[low_season] = low_season_rate\n",
    "\n",
    "out_season = np.where((season_mod < season_frac) | (season_mod > (1.-season_frac)))\n",
    "raw_obs[out_season] = 0\n",
    "cumulative_desired = np.cumsum(raw_obs)\n",
    "cumulative_desired = cumulative_desired/cumulative_desired.max()*sequence_limit\n",
    "grad = np.diff(cumulative_desired)\n",
    "\n",
    "# Makes it go blazing fast agian, that's for sure!\n",
    "#cumulative_desired = np.round(cumulative_desired)\n",
    "\n",
    "night_mask = unights*0\n",
    "night_mask[potential_nights] = 1\n",
    "\n",
    "# night_mask[np.where(raw_obs == 0)] = 0"
   ]
  },
  {
   "cell_type": "code",
   "execution_count": 6,
   "id": "5cfed21f",
   "metadata": {},
   "outputs": [
    {
     "data": {
      "text/plain": [
       "[<matplotlib.lines.Line2D at 0x7f94283f2310>]"
      ]
     },
     "execution_count": 6,
     "metadata": {},
     "output_type": "execute_result"
    },
    {
     "data": {
      "image/png": "[encoded data removed]",
      "text/plain": [
       "<Figure size 432x288 with 1 Axes>"
      ]
     },
     "metadata": {
      "needs_background": "light"
     },
     "output_type": "display_data"
    }
   ],
   "source": [
    "plt.plot(unights,cumulative_desired )"
   ]
  },
  {
   "cell_type": "code",
   "execution_count": 7,
   "id": "40fea938",
   "metadata": {},
   "outputs": [],
   "source": [
    "# Let's make an initial guess that we should schedule where the gradiant is positive and the mask is 1\n",
    "potential_indx = np.where((np.concatenate([np.array([1]),grad]) > 0) & (night_mask > 0))[0]\n",
    "\n",
    "# Let's just uniformly sample out potential_indx array to construct our initial guess\n",
    "x0 = potential_indx[np.linspace(0,potential_indx.size-1, num=sequence_limit).astype(int)]"
   ]
  },
  {
   "cell_type": "code",
   "execution_count": 8,
   "id": "5787c39f",
   "metadata": {},
   "outputs": [],
   "source": [
    "schedule = unights*0\n",
    "schedule[x0] = 1"
   ]
  },
  {
   "cell_type": "code",
   "execution_count": 9,
   "id": "d1e6a1b1",
   "metadata": {},
   "outputs": [],
   "source": [
    "def iterate_schedule(in_schedule, cumulative_desired, mask):\n",
    "    \"\"\"Adjust the schedule so it's closer to the desired schedule\n",
    "    \"\"\"\n",
    "    # copy so we don't edit in place\n",
    "    schedule = in_schedule + 0\n",
    "    \n",
    "    cumulative_sched = np.cumsum(schedule)\n",
    "    # Where diff is very negative, we hav too many observations,\n",
    "    # Where it is positive, we need more observations\n",
    "    diff = cumulative_desired - cumulative_sched\n",
    "    over = np.min(np.where(diff == diff.min())[0])\n",
    "    # find potential places to move the value to\n",
    "    under = np.where((mask == 1) & (schedule == 0))[0]\n",
    "    \n",
    "    #import pdb ; pdb.set_trace()\n",
    "    under = np.where(under > over)[0]\n",
    "    counter = 0\n",
    "    \n",
    "    \n",
    "    while (np.size(under) > 0) & (counter < 100) :\n",
    "        indx = np.min(under) #np.where(diff == diff[under].max())[0]\n",
    "        if np.size(indx) == 0:\n",
    "            return schedule\n",
    "        else:\n",
    "            indx = np.min(indx)\n",
    "            \n",
    "        #if counter == 100:\n",
    "        #    import pdb ; pdb.set_trace()\n",
    "        schedule[over] -= 1\n",
    "        schedule[indx] += 1\n",
    "        \n",
    "        cumulative_sched = np.cumsum(schedule)\n",
    "        diff = cumulative_desired - cumulative_sched\n",
    "        over = np.min(np.where(diff == diff.min())[0])\n",
    "        under = np.where((mask == 1) & (schedule == 0))[0]\n",
    "        \n",
    "        counter += 1\n",
    "        \n",
    "    #import pdb ; pdb.set_trace()\n",
    "    return schedule\n",
    "            \n",
    "    "
   ]
  },
  {
   "cell_type": "code",
   "execution_count": 10,
   "id": "4d64361f",
   "metadata": {},
   "outputs": [],
   "source": [
    "result = iterate_schedule(schedule, cumulative_desired, night_mask)"
   ]
  },
  {
   "cell_type": "code",
   "execution_count": 11,
   "id": "690e70af",
   "metadata": {},
   "outputs": [
    {
     "data": {
      "text/plain": [
       "array([1, 1, 1, ..., 0, 1, 0])"
      ]
     },
     "execution_count": 11,
     "metadata": {},
     "output_type": "execute_result"
    }
   ],
   "source": [
    "result"
   ]
  },
  {
   "cell_type": "code",
   "execution_count": 12,
   "id": "e9eb9d07",
   "metadata": {},
   "outputs": [
    {
     "data": {
      "text/plain": [
       "[<matplotlib.lines.Line2D at 0x7f9411579280>]"
      ]
     },
     "execution_count": 12,
     "metadata": {},
     "output_type": "execute_result"
    },
    {
     "data": {
      "image/png": "[encoded data removed]",
      "text/plain": [
       "<Figure size 432x288 with 1 Axes>"
      ]
     },
     "metadata": {
      "needs_background": "light"
     },
     "output_type": "display_data"
    }
   ],
   "source": [
    "plt.plot(np.cumsum(schedule))\n",
    "plt.plot(np.cumsum(result))\n",
    "plt.plot(unights,cumulative_desired )"
   ]
  },
  {
   "cell_type": "code",
   "execution_count": 13,
   "id": "08aa9718",
   "metadata": {},
   "outputs": [
    {
     "data": {
      "text/plain": [
       "[<matplotlib.lines.Line2D at 0x7f9411759f40>]"
      ]
     },
     "execution_count": 13,
     "metadata": {},
     "output_type": "execute_result"
    },
    {
     "data": {
      "image/png": "[encoded data removed]",
      "text/plain": [
       "<Figure size 432x288 with 1 Axes>"
      ]
     },
     "metadata": {
      "needs_background": "light"
     },
     "output_type": "display_data"
    }
   ],
   "source": [
    "plt.plot(cumulative_desired - np.cumsum(schedule))"
   ]
  },
  {
   "cell_type": "code",
   "execution_count": 14,
   "id": "01d0889a",
   "metadata": {},
   "outputs": [
    {
     "data": {
      "text/plain": [
       "[<matplotlib.lines.Line2D at 0x7f94118ee5e0>]"
      ]
     },
     "execution_count": 14,
     "metadata": {},
     "output_type": "execute_result"
    },
    {
     "data": {
      "image/png": "[encoded data removed]",
      "text/plain": [
       "<Figure size 432x288 with 1 Axes>"
      ]
     },
     "metadata": {
      "needs_background": "light"
     },
     "output_type": "display_data"
    }
   ],
   "source": [
    "plt.plot(cumulative_desired - np.cumsum(result))"
   ]
  },
  {
   "cell_type": "code",
   "execution_count": 15,
   "id": "d4db0e77",
   "metadata": {},
   "outputs": [],
   "source": [
    "diff = cumulative_desired - np.cumsum(schedule)"
   ]
  },
  {
   "cell_type": "code",
   "execution_count": 16,
   "id": "843374ca",
   "metadata": {},
   "outputs": [
    {
     "data": {
      "text/plain": [
       "(array([1058]),)"
      ]
     },
     "execution_count": 16,
     "metadata": {},
     "output_type": "execute_result"
    }
   ],
   "source": [
    "np.where(diff == np.min(diff))"
   ]
  },
  {
   "cell_type": "code",
   "execution_count": 17,
   "id": "d60ed915",
   "metadata": {},
   "outputs": [
    {
     "data": {
      "text/plain": [
       "(array([2598]),)"
      ]
     },
     "execution_count": 17,
     "metadata": {},
     "output_type": "execute_result"
    }
   ],
   "source": [
    "np.where(diff == np.max(diff))"
   ]
  },
  {
   "cell_type": "code",
   "execution_count": 18,
   "id": "243d20b5",
   "metadata": {},
   "outputs": [],
   "source": [
    "schedule[1058] -= 1\n",
    "schedule[2598] += 1"
   ]
  },
  {
   "cell_type": "code",
   "execution_count": 19,
   "id": "a4e51190",
   "metadata": {},
   "outputs": [
    {
     "data": {
      "text/plain": [
       "[<matplotlib.lines.Line2D at 0x7f94119ad910>]"
      ]
     },
     "execution_count": 19,
     "metadata": {},
     "output_type": "execute_result"
    },
    {
     "data": {
      "image/png": "[encoded data removed]",
      "text/plain": [
       "<Figure size 432x288 with 1 Axes>"
      ]
     },
     "metadata": {
      "needs_background": "light"
     },
     "output_type": "display_data"
    }
   ],
   "source": [
    "plt.plot(cumulative_desired - np.cumsum(schedule))"
   ]
  },
  {
   "cell_type": "code",
   "execution_count": 20,
   "id": "3f281830",
   "metadata": {},
   "outputs": [],
   "source": [
    "# ok ok, take the spot where the diff goes negative. push that observation forward to the next available spot"
   ]
  },
  {
   "cell_type": "code",
   "execution_count": 21,
   "id": "49a6c88a",
   "metadata": {},
   "outputs": [],
   "source": [
    "round_desired = np.round(cumulative_desired)"
   ]
  },
  {
   "cell_type": "code",
   "execution_count": 22,
   "id": "c273114d",
   "metadata": {},
   "outputs": [
    {
     "data": {
      "text/plain": [
       "[<matplotlib.lines.Line2D at 0x7f9411c034f0>]"
      ]
     },
     "execution_count": 22,
     "metadata": {},
     "output_type": "execute_result"
    },
    {
     "data": {
      "image/png": "[encoded data removed]",
      "text/plain": [
       "<Figure size 432x288 with 1 Axes>"
      ]
     },
     "metadata": {
      "needs_background": "light"
     },
     "output_type": "display_data"
    }
   ],
   "source": [
    "plt.plot(round_desired)"
   ]
  },
  {
   "cell_type": "code",
   "execution_count": 23,
   "id": "10f3b8df",
   "metadata": {},
   "outputs": [
    {
     "data": {
      "text/plain": [
       "array([  0.,   0.,   1., ..., 286., 286., 286.])"
      ]
     },
     "execution_count": 23,
     "metadata": {},
     "output_type": "execute_result"
    }
   ],
   "source": [
    "round_desired"
   ]
  },
  {
   "cell_type": "code",
   "execution_count": 24,
   "id": "2a2a7ce8",
   "metadata": {},
   "outputs": [],
   "source": [
    "drd = np.diff(round_desired)"
   ]
  },
  {
   "cell_type": "code",
   "execution_count": 25,
   "id": "50fccefb",
   "metadata": {},
   "outputs": [
    {
     "data": {
      "text/plain": [
       "array([0., 1., 0., ..., 1., 0., 0.])"
      ]
     },
     "execution_count": 25,
     "metadata": {},
     "output_type": "execute_result"
    }
   ],
   "source": [
    "drd"
   ]
  },
  {
   "cell_type": "code",
   "execution_count": 26,
   "id": "b6adcefb",
   "metadata": {},
   "outputs": [],
   "source": [
    "step_points = np.where(drd > 0)[0] + 1"
   ]
  },
  {
   "cell_type": "code",
   "execution_count": 27,
   "id": "d76122bc",
   "metadata": {},
   "outputs": [
    {
     "data": {
      "text/plain": [
       "array([   2,    6,   10,   14,   18,   22,   26,   30,   34,   43,   56,\n",
       "         70,   83,   97,  257,  270,  284,  298,  311,  325,  331,  336,\n",
       "        340,  344,  348,  352,  356,  360,  364,  368,  372,  376,  381,\n",
       "        385,  389,  393,  397,  401,  413,  427,  441,  454,  468,  629,\n",
       "        642,  656,  669,  683,  695,  699,  703,  707,  711,  716,  720,\n",
       "        724,  728,  732,  736,  740,  744,  748,  752,  756,  761,  765,\n",
       "        772,  785,  799,  812,  826,  840,  999, 1013, 1027, 1040, 1054,\n",
       "       1062, 1066, 1070, 1074, 1078, 1082, 1086, 1090, 1095, 1099, 1103,\n",
       "       1107, 1111, 1115, 1119, 1123, 1127, 1131, 1142, 1156, 1170, 1183,\n",
       "       1197, 1356, 1370, 1384, 1397, 1411, 1425, 1429, 1433, 1437, 1441,\n",
       "       1445, 1449, 1453, 1457, 1461, 1465, 1469, 1474, 1478, 1482, 1486,\n",
       "       1490, 1494, 1499, 1513, 1527, 1540, 1554, 1568, 1727, 1741, 1754,\n",
       "       1768, 1782, 1791, 1795, 1799, 1804, 1808, 1812, 1816, 1820, 1824,\n",
       "       1828, 1832, 1836, 1840, 1844, 1848, 1853, 1857, 1861, 1870, 1884,\n",
       "       1898, 1911, 1925, 2085, 2099, 2113, 2126, 2140, 2154, 2159, 2163,\n",
       "       2167, 2171, 2175, 2179, 2184, 2188, 2192, 2196, 2200, 2204, 2208,\n",
       "       2212, 2216, 2220, 2224, 2228, 2242, 2256, 2269, 2283, 2297, 2456,\n",
       "       2470, 2483, 2497, 2511, 2522, 2526, 2530, 2534, 2538, 2542, 2546,\n",
       "       2550, 2554, 2558, 2563, 2567, 2571, 2575, 2579, 2583, 2587, 2591,\n",
       "       2599, 2613, 2626, 2640, 2654, 2813, 2827, 2841, 2854, 2868, 2881,\n",
       "       2888, 2892, 2897, 2901, 2905, 2909, 2913, 2917, 2921, 2925, 2929,\n",
       "       2933, 2937, 2942, 2946, 2950, 2954, 2958, 2970, 2984, 2997, 3011,\n",
       "       3024, 3184, 3198, 3211, 3225, 3239, 3251, 3255, 3259, 3263, 3267,\n",
       "       3271, 3276, 3280, 3284, 3288, 3292, 3296, 3300, 3304, 3308, 3312,\n",
       "       3316, 3321, 3327, 3341, 3354, 3368, 3382, 3395, 3556, 3570, 3583,\n",
       "       3597, 3610, 3619, 3623, 3627, 3631, 3635, 3639, 3643, 3647, 3651])"
      ]
     },
     "execution_count": 27,
     "metadata": {},
     "output_type": "execute_result"
    }
   ],
   "source": [
    "step_points"
   ]
  },
  {
   "cell_type": "code",
   "execution_count": 28,
   "id": "9db6acdb",
   "metadata": {},
   "outputs": [],
   "source": [
    "# So, I'd like to place an observation at the nearest possible step point\n",
    "\n",
    "sched = round_desired*0\n",
    "\n",
    "x=np.arange(sched.size)\n",
    "valid = np.where(night_mask > 0)[0]\n",
    "\n",
    "for indx in step_points:\n",
    "    # Could probably do this faster with searchsorted. Maybe also even remove the \n",
    "    # point from the valid array if needed.\n",
    "    dist = np.abs(x[valid] - indx)\n",
    "    best = np.min(np.where(dist == np.min(dist))[0])\n",
    "    sched[valid[best]] += 1"
   ]
  },
  {
   "cell_type": "code",
   "execution_count": 29,
   "id": "9d218d9c",
   "metadata": {},
   "outputs": [
    {
     "data": {
      "text/plain": [
       "[<matplotlib.lines.Line2D at 0x7f9411d399d0>]"
      ]
     },
     "execution_count": 29,
     "metadata": {},
     "output_type": "execute_result"
    },
    {
     "data": {
      "image/png": "[encoded data removed]",
      "text/plain": [
       "<Figure size 432x288 with 1 Axes>"
      ]
     },
     "metadata": {
      "needs_background": "light"
     },
     "output_type": "display_data"
    }
   ],
   "source": [
    "plt.plot(np.cumsum(sched))\n",
    "plt.plot(cumulative_desired)"
   ]
  },
  {
   "cell_type": "code",
   "execution_count": 30,
   "id": "79bfa8f4",
   "metadata": {},
   "outputs": [
    {
     "data": {
      "text/plain": [
       "array([  0.,   0.,   1., ..., 286., 286., 286.])"
      ]
     },
     "execution_count": 30,
     "metadata": {},
     "output_type": "execute_result"
    }
   ],
   "source": [
    "np.cumsum(sched)"
   ]
  },
  {
   "cell_type": "code",
   "execution_count": 31,
   "id": "81ad3be1",
   "metadata": {},
   "outputs": [],
   "source": [
    "sched = round_desired*0\n",
    "\n",
    "x=np.arange(sched.size)\n",
    "valid = np.where(night_mask > 0)[0]\n",
    "\n",
    "left = np.searchsorted(x[valid], step_points)\n",
    "right = np.searchsorted(x[valid], step_points, side='right')\n",
    "\n",
    "d1 = np.abs(x[valid[left]] - step_points)\n",
    "d2 = np.abs(x[valid[right]] - step_points)"
   ]
  },
  {
   "cell_type": "code",
   "execution_count": 32,
   "id": "b3b0df01",
   "metadata": {},
   "outputs": [],
   "source": [
    "sched[valid[left[np.where(d1 <= d2)[0]]]] += 1\n",
    "sched[valid[right[np.where(d1 > d2)[0]]]] += 1\n"
   ]
  },
  {
   "cell_type": "code",
   "execution_count": null,
   "id": "443d9b82",
   "metadata": {},
   "outputs": [],
   "source": []
  },
  {
   "cell_type": "code",
   "execution_count": 33,
   "id": "10550d23",
   "metadata": {},
   "outputs": [
    {
     "data": {
      "text/plain": [
       "(286,)"
      ]
     },
     "execution_count": 33,
     "metadata": {},
     "output_type": "execute_result"
    }
   ],
   "source": [
    "left[np.where(d1 <= d2)[0]].shape"
   ]
  },
  {
   "cell_type": "code",
   "execution_count": 34,
   "id": "f56b2fe7",
   "metadata": {},
   "outputs": [
    {
     "data": {
      "text/plain": [
       "array([   2,    6,   10,   14,   18,   22,   25,   25,   29,   38,   47,\n",
       "         57,   66,   74,  115,  121,  132,  140,  151,  161,  164,  169,\n",
       "        173,  177,  181,  184,  185,  189,  193,  197,  201,  205,  209,\n",
       "        210,  214,  218,  222,  226,  233,  246,  254,  264,  273,  316,\n",
       "        329,  334,  347,  354,  366,  370,  374,  376,  376,  381,  385,\n",
       "        389,  393,  397,  400,  401,  405,  409,  413,  417,  422,  425,\n",
       "        429,  442,  449,  462,  468,  480,  519,  523,  537,  541,  555,\n",
       "        561,  561,  565,  569,  573,  577,  581,  584,  585,  589,  593,\n",
       "        597,  601,  605,  609,  609,  613,  617,  628,  636,  650,  655,\n",
       "        669,  710,  714,  728,  731,  745,  752,  756,  760,  764,  768,\n",
       "        770,  770,  774,  778,  782,  786,  790,  794,  794,  798,  802,\n",
       "        806,  810,  815,  824,  838,  843,  857,  860,  908,  920,  925,\n",
       "        939,  945,  954,  958,  961,  961,  965,  969,  973,  977,  981,\n",
       "        984,  984,  988,  992,  996, 1000, 1005, 1008, 1008, 1016, 1030,\n",
       "       1037, 1050, 1053, 1092, 1100, 1109, 1119, 1128, 1140, 1141, 1145,\n",
       "       1149, 1153, 1157, 1161, 1163, 1165, 1169, 1173, 1177, 1181, 1185,\n",
       "       1188, 1188, 1192, 1196, 1200, 1211, 1221, 1231, 1238, 1248, 1289,\n",
       "       1301, 1308, 1319, 1329, 1338, 1342, 1346, 1350, 1352, 1353, 1357,\n",
       "       1361, 1365, 1369, 1374, 1376, 1377, 1381, 1385, 1389, 1393, 1397,\n",
       "       1400, 1414, 1422, 1432, 1440, 1480, 1494, 1499, 1512, 1520, 1533,\n",
       "       1540, 1543, 1544, 1548, 1552, 1556, 1560, 1564, 1567, 1568, 1572,\n",
       "       1576, 1580, 1585, 1589, 1592, 1592, 1596, 1608, 1614, 1627, 1633,\n",
       "       1643, 1682, 1687, 1700, 1707, 1721, 1728, 1732, 1736, 1740, 1744,\n",
       "       1748, 1752, 1754, 1758, 1762, 1766, 1770, 1774, 1778, 1778, 1782,\n",
       "       1786, 1791, 1797, 1805, 1818, 1823, 1837, 1841, 1889, 1903, 1908,\n",
       "       1922, 1929, 1938, 1942, 1946, 1948, 1949, 1953, 1957, 1961, 1965])"
      ]
     },
     "execution_count": 34,
     "metadata": {},
     "output_type": "execute_result"
    }
   ],
   "source": [
    "# ah, can't just use searchsorted because we have duplicate indices\n",
    "left[np.where(d1 <= d2)[0]]"
   ]
  },
  {
   "cell_type": "code",
   "execution_count": 35,
   "id": "abe292bd",
   "metadata": {},
   "outputs": [],
   "source": [
    "from match_cumulative import match_cumulative\n",
    "\n",
    "ack = match_cumulative(cumulative_desired, mask=night_mask)"
   ]
  },
  {
   "cell_type": "code",
   "execution_count": 36,
   "id": "a0c9f3f3",
   "metadata": {},
   "outputs": [
    {
     "data": {
      "text/plain": [
       "array([0., 0., 1., ..., 0., 1., 0.])"
      ]
     },
     "execution_count": 36,
     "metadata": {},
     "output_type": "execute_result"
    }
   ],
   "source": [
    "ack"
   ]
  },
  {
   "cell_type": "code",
   "execution_count": 37,
   "id": "d550092f",
   "metadata": {},
   "outputs": [
    {
     "data": {
      "text/plain": [
       "[<matplotlib.lines.Line2D at 0x7f9411e90f70>]"
      ]
     },
     "execution_count": 37,
     "metadata": {},
     "output_type": "execute_result"
    },
    {
     "data": {
      "image/png": "[encoded data removed]",
      "text/plain": [
       "<Figure size 432x288 with 1 Axes>"
      ]
     },
     "metadata": {
      "needs_background": "light"
     },
     "output_type": "display_data"
    }
   ],
   "source": [
    "plt.plot(np.cumsum(ack))\n",
    "plt.plot(cumulative_desired)"
   ]
  },
  {
   "cell_type": "code",
   "execution_count": 38,
   "id": "d42798ce",
   "metadata": {},
   "outputs": [
    {
     "data": {
      "text/plain": [
       "(0.0, 50.0)"
      ]
     },
     "execution_count": 38,
     "metadata": {},
     "output_type": "execute_result"
    },
    {
     "data": {
      "image/png": "[encoded data removed]",
      "text/plain": [
       "<Figure size 432x288 with 1 Axes>"
      ]
     },
     "metadata": {
      "needs_background": "light"
     },
     "output_type": "display_data"
    }
   ],
   "source": [
    "plt.plot(np.cumsum(ack))\n",
    "plt.plot(cumulative_desired)\n",
    "plt.xlim([0,500])\n",
    "plt.ylim([0,50])"
   ]
  },
  {
   "cell_type": "code",
   "execution_count": null,
   "id": "41a272a8",
   "metadata": {},
   "outputs": [],
   "source": []
  }
 ],
 "metadata": {
  "kernelspec": {
   "display_name": "Python 3 (ipykernel)",
   "language": "python",
   "name": "python3"
  },
  "language_info": {
   "codemirror_mode": {
    "name": "ipython",
    "version": 3
   },
   "file_extension": ".py",
   "mimetype": "text/x-python",
   "name": "python",
   "nbconvert_exporter": "python",
   "pygments_lexer": "ipython3",
   "version": "3.8.12"
  }
 },
 "nbformat": 4,
 "nbformat_minor": 5
}
