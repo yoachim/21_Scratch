{
 "cells": [
  {
   "cell_type": "code",
   "execution_count": 1,
   "id": "37eb67ba",
   "metadata": {},
   "outputs": [],
   "source": [
    "import numpy as np\n",
    "import matplotlib.pylab as plt\n",
    "%matplotlib inline\n",
    "\n",
    "from rubin_sim.utils import calcSeason, ddf_locations\n",
    "from scipy.optimize import minimize, basinhopping\n"
   ]
  },
  {
   "cell_type": "code",
   "execution_count": 2,
   "id": "b1ef1eea",
   "metadata": {},
   "outputs": [],
   "source": [
    "# Can I make a simple alternative to Gurobi for my schedule optimization?"
   ]
  },
  {
   "cell_type": "code",
   "execution_count": 3,
   "id": "85cc882a",
   "metadata": {},
   "outputs": [],
   "source": [
    "# If my free parameter vector is the length of my total number of available observations, then I can make the\n",
    "# values the index where they go\n",
    "\n",
    "# multiply by a mask vector, so anything that "
   ]
  },
  {
   "cell_type": "code",
   "execution_count": 4,
   "id": "c3635864",
   "metadata": {},
   "outputs": [],
   "source": [
    "class Cumulative_diff_sq(object):\n",
    "    \n",
    "    def __init__(self, mask=1, desired=None):\n",
    "        self.mask = mask\n",
    "        self.desired = desired\n",
    "        \n",
    "    def cumulative_sched(self, x0):\n",
    "        sched = self.desired * 0\n",
    "        indx = np.round(x0).astype(int)\n",
    "        indx[np.where(indx < 0)] = 0\n",
    "        indx[np.where(indx >= self.desired.size)] = self.desired.size -1\n",
    "        sched[indx] = 1\n",
    "        sched *= self.mask\n",
    "        cumulative_sched = np.cumsum(sched)\n",
    "        return cumulative_sched\n",
    "    \n",
    "    \n",
    "    def __call__(self, x0):\n",
    "    \n",
    "        \"\"\"\n",
    "        Parameters\n",
    "        ----------\n",
    "\n",
    "        desired : `np.array`\n",
    "            An array of the desired cummulative distribution\n",
    "        \"\"\"\n",
    "        \n",
    "        cs = self.cumulative_sched(x0)\n",
    "        # Compute the chi-squared of our resulting schedule and \n",
    "        # the desired schedule\n",
    "        #result = np.sum((self.desired - cs)**2)\n",
    "        \n",
    "        # Let's do maximum abs deviation\n",
    "        result = np.max(np.abs(self.desired - cs))\n",
    "\n",
    "        return result"
   ]
  },
  {
   "cell_type": "code",
   "execution_count": 10,
   "id": "98f27335",
   "metadata": {},
   "outputs": [],
   "source": [
    "ddf_name = \"ELAISS1\"\n",
    "ddfs = ddf_locations()\n",
    "ddf_RA = ddfs[ddf_name][0]\n",
    "\n",
    "ddf_data = np.load('ddf_grid.npz')\n",
    "ddf_grid = ddf_data['ddf_grid'].copy()\n",
    "sun_limit=np.radians(-18)\n",
    "airmass_limit=2.1\n",
    "sky_limit=21.75\n",
    "season_frac = 0.2\n",
    "sequence_limit=286\n",
    "low_season_rate=0.3\n",
    "low_season_frac=0.4\n",
    "\n",
    "# XXX-- double check that I got this right\n",
    "ack = ddf_grid['sun_alt'][0:-1] * ddf_grid['sun_alt'][1:]\n",
    "night = np.zeros(ddf_grid.size, dtype=int)\n",
    "night[np.where((ddf_grid['sun_alt'][1:] >= 0) & (ack < 0))] += 1\n",
    "night = np.cumsum(night)\n",
    "ngrid = ddf_grid['mjd'].size\n"
   ]
  },
  {
   "cell_type": "code",
   "execution_count": 6,
   "id": "1f11b5b6",
   "metadata": {},
   "outputs": [
    {
     "data": {
      "text/plain": [
       "array([   0,    0,    0, ..., 3653, 3653, 3653])"
      ]
     },
     "execution_count": 6,
     "metadata": {},
     "output_type": "execute_result"
    }
   ],
   "source": [
    "night"
   ]
  },
  {
   "cell_type": "code",
   "execution_count": 11,
   "id": "a56f6731",
   "metadata": {},
   "outputs": [],
   "source": [
    " # set a sun mask\n",
    "sun_mask = np.ones(ngrid, dtype=int)\n",
    "sun_mask[np.where(ddf_grid['sun_alt'] >= sun_limit)] = 0\n",
    "\n",
    "airmass_mask = np.ones(ngrid, dtype=int)\n",
    "airmass_mask[np.where(ddf_grid['%s_airmass' % ddf_name] >= airmass_limit)] = 0\n",
    "\n",
    "sky_mask = np.ones(ngrid, dtype=int)\n",
    "sky_mask[np.where(ddf_grid['%s_sky_g' % ddf_name] <= sky_limit)] = 0\n",
    "sky_mask[np.where(np.isnan(ddf_grid['%s_sky_g' % ddf_name]) == True)] = 0"
   ]
  },
  {
   "cell_type": "code",
   "execution_count": 12,
   "id": "18deb297",
   "metadata": {},
   "outputs": [],
   "source": [
    "potential_nights = np.unique(night * sun_mask * airmass_mask * sky_mask)"
   ]
  },
  {
   "cell_type": "code",
   "execution_count": null,
   "id": "7f9471fc",
   "metadata": {},
   "outputs": [],
   "source": []
  },
  {
   "cell_type": "code",
   "execution_count": null,
   "id": "a20caa9f",
   "metadata": {},
   "outputs": [],
   "source": []
  },
  {
   "cell_type": "code",
   "execution_count": null,
   "id": "d3e865e2",
   "metadata": {},
   "outputs": [],
   "source": []
  },
  {
   "cell_type": "code",
   "execution_count": 13,
   "id": "b7a35338",
   "metadata": {},
   "outputs": [],
   "source": [
    "# prevent a repeat sequence in a night\n",
    "unights, indx = np.unique(night, return_index=True)\n",
    "night_mjd = ddf_grid['mjd'][indx]\n",
    "# The season of each night\n",
    "night_season = calcSeason(ddf_RA, night_mjd)\n",
    "\n",
    "raw_obs = np.ones(unights.size)\n",
    "# take out the ones that are out of season\n",
    "season_mod = night_season % 1\n",
    "\n",
    " # Set a region to be a lower cadence. \n",
    "low_season = np.where((season_mod < low_season_frac) | (season_mod > (1.-low_season_frac)))\n",
    "raw_obs[low_season] = low_season_rate\n",
    "\n",
    "out_season = np.where((season_mod < season_frac) | (season_mod > (1.-season_frac)))\n",
    "raw_obs[out_season] = 0\n",
    "cumulative_desired = np.cumsum(raw_obs)\n",
    "cumulative_desired = cumulative_desired/cumulative_desired.max()*sequence_limit\n",
    "grad = np.diff(cumulative_desired)\n",
    "\n",
    "# Makes it go blazing fast agian, that's for sure!\n",
    "#cumulative_desired = np.round(cumulative_desired)\n",
    "\n",
    "night_mask = unights*0\n",
    "night_mask[potential_nights] = 1"
   ]
  },
  {
   "cell_type": "code",
   "execution_count": 14,
   "id": "2b317332",
   "metadata": {},
   "outputs": [
    {
     "data": {
      "text/plain": [
       "[<matplotlib.lines.Line2D at 0x7fe35dcb1940>]"
      ]
     },
     "execution_count": 14,
     "metadata": {},
     "output_type": "execute_result"
    },
    {
     "data": {
      "image/png": "[encoded data removed]",
      "text/plain": [
       "<Figure size 432x288 with 1 Axes>"
      ]
     },
     "metadata": {
      "needs_background": "light"
     },
     "output_type": "display_data"
    }
   ],
   "source": [
    "plt.plot(unights,cumulative_desired )"
   ]
  },
  {
   "cell_type": "code",
   "execution_count": 15,
   "id": "03649578",
   "metadata": {},
   "outputs": [],
   "source": [
    "# Let's make an initial guess that we should schedule where the gradiant is positive and the mask is 1\n",
    "potential_indx = np.where((np.concatenate([np.array([1]),grad]) > 0) & (night_mask > 0))[0]\n",
    "\n",
    "# Let's just uniformly sample out potential_indx array to construct our initial guess\n",
    "x0 = potential_indx[np.linspace(0,potential_indx.size-1, num=sequence_limit).astype(int)]"
   ]
  },
  {
   "cell_type": "code",
   "execution_count": 16,
   "id": "4ad224bf",
   "metadata": {},
   "outputs": [
    {
     "data": {
      "text/plain": [
       "(array([2.44653550e-01, 4.89307100e-01, 7.33960650e-01, ...,\n",
       "        2.85510693e+02, 2.85755346e+02, 2.86000000e+02]),\n",
       " (1625,))"
      ]
     },
     "execution_count": 16,
     "metadata": {},
     "output_type": "execute_result"
    }
   ],
   "source": [
    "cumulative_desired, potential_indx.shape"
   ]
  },
  {
   "cell_type": "code",
   "execution_count": 17,
   "id": "7cb08604",
   "metadata": {},
   "outputs": [
    {
     "data": {
      "text/plain": [
       "array([   0,    5,   11,   17,   22,   33,   39,   44,   50,   64,   69,\n",
       "         75,   91,   97,  102,  257,  273,  278,  284,  290,  303,  309,\n",
       "        315,  328,  333,  339,  345,  350,  360,  366,  371,  377,  387,\n",
       "        393,  398,  404,  416,  421,  427,  433,  447,  453,  459,  630,\n",
       "        635,  641,  656,  661,  667,  673,  685,  691,  697,  703,  714,\n",
       "        720,  726,  731,  741,  747,  752,  758,  768,  773,  779,  785,\n",
       "        798,  803,  809,  815,  830,  836,  988,  993,  999, 1015, 1021,\n",
       "       1026, 1041, 1047, 1052, 1058, 1070, 1075, 1081, 1087, 1098, 1103,\n",
       "       1109, 1115, 1124, 1130, 1136, 1141, 1153, 1159, 1165, 1170, 1184,\n",
       "       1190, 1195, 1352, 1369, 1374, 1380, 1396, 1402, 1407, 1413, 1426,\n",
       "       1431, 1437, 1449, 1454, 1460, 1466, 1471, 1482, 1488, 1494, 1499,\n",
       "       1510, 1516, 1521, 1527, 1541, 1546, 1552, 1569, 1725, 1730, 1736,\n",
       "       1752, 1757, 1763, 1777, 1782, 1788, 1794, 1806, 1811, 1817, 1823,\n",
       "       1833, 1839, 1845, 1850, 1862, 1868, 1874, 1879, 1892, 1898, 1903,\n",
       "       1909, 1926, 1931, 2084, 2090, 2107, 2112, 2118, 2132, 2137, 2143,\n",
       "       2149, 2160, 2166, 2172, 2178, 2188, 2194, 2200, 2205, 2216, 2222,\n",
       "       2227, 2233, 2246, 2251, 2257, 2263, 2279, 2284, 2290, 2461, 2466,\n",
       "       2472, 2487, 2492, 2498, 2504, 2516, 2521, 2527, 2533, 2543, 2549,\n",
       "       2555, 2560, 2571, 2577, 2583, 2588, 2599, 2605, 2610, 2616, 2631,\n",
       "       2636, 2642, 2661, 2813, 2818, 2824, 2830, 2844, 2850, 2856, 2861,\n",
       "       2873, 2879, 2885, 2890, 2901, 2907, 2912, 2918, 2928, 2933, 2939,\n",
       "       2945, 2955, 2961, 2967, 2973, 2986, 2992, 2998, 3014, 3020, 3026,\n",
       "       3178, 3184, 3199, 3205, 3210, 3223, 3229, 3234, 3240, 3251, 3256,\n",
       "       3262, 3268, 3274, 3282, 3288, 3294, 3299, 3309, 3315, 3320, 3326,\n",
       "       3338, 3344, 3349, 3355, 3370, 3375, 3381, 3553, 3558, 3564, 3570,\n",
       "       3584, 3589, 3595, 3607, 3612, 3618, 3624, 3634, 3640, 3646, 3652])"
      ]
     },
     "execution_count": 17,
     "metadata": {},
     "output_type": "execute_result"
    }
   ],
   "source": [
    "x0"
   ]
  },
  {
   "cell_type": "code",
   "execution_count": 18,
   "id": "aa7eebbe",
   "metadata": {},
   "outputs": [],
   "source": [
    "min_object  = Cumulative_diff_sq(mask=night_mask, desired=cumulative_desired)\n",
    "\n",
    "min_result = minimize(min_object, x0, method=\"Nelder-Mead\")"
   ]
  },
  {
   "cell_type": "code",
   "execution_count": 19,
   "id": "d38580b9",
   "metadata": {},
   "outputs": [
    {
     "data": {
      "text/plain": [
       "array([0., 0., 0., 0., 0., 0., 0., 0., 0., 0., 0., 0., 0., 0., 0., 0., 0.,\n",
       "       0., 0., 0., 0., 0., 0., 0., 0., 0., 0., 0., 0., 0., 0., 0., 0., 0.,\n",
       "       0., 0., 0., 0., 0., 0., 0., 0., 0., 0., 0., 0., 0., 0., 0., 0., 0.,\n",
       "       0., 0., 0., 0., 0., 0., 0., 0., 0., 0., 0., 0., 0., 0., 0., 0., 0.,\n",
       "       0., 0., 0., 0., 0., 0., 0., 0., 0., 0., 0., 0., 0., 0., 0., 0., 0.,\n",
       "       0., 0., 0., 0., 0., 0., 0., 0., 0., 0., 0., 0., 0., 0., 0., 0., 0.,\n",
       "       0., 0., 0., 0., 0., 0., 0., 0., 0., 0., 0., 0., 0., 0., 0., 0., 0.,\n",
       "       0., 0., 0., 0., 0., 0., 0., 0., 0., 0., 0., 0., 0., 0., 0., 0., 0.,\n",
       "       0., 0., 0., 0., 0., 0., 0., 0., 0., 0., 0., 0., 0., 0., 0., 0., 0.,\n",
       "       0., 0., 0., 0., 0., 0., 0., 0., 0., 0., 0., 0., 0., 0., 0., 0., 0.,\n",
       "       0., 0., 0., 0., 0., 0., 0., 0., 0., 0., 0., 0., 0., 0., 0., 0., 0.,\n",
       "       0., 0., 0., 0., 0., 0., 0., 0., 0., 0., 0., 0., 0., 0., 0., 0., 0.,\n",
       "       0., 0., 0., 0., 0., 0., 0., 0., 0., 0., 0., 0., 0., 0., 0., 0., 0.,\n",
       "       0., 0., 0., 0., 0., 0., 0., 0., 0., 0., 0., 0., 0., 0., 0., 0., 0.,\n",
       "       0., 0., 0., 0., 0., 0., 0., 0., 0., 0., 0., 0., 0., 0., 0., 0., 0.,\n",
       "       0., 0., 0., 0., 0., 0., 0., 0., 0., 0., 0., 0., 0., 0., 0., 0., 0.,\n",
       "       0., 0., 0., 0., 0., 0., 0., 0., 0., 0., 0., 0., 0., 0.])"
      ]
     },
     "execution_count": 19,
     "metadata": {},
     "output_type": "execute_result"
    }
   ],
   "source": [
    "np.round(min_result.x-x0)"
   ]
  },
  {
   "cell_type": "code",
   "execution_count": 20,
   "id": "cc3bb1e4",
   "metadata": {},
   "outputs": [],
   "source": [
    "result_sched = min_object.cumulative_sched(min_result.x)"
   ]
  },
  {
   "cell_type": "code",
   "execution_count": 21,
   "id": "c97a6e08",
   "metadata": {},
   "outputs": [
    {
     "data": {
      "text/plain": [
       "(5.447904191619358, 5.447904191619358)"
      ]
     },
     "execution_count": 21,
     "metadata": {},
     "output_type": "execute_result"
    }
   ],
   "source": [
    "min_object(x0), min_object(min_result.x)"
   ]
  },
  {
   "cell_type": "code",
   "execution_count": 22,
   "id": "be1845e1",
   "metadata": {},
   "outputs": [
    {
     "data": {
      "text/plain": [
       "[<matplotlib.lines.Line2D at 0x7fe342851130>]"
      ]
     },
     "execution_count": 22,
     "metadata": {},
     "output_type": "execute_result"
    },
    {
     "data": {
      "image/png": "[encoded data removed]",
      "text/plain": [
       "<Figure size 432x288 with 1 Axes>"
      ]
     },
     "metadata": {
      "needs_background": "light"
     },
     "output_type": "display_data"
    }
   ],
   "source": [
    "plt.plot(unights, result_sched)\n",
    "plt.plot(unights,cumulative_desired )"
   ]
  },
  {
   "cell_type": "code",
   "execution_count": 23,
   "id": "5c6776ef",
   "metadata": {},
   "outputs": [],
   "source": [
    "# ok, now the way to iterate this should be pretty easy. \n",
    "# Find where chi^2 is most negative (the earliest index of it), then move that value to somewhere that is very positive\n",
    "#\n",
    "\n",
    "# Should be able to aneal this as well"
   ]
  },
  {
   "cell_type": "code",
   "execution_count": 24,
   "id": "6b189e23",
   "metadata": {},
   "outputs": [],
   "source": [
    "result = basinhopping(min_object, x0, T=20 )"
   ]
  },
  {
   "cell_type": "code",
   "execution_count": null,
   "id": "72b9ab73",
   "metadata": {},
   "outputs": [],
   "source": []
  },
  {
   "cell_type": "code",
   "execution_count": 25,
   "id": "18d4b149",
   "metadata": {},
   "outputs": [],
   "source": [
    "basin_sched = min_object.cumulative_sched(result.x)"
   ]
  },
  {
   "cell_type": "code",
   "execution_count": 26,
   "id": "440e1ab1",
   "metadata": {},
   "outputs": [
    {
     "data": {
      "text/plain": [
       "[<matplotlib.lines.Line2D at 0x7fe342c03670>]"
      ]
     },
     "execution_count": 26,
     "metadata": {},
     "output_type": "execute_result"
    },
    {
     "data": {
      "image/png": "[encoded data removed]",
      "text/plain": [
       "<Figure size 432x288 with 1 Axes>"
      ]
     },
     "metadata": {
      "needs_background": "light"
     },
     "output_type": "display_data"
    }
   ],
   "source": [
    "plt.plot(unights, basin_sched)\n",
    "plt.plot(unights,cumulative_desired )"
   ]
  },
  {
   "cell_type": "code",
   "execution_count": 27,
   "id": "81b99159",
   "metadata": {},
   "outputs": [
    {
     "data": {
      "text/plain": [
       "5.447904191619358"
      ]
     },
     "execution_count": 27,
     "metadata": {},
     "output_type": "execute_result"
    }
   ],
   "source": [
    "min_object(x0)"
   ]
  },
  {
   "cell_type": "code",
   "execution_count": 28,
   "id": "89a82126",
   "metadata": {},
   "outputs": [
    {
     "data": {
      "text/plain": [
       "5.447904191619358"
      ]
     },
     "execution_count": 28,
     "metadata": {},
     "output_type": "execute_result"
    }
   ],
   "source": [
    "min_object(result.x)"
   ]
  },
  {
   "cell_type": "code",
   "execution_count": 29,
   "id": "c339c664",
   "metadata": {},
   "outputs": [],
   "source": [
    "# swapping to max abs deviation makes it stop iterating it looks like. "
   ]
  },
  {
   "cell_type": "code",
   "execution_count": 30,
   "id": "4da793fc",
   "metadata": {},
   "outputs": [
    {
     "data": {
      "text/plain": [
       "array([0., 0., 0., 0., 0., 0., 0., 0., 0., 0., 0., 0., 0., 0., 0., 0., 0.,\n",
       "       0., 0., 0., 0., 0., 0., 0., 0., 0., 0., 0., 0., 0., 0., 0., 0., 0.,\n",
       "       0., 0., 0., 0., 0., 0., 0., 0., 0., 0., 0., 0., 0., 0., 0., 0., 0.,\n",
       "       0., 0., 0., 0., 0., 0., 0., 0., 0., 0., 0., 0., 0., 0., 0., 0., 0.,\n",
       "       0., 0., 0., 0., 0., 0., 0., 0., 0., 0., 0., 0., 0., 0., 0., 0., 0.,\n",
       "       0., 0., 0., 0., 0., 0., 0., 0., 0., 0., 0., 0., 0., 0., 0., 0., 0.,\n",
       "       0., 0., 0., 0., 0., 0., 0., 0., 0., 0., 0., 0., 0., 0., 0., 0., 0.,\n",
       "       0., 0., 0., 0., 0., 0., 0., 0., 0., 0., 0., 0., 0., 0., 0., 0., 0.,\n",
       "       0., 0., 0., 0., 0., 0., 0., 0., 0., 0., 0., 0., 0., 0., 0., 0., 0.,\n",
       "       0., 0., 0., 0., 0., 0., 0., 0., 0., 0., 0., 0., 0., 0., 0., 0., 0.,\n",
       "       0., 0., 0., 0., 0., 0., 0., 0., 0., 0., 0., 0., 0., 0., 0., 0., 0.,\n",
       "       0., 0., 0., 0., 0., 0., 0., 0., 0., 0., 0., 0., 0., 0., 0., 0., 0.,\n",
       "       0., 0., 0., 0., 0., 0., 0., 0., 0., 0., 0., 0., 0., 0., 0., 0., 0.,\n",
       "       0., 0., 0., 0., 0., 0., 0., 0., 0., 0., 0., 0., 0., 0., 0., 0., 0.,\n",
       "       0., 0., 0., 0., 0., 0., 0., 0., 0., 0., 0., 0., 0., 0., 0., 0., 0.,\n",
       "       0., 0., 0., 0., 0., 0., 0., 0., 0., 0., 0., 0., 0., 0., 0., 0., 0.,\n",
       "       0., 0., 0., 0., 0., 0., 0., 0., 0., 0., 0., 0., 0., 0.])"
      ]
     },
     "execution_count": 30,
     "metadata": {},
     "output_type": "execute_result"
    }
   ],
   "source": [
    "result.x-x0"
   ]
  },
  {
   "cell_type": "code",
   "execution_count": 31,
   "id": "ada5df67",
   "metadata": {},
   "outputs": [],
   "source": [
    "x0[0]=20\n",
    "x0[1] = 20\n",
    "result = basinhopping(min_object, x0, T=50 )"
   ]
  },
  {
   "cell_type": "code",
   "execution_count": null,
   "id": "38c61aba",
   "metadata": {},
   "outputs": [],
   "source": []
  },
  {
   "cell_type": "code",
   "execution_count": 33,
   "id": "074b2b7c",
   "metadata": {},
   "outputs": [
    {
     "data": {
      "text/plain": [
       "6.447904191619358"
      ]
     },
     "execution_count": 33,
     "metadata": {},
     "output_type": "execute_result"
    }
   ],
   "source": [
    "min_object(result.x)"
   ]
  },
  {
   "cell_type": "code",
   "execution_count": 34,
   "id": "51578912",
   "metadata": {},
   "outputs": [],
   "source": [
    "# So, we need an algorithm that takes in x0 and a desired cumulative distribution, and returns a \"better\" x\n",
    "\n",
    "# So, find the max abs deviation. And maybe also the number of points that have the max deviation. Reducing either \n",
    "# could be considered an improvement I suppose\n",
    "\n"
   ]
  },
  {
   "cell_type": "code",
   "execution_count": 35,
   "id": "d3759414",
   "metadata": {},
   "outputs": [
    {
     "data": {
      "text/plain": [
       "array([  20,   20,   11,   17,   22,   33,   39,   44,   50,   64,   69,\n",
       "         75,   91,   97,  102,  257,  273,  278,  284,  290,  303,  309,\n",
       "        315,  328,  333,  339,  345,  350,  360,  366,  371,  377,  387,\n",
       "        393,  398,  404,  416,  421,  427,  433,  447,  453,  459,  630,\n",
       "        635,  641,  656,  661,  667,  673,  685,  691,  697,  703,  714,\n",
       "        720,  726,  731,  741,  747,  752,  758,  768,  773,  779,  785,\n",
       "        798,  803,  809,  815,  830,  836,  988,  993,  999, 1015, 1021,\n",
       "       1026, 1041, 1047, 1052, 1058, 1070, 1075, 1081, 1087, 1098, 1103,\n",
       "       1109, 1115, 1124, 1130, 1136, 1141, 1153, 1159, 1165, 1170, 1184,\n",
       "       1190, 1195, 1352, 1369, 1374, 1380, 1396, 1402, 1407, 1413, 1426,\n",
       "       1431, 1437, 1449, 1454, 1460, 1466, 1471, 1482, 1488, 1494, 1499,\n",
       "       1510, 1516, 1521, 1527, 1541, 1546, 1552, 1569, 1725, 1730, 1736,\n",
       "       1752, 1757, 1763, 1777, 1782, 1788, 1794, 1806, 1811, 1817, 1823,\n",
       "       1833, 1839, 1845, 1850, 1862, 1868, 1874, 1879, 1892, 1898, 1903,\n",
       "       1909, 1926, 1931, 2084, 2090, 2107, 2112, 2118, 2132, 2137, 2143,\n",
       "       2149, 2160, 2166, 2172, 2178, 2188, 2194, 2200, 2205, 2216, 2222,\n",
       "       2227, 2233, 2246, 2251, 2257, 2263, 2279, 2284, 2290, 2461, 2466,\n",
       "       2472, 2487, 2492, 2498, 2504, 2516, 2521, 2527, 2533, 2543, 2549,\n",
       "       2555, 2560, 2571, 2577, 2583, 2588, 2599, 2605, 2610, 2616, 2631,\n",
       "       2636, 2642, 2661, 2813, 2818, 2824, 2830, 2844, 2850, 2856, 2861,\n",
       "       2873, 2879, 2885, 2890, 2901, 2907, 2912, 2918, 2928, 2933, 2939,\n",
       "       2945, 2955, 2961, 2967, 2973, 2986, 2992, 2998, 3014, 3020, 3026,\n",
       "       3178, 3184, 3199, 3205, 3210, 3223, 3229, 3234, 3240, 3251, 3256,\n",
       "       3262, 3268, 3274, 3282, 3288, 3294, 3299, 3309, 3315, 3320, 3326,\n",
       "       3338, 3344, 3349, 3355, 3370, 3375, 3381, 3553, 3558, 3564, 3570,\n",
       "       3584, 3589, 3595, 3607, 3612, 3618, 3624, 3634, 3640, 3646, 3652])"
      ]
     },
     "execution_count": 35,
     "metadata": {},
     "output_type": "execute_result"
    }
   ],
   "source": [
    "# So if I replicate this to be a 286x286 array. Then I can add an identity matrix (maybe times -6 and 6). \n",
    "# Make a schedule 2d array, multiply by the mask. Do the cumsum in the proper dimension. best absolute deviation is the new x0.\n",
    "# Once there is no improvement, drop the step size down to N-1.  \n",
    "x0"
   ]
  },
  {
   "cell_type": "code",
   "execution_count": 40,
   "id": "57338c7e",
   "metadata": {},
   "outputs": [],
   "source": [
    "x0_array = np.broadcast_to(x0, [x0.size, x0.size])\n",
    "ident = np.identity(x0.size)"
   ]
  },
  {
   "cell_type": "code",
   "execution_count": 41,
   "id": "ca1dd3c9",
   "metadata": {},
   "outputs": [
    {
     "data": {
      "text/plain": [
       "array([[  26.,   20.,   11., ..., 3640., 3646., 3652.],\n",
       "       [  20.,   26.,   11., ..., 3640., 3646., 3652.],\n",
       "       [  20.,   20.,   17., ..., 3640., 3646., 3652.],\n",
       "       ...,\n",
       "       [  20.,   20.,   11., ..., 3646., 3646., 3652.],\n",
       "       [  20.,   20.,   11., ..., 3640., 3652., 3652.],\n",
       "       [  20.,   20.,   11., ..., 3640., 3646., 3658.]])"
      ]
     },
     "execution_count": 41,
     "metadata": {},
     "output_type": "execute_result"
    }
   ],
   "source": [
    "x0_array + ident*6\n",
    "# Need to truncate things if needed\n"
   ]
  },
  {
   "cell_type": "code",
   "execution_count": 42,
   "id": "2bc9002f",
   "metadata": {},
   "outputs": [],
   "source": [
    "desired_array =  np.broadcast_to(cumulative_desired, [cumulative_desired.size, cumulative_desired.size])"
   ]
  },
  {
   "cell_type": "code",
   "execution_count": 43,
   "id": "d1508f71",
   "metadata": {},
   "outputs": [
    {
     "data": {
      "text/plain": [
       "array([[2.44653550e-01, 4.89307100e-01, 7.33960650e-01, ...,\n",
       "        2.85510693e+02, 2.85755346e+02, 2.86000000e+02],\n",
       "       [2.44653550e-01, 4.89307100e-01, 7.33960650e-01, ...,\n",
       "        2.85510693e+02, 2.85755346e+02, 2.86000000e+02],\n",
       "       [2.44653550e-01, 4.89307100e-01, 7.33960650e-01, ...,\n",
       "        2.85510693e+02, 2.85755346e+02, 2.86000000e+02],\n",
       "       ...,\n",
       "       [2.44653550e-01, 4.89307100e-01, 7.33960650e-01, ...,\n",
       "        2.85510693e+02, 2.85755346e+02, 2.86000000e+02],\n",
       "       [2.44653550e-01, 4.89307100e-01, 7.33960650e-01, ...,\n",
       "        2.85510693e+02, 2.85755346e+02, 2.86000000e+02],\n",
       "       [2.44653550e-01, 4.89307100e-01, 7.33960650e-01, ...,\n",
       "        2.85510693e+02, 2.85755346e+02, 2.86000000e+02]])"
      ]
     },
     "execution_count": 43,
     "metadata": {},
     "output_type": "execute_result"
    }
   ],
   "source": [
    "sched_array"
   ]
  },
  {
   "cell_type": "code",
   "execution_count": null,
   "id": "3a21af29",
   "metadata": {},
   "outputs": [],
   "source": []
  }
 ],
 "metadata": {
  "kernelspec": {
   "display_name": "Python 3 (ipykernel)",
   "language": "python",
   "name": "python3"
  },
  "language_info": {
   "codemirror_mode": {
    "name": "ipython",
    "version": 3
   },
   "file_extension": ".py",
   "mimetype": "text/x-python",
   "name": "python",
   "nbconvert_exporter": "python",
   "pygments_lexer": "ipython3",
   "version": "3.8.12"
  }
 },
 "nbformat": 4,
 "nbformat_minor": 5
}
